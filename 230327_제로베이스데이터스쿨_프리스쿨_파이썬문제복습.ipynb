{
 "cells": [
  {
   "cell_type": "code",
   "execution_count": 8,
   "metadata": {},
   "outputs": [
    {
     "name": "stdout",
     "output_type": "stream",
     "text": [
      "2100 : 평년\n",
      "2101 : 평년\n",
      "2102 : 평년\n",
      "2103 : 평년\n",
      "2104 : 윤년\n",
      "2105 : 평년\n",
      "2106 : 평년\n",
      "2107 : 평년\n",
      "2108 : 윤년\n",
      "2109 : 평년\n",
      "2110 : 평년\n",
      "2111 : 평년\n",
      "2112 : 윤년\n",
      "2113 : 평년\n",
      "2114 : 평년\n",
      "2115 : 평년\n",
      "2116 : 윤년\n",
      "2117 : 평년\n",
      "2118 : 평년\n",
      "2119 : 평년\n",
      "2120 : 윤년\n",
      "2121 : 평년\n",
      "2122 : 평년\n",
      "2123 : 평년\n",
      "2124 : 윤년\n",
      "2125 : 평년\n",
      "2126 : 평년\n",
      "2127 : 평년\n",
      "2128 : 윤년\n",
      "2129 : 평년\n",
      "2130 : 평년\n",
      "2131 : 평년\n",
      "2132 : 윤년\n",
      "2133 : 평년\n",
      "2134 : 평년\n",
      "2135 : 평년\n",
      "2136 : 윤년\n",
      "2137 : 평년\n",
      "2138 : 평년\n",
      "2139 : 평년\n",
      "2140 : 윤년\n",
      "2141 : 평년\n",
      "2142 : 평년\n",
      "2143 : 평년\n",
      "2144 : 윤년\n",
      "2145 : 평년\n",
      "2146 : 평년\n",
      "2147 : 평년\n",
      "2148 : 윤년\n",
      "2149 : 평년\n",
      "2150 : 평년\n",
      "2151 : 평년\n",
      "2152 : 윤년\n",
      "2153 : 평년\n",
      "2154 : 평년\n",
      "2155 : 평년\n",
      "2156 : 윤년\n",
      "2157 : 평년\n",
      "2158 : 평년\n",
      "2159 : 평년\n",
      "2160 : 윤년\n",
      "2161 : 평년\n",
      "2162 : 평년\n",
      "2163 : 평년\n",
      "2164 : 윤년\n",
      "2165 : 평년\n",
      "2166 : 평년\n",
      "2167 : 평년\n",
      "2168 : 윤년\n",
      "2169 : 평년\n",
      "2170 : 평년\n",
      "2171 : 평년\n",
      "2172 : 윤년\n",
      "2173 : 평년\n",
      "2174 : 평년\n",
      "2175 : 평년\n",
      "2176 : 윤년\n",
      "2177 : 평년\n",
      "2178 : 평년\n",
      "2179 : 평년\n",
      "2180 : 윤년\n",
      "2181 : 평년\n",
      "2182 : 평년\n",
      "2183 : 평년\n",
      "2184 : 윤년\n",
      "2185 : 평년\n",
      "2186 : 평년\n",
      "2187 : 평년\n",
      "2188 : 윤년\n",
      "2189 : 평년\n",
      "2190 : 평년\n",
      "2191 : 평년\n",
      "2192 : 윤년\n",
      "2193 : 평년\n",
      "2194 : 평년\n",
      "2195 : 평년\n",
      "2196 : 윤년\n",
      "2197 : 평년\n",
      "2198 : 평년\n",
      "2199 : 평년\n",
      "2200 : 평년\n"
     ]
    }
   ],
   "source": [
    "#02_061 윤년 계산기\n",
    "\n",
    "year = int(input('연도를 입력하세요: '))\n",
    "\n",
    "yearName = ''\n",
    "\n",
    "for i in range(year, year+101):\n",
    "  if year % 4 == 0 and year % 100 != 0:\n",
    "    yearName = '윤년'\n",
    "  elif year % 400 == 0:\n",
    "    yearName = '윤년'\n",
    "  else:\n",
    "    yearName = '평년'\n",
    "\n",
    "  \n",
    "\n",
    "\n",
    "\n",
    "  print('{} : {}'.format(year, yearName))\n",
    "  year += 1\n",
    "  "
   ]
  },
  {
   "cell_type": "code",
   "execution_count": null,
   "metadata": {},
   "outputs": [],
   "source": [
    "# 60 복습 처음 시도 -> 틀림\n",
    "\n",
    "gearACnt = int(input('a톱니 수를 입력하시오: '))\n",
    "gearBCnt = int(input('b톱니 수를 입력하시오: '))\n",
    "\n",
    "gearARotCnt = 0 # 톱니 회전수 -> 하나씩 증가해야함\n",
    "gearBRotCnt = 0\n",
    "\n",
    "flag = True\n",
    "while flag:\n",
    "\n",
    "  if gearACnt != gearBCnt: # 최소 공배수 못찾을 때\n",
    "    gearARotCnt += 1 # 톱니 회전수 하나씩 증가\n",
    "    gearBRotCnt += 1\n",
    "  \n",
    "    print('gearA: {},\\tgearB: {}'.format(gearACnt * gearARotCnt, gearBCnt * gearBRotCnt))\n",
    "  \n",
    "\n",
    "  if gearACnt == gearBCnt:\n",
    "    flag = False\n",
    "    print(\"최초 만나는 톱니수(최소공배수): {}톱니\".format(gearACnt))\n",
    "    print(\"gearA 회전수: {}회전\".format(gearARotCnt))\n",
    "    print(\"gearB 회전수: {}회전\".format(gearBRotCnt))"
   ]
  },
  {
   "cell_type": "code",
   "execution_count": 1,
   "metadata": {},
   "outputs": [
    {
     "name": "stdout",
     "output_type": "stream",
     "text": [
      "최초 만나는 톱니수(최소공배수): 84톱니\n",
      "gearA 회전수: 12회전\n",
      "gearB 회전수: 7회전\n"
     ]
    }
   ],
   "source": [
    "# 02_060 -> 두번째 시도 / 답지보다 더 간단하게 풂.\n",
    "\n",
    "gearA = int(input('톱니바퀴 A의 톱니 수 : '))\n",
    "gearB = int(input('톱니바퀴 B의 톱니 수 : '))\n",
    "\n",
    "for i in range(1, gearA * gearB + 1):\n",
    "  if i % gearA ==0 and i % gearB ==0:\n",
    "    print('최초 만나는 톱니수(최소공배수): {}톱니'.format(i))\n",
    "    print('gearA 회전수: {}회전'.format(int(i / gearA)))\n",
    "    print('gearB 회전수: {}회전'.format(int(i / gearB)))\n",
    "    break"
   ]
  },
  {
   "cell_type": "code",
   "execution_count": null,
   "metadata": {},
   "outputs": [],
   "source": [
    "# 60 복습 처음 시도 후 답지 배낌\n",
    "\n",
    "gearATCnt = int(input('Gear A 톱니수 입력: '))\n",
    "gearBTCnt = int(input('Gear B 톱니수 입력: '))\n",
    "\n",
    "gearA = 0\n",
    "gearB = 0\n",
    "\n",
    "leastNum = 0\n",
    "\n",
    "flag = True\n",
    "while flag:\n",
    "  if gearA != 0:\n",
    "    if gearA != leastNum:\n",
    "      gearA += gearATCnt\n",
    "    else:\n",
    "      flag = False\n",
    "  else:\n",
    "    gearA += gearATCnt    \n",
    "  if gearB != 0 and gearB % gearATCnt == 0:\n",
    "    leastNum = gearB\n",
    "  else:\n",
    "    gearB += gearBTCnt\n",
    "print('최초 만나는 톱니수(최소공배수): {}톱니'.format(leastNum))\n",
    "print('gearA 회전수: {}회전'.format(leastNum / gearATCnt))\n",
    "print('gearB 회전수: {}회전'.format(leastNum / gearBTCnt))"
   ]
  },
  {
   "cell_type": "code",
   "execution_count": null,
   "metadata": {},
   "outputs": [],
   "source": [
    "# 02_059 \n",
    "\n",
    "busA = 15\n",
    "busB = 13\n",
    "busC = 8\n",
    "\n",
    "totalMin = 60 * 17\n",
    "\n",
    "for i in range(totalMin + 1):\n",
    "  if i < 20 or i > (totalMin - 60):\n",
    "    if i % busA == 0 and i % busB ==0:\n",
    "      print('버스a와 버스b 동시 정차!', end='')\n",
    "      hour = 6 + i // 60\n",
    "      min = i % 60\n",
    "      print('\\t{}:{}'.format(hour, min))\n",
    "      \n",
    "  else:\n",
    "    if i % busA == 0 and i % busB == 0:\n",
    "      "
   ]
  },
  {
   "cell_type": "code",
   "execution_count": 3,
   "metadata": {},
   "outputs": [
    {
     "name": "stdout",
     "output_type": "stream",
     "text": [
      "2400년: 윤년!!!\n",
      "2400년: 평년\n",
      "2401년: 평년\n",
      "2402년: 평년\n",
      "2403년: 평년\n",
      "2404년: 윤년!!!\n",
      "2405년: 평년\n",
      "2406년: 평년\n",
      "2407년: 평년\n",
      "2408년: 윤년!!!\n",
      "2409년: 평년\n",
      "2410년: 평년\n",
      "2411년: 평년\n",
      "2412년: 윤년!!!\n",
      "2413년: 평년\n",
      "2414년: 평년\n",
      "2415년: 평년\n",
      "2416년: 윤년!!!\n",
      "2417년: 평년\n",
      "2418년: 평년\n",
      "2419년: 평년\n",
      "2420년: 윤년!!!\n",
      "2421년: 평년\n",
      "2422년: 평년\n",
      "2423년: 평년\n",
      "2424년: 윤년!!!\n",
      "2425년: 평년\n",
      "2426년: 평년\n",
      "2427년: 평년\n",
      "2428년: 윤년!!!\n",
      "2429년: 평년\n",
      "2430년: 평년\n",
      "2431년: 평년\n",
      "2432년: 윤년!!!\n",
      "2433년: 평년\n",
      "2434년: 평년\n",
      "2435년: 평년\n",
      "2436년: 윤년!!!\n",
      "2437년: 평년\n",
      "2438년: 평년\n",
      "2439년: 평년\n",
      "2440년: 윤년!!!\n",
      "2441년: 평년\n",
      "2442년: 평년\n",
      "2443년: 평년\n",
      "2444년: 윤년!!!\n",
      "2445년: 평년\n",
      "2446년: 평년\n",
      "2447년: 평년\n",
      "2448년: 윤년!!!\n",
      "2449년: 평년\n",
      "2450년: 평년\n",
      "2451년: 평년\n",
      "2452년: 윤년!!!\n",
      "2453년: 평년\n",
      "2454년: 평년\n",
      "2455년: 평년\n",
      "2456년: 윤년!!!\n",
      "2457년: 평년\n",
      "2458년: 평년\n",
      "2459년: 평년\n",
      "2460년: 윤년!!!\n",
      "2461년: 평년\n",
      "2462년: 평년\n",
      "2463년: 평년\n",
      "2464년: 윤년!!!\n",
      "2465년: 평년\n",
      "2466년: 평년\n",
      "2467년: 평년\n",
      "2468년: 윤년!!!\n",
      "2469년: 평년\n",
      "2470년: 평년\n",
      "2471년: 평년\n",
      "2472년: 윤년!!!\n",
      "2473년: 평년\n",
      "2474년: 평년\n",
      "2475년: 평년\n",
      "2476년: 윤년!!!\n",
      "2477년: 평년\n",
      "2478년: 평년\n",
      "2479년: 평년\n",
      "2480년: 윤년!!!\n",
      "2481년: 평년\n",
      "2482년: 평년\n",
      "2483년: 평년\n",
      "2484년: 윤년!!!\n",
      "2485년: 평년\n",
      "2486년: 평년\n",
      "2487년: 평년\n",
      "2488년: 윤년!!!\n",
      "2489년: 평년\n",
      "2490년: 평년\n",
      "2491년: 평년\n",
      "2492년: 윤년!!!\n",
      "2493년: 평년\n",
      "2494년: 평년\n",
      "2495년: 평년\n",
      "2496년: 윤년!!!\n",
      "2497년: 평년\n",
      "2498년: 평년\n",
      "2499년: 평년\n",
      "2500년: 평년\n"
     ]
    }
   ],
   "source": [
    "#02_061\n",
    "\n",
    "year = int(input('연도를 입력하라: '))\n",
    "\n",
    "for i in range(year, year + 101):\n",
    "  if i % 400 == 0:\n",
    "    print('{}년: 윤년!!!'.format(i))\n",
    "  if i % 4 ==0 and i % 100 != 0:\n",
    "    print('{}년: 윤년!!!'.format(i))\n",
    "  else: \n",
    "    print('{}년: 평년'.format(i))"
   ]
  },
  {
   "cell_type": "code",
   "execution_count": 6,
   "metadata": {},
   "outputs": [
    {
     "name": "stdout",
     "output_type": "stream",
     "text": [
      "최초 만나는 톱니수 / 최소공배수: 72\n",
      "gearA 회전수: 9\n",
      "gearB 회전수: 4\n"
     ]
    }
   ],
   "source": [
    "#02_060\n",
    "\n",
    "gearA = int(input('A톱니수 입력: '))\n",
    "gearB = int(input('B톱니수 입력: '))\n",
    "\n",
    "for i in range(1, (gearA * gearB) + 1):\n",
    "  if i  % gearA == 0 and i % gearB == 0:\n",
    "    print('최초 만나는 톱니수 / 최소공배수: {}'.format(i))\n",
    "    print('gearA 회전수: {}'.format(int(i / gearA)))\n",
    "    print('gearB 회전수: {}'.format(int(i / gearB)))\n",
    "    break"
   ]
  },
  {
   "cell_type": "code",
   "execution_count": 12,
   "metadata": {},
   "outputs": [
    {
     "ename": "IndexError",
     "evalue": "Replacement index 1 out of range for positional args tuple",
     "output_type": "error",
     "traceback": [
      "\u001b[1;31m---------------------------------------------------------------------------\u001b[0m",
      "\u001b[1;31mIndexError\u001b[0m                                Traceback (most recent call last)",
      "Cell \u001b[1;32mIn[12], line 15\u001b[0m\n\u001b[0;32m     13\u001b[0m   hour \u001b[39m=\u001b[39m (i\u001b[39m/\u001b[39m\u001b[39m/\u001b[39m\u001b[39m60\u001b[39m) \u001b[39m+\u001b[39m \u001b[39m6\u001b[39m\n\u001b[0;32m     14\u001b[0m   \u001b[39mmin\u001b[39m \u001b[39m=\u001b[39m i \u001b[39m%\u001b[39m \u001b[39m60\u001b[39m\n\u001b[1;32m---> 15\u001b[0m   \u001b[39mprint\u001b[39m(\u001b[39m'\u001b[39;49m\u001b[39mbusA와 busB 동시 정차!! \u001b[39;49m\u001b[39m{}\u001b[39;49;00m\u001b[39m : \u001b[39;49m\u001b[39m{}\u001b[39;49;00m\u001b[39m'\u001b[39;49m \u001b[39m.\u001b[39;49mformat((hour, \u001b[39mmin\u001b[39;49m)))\n\u001b[0;32m     16\u001b[0m \u001b[39mif\u001b[39;00m i \u001b[39m%\u001b[39m busA \u001b[39m==\u001b[39m \u001b[39m0\u001b[39m \u001b[39mand\u001b[39;00m i \u001b[39m%\u001b[39m busC \u001b[39m==\u001b[39m \u001b[39m0\u001b[39m:\n\u001b[0;32m     17\u001b[0m   hour \u001b[39m=\u001b[39m (i\u001b[39m/\u001b[39m\u001b[39m/\u001b[39m\u001b[39m60\u001b[39m) \u001b[39m+\u001b[39m \u001b[39m6\u001b[39m\n",
      "\u001b[1;31mIndexError\u001b[0m: Replacement index 1 out of range for positional args tuple"
     ]
    }
   ],
   "source": [
    "# 230328_ / 02_059 자체 시도\n",
    "\n",
    "busA = 15 \n",
    "busB = 13\n",
    "busC = 8\n",
    "\n",
    "for i in range(0, 17*60):   \n",
    "  if i < 20 and i > 60*16:\n",
    "    if i % busA == 0 and i % busB == 0:\n",
    "      hour = (i//60) + 6\n",
    "      min = i % 60\n",
    "      print('busA와 busB 동시 정차!! {} : {}' .format((hour, min)))\n",
    "  else:\n",
    "    if i % busA == 0 and i % busB == 0:\n",
    "      hour = (i//60) + 6\n",
    "      min = i % 60\n",
    "      print('busA와 busB 동시 정차!! {} : {}' .format((hour, min)))\n",
    "    if i % busA == 0 and i % busC == 0:\n",
    "      hour = (i//60) + 6\n",
    "      min = i % 60\n",
    "      print('busA와 busC 동시 정차!! {} : {}' .format((hour, min)))\n",
    "    if i % busC == 0 and i % busB == 0:\n",
    "      hour = (i//60) + 6\n",
    "      min = i % 60\n",
    "      print('busC와 busB 동시 정차!! {} : {}' .format((hour, min)))"
   ]
  },
  {
   "cell_type": "code",
   "execution_count": 15,
   "metadata": {},
   "outputs": [
    {
     "name": "stdout",
     "output_type": "stream",
     "text": [
      "busA와 busB 동시 정차!! 6 : 0\n",
      "busC와 busB 동시 정차!! 7 : 44\n",
      "busA와 busC 동시 정차!! 8 : 0\n",
      "busA와 busB 동시 정차!! 9 : 15\n",
      "busC와 busB 동시 정차!! 9 : 28\n",
      "busA와 busC 동시 정차!! 10 : 0\n",
      "busC와 busB 동시 정차!! 11 : 12\n",
      "busA와 busC 동시 정차!! 12 : 0\n",
      "busA와 busB 동시 정차!! 12 : 30\n",
      "busC와 busB 동시 정차!! 12 : 56\n",
      "busA와 busC 동시 정차!! 14 : 0\n",
      "busC와 busB 동시 정차!! 14 : 40\n",
      "busA와 busB 동시 정차!! 15 : 45\n",
      "busA와 busC 동시 정차!! 16 : 0\n",
      "busC와 busB 동시 정차!! 16 : 24\n",
      "busA와 busC 동시 정차!! 18 : 0\n",
      "busC와 busB 동시 정차!! 18 : 8\n",
      "busA와 busB 동시 정차!! 19 : 0\n",
      "busC와 busB 동시 정차!! 19 : 52\n",
      "busA와 busC 동시 정차!! 20 : 0\n",
      "busC와 busB 동시 정차!! 21 : 36\n",
      "busA와 busC 동시 정차!! 22 : 0\n",
      "busA와 busB 동시 정차!! 22 : 15\n"
     ]
    }
   ],
   "source": [
    "busA = 15 \n",
    "busB = 13\n",
    "busC = 8\n",
    "\n",
    "for i in range(0, 17*60+1):      # +1을 안했음\n",
    "  if i < 20 or i > 60*16 +1:          # and 이 아니라 or 이라고 해야 / 그리고 오후 10시를 포함해야\n",
    "    if i % busA == 0 and i % busB == 0:\n",
    "      hour = (i//60) + 6\n",
    "      min = i % 60\n",
    "      print('busA와 busB 동시 정차!! {} : {}' .format(hour, min))\n",
    "  else:\n",
    "    if i % busA == 0 and i % busB == 0:\n",
    "      hour = (i//60) + 6\n",
    "      min = i % 60\n",
    "      print('busA와 busB 동시 정차!! {} : {}' .format(hour, min))\n",
    "    if i % busA == 0 and i % busC == 0:\n",
    "      hour = (i//60) + 6\n",
    "      min = i % 60\n",
    "      print('busA와 busC 동시 정차!! {} : {}' .format(hour, min))\n",
    "    if i % busC == 0 and i % busB == 0:\n",
    "      hour = (i//60) + 6\n",
    "      min = i % 60\n",
    "      print('busC와 busB 동시 정차!! {} : {}' .format(hour, min))"
   ]
  },
  {
   "cell_type": "code",
   "execution_count": 16,
   "metadata": {},
   "outputs": [
    {
     "name": "stdout",
     "output_type": "stream",
     "text": [
      "*\n",
      "**\n",
      "***\n",
      "****\n",
      "*****\n"
     ]
    }
   ],
   "source": [
    "# 230328 / 02_058\n",
    "\n",
    "for i in range(1, 6):\n",
    "  for j in range(i):\n",
    "    print('*', end='')\n",
    "  print()"
   ]
  },
  {
   "cell_type": "code",
   "execution_count": 18,
   "metadata": {},
   "outputs": [
    {
     "name": "stdout",
     "output_type": "stream",
     "text": [
      " *\n",
      "  *\n",
      "   *\n",
      "    *\n",
      "     *\n"
     ]
    }
   ],
   "source": [
    "for i in range(1, 6):\n",
    "  for j in range(i):\n",
    "    print(' ', end='')\n",
    "  print('*')"
   ]
  },
  {
   "cell_type": "code",
   "execution_count": 20,
   "metadata": {},
   "outputs": [
    {
     "name": "stdout",
     "output_type": "stream",
     "text": [
      "*****\n",
      "****\n",
      "***\n",
      "**\n",
      "*\n"
     ]
    }
   ],
   "source": [
    "for i in range(5, 0, -1):\n",
    "  for j in range(i):\n",
    "    print('*', end='')\n",
    "  print()"
   ]
  },
  {
   "cell_type": "code",
   "execution_count": 24,
   "metadata": {},
   "outputs": [
    {
     "name": "stdout",
     "output_type": "stream",
     "text": [
      "     *\n",
      "    *\n",
      "   *\n",
      "  *\n",
      " *\n"
     ]
    }
   ],
   "source": [
    "for i in range(5, 0, -1):\n",
    "  for j in range(i):\n",
    "    print(' ', end='')\n",
    "  print('*')"
   ]
  },
  {
   "cell_type": "code",
   "execution_count": 25,
   "metadata": {},
   "outputs": [
    {
     "name": "stdout",
     "output_type": "stream",
     "text": [
      "*\n",
      "**\n",
      "***\n",
      "****\n",
      "*****\n",
      "****\n",
      "***\n",
      "**\n",
      "*\n"
     ]
    }
   ],
   "source": [
    "for i in range(1, 6):\n",
    "  for j in range(i):\n",
    "    print('*', end='')\n",
    "  print()\n",
    "for b in range(4, 0, -1):\n",
    "  for j in range(b):\n",
    "    print('*', end='')\n",
    "  print()"
   ]
  },
  {
   "cell_type": "code",
   "execution_count": 30,
   "metadata": {},
   "outputs": [
    {
     "name": "stdout",
     "output_type": "stream",
     "text": [
      " * * * * *\n",
      "  *  *  *  *\n",
      "   *   *   *\n",
      "    *    *\n",
      "     *\n"
     ]
    }
   ],
   "source": [
    "for i in range(5, 0, -1):\n",
    "  for j in range(i):\n",
    "    print('*', end='')\n",
    "  print()"
   ]
  },
  {
   "cell_type": "code",
   "execution_count": 31,
   "metadata": {},
   "outputs": [
    {
     "name": "stdout",
     "output_type": "stream",
     "text": [
      "    *\n",
      "   **\n",
      "  ***\n",
      " ****\n",
      "*****\n"
     ]
    }
   ],
   "source": [
    "for i1 in range(1, 6):\n",
    "  for i2 in range(6 - i1 -1):\n",
    "    print(' ', end='')\n",
    "  for i3 in range(i1):\n",
    "    print('*', end='')\n",
    "  print()"
   ]
  },
  {
   "cell_type": "code",
   "execution_count": 34,
   "metadata": {},
   "outputs": [
    {
     "name": "stdout",
     "output_type": "stream",
     "text": [
      "    *\n",
      "   **\n",
      "  ***\n",
      " ****\n",
      "*****\n"
     ]
    }
   ],
   "source": [
    "for i in range(1, 6):\n",
    "  for s in range(6 - i - 1):\n",
    "    print(' ', end='')\n",
    "  for j in range(i):\n",
    "    print('*', end='')\n",
    "  print()"
   ]
  },
  {
   "cell_type": "code",
   "execution_count": 58,
   "metadata": {},
   "outputs": [
    {
     "name": "stdout",
     "output_type": "stream",
     "text": [
      "    *    \n",
      "   ***   \n",
      "  *****  \n",
      " ******* \n",
      "*********\n",
      "*********\n",
      " ******* \n",
      "  *****  \n",
      "   ***   \n",
      "    *    \n"
     ]
    }
   ],
   "source": [
    "\n",
    "\n",
    "for i in range(0, 5):\n",
    "  if i <= 5:\n",
    "    for s1 in range(4-i):\n",
    "      print(' ', end='')\n",
    "    \n",
    "    for j in range((2*i)+1):\n",
    "      print('*', end='')\n",
    "    \n",
    "    for s2 in range(4-i):\n",
    "      print(' ', end='')\n",
    "  print()\n",
    "  \n",
    "for i in range(5, 0, -1):\n",
    "  if i<=5:\n",
    "    for s1 in range((5-i)):\n",
    "      print(' ', end='')\n",
    "    \n",
    "    for j in range(2*i-1):\n",
    "      print('*', end='')\n",
    "    \n",
    "    for s2 in range(5-i):\n",
    "      print(' ', end='')\n",
    "  print()\n"
   ]
  },
  {
   "cell_type": "code",
   "execution_count": 5,
   "metadata": {},
   "outputs": [
    {
     "name": "stdout",
     "output_type": "stream",
     "text": [
      "합 결과 : 120\n",
      "홀수 합 결과: 64\n",
      "짝수 합 결과: 56\n",
      "팩토리얼 결과: 1,307,674,368,000\n"
     ]
    }
   ],
   "source": [
    "# 230328_02_057 / 복습 첫 트라이 - 마지막 하나만 나오지 않고 계속 나옴\n",
    "sum = 0\n",
    "oddsum = 0\n",
    "evenSum = 0\n",
    "\n",
    "factorial = 1\n",
    "num = int(input('정수 입력: '))\n",
    "for i in range(1, num+1):\n",
    "  sum += i\n",
    "print('합 결과 : {}'.format(sum))\n",
    "for j in range(1, num+1, 2):\n",
    "  oddsum += j\n",
    "print('홀수 합 결과: {}'.format(oddsum))\n",
    "for l in range(2, num+1, 2):\n",
    "  evenSum += l\n",
    "print('짝수 합 결과: {}'.format(evenSum))\n",
    "for f in range(1, num+1):\n",
    "  factorial *= f\n",
    "print('팩토리얼 결과: {0:,}'.format(factorial))"
   ]
  },
  {
   "cell_type": "code",
   "execution_count": 9,
   "metadata": {},
   "outputs": [
    {
     "name": "stdout",
     "output_type": "stream",
     "text": [
      "[1]: 홀수!\n",
      "[2]: 짝수!\n",
      "[3]: 홀수!\n",
      "[4]: 짝수!\n",
      "[5]: 홀수!\n",
      "[6]: 짝수!\n",
      "[7]: 홀수!\n",
      "[8]: 짝수!\n",
      "[9]: 홀수!\n",
      "[10] 십의자리 : 홀수!!, 일의자리: 0\n",
      "[11] 십의자리 : 홀수!!, 일의자리: 홀수!!\n",
      "[12] 십의자리 : 홀수!!, 일의자리: 짝수!!\n",
      "[13] 십의자리 : 홀수!!, 일의자리: 홀수!!\n",
      "[14] 십의자리 : 홀수!!, 일의자리: 짝수!!\n",
      "[15] 십의자리 : 홀수!!, 일의자리: 홀수!!\n",
      "[16] 십의자리 : 홀수!!, 일의자리: 짝수!!\n",
      "[17] 십의자리 : 홀수!!, 일의자리: 홀수!!\n",
      "[18] 십의자리 : 홀수!!, 일의자리: 짝수!!\n",
      "[19] 십의자리 : 홀수!!, 일의자리: 홀수!!\n",
      "[20] 십의자리 : 짝수!!, 일의자리: 0\n",
      "[21] 십의자리 : 짝수!!, 일의자리: 홀수!!\n",
      "[22] 십의자리 : 짝수!!, 일의자리: 짝수!!\n",
      "[23] 십의자리 : 짝수!!, 일의자리: 홀수!!\n",
      "[24] 십의자리 : 짝수!!, 일의자리: 짝수!!\n",
      "[25] 십의자리 : 짝수!!, 일의자리: 홀수!!\n",
      "[26] 십의자리 : 짝수!!, 일의자리: 짝수!!\n",
      "[27] 십의자리 : 짝수!!, 일의자리: 홀수!!\n",
      "[28] 십의자리 : 짝수!!, 일의자리: 짝수!!\n",
      "[29] 십의자리 : 짝수!!, 일의자리: 홀수!!\n",
      "[30] 십의자리 : 홀수!!, 일의자리: 0\n",
      "[31] 십의자리 : 홀수!!, 일의자리: 홀수!!\n",
      "[32] 십의자리 : 홀수!!, 일의자리: 짝수!!\n",
      "[33] 십의자리 : 홀수!!, 일의자리: 홀수!!\n",
      "[34] 십의자리 : 홀수!!, 일의자리: 짝수!!\n",
      "[35] 십의자리 : 홀수!!, 일의자리: 홀수!!\n",
      "[36] 십의자리 : 홀수!!, 일의자리: 짝수!!\n",
      "[37] 십의자리 : 홀수!!, 일의자리: 홀수!!\n",
      "[38] 십의자리 : 홀수!!, 일의자리: 짝수!!\n",
      "[39] 십의자리 : 홀수!!, 일의자리: 홀수!!\n",
      "[40] 십의자리 : 짝수!!, 일의자리: 0\n",
      "[41] 십의자리 : 짝수!!, 일의자리: 홀수!!\n",
      "[42] 십의자리 : 짝수!!, 일의자리: 짝수!!\n",
      "[43] 십의자리 : 짝수!!, 일의자리: 홀수!!\n",
      "[44] 십의자리 : 짝수!!, 일의자리: 짝수!!\n",
      "[45] 십의자리 : 짝수!!, 일의자리: 홀수!!\n",
      "[46] 십의자리 : 짝수!!, 일의자리: 짝수!!\n",
      "[47] 십의자리 : 짝수!!, 일의자리: 홀수!!\n",
      "[48] 십의자리 : 짝수!!, 일의자리: 짝수!!\n",
      "[49] 십의자리 : 짝수!!, 일의자리: 홀수!!\n",
      "[50] 십의자리 : 홀수!!, 일의자리: 0\n",
      "[51] 십의자리 : 홀수!!, 일의자리: 홀수!!\n",
      "[52] 십의자리 : 홀수!!, 일의자리: 짝수!!\n",
      "[53] 십의자리 : 홀수!!, 일의자리: 홀수!!\n",
      "[54] 십의자리 : 홀수!!, 일의자리: 짝수!!\n",
      "[55] 십의자리 : 홀수!!, 일의자리: 홀수!!\n",
      "[56] 십의자리 : 홀수!!, 일의자리: 짝수!!\n",
      "[57] 십의자리 : 홀수!!, 일의자리: 홀수!!\n",
      "[58] 십의자리 : 홀수!!, 일의자리: 짝수!!\n",
      "[59] 십의자리 : 홀수!!, 일의자리: 홀수!!\n",
      "[60] 십의자리 : 짝수!!, 일의자리: 0\n",
      "[61] 십의자리 : 짝수!!, 일의자리: 홀수!!\n",
      "[62] 십의자리 : 짝수!!, 일의자리: 짝수!!\n",
      "[63] 십의자리 : 짝수!!, 일의자리: 홀수!!\n",
      "[64] 십의자리 : 짝수!!, 일의자리: 짝수!!\n",
      "[65] 십의자리 : 짝수!!, 일의자리: 홀수!!\n",
      "[66] 십의자리 : 짝수!!, 일의자리: 짝수!!\n",
      "[67] 십의자리 : 짝수!!, 일의자리: 홀수!!\n",
      "[68] 십의자리 : 짝수!!, 일의자리: 짝수!!\n",
      "[69] 십의자리 : 짝수!!, 일의자리: 홀수!!\n",
      "[70] 십의자리 : 홀수!!, 일의자리: 0\n",
      "[71] 십의자리 : 홀수!!, 일의자리: 홀수!!\n",
      "[72] 십의자리 : 홀수!!, 일의자리: 짝수!!\n",
      "[73] 십의자리 : 홀수!!, 일의자리: 홀수!!\n",
      "[74] 십의자리 : 홀수!!, 일의자리: 짝수!!\n",
      "[75] 십의자리 : 홀수!!, 일의자리: 홀수!!\n",
      "[76] 십의자리 : 홀수!!, 일의자리: 짝수!!\n",
      "[77] 십의자리 : 홀수!!, 일의자리: 홀수!!\n",
      "[78] 십의자리 : 홀수!!, 일의자리: 짝수!!\n",
      "[79] 십의자리 : 홀수!!, 일의자리: 홀수!!\n",
      "[80] 십의자리 : 짝수!!, 일의자리: 0\n",
      "[81] 십의자리 : 짝수!!, 일의자리: 홀수!!\n",
      "[82] 십의자리 : 짝수!!, 일의자리: 짝수!!\n",
      "[83] 십의자리 : 짝수!!, 일의자리: 홀수!!\n",
      "[84] 십의자리 : 짝수!!, 일의자리: 짝수!!\n",
      "[85] 십의자리 : 짝수!!, 일의자리: 홀수!!\n",
      "[86] 십의자리 : 짝수!!, 일의자리: 짝수!!\n",
      "[87] 십의자리 : 짝수!!, 일의자리: 홀수!!\n",
      "[88] 십의자리 : 짝수!!, 일의자리: 짝수!!\n",
      "[89] 십의자리 : 짝수!!, 일의자리: 홀수!!\n",
      "[90] 십의자리 : 홀수!!, 일의자리: 0\n",
      "[91] 십의자리 : 홀수!!, 일의자리: 홀수!!\n",
      "[92] 십의자리 : 홀수!!, 일의자리: 짝수!!\n",
      "[93] 십의자리 : 홀수!!, 일의자리: 홀수!!\n",
      "[94] 십의자리 : 홀수!!, 일의자리: 짝수!!\n",
      "[95] 십의자리 : 홀수!!, 일의자리: 홀수!!\n",
      "[96] 십의자리 : 홀수!!, 일의자리: 짝수!!\n",
      "[97] 십의자리 : 홀수!!, 일의자리: 홀수!!\n",
      "[98] 십의자리 : 홀수!!, 일의자리: 짝수!!\n",
      "[99] 십의자리 : 홀수!!, 일의자리: 홀수!!\n",
      "[100] 십의자리 : 짝수!!, 일의자리: 0\n"
     ]
    }
   ],
   "source": [
    "# 230328 / 02_056\n",
    "\n",
    "for i in range(1, 101):\n",
    "  if i <=9 and i % 2 != 0:\n",
    "    print('[{}]: {}'.format(i, '홀수!'))\n",
    "  if i <=9 and i % 2 ==0:\n",
    "    print('[{}]: {}'.format(i, '짝수!'))\n",
    "  if i >= 10 and (i // 10) % 2 != 0 and (i % 10) % 2 != 0:\n",
    "    print('[{0}] 십의자리 : {1}, 일의자리: {1}'.format(i, '홀수!!'))\n",
    "  if i >= 10 and (i // 10) % 2 == 0 and (i % 10) % 2 != 0:\n",
    "    print('[{}] 십의자리 : {}, 일의자리: {}'.format(i, '짝수!!', '홀수!!'))\n",
    "  if i >= 10 and (i // 10) % 2 == 0 and (i % 10) == 0:\n",
    "    print('[{}] 십의자리 : {}, 일의자리: {}'.format(i, '짝수!!', '0'))\n",
    "  if i >= 10 and (i // 10) % 2 != 0 and (i % 10) == 0:\n",
    "    print('[{}] 십의자리 : {}, 일의자리: {}'.format(i, '홀수!!', '0'))\n",
    "  if i >= 10 and (i // 10) % 2 != 0 and (i % 10) % 2 == 0 and (i%10) % 10 !=0 :\n",
    "    print('[{}] 십의자리 : {}, 일의자리: {}'.format(i,'홀수!!', '짝수!!' ))\n",
    "  if i >= 10 and (i // 10) % 2 == 0 and (i % 10) % 2 == 0 and (i%10) % 10 !=0 :\n",
    "    print('[{0}] 십의자리 : {1}, 일의자리: {1}'.format(i, '짝수!!'))\n",
    "  "
   ]
  },
  {
   "cell_type": "code",
   "execution_count": null,
   "metadata": {},
   "outputs": [],
   "source": [
    "import random\n",
    "\n",
    "rNum = random.randint(1, 1000)\n",
    "\n",
    "tryCnt = 0\n",
    "\n",
    "gameFlag = True\n",
    "while gameFlag:\n",
    "  tryCnt +=1\n",
    "  gNum = int(input('1에서 1,000까지의 정수 입력: '))\n",
    "  \n",
    "  "
   ]
  },
  {
   "cell_type": "code",
   "execution_count": 10,
   "metadata": {},
   "outputs": [
    {
     "name": "stdout",
     "output_type": "stream",
     "text": [
      "버스 에이와 버스 비 동시 정차 !!! : 6:0\n",
      "버스 비와 버스 씨 동시 정차 !!! : 7:44\n",
      "버스 에이와 버스 씨 동시 정차 !!! : 8:0\n",
      "버스 에이와 버스 비 동시 정차 !!! : 9:15\n",
      "버스 비와 버스 씨 동시 정차 !!! : 9:28\n",
      "버스 에이와 버스 씨 동시 정차 !!! : 10:0\n",
      "버스 비와 버스 씨 동시 정차 !!! : 11:12\n",
      "버스 에이와 버스 씨 동시 정차 !!! : 12:0\n",
      "버스 에이와 버스 비 동시 정차 !!! : 12:30\n",
      "버스 비와 버스 씨 동시 정차 !!! : 12:56\n",
      "버스 에이와 버스 씨 동시 정차 !!! : 14:0\n",
      "버스 비와 버스 씨 동시 정차 !!! : 14:40\n",
      "버스 에이와 버스 비 동시 정차 !!! : 15:45\n",
      "버스 에이와 버스 씨 동시 정차 !!! : 16:0\n",
      "버스 비와 버스 씨 동시 정차 !!! : 16:24\n",
      "버스 에이와 버스 씨 동시 정차 !!! : 18:0\n",
      "버스 비와 버스 씨 동시 정차 !!! : 18:8\n",
      "버스 에이와 버스 비 동시 정차 !!! : 19:0\n",
      "버스 비와 버스 씨 동시 정차 !!! : 19:52\n",
      "버스 에이와 버스 씨 동시 정차 !!! : 20:0\n",
      "버스 비와 버스 씨 동시 정차 !!! : 21:36\n",
      "버스 에이와 버스 씨 동시 정차 !!! : 22:0\n",
      "버스 에이와 버스 비 동시 정차 !!! : 22:15\n"
     ]
    }
   ],
   "source": [
    "\n",
    "# 230329 \n",
    "\n",
    "busA = 15\n",
    "busB = 13\n",
    "busC = 8\n",
    "\n",
    "totalTIme = 60*17\n",
    "\n",
    "\n",
    "for i in range(totalTIme+1):\n",
    "  hour = (i // 60) + 6\n",
    "  min = i % 60\n",
    "\n",
    "  if i < 20 or i > totalTIme - 60:\n",
    "    if i % busA == 0 and i % busB == 0:\n",
    "\n",
    "      print('버스 에이와 버스 비 동시 정차 !!! : {}:{}'.format(hour, min))\n",
    "  else:\n",
    "    if i % busA == 0 and i % busB == 0:\n",
    "      \n",
    "      print('버스 에이와 버스 비 동시 정차 !!! : {}:{}'.format(hour, min))\n",
    "    if i % busA == 0 and i % busC == 0:\n",
    "      \n",
    "      \n",
    "      print('버스 에이와 버스 씨 동시 정차 !!! : {}:{}'.format(hour, min))\n",
    "    if i % busB == 0 and i % busC == 0:\n",
    "      print('버스 비와 버스 씨 동시 정차 !!! : {}:{}'.format(hour, min))\n",
    "\n",
    "\n"
   ]
  },
  {
   "cell_type": "code",
   "execution_count": 9,
   "metadata": {},
   "outputs": [
    {
     "name": "stdout",
     "output_type": "stream",
     "text": [
      "버스 에이와 버스 비 동시 정차 !!! : 6:0\n",
      "버스 비와 버스 씨 동시 정차 !!! : 7:44\n",
      "버스 에이와 버스 씨 동시 정차 !!! : 8:0\n",
      "버스 에이와 버스 비 동시 정차 !!! : 9:15\n",
      "버스 비와 버스 씨 동시 정차 !!! : 9:28\n",
      "버스 에이와 버스 씨 동시 정차 !!! : 10:0\n",
      "버스 비와 버스 씨 동시 정차 !!! : 11:12\n",
      "버스 에이와 버스 씨 동시 정차 !!! : 12:0\n",
      "버스 에이와 버스 비 동시 정차 !!! : 12:30\n",
      "버스 비와 버스 씨 동시 정차 !!! : 12:56\n",
      "버스 에이와 버스 씨 동시 정차 !!! : 14:0\n",
      "버스 비와 버스 씨 동시 정차 !!! : 14:40\n",
      "버스 에이와 버스 비 동시 정차 !!! : 15:45\n",
      "버스 에이와 버스 씨 동시 정차 !!! : 16:0\n",
      "버스 비와 버스 씨 동시 정차 !!! : 16:24\n",
      "버스 에이와 버스 씨 동시 정차 !!! : 18:0\n",
      "버스 비와 버스 씨 동시 정차 !!! : 18:8\n",
      "버스 에이와 버스 비 동시 정차 !!! : 19:0\n",
      "버스 비와 버스 씨 동시 정차 !!! : 19:52\n",
      "버스 에이와 버스 씨 동시 정차 !!! : 20:0\n",
      "버스 비와 버스 씨 동시 정차 !!! : 21:36\n",
      "버스 에이와 버스 씨 동시 정차 !!! : 22:0\n",
      "버스 에이와 버스 비 동시 정차 !!! : 22:15\n"
     ]
    }
   ],
   "source": [
    "\n",
    "# 230329 \n",
    "\n",
    "busA = 15\n",
    "busB = 13\n",
    "busC = 8\n",
    "\n",
    "totalTIme = 60*17\n",
    "\n",
    "\n",
    "for i in range(totalTIme+1):\n",
    "\n",
    "  if i < 20 or i > totalTIme - 60:\n",
    "    if i % busA == 0 and i % busB == 0:\n",
    "      hour = (i // 60) + 6\n",
    "      min = i % 60\n",
    "      print('버스 에이와 버스 비 동시 정차 !!! : {}:{}'.format(hour, min))\n",
    "  else:\n",
    "    if i % busA == 0 and i % busB == 0:\n",
    "      hour = (i // 60) + 6\n",
    "      min = i % 60\n",
    "      print('버스 에이와 버스 비 동시 정차 !!! : {}:{}'.format(hour, min))\n",
    "    elif i % busA == 0 and i % busC == 0:\n",
    "      hour = (i // 60) + 6\n",
    "      min = i % 60\n",
    "      print('버스 에이와 버스 씨 동시 정차 !!! : {}:{}'.format(hour, min))\n",
    "    elif i % busB == 0 and i % busC == 0:\n",
    "      hour = (i // 60) + 6\n",
    "      min = i % 60\n",
    "      print('버스 비와 버스 씨 동시 정차 !!! : {}:{}'.format(hour, min))\n",
    "\n",
    "\n"
   ]
  },
  {
   "cell_type": "code",
   "execution_count": 11,
   "metadata": {},
   "outputs": [
    {
     "name": "stdout",
     "output_type": "stream",
     "text": [
      "*\n",
      "**\n",
      "***\n",
      "****\n",
      "*****\n"
     ]
    }
   ],
   "source": [
    "for i in range(1,6):\n",
    "  for j in range(i):\n",
    "    print('*', end='')\n",
    "  print()"
   ]
  },
  {
   "cell_type": "code",
   "execution_count": 12,
   "metadata": {},
   "outputs": [
    {
     "name": "stdout",
     "output_type": "stream",
     "text": [
      "    *\n",
      "   **\n",
      "  ***\n",
      " ****\n",
      "*****\n"
     ]
    }
   ],
   "source": [
    "for i in range(1, 6):\n",
    "  for j in range(5-i, 0, -1):\n",
    "    print(' ', end='')\n",
    "  for z in range(i):\n",
    "    print('*', end='')\n",
    "  print()"
   ]
  },
  {
   "cell_type": "code",
   "execution_count": 15,
   "metadata": {},
   "outputs": [
    {
     "name": "stdout",
     "output_type": "stream",
     "text": [
      "*****\n",
      " ****\n",
      "  ***\n",
      "   **\n",
      "    *\n"
     ]
    }
   ],
   "source": [
    "for i in range(5):\n",
    "  for j in range(i):\n",
    "    print(' ', end='')\n",
    "  for z in range(5-i):\n",
    "    print('*', end='')\n",
    "  print()"
   ]
  },
  {
   "cell_type": "code",
   "execution_count": 16,
   "metadata": {},
   "outputs": [
    {
     "name": "stdout",
     "output_type": "stream",
     "text": [
      "*\n",
      " *\n",
      "  *\n",
      "   *\n",
      "    *\n"
     ]
    }
   ],
   "source": [
    "for i in range(0, 5):\n",
    "  for j in range(i):\n",
    "    print(' ', end='')\n",
    "  print('*')"
   ]
  },
  {
   "cell_type": "code",
   "execution_count": 21,
   "metadata": {},
   "outputs": [
    {
     "name": "stdout",
     "output_type": "stream",
     "text": [
      "     *\n",
      "    *\n",
      "   *\n",
      "  *\n",
      " *\n"
     ]
    }
   ],
   "source": [
    "for i in range(4, -1, -1):\n",
    "  for j in range(i+1):\n",
    "    print(' ', end='')\n",
    "  print('*')"
   ]
  },
  {
   "cell_type": "code",
   "execution_count": 25,
   "metadata": {},
   "outputs": [
    {
     "name": "stdout",
     "output_type": "stream",
     "text": [
      "    *    \n",
      "   ***   \n",
      "  *****  \n",
      " ******* \n",
      "*********\n",
      "*********\n",
      " ******* \n",
      "  *****  \n",
      "   ***   \n",
      "    *    \n"
     ]
    }
   ],
   "source": [
    "for i in range(4, -1, -1):\n",
    "  for j in range(i):\n",
    "    print(' ', end='')\n",
    "  \n",
    "  for z in range(9-2*i):\n",
    "    print('*', end='')\n",
    "  \n",
    "  for k in range(i):\n",
    "    print(' ', end='')\n",
    "  print()\n",
    "for a in range(0, 5):\n",
    "  for h in range(a):\n",
    "    print(' ', end='')\n",
    "  for f in range(9-2*a):\n",
    "    print('*', end='')\n",
    "  for e in range(a):\n",
    "    print(' ', end='')\n",
    "  print()\n"
   ]
  },
  {
   "cell_type": "code",
   "execution_count": 29,
   "metadata": {},
   "outputs": [
    {
     "name": "stdout",
     "output_type": "stream",
     "text": [
      "[1]: 홀수!\n",
      "[2]: 짝수!\n",
      "[3]: 홀수!\n",
      "[4]: 짝수!\n",
      "[5]: 홀수!\n",
      "[6]: 짝수!\n",
      "[7]: 홀수!\n",
      "[8]: 짝수!\n",
      "[9]: 홀수!\n",
      "[10] 십의 자리: 홀수!!, 일의 자리: 0\n",
      "[11] 십의 자리: 홀수!!, 일의 자리: 홀수!!\n",
      "[12] 십의 자리: 홀수!!, 일의 자리: 짝수!!\n",
      "[13] 십의 자리: 홀수!!, 일의 자리: 홀수!!\n",
      "[14] 십의 자리: 홀수!!, 일의 자리: 짝수!!\n",
      "[15] 십의 자리: 홀수!!, 일의 자리: 홀수!!\n",
      "[16] 십의 자리: 홀수!!, 일의 자리: 짝수!!\n",
      "[17] 십의 자리: 홀수!!, 일의 자리: 홀수!!\n",
      "[18] 십의 자리: 홀수!!, 일의 자리: 짝수!!\n",
      "[19] 십의 자리: 홀수!!, 일의 자리: 홀수!!\n",
      "[20] 십의 자리: 짝수!!, 일의 자리: 0\n",
      "[21] 십의 자리: 짝수!!, 일의 자리: 홀수!!\n",
      "[22] 십의 자리: 짝수!!, 일의 자리: 짝수!!\n",
      "[23] 십의 자리: 짝수!!, 일의 자리: 홀수!!\n",
      "[24] 십의 자리: 짝수!!, 일의 자리: 짝수!!\n",
      "[25] 십의 자리: 짝수!!, 일의 자리: 홀수!!\n",
      "[26] 십의 자리: 짝수!!, 일의 자리: 짝수!!\n",
      "[27] 십의 자리: 짝수!!, 일의 자리: 홀수!!\n",
      "[28] 십의 자리: 짝수!!, 일의 자리: 짝수!!\n",
      "[29] 십의 자리: 짝수!!, 일의 자리: 홀수!!\n",
      "[30] 십의 자리: 홀수!!, 일의 자리: 0\n",
      "[31] 십의 자리: 홀수!!, 일의 자리: 홀수!!\n",
      "[32] 십의 자리: 홀수!!, 일의 자리: 짝수!!\n",
      "[33] 십의 자리: 홀수!!, 일의 자리: 홀수!!\n",
      "[34] 십의 자리: 홀수!!, 일의 자리: 짝수!!\n",
      "[35] 십의 자리: 홀수!!, 일의 자리: 홀수!!\n",
      "[36] 십의 자리: 홀수!!, 일의 자리: 짝수!!\n",
      "[37] 십의 자리: 홀수!!, 일의 자리: 홀수!!\n",
      "[38] 십의 자리: 홀수!!, 일의 자리: 짝수!!\n",
      "[39] 십의 자리: 홀수!!, 일의 자리: 홀수!!\n",
      "[40] 십의 자리: 짝수!!, 일의 자리: 0\n",
      "[41] 십의 자리: 짝수!!, 일의 자리: 홀수!!\n",
      "[42] 십의 자리: 짝수!!, 일의 자리: 짝수!!\n",
      "[43] 십의 자리: 짝수!!, 일의 자리: 홀수!!\n",
      "[44] 십의 자리: 짝수!!, 일의 자리: 짝수!!\n",
      "[45] 십의 자리: 짝수!!, 일의 자리: 홀수!!\n",
      "[46] 십의 자리: 짝수!!, 일의 자리: 짝수!!\n",
      "[47] 십의 자리: 짝수!!, 일의 자리: 홀수!!\n",
      "[48] 십의 자리: 짝수!!, 일의 자리: 짝수!!\n",
      "[49] 십의 자리: 짝수!!, 일의 자리: 홀수!!\n",
      "[50] 십의 자리: 홀수!!, 일의 자리: 0\n",
      "[51] 십의 자리: 홀수!!, 일의 자리: 홀수!!\n",
      "[52] 십의 자리: 홀수!!, 일의 자리: 짝수!!\n",
      "[53] 십의 자리: 홀수!!, 일의 자리: 홀수!!\n",
      "[54] 십의 자리: 홀수!!, 일의 자리: 짝수!!\n",
      "[55] 십의 자리: 홀수!!, 일의 자리: 홀수!!\n",
      "[56] 십의 자리: 홀수!!, 일의 자리: 짝수!!\n",
      "[57] 십의 자리: 홀수!!, 일의 자리: 홀수!!\n",
      "[58] 십의 자리: 홀수!!, 일의 자리: 짝수!!\n",
      "[59] 십의 자리: 홀수!!, 일의 자리: 홀수!!\n",
      "[60] 십의 자리: 짝수!!, 일의 자리: 0\n",
      "[61] 십의 자리: 짝수!!, 일의 자리: 홀수!!\n",
      "[62] 십의 자리: 짝수!!, 일의 자리: 짝수!!\n",
      "[63] 십의 자리: 짝수!!, 일의 자리: 홀수!!\n",
      "[64] 십의 자리: 짝수!!, 일의 자리: 짝수!!\n",
      "[65] 십의 자리: 짝수!!, 일의 자리: 홀수!!\n",
      "[66] 십의 자리: 짝수!!, 일의 자리: 짝수!!\n",
      "[67] 십의 자리: 짝수!!, 일의 자리: 홀수!!\n",
      "[68] 십의 자리: 짝수!!, 일의 자리: 짝수!!\n",
      "[69] 십의 자리: 짝수!!, 일의 자리: 홀수!!\n",
      "[70] 십의 자리: 홀수!!, 일의 자리: 0\n",
      "[71] 십의 자리: 홀수!!, 일의 자리: 홀수!!\n",
      "[72] 십의 자리: 홀수!!, 일의 자리: 짝수!!\n",
      "[73] 십의 자리: 홀수!!, 일의 자리: 홀수!!\n",
      "[74] 십의 자리: 홀수!!, 일의 자리: 짝수!!\n",
      "[75] 십의 자리: 홀수!!, 일의 자리: 홀수!!\n",
      "[76] 십의 자리: 홀수!!, 일의 자리: 짝수!!\n",
      "[77] 십의 자리: 홀수!!, 일의 자리: 홀수!!\n",
      "[78] 십의 자리: 홀수!!, 일의 자리: 짝수!!\n",
      "[79] 십의 자리: 홀수!!, 일의 자리: 홀수!!\n",
      "[80] 십의 자리: 짝수!!, 일의 자리: 0\n",
      "[81] 십의 자리: 짝수!!, 일의 자리: 홀수!!\n",
      "[82] 십의 자리: 짝수!!, 일의 자리: 짝수!!\n",
      "[83] 십의 자리: 짝수!!, 일의 자리: 홀수!!\n",
      "[84] 십의 자리: 짝수!!, 일의 자리: 짝수!!\n",
      "[85] 십의 자리: 짝수!!, 일의 자리: 홀수!!\n",
      "[86] 십의 자리: 짝수!!, 일의 자리: 짝수!!\n",
      "[87] 십의 자리: 짝수!!, 일의 자리: 홀수!!\n",
      "[88] 십의 자리: 짝수!!, 일의 자리: 짝수!!\n",
      "[89] 십의 자리: 짝수!!, 일의 자리: 홀수!!\n",
      "[90] 십의 자리: 홀수!!, 일의 자리: 0\n",
      "[91] 십의 자리: 홀수!!, 일의 자리: 홀수!!\n",
      "[92] 십의 자리: 홀수!!, 일의 자리: 짝수!!\n",
      "[93] 십의 자리: 홀수!!, 일의 자리: 홀수!!\n",
      "[94] 십의 자리: 홀수!!, 일의 자리: 짝수!!\n",
      "[95] 십의 자리: 홀수!!, 일의 자리: 홀수!!\n",
      "[96] 십의 자리: 홀수!!, 일의 자리: 짝수!!\n",
      "[97] 십의 자리: 홀수!!, 일의 자리: 홀수!!\n",
      "[98] 십의 자리: 홀수!!, 일의 자리: 짝수!!\n",
      "[99] 십의 자리: 홀수!!, 일의 자리: 홀수!!\n",
      "[100] 십의 자리: 짝수!!, 일의 자리: 0\n"
     ]
    }
   ],
   "source": [
    "\n",
    "\n",
    "for i in range(1, 101, 1):\n",
    "  if i < 10:\n",
    "    if i % 2 != 0:\n",
    "      print('[{}]: 홀수!'.format(i))\n",
    "    if i % 2 == 0:\n",
    "      print('[{}]: 짝수!'.format(i))\n",
    "  else:\n",
    "    if (i // 10) % 2 ==0 and (i % 10) == 0:\n",
    "      print('[{}] 십의 자리: 짝수!!, 일의 자리: 0'.format(i))\n",
    "    if (i // 10) % 2 !=0 and (i % 10) == 0:\n",
    "      print('[{}] 십의 자리: 홀수!!, 일의 자리: 0'.format(i))\n",
    "    if (i // 10) % 2 !=0 and (i % 10) % 2 != 0:\n",
    "      print('[{}] 십의 자리: 홀수!!, 일의 자리: 홀수!!'.format(i))\n",
    "    if (i // 10) % 2 !=0 and (i % 10) %2 == 0 and (i % 10) != 0:\n",
    "      print('[{}] 십의 자리: 홀수!!, 일의 자리: 짝수!!'.format(i))\n",
    "    if (i // 10) % 2 ==0 and (i % 10) %2 != 0:\n",
    "      print('[{}] 십의 자리: 짝수!!, 일의 자리: 홀수!!'.format(i))\n",
    "    if (i // 10) % 2 ==0 and (i % 10)%2 == 0 and (i % 10) != 0:\n",
    "      print('[{}] 십의 자리: 짝수!!, 일의 자리: 짝수!!'.format(i))\n"
   ]
  },
  {
   "cell_type": "code",
   "execution_count": 30,
   "metadata": {},
   "outputs": [
    {
     "name": "stdout",
     "output_type": "stream",
     "text": [
      "난수가 작다\n",
      "난수 : 252, 시도 횟수: 1\n",
      "난수가 크다\n",
      "난수 : 252, 시도 횟수: 2\n",
      "난수가 작다\n",
      "난수 : 252, 시도 횟수: 3\n",
      "빙고!\n",
      "난수 : 252, 시도 횟수: 4\n"
     ]
    }
   ],
   "source": [
    "# 02_055\n",
    "import random\n",
    "\n",
    "randomNum = random.randint(1, 1000)\n",
    "\n",
    "tryCnt = 0\n",
    "\n",
    "gameongoing = True\n",
    "\n",
    "while gameongoing:\n",
    "  guessNum = int(input('1에서 1000 사이의 정수를 입력하시오 :   '))\n",
    "  tryCnt += 1\n",
    "  \n",
    "  if guessNum == randomNum:\n",
    "    print('빙고!')\n",
    "    gameongoing = False\n",
    "  else: \n",
    "    if guessNum > randomNum:\n",
    "      print('난수가 작다')\n",
    "    if guessNum < randomNum:\n",
    "      print('난수가 크다')\n",
    "  print('난수 : {}, 시도 횟수: {}'.format(randomNum, tryCnt))"
   ]
  }
 ],
 "metadata": {
  "kernelspec": {
   "display_name": "Python 3",
   "language": "python",
   "name": "python3"
  },
  "language_info": {
   "codemirror_mode": {
    "name": "ipython",
    "version": 3
   },
   "file_extension": ".py",
   "mimetype": "text/x-python",
   "name": "python",
   "nbconvert_exporter": "python",
   "pygments_lexer": "ipython3",
   "version": "3.10.6"
  },
  "orig_nbformat": 4
 },
 "nbformat": 4,
 "nbformat_minor": 2
}
