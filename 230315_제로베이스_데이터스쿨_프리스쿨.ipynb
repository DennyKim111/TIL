{
 "cells": [
  {
   "cell_type": "code",
   "execution_count": 2,
   "metadata": {},
   "outputs": [
    {
     "name": "stdout",
     "output_type": "stream",
     "text": [
      "20\n",
      "20\n",
      "20\n",
      "20\n"
     ]
    }
   ],
   "source": [
    "number = 20\n",
    "\n",
    "print(number)\n",
    "print(number)\n",
    "print(number)\n",
    "print(number)"
   ]
  },
  {
   "cell_type": "code",
   "execution_count": null,
   "metadata": {},
   "outputs": [],
   "source": [
    "name = 'Kim Jitae'\n",
    "age = 27\n",
    "address = 'Korea'\n",
    "phone = '010-3231-5648'\n",
    "mail_addr = '0111danye@gmail.com'\n",
    "to_do_list_230315 = '제로베이스파이썬공부, 제로베이스엑셀공부, 파이썬코딩도장, 조깅, 백준코딩문제, 자소서쓰기'\n",
    "초코렛 = '2000원'\n",
    "인상깊었던일 = '리아'\n",
    "\n"
   ]
  },
  {
   "attachments": {},
   "cell_type": "markdown",
   "metadata": {},
   "source": [
    "07 변수를 사용하는 이유"
   ]
  },
  {
   "cell_type": "code",
   "execution_count": 3,
   "metadata": {},
   "outputs": [
    {
     "name": "stdout",
     "output_type": "stream",
     "text": [
      "hello\n",
      "hello\n"
     ]
    }
   ],
   "source": [
    "print('hello')\n",
    "\n",
    "intro = 'hello'\n",
    "\n",
    "print(intro)\n"
   ]
  },
  {
   "cell_type": "code",
   "execution_count": 5,
   "metadata": {},
   "outputs": [
    {
     "name": "stdout",
     "output_type": "stream",
     "text": [
      "15\n",
      "5\n",
      "2.0\n",
      "50\n"
     ]
    }
   ],
   "source": [
    "a = 10\n",
    "b = 5\n",
    "\n",
    "print(a + b)\n",
    "print(a-b)\n",
    "print(a/b)\n",
    "print(a*b)"
   ]
  },
  {
   "cell_type": "code",
   "execution_count": 7,
   "metadata": {},
   "outputs": [
    {
     "name": "stdout",
     "output_type": "stream",
     "text": [
      "김지태 님께\n",
      "김지태 님, 안녕하세요\n",
      "김지태 님께서 접수하신 AS 건에 대해서 연락을 드렸으나, 연락이 어려워 메일 드립니다.\n",
      "A/S 접수 내용\n",
      "-------------\n",
      "성함:  김지태\n",
      "내용: 에어컨 고장\n"
     ]
    }
   ],
   "source": [
    "name = '김지태'\n",
    "\n",
    "\n",
    "print(name, '님께')\n",
    "print(name,'님, 안녕하세요')\n",
    "print(name,'님께서 접수하신 AS 건에 대해서 연락을 드렸으나, 연락이 어려워 메일 드립니다.')\n",
    "print('A/S 접수 내용')\n",
    "print('-------------')\n",
    "print('성함: ', name)\n",
    "print('내용: 에어컨 고장')"
   ]
  },
  {
   "cell_type": "code",
   "execution_count": 8,
   "metadata": {},
   "outputs": [
    {
     "name": "stdout",
     "output_type": "stream",
     "text": [
      "96\n"
     ]
    }
   ],
   "source": [
    "midTermExamScore_Math = 96\n",
    "print(midTermExamScore_Math)"
   ]
  },
  {
   "cell_type": "code",
   "execution_count": 9,
   "metadata": {},
   "outputs": [
    {
     "name": "stdout",
     "output_type": "stream",
     "text": [
      "4851\n"
     ]
    }
   ],
   "source": [
    "width = 49\n",
    "height = 99\n",
    "\n",
    "print(width * height)"
   ]
  },
  {
   "cell_type": "code",
   "execution_count": null,
   "metadata": {},
   "outputs": [],
   "source": [
    "num = 222222222222222222222222222222222222222222222222222222222222222222222222222\n",
    "print(num)"
   ]
  },
  {
   "cell_type": "code",
   "execution_count": 10,
   "metadata": {},
   "outputs": [
    {
     "name": "stdout",
     "output_type": "stream",
     "text": [
      "<class 'float'>\n"
     ]
    }
   ],
   "source": [
    "num1 = 10.222\n",
    "\n",
    "print(type(num1))"
   ]
  },
  {
   "cell_type": "code",
   "execution_count": 14,
   "metadata": {},
   "outputs": [
    {
     "name": "stdout",
     "output_type": "stream",
     "text": [
      "<class 'str'>\n"
     ]
    }
   ],
   "source": [
    "num1 = '3.222'\n",
    "\n",
    "print(type(num1))"
   ]
  },
  {
   "cell_type": "code",
   "execution_count": null,
   "metadata": {},
   "outputs": [],
   "source": [
    "score = 100\n",
    "pi = 3.14\n",
    "wantGo = '캐나다'\n",
    "\n",
    "adult = True\n"
   ]
  },
  {
   "cell_type": "code",
   "execution_count": 17,
   "metadata": {},
   "outputs": [
    {
     "name": "stdout",
     "output_type": "stream",
     "text": [
      "3.263\n",
      "<class 'float'>\n",
      "<class 'str'>\n"
     ]
    }
   ],
   "source": [
    "fNum = 3.14\n",
    "fNum2 = 0.123\n",
    "\n",
    "print(fNum + fNum2)\n",
    "print(type(fNum))\n",
    "\n",
    "fNum = str(fNum)\n",
    "fNum2 = str(fNum2)\n",
    "print(type(fNum))"
   ]
  },
  {
   "attachments": {},
   "cell_type": "markdown",
   "metadata": {},
   "source": [
    "여러 줄 주석 '''ㅁㄴㅇㅁㄴㅇㅁㄴㅇ'''"
   ]
  }
 ],
 "metadata": {
  "kernelspec": {
   "display_name": "Python 3",
   "language": "python",
   "name": "python3"
  },
  "language_info": {
   "codemirror_mode": {
    "name": "ipython",
    "version": 3
   },
   "file_extension": ".py",
   "mimetype": "text/x-python",
   "name": "python",
   "nbconvert_exporter": "python",
   "pygments_lexer": "ipython3",
   "version": "3.10.6"
  },
  "orig_nbformat": 4
 },
 "nbformat": 4,
 "nbformat_minor": 2
}
