{
 "cells": [
  {
   "cell_type": "code",
   "execution_count": null,
   "id": "64457e4c",
   "metadata": {},
   "outputs": [],
   "source": [
    "리스트 안에 요소 하나 추가\n",
    "-> append\n",
    "\n",
    "a = [10, 20]\n",
    "a.append(500)\n",
    "\n",
    ">>> a = [10, 20, 500]\n",
    "\n",
    "\n",
    "리스트 안에 리스트 추가\n",
    "-> append\n",
    "\n",
    "a.append([600, 745])\n",
    "\n",
    ">>> a = [10, 20, 500, [600, 745]]\n",
    "\n",
    "리스트 확장하기\n",
    "-> extend\n",
    "\n",
    "a.extend([3000, 2000])\n",
    "\n",
    ">>> a = [10, 20, 500, [600, 745], 3000, 2000]\n",
    "\n",
    "리스트에 추가 \n",
    "-> insert\n",
    "\n",
    "a.insert(0, 999)\n",
    "\n",
    ">>> a = [999, 10, 20, 500, [600, 745], 3000, 2000]"
   ]
  },
  {
   "cell_type": "code",
   "execution_count": null,
   "id": "e44d5b2f",
   "metadata": {},
   "outputs": [],
   "source": [
    "pop() = 리스트의 마지막 요소 삭제, 삭제한 요소 반환\n",
    "\n",
    "pop(인덱스) = 해당 인덱스의 요소를 삭제\n",
    "\n",
    "remove()  는 pop처럼 인덱스를 통해 삭제 대상을 가리키지 않고 특정 값을 기입해서 삭제함\n",
    "\n",
    "만약 remove를 통해 가리킨 값이 리스트 안에 두 개 이상 중복된다면 앞쪽의 값을 삭제함.\n",
    "\n"
   ]
  },
  {
   "cell_type": "code",
   "execution_count": 7,
   "id": "09dd9f4c",
   "metadata": {},
   "outputs": [
    {
     "name": "stdout",
     "output_type": "stream",
     "text": [
      "2\n"
     ]
    }
   ],
   "source": [
    "# index로 특정 값의 인덱스 지정할 수 있음 \n",
    "\n",
    "a = [10, 20, 30, 15, 20, 40]\n",
    "a.index(30)\n",
    "\n",
    "print(a.index(30))\n",
    "\n",
    "# 30이 세 번째에 있으니까 = 인덱스 2에 있으니까 2 출력\n"
   ]
  },
  {
   "cell_type": "code",
   "execution_count": null,
   "id": "3b68e5ed",
   "metadata": {},
   "outputs": [],
   "source": [
    "count 로 특정 값의 갯수를 구할 수 있다. \n",
    "\n",
    "a = [10, 20, 30, 15, 20, 40]\n",
    "a.count(20)\n",
    "\n",
    ">>> 2\n",
    "\n",
    "20이 두 개 있으므로 2 나옴\n",
    "\n"
   ]
  },
  {
   "cell_type": "code",
   "execution_count": null,
   "id": "fe14d089",
   "metadata": {},
   "outputs": [],
   "source": [
    "reverse()로 리스트의 순서를 뒤집을 수 있다. \n",
    "\n",
    "a = [10, 20, 30, 15, 20, 40]\n",
    "a.reverse()\n",
    "\n",
    ">>> a = [40, 20, 15, 30, 20, 10]\n",
    "\n"
   ]
  },
  {
   "cell_type": "code",
   "execution_count": null,
   "id": "f9fa762a",
   "metadata": {},
   "outputs": [],
   "source": [
    "sort()로 요소들을 작은 순서대로 정렬할 수 있다. \n",
    "\n",
    "a = [10, 20, 30, 15, 20, 40]\n",
    "\n",
    "a.sort()\n",
    "\n",
    ">>> a = [10, 15, 20, 20, 30, 40]\n",
    "\n",
    "* sorted는 sort()와 기능이 똑같지만 새로운 리스트를 만들어줌\n"
   ]
  },
  {
   "cell_type": "code",
   "execution_count": null,
   "id": "444d3307",
   "metadata": {},
   "outputs": [],
   "source": [
    "clear()는 리스트 안의 모든 요소를 삭제해준다. \n",
    "\n",
    "a = [10, 20, 30]\n",
    "\n",
    "a.clear()\n",
    ">>> a = []"
   ]
  },
  {
   "cell_type": "code",
   "execution_count": null,
   "id": "8801a1d3",
   "metadata": {},
   "outputs": [],
   "source": [
    "del a[:] \n",
    "\n",
    "이것도 a.clear()과 똑같다. "
   ]
  },
  {
   "cell_type": "code",
   "execution_count": null,
   "id": "a76ecd8b",
   "metadata": {},
   "outputs": [],
   "source": [
    "a = [10, 20, 30]\n",
    "\n",
    "a[len(a):] = [500]\n",
    "\n",
    ">>> a = [10, 20, 30, 500]\n",
    "\n",
    "또는\n",
    "\n",
    "a.append(500)\n",
    "\n",
    ">>> a = [10, 20, 30, 500]\n",
    "\n"
   ]
  },
  {
   "cell_type": "code",
   "execution_count": 10,
   "id": "290bd6c9",
   "metadata": {},
   "outputs": [
    {
     "name": "stdout",
     "output_type": "stream",
     "text": [
      "true\n"
     ]
    }
   ],
   "source": [
    "a = [10, 20, 30]\n",
    "\n",
    "if len(a):\n",
    "    print('true')\n",
    "    \n",
    "리스트가 비어있으면 false, 요소가 있으면 true"
   ]
  },
  {
   "cell_type": "code",
   "execution_count": 11,
   "id": "b30910f7",
   "metadata": {},
   "outputs": [
    {
     "name": "stdout",
     "output_type": "stream",
     "text": [
      "8\n"
     ]
    }
   ],
   "source": [
    "seq = [1, 2, 3, 4, 5, 6, 7, 8]\n",
    "\n",
    "print(seq[-1])\n",
    "\n",
    "# seq[-1] = 리스트의 마지막 요소를 가리킴, 그리고 리스트가 비어있는지 아닌지 확인하기 위해 seq[-1]을 \n",
    "# 불러내서 없다고 뜨면 요소가 없는 것이고, 있으면 요소가 있다고 판별할 수도 있음"
   ]
  },
  {
   "cell_type": "code",
   "execution_count": null,
   "id": "fad5c868",
   "metadata": {},
   "outputs": [],
   "source": [
    "리스트 할당 & 복사 \n",
    "\n",
    "a = [1, 2, 3, 4, 5, 6]\n",
    "b = a\n",
    "\n",
    "이렇게 하면 리스트가 두 개 생기는 것이 아니라, \n",
    "[1, 2, 3, 4, 5, 6]이라는 리스트에 a와 b 두개의 변수가 할당된다. \n",
    "\n",
    "그래서 a is b 에 대해 TRUE 라고 나온다.\n",
    "\n",
    "그래서 \n",
    "\n",
    "b[2] = 99 라고 하면 \n",
    "\n",
    ">>> a = [1, 2, 99, 4, 5, 6]\n",
    "\n",
    ">>> b = [1, 2, 99, 4, 5, 6]\n",
    "\n",
    "이렇게 뜬다. \n",
    "\n"
   ]
  },
  {
   "cell_type": "code",
   "execution_count": 12,
   "id": "dca45502",
   "metadata": {},
   "outputs": [
    {
     "ename": "SyntaxError",
     "evalue": "invalid syntax (2202014732.py, line 1)",
     "output_type": "error",
     "traceback": [
      "\u001b[1;36m  Cell \u001b[1;32mIn[12], line 1\u001b[1;36m\u001b[0m\n\u001b[1;33m    차라리 a의 리스트를 b에다가 따로 복사하려면 이렇게 해야함.\u001b[0m\n\u001b[1;37m        ^\u001b[0m\n\u001b[1;31mSyntaxError\u001b[0m\u001b[1;31m:\u001b[0m invalid syntax\n"
     ]
    }
   ],
   "source": [
    "차라리 a의 리스트를 b에다가 따로 복사하려면 이렇게 해야함.\n",
    "\n",
    "a = [1, 2, 3, 4, 5, 6]\n",
    "\n",
    "b = a.copy()\n",
    "\n",
    "\n",
    "이러면 리스트도 두 개, 그리고 각각 다른 리스트에 a, b 변수가 하나씩 따로 할당된다. \n",
    "\n",
    "그럼, a = b 는 False가 뜬다.\n",
    "\n",
    "그런데 리스트는 똑같으니까 \n",
    "\n",
    "a == b 에서는 True가 뜬다. \n"
   ]
  },
  {
   "cell_type": "code",
   "execution_count": null,
   "id": "491489b7",
   "metadata": {},
   "outputs": [],
   "source": [
    "반복문으로 리스트의 요소들을 모두 출력할 수도 있다. "
   ]
  },
  {
   "cell_type": "code",
   "execution_count": 15,
   "id": "48c1e44e",
   "metadata": {},
   "outputs": [
    {
     "name": "stdout",
     "output_type": "stream",
     "text": [
      "38, 21, 53, 62, 19, "
     ]
    }
   ],
   "source": [
    "a = [38, 21, 53, 62, 19]\n",
    "\n",
    "for i in a:\n",
    "    print(i, end = ', ')"
   ]
  },
  {
   "cell_type": "code",
   "execution_count": 16,
   "id": "05203f62",
   "metadata": {},
   "outputs": [
    {
     "name": "stdout",
     "output_type": "stream",
     "text": [
      "0 38/1 21/2 53/3 62/4 19/"
     ]
    }
   ],
   "source": [
    "a = [38, 21, 53, 62, 19]\n",
    "\n",
    "for index, value in enumerate(a):\n",
    "    print(index, value, end='/')"
   ]
  },
  {
   "cell_type": "code",
   "execution_count": 23,
   "id": "109f2f97",
   "metadata": {},
   "outputs": [
    {
     "name": "stdout",
     "output_type": "stream",
     "text": [
      "1//38\n",
      "2//21\n",
      "3//53\n",
      "4//62\n",
      "5//19\n"
     ]
    }
   ],
   "source": [
    "a = [38, 21, 53, 62, 19]\n",
    "\n",
    "for index, value in enumerate(a):\n",
    "    print(index+1, value, sep = '//')"
   ]
  },
  {
   "cell_type": "code",
   "execution_count": 24,
   "id": "f2d9c1f5",
   "metadata": {},
   "outputs": [
    {
     "name": "stdout",
     "output_type": "stream",
     "text": [
      "1//38\n",
      "2//21\n",
      "3//53\n",
      "4//62\n",
      "5//19\n"
     ]
    }
   ],
   "source": [
    "a = [38, 21, 53, 62, 19]\n",
    "\n",
    "for bb, cc in enumerate(a, start = 1):\n",
    "    print(bb, cc, sep = '//')"
   ]
  },
  {
   "cell_type": "code",
   "execution_count": 26,
   "id": "b1db48f5",
   "metadata": {},
   "outputs": [
    {
     "name": "stdout",
     "output_type": "stream",
     "text": [
      "99//38\n",
      "100//21\n",
      "101//53\n",
      "102//62\n",
      "103//19\n"
     ]
    }
   ],
   "source": [
    "a = [38, 21, 53, 62, 19]\n",
    "\n",
    "for bb, cc in enumerate(a, 99):\n",
    "    print(bb, cc, sep = '//')"
   ]
  },
  {
   "cell_type": "code",
   "execution_count": 27,
   "id": "97297934",
   "metadata": {},
   "outputs": [
    {
     "name": "stdout",
     "output_type": "stream",
     "text": [
      "5\n"
     ]
    }
   ],
   "source": [
    "a = [38, 21, 53, 62, 19]\n",
    "\n",
    "print(len(a))"
   ]
  },
  {
   "cell_type": "code",
   "execution_count": 2,
   "id": "4a1fd52e",
   "metadata": {},
   "outputs": [
    {
     "data": {
      "text/plain": [
       "19"
      ]
     },
     "execution_count": 2,
     "metadata": {},
     "output_type": "execute_result"
    }
   ],
   "source": [
    "a = [39, 21, 53, 62, 19]\n",
    "\n",
    "smallest = a[0]\n",
    "for i in a:\n",
    "    if i < smallest:\n",
    "        smallest = i\n",
    "smallest\n",
    "        "
   ]
  },
  {
   "cell_type": "code",
   "execution_count": 6,
   "id": "65380e86",
   "metadata": {},
   "outputs": [
    {
     "name": "stdout",
     "output_type": "stream",
     "text": [
      "99\n"
     ]
    }
   ],
   "source": [
    "a = [36, 34, 37, 75, 65, 62, 83, 99]\n",
    "\n",
    "a.sort()\n",
    "\n",
    "a.sort(reverse=True)\n",
    "\n",
    "print(a[0])"
   ]
  },
  {
   "cell_type": "code",
   "execution_count": 9,
   "id": "9cc0c71b",
   "metadata": {},
   "outputs": [
    {
     "data": {
      "text/plain": [
       "491"
      ]
     },
     "execution_count": 9,
     "metadata": {},
     "output_type": "execute_result"
    }
   ],
   "source": [
    "a = [36, 34, 37, 75, 65, 62, 83, 99]\n",
    "\n",
    "sum(a)"
   ]
  },
  {
   "cell_type": "code",
   "execution_count": null,
   "id": "389cde6c",
   "metadata": {},
   "outputs": [],
   "source": [
    "# 리스트 안에서 식, for 반복문, if 조건문 등을 지정하여 리스트를 생성하는 것을 리스트 컴프리헨션이라고 한다. \n",
    "\n",
    "# 리스트 컴프리헨션 = 식으로 지정해서 생성된 것을 리스트로 잡아둔다는 뜻.\n",
    "\n"
   ]
  },
  {
   "cell_type": "code",
   "execution_count": 12,
   "id": "1108215a",
   "metadata": {},
   "outputs": [
    {
     "name": "stdout",
     "output_type": "stream",
     "text": [
      "[0, 1, 2, 3, 4, 5, 6, 7, 8, 9, 10, 11, 12, 13, 14, 15, 16, 17, 18, 19, 20, 21, 22, 23, 24, 25, 26, 27, 28, 29, 30, 31, 32, 33, 34, 35, 36, 37, 38, 39, 40, 41, 42, 43, 44, 45, 46, 47, 48, 49, 50, 51, 52, 53, 54, 55, 56, 57, 58, 59, 60, 61, 62, 63, 64, 65, 66, 67, 68, 69, 70, 71, 72, 73, 74, 75, 76, 77, 78, 79, 80, 81, 82, 83, 84, 85, 86, 87, 88, 89, 90, 91, 92, 93, 94, 95, 96, 97, 98, 99], "
     ]
    }
   ],
   "source": [
    "a = [i for i in range(100)]\n",
    "\n",
    "print(a, end = ', ')"
   ]
  },
  {
   "cell_type": "code",
   "execution_count": 13,
   "id": "ea34699c",
   "metadata": {},
   "outputs": [
    {
     "name": "stdout",
     "output_type": "stream",
     "text": [
      "[0, 10, 20, 30, 40, 50, 60, 70, 80, 90, 100, 110, 120, 130, 140, 150, 160, 170, 180, 190, 200, 210, 220, 230, 240, 250, 260, 270, 280, 290, 300, 310, 320, 330, 340, 350, 360, 370, 380, 390, 400, 410, 420, 430, 440, 450, 460, 470, 480, 490, 500, 510, 520, 530, 540, 550, 560, 570, 580, 590, 600, 610, 620, 630, 640, 650, 660, 670, 680, 690, 700, 710, 720, 730, 740, 750, 760, 770, 780, 790, 800, 810, 820, 830, 840, 850, 860, 870, 880, 890, 900, 910, 920, 930, 940, 950, 960, 970, 980, 990] "
     ]
    }
   ],
   "source": [
    "b = [i*10 for i in range(100)]\n",
    "\n",
    "print(b, end=' ')"
   ]
  },
  {
   "cell_type": "code",
   "execution_count": 14,
   "id": "e8aacb74",
   "metadata": {},
   "outputs": [
    {
     "data": {
      "text/plain": [
       "[0, 2, 4, 6, 8]"
      ]
     },
     "execution_count": 14,
     "metadata": {},
     "output_type": "execute_result"
    }
   ],
   "source": [
    "a = [i for i in range(10) if i % 2 == 0]\n",
    "\n",
    "a"
   ]
  },
  {
   "cell_type": "code",
   "execution_count": 15,
   "id": "9c10eb35",
   "metadata": {},
   "outputs": [
    {
     "data": {
      "text/plain": [
       "[0, 88, 176, 264, 352]"
      ]
     },
     "execution_count": 15,
     "metadata": {},
     "output_type": "execute_result"
    }
   ],
   "source": [
    "a = [i*44 for i in range(10) if i % 2 == 0]\n",
    "\n",
    "a"
   ]
  },
  {
   "cell_type": "code",
   "execution_count": 19,
   "id": "903b0611",
   "metadata": {},
   "outputs": [
    {
     "data": {
      "text/plain": [
       "[2,\n",
       " 3,\n",
       " 4,\n",
       " 5,\n",
       " 6,\n",
       " 7,\n",
       " 8,\n",
       " 9,\n",
       " 4,\n",
       " 6,\n",
       " 8,\n",
       " 10,\n",
       " 12,\n",
       " 14,\n",
       " 16,\n",
       " 18,\n",
       " 6,\n",
       " 9,\n",
       " 12,\n",
       " 15,\n",
       " 18,\n",
       " 21,\n",
       " 24,\n",
       " 27,\n",
       " 8,\n",
       " 12,\n",
       " 16,\n",
       " 20,\n",
       " 24,\n",
       " 28,\n",
       " 32,\n",
       " 36,\n",
       " 10,\n",
       " 15,\n",
       " 20,\n",
       " 25,\n",
       " 30,\n",
       " 35,\n",
       " 40,\n",
       " 45,\n",
       " 12,\n",
       " 18,\n",
       " 24,\n",
       " 30,\n",
       " 36,\n",
       " 42,\n",
       " 48,\n",
       " 54,\n",
       " 14,\n",
       " 21,\n",
       " 28,\n",
       " 35,\n",
       " 42,\n",
       " 49,\n",
       " 56,\n",
       " 63,\n",
       " 16,\n",
       " 24,\n",
       " 32,\n",
       " 40,\n",
       " 48,\n",
       " 56,\n",
       " 64,\n",
       " 72,\n",
       " 18,\n",
       " 27,\n",
       " 36,\n",
       " 45,\n",
       " 54,\n",
       " 63,\n",
       " 72,\n",
       " 81]"
      ]
     },
     "execution_count": 19,
     "metadata": {},
     "output_type": "execute_result"
    }
   ],
   "source": [
    "a = [i*j for i in range(1, 10) for j in range(2, 10) ]\n",
    "\n",
    "a"
   ]
  },
  {
   "cell_type": "code",
   "execution_count": 23,
   "id": "a203e93d",
   "metadata": {},
   "outputs": [
    {
     "data": {
      "text/plain": [
       "[1, 2, 5, 7, 8]"
      ]
     },
     "execution_count": 23,
     "metadata": {},
     "output_type": "execute_result"
    }
   ],
   "source": [
    "a = [1.2, 2.5, 5.4, 7.6, 8.9]\n",
    "\n",
    "a = list(map(int, a))\n",
    "\n",
    "a"
   ]
  },
  {
   "cell_type": "code",
   "execution_count": 28,
   "id": "24b13c3c",
   "metadata": {},
   "outputs": [
    {
     "name": "stdout",
     "output_type": "stream",
     "text": [
      "10 20\n",
      "<class 'list'>\n"
     ]
    }
   ],
   "source": [
    "# split의 결과는 리스트이다.\n",
    "\n",
    "a = input().split()\n",
    "\n",
    "\n",
    "print(type(a))"
   ]
  },
  {
   "cell_type": "code",
   "execution_count": 29,
   "id": "3561ac86",
   "metadata": {},
   "outputs": [
    {
     "data": {
      "text/plain": [
       "[1, 2, 3, 4, 5, 6, 7, 8, 40]"
      ]
     },
     "execution_count": 29,
     "metadata": {},
     "output_type": "execute_result"
    }
   ],
   "source": [
    "a = [1, 2, 3, 4, 5, 6, 7, 8]\n",
    "\n",
    "a.insert(len(a), 40)\n",
    "\n",
    "a"
   ]
  },
  {
   "cell_type": "code",
   "execution_count": 30,
   "id": "4d2e1929",
   "metadata": {},
   "outputs": [
    {
     "data": {
      "text/plain": [
       "8"
      ]
     },
     "execution_count": 30,
     "metadata": {},
     "output_type": "execute_result"
    }
   ],
   "source": [
    "a = [1, 2, 3, 4, 5, 6, 7, 8]\n",
    "\n",
    "len(a)"
   ]
  },
  {
   "cell_type": "code",
   "execution_count": 32,
   "id": "ea8f0f15",
   "metadata": {},
   "outputs": [
    {
     "data": {
      "text/plain": [
       "[1, 2, 3, 4, 5, 6, 7, 8]"
      ]
     },
     "execution_count": 32,
     "metadata": {},
     "output_type": "execute_result"
    }
   ],
   "source": [
    "a = [1, 2, 3, 4, 5, 6, 7, 8]\n",
    "\n",
    "a[0:] "
   ]
  },
  {
   "cell_type": "code",
   "execution_count": 34,
   "id": "dedaaa3d",
   "metadata": {},
   "outputs": [
    {
     "data": {
      "text/plain": [
       "[]"
      ]
     },
     "execution_count": 34,
     "metadata": {},
     "output_type": "execute_result"
    }
   ],
   "source": [
    "a = [1, 2, 3, 4, 5, 6, 7, 8]\n",
    "\n",
    "a[len(a):]"
   ]
  },
  {
   "cell_type": "code",
   "execution_count": 37,
   "id": "4d1ecd13",
   "metadata": {},
   "outputs": [
    {
     "data": {
      "text/plain": [
       "[1, 2, 3, 4, 5, 6, 7, 8, 40]"
      ]
     },
     "execution_count": 37,
     "metadata": {},
     "output_type": "execute_result"
    }
   ],
   "source": [
    "a = [1, 2, 3, 4, 5, 6, 7, 8]\n",
    "\n",
    "a[len(a):] = [40]\n",
    "\n",
    "a\n"
   ]
  },
  {
   "cell_type": "code",
   "execution_count": 40,
   "id": "b9126984",
   "metadata": {},
   "outputs": [
    {
     "data": {
      "text/plain": [
       "[1, 2, 3, 4, 5, 6, 7, 40]"
      ]
     },
     "execution_count": 40,
     "metadata": {},
     "output_type": "execute_result"
    }
   ],
   "source": [
    "a = [1, 2, 3, 4, 5, 6, 7, 8]\n",
    "\n",
    "a[-1:] = [40]\n",
    "\n",
    "a"
   ]
  },
  {
   "cell_type": "code",
   "execution_count": 41,
   "id": "ea3e95b2",
   "metadata": {},
   "outputs": [
    {
     "data": {
      "text/plain": [
       "1"
      ]
     },
     "execution_count": 41,
     "metadata": {},
     "output_type": "execute_result"
    }
   ],
   "source": [
    "a = [1, 2, 3, 4, 5, 6, 7, 8]\n",
    "\n",
    "a[0]"
   ]
  },
  {
   "cell_type": "code",
   "execution_count": 44,
   "id": "7b3b46a2",
   "metadata": {},
   "outputs": [
    {
     "name": "stdout",
     "output_type": "stream",
     "text": [
      "1\n",
      "2\n",
      "3\n",
      "4\n",
      "5\n",
      "6\n",
      "7\n",
      "8\n"
     ]
    }
   ],
   "source": [
    "a = [1, 2, 3, 4, 5, 6, 7, 8]\n",
    "\n",
    "for i in a:\n",
    "    print(a[i-1])"
   ]
  },
  {
   "cell_type": "code",
   "execution_count": 46,
   "id": "f0174717",
   "metadata": {},
   "outputs": [
    {
     "data": {
      "text/plain": [
       "[0, 1, 2, 3, 17, 18, 19]"
      ]
     },
     "execution_count": 46,
     "metadata": {},
     "output_type": "execute_result"
    }
   ],
   "source": [
    "a = [i for i in range(20) if i <=3 or i>=17 ]\n",
    "\n",
    "a"
   ]
  },
  {
   "cell_type": "code",
   "execution_count": 54,
   "id": "0aab9825",
   "metadata": {},
   "outputs": [
    {
     "data": {
      "text/plain": [
       "['alpha', 'bravo', 'delta', 'hotel', 'india']"
      ]
     },
     "execution_count": 54,
     "metadata": {},
     "output_type": "execute_result"
    }
   ],
   "source": [
    "a = ['alpha', 'bravo', 'charlie', 'delta', 'echo', 'foxtrot', 'golf', 'hotel', 'india']\n",
    "\n",
    "b = [i for i in a if len(i) == 5]\n",
    "\n",
    "b"
   ]
  },
  {
   "cell_type": "code",
   "execution_count": 2,
   "id": "6816a1a2",
   "metadata": {},
   "outputs": [
    {
     "name": "stdout",
     "output_type": "stream",
     "text": [
      "1 ~ 20 사이의 정수를 입력하시오. : 10\n",
      "10 ~ 30 사이의 정수를 입력하시오.(b는 a 보다 커야합니다.): 20\n",
      "[1024, 2048, 4096, 8192, 16384, 32768, 65536, 131072, 262144, 524288, 1048576]\n",
      "<class 'list'>\n"
     ]
    }
   ],
   "source": [
    "# 22.10 심사문제\n",
    "\n",
    "\n",
    "a = int(input('1 ~ 20 사이의 정수를 입력하시오. : '))\n",
    "b = int(input('10 ~ 30 사이의 정수를 입력하시오.(b는 a 보다 커야합니다.): '))\n",
    "\n",
    "c = [2 ** i for i in range(a, b+1)] \n",
    "\n",
    "print(c)\n",
    "print(type(c))"
   ]
  },
  {
   "cell_type": "code",
   "execution_count": null,
   "id": "52fbeea6",
   "metadata": {},
   "outputs": [],
   "source": []
  },
  {
   "cell_type": "code",
   "execution_count": null,
   "id": "9712d480",
   "metadata": {},
   "outputs": [],
   "source": []
  },
  {
   "cell_type": "code",
   "execution_count": null,
   "id": "9a8a619d",
   "metadata": {},
   "outputs": [],
   "source": []
  },
  {
   "cell_type": "code",
   "execution_count": null,
   "id": "9b86e50f",
   "metadata": {},
   "outputs": [],
   "source": []
  },
  {
   "cell_type": "code",
   "execution_count": null,
   "id": "6fa5dc00",
   "metadata": {},
   "outputs": [],
   "source": []
  },
  {
   "cell_type": "code",
   "execution_count": null,
   "id": "7c6c611b",
   "metadata": {},
   "outputs": [],
   "source": []
  },
  {
   "cell_type": "code",
   "execution_count": null,
   "id": "908b92d4",
   "metadata": {},
   "outputs": [],
   "source": []
  },
  {
   "cell_type": "code",
   "execution_count": null,
   "id": "009c3849",
   "metadata": {},
   "outputs": [],
   "source": []
  },
  {
   "cell_type": "code",
   "execution_count": null,
   "id": "80e3c3dd",
   "metadata": {},
   "outputs": [],
   "source": []
  },
  {
   "cell_type": "code",
   "execution_count": null,
   "id": "2b9997f0",
   "metadata": {},
   "outputs": [],
   "source": []
  },
  {
   "cell_type": "code",
   "execution_count": null,
   "id": "3350d367",
   "metadata": {},
   "outputs": [],
   "source": []
  }
 ],
 "metadata": {
  "kernelspec": {
   "display_name": "Python 3 (ipykernel)",
   "language": "python",
   "name": "python3"
  },
  "language_info": {
   "codemirror_mode": {
    "name": "ipython",
    "version": 3
   },
   "file_extension": ".py",
   "mimetype": "text/x-python",
   "name": "python",
   "nbconvert_exporter": "python",
   "pygments_lexer": "ipython3",
   "version": "3.10.6"
  }
 },
 "nbformat": 4,
 "nbformat_minor": 5
}
