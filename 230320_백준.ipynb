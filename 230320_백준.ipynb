{
 "cells": [
  {
   "attachments": {},
   "cell_type": "markdown",
   "metadata": {},
   "source": [
    "# 10950번 \n",
    "\n",
    "문제\n",
    "두 정수 A와 B를 입력받은 다음, A+B를 출력하는 프로그램을 작성하시오.\n",
    "\n",
    "입력\n",
    "첫째 줄에 테스트 케이스의 개수 T가 주어진다.\n",
    "\n",
    "각 테스트 케이스는 한 줄로 이루어져 있으며, 각 줄에 A와 B가 주어진다. (0 < A, B < 10)\n",
    "\n",
    "출력\n",
    "각 테스트 케이스마다 A+B를 출력한다.\n",
    "\n",
    "예제 입력 1 \n",
    "5\n",
    "1 1\n",
    "2 3\n",
    "3 4\n",
    "9 8\n",
    "5 2\n",
    "예제 출력 1 \n",
    "2\n",
    "5\n",
    "7\n",
    "17\n",
    "7\n"
   ]
  },
  {
   "cell_type": "code",
   "execution_count": 7,
   "metadata": {},
   "outputs": [
    {
     "name": "stdout",
     "output_type": "stream",
     "text": [
      "2\n",
      "5\n",
      "7\n",
      "17\n",
      "7\n"
     ]
    }
   ],
   "source": [
    "howmanytime = int(input('실행 횟수를 입력하세요. : '))\n",
    "\n",
    "for i in range(howmanytime):\n",
    "    A, B = map(int, input().split())\n",
    "    print(A + B)\n",
    "\n",
    "    \n",
    "    "
   ]
  },
  {
   "attachments": {},
   "cell_type": "markdown",
   "metadata": {},
   "source": [
    "# 8393번\n",
    "\n",
    "문제\n",
    "n이 주어졌을 때, 1부터 n까지 합을 구하는 프로그램을 작성하시오.\n",
    "\n",
    "입력\n",
    "첫째 줄에 n (1 ≤ n ≤ 10,000)이 주어진다.\n",
    "\n",
    "출력\n",
    "1부터 n까지 합을 출력한다.\n",
    "\n",
    "예제 입력 1 \n",
    "3\n",
    "예제 출력 1 \n",
    "6"
   ]
  },
  {
   "cell_type": "code",
   "execution_count": 21,
   "metadata": {},
   "outputs": [
    {
     "name": "stdout",
     "output_type": "stream",
     "text": [
      "55\n"
     ]
    }
   ],
   "source": [
    "num = int(input())\n",
    "a = []\n",
    "\n",
    "for i in range(1, num+1):\n",
    "    a.append(i)\n",
    "\n",
    "print(sum(a))\n"
   ]
  },
  {
   "attachments": {},
   "cell_type": "markdown",
   "metadata": {},
   "source": [
    "문제\n",
    "준원이는 저번 주에 살면서 처음으로 코스트코를 가 봤다. 정말 멋졌다. 그런데, 몇 개 담지도 않았는데 수상하게 높은 금액이 나오는 것이다! 준원이는 영수증을 보면서 정확하게 계산된 것이 맞는지 확인해보려 한다.\n",
    "\n",
    "영수증에 적힌,\n",
    "\n",
    "구매한 각 물건의 가격과 개수\n",
    "구매한 물건들의 총 금액\n",
    "을 보고, 구매한 물건의 가격과 개수로 계산한 총 금액이 영수증에 적힌 총 금액과 일치하는지 검사해보자.\n",
    "\n",
    "입력\n",
    "첫째 줄에는 영수증에 적힌 총 금액 \n",
    "$X$가 주어진다.\n",
    "\n",
    "둘째 줄에는 영수증에 적힌 구매한 물건의 종류의 수 \n",
    "$N$이 주어진다.\n",
    "\n",
    "이후 \n",
    "$N$개의 줄에는 각 물건의 가격 \n",
    "$a$와 개수 \n",
    "$b$가 공백을 사이에 두고 주어진다.\n",
    "\n",
    "출력\n",
    "구매한 물건의 가격과 개수로 계산한 총 금액이 영수증에 적힌 총 금액과 일치하면 Yes를 출력한다. 일치하지 않는다면 No를 출력한다.\n",
    "\n",
    "제한\n",
    " \n",
    "$1 ≤ X ≤ 1\\,000\\,000\\,000$ \n",
    " \n",
    "$1 ≤ N ≤ 100$ \n",
    " \n",
    "$1 ≤ a ≤ 1\\,000\\,000$ \n",
    " \n",
    "$1 ≤ b ≤ 10$ \n",
    "예제 입력 1 \n",
    "260000\n",
    "4\n",
    "20000 5\n",
    "30000 2\n",
    "10000 6\n",
    "5000 8\n",
    "예제 출력 1 \n",
    "Yes\n",
    "영수증에 적힌 구매할 물건들의 목록으로 계산한 총 금액은 20000 × 5 + 30000 × 2 + 10000 × 6 + 5000 × 8 = 260000원이다. 이는 영수증에 적힌 총 금액인 260000원과 일치한다. \n",
    "\n",
    "예제 입력 2 \n",
    "250000\n",
    "4\n",
    "20000 5\n",
    "30000 2\n",
    "10000 6\n",
    "5000 8\n",
    "예제 출력 2 \n",
    "No"
   ]
  },
  {
   "cell_type": "code",
   "execution_count": 24,
   "metadata": {},
   "outputs": [
    {
     "ename": "AttributeError",
     "evalue": "'float' object has no attribute 'append'",
     "output_type": "error",
     "traceback": [
      "\u001b[1;31m---------------------------------------------------------------------------\u001b[0m",
      "\u001b[1;31mAttributeError\u001b[0m                            Traceback (most recent call last)",
      "Cell \u001b[1;32mIn[24], line 6\u001b[0m\n\u001b[0;32m      4\u001b[0m \u001b[39mfor\u001b[39;00m i \u001b[39min\u001b[39;00m \u001b[39mrange\u001b[39m(N):\n\u001b[0;32m      5\u001b[0m     a, b \u001b[39m=\u001b[39m \u001b[39mmap\u001b[39m(\u001b[39mfloat\u001b[39m, \u001b[39minput\u001b[39m()\u001b[39m.\u001b[39msplit())     \u001b[39m# 물건의 가격 a, 개수 b\u001b[39;00m\n\u001b[1;32m----> 6\u001b[0m     total \u001b[39m=\u001b[39m a\u001b[39m.\u001b[39;49mappend(a \u001b[39m*\u001b[39m b)\n\u001b[0;32m      7\u001b[0m     \u001b[39mif\u001b[39;00m X \u001b[39m==\u001b[39m total:\n\u001b[0;32m      8\u001b[0m         \u001b[39mprint\u001b[39m(\u001b[39m'\u001b[39m\u001b[39mYes\u001b[39m\u001b[39m'\u001b[39m) \n",
      "\u001b[1;31mAttributeError\u001b[0m: 'float' object has no attribute 'append'"
     ]
    }
   ],
   "source": [
    "X = int(input()) # 영수증에 적힌 금액\n",
    "N = int(input()) # 구매한 물건 종류의 수\n",
    "\n",
    "for i in range(N):\n",
    "    a, b = map(float, input().split())     # 물건의 가격 a, 개수 b\n",
    "    total = a.append(a * b)\n",
    "    if X == total:\n",
    "        print('Yes') \n",
    "    else:\n",
    "        print('NO')\n"
   ]
  }
 ],
 "metadata": {
  "kernelspec": {
   "display_name": "Python 3",
   "language": "python",
   "name": "python3"
  },
  "language_info": {
   "codemirror_mode": {
    "name": "ipython",
    "version": 3
   },
   "file_extension": ".py",
   "mimetype": "text/x-python",
   "name": "python",
   "nbconvert_exporter": "python",
   "pygments_lexer": "ipython3",
   "version": "3.10.6"
  },
  "orig_nbformat": 4
 },
 "nbformat": 4,
 "nbformat_minor": 2
}
