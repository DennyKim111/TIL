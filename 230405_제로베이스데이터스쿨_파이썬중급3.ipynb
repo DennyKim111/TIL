{
 "cells": [
  {
   "cell_type": "code",
   "execution_count": 1,
   "metadata": {},
   "outputs": [
    {
     "name": "stdout",
     "output_type": "stream",
     "text": [
      "[Calculator] __init__() called!\n"
     ]
    }
   ],
   "source": [
    "# 05 023 생성자\n",
    "\n",
    "\n",
    "class Calculator:\n",
    "  \n",
    "  def __init__(self):\n",
    "    print('[Calculator] __init__() called!')\n",
    "    \n",
    "    \n",
    "cal = Calculator()"
   ]
  },
  {
   "cell_type": "code",
   "execution_count": 3,
   "metadata": {},
   "outputs": [
    {
     "name": "stdout",
     "output_type": "stream",
     "text": [
      "[Calculator] __init__() called!\n",
      "cal.num1 = 10\n",
      "cal.num2 = 20\n"
     ]
    }
   ],
   "source": [
    "class Calculator:\n",
    "  \n",
    "  def __init__(self, n1, n2):\n",
    "    print('[Calculator] __init__() called!')\n",
    "    self.num1 = n1\n",
    "    self.num2 = n2\n",
    "    \n",
    "cal = Calculator(10, 20)\n",
    "print(f'cal.num1 = {cal.num1}')\n",
    "print(f'cal.num2 = {cal.num2}')\n"
   ]
  },
  {
   "cell_type": "code",
   "execution_count": 6,
   "metadata": {},
   "outputs": [
    {
     "name": "stdout",
     "output_type": "stream",
     "text": [
      "[Calculator] __init__() called!\n",
      "cal.num1 = 10\n",
      "cal.num2 = 20\n"
     ]
    }
   ],
   "source": [
    "# 둘 다 고정\n",
    "\n",
    "class Calculator:\n",
    "  \n",
    "  def __init__(self):\n",
    "    print('[Calculator] __init__() called!')\n",
    "    self.num1 = 10\n",
    "    self.num2 = 20\n",
    "    \n",
    "cal = Calculator()\n",
    "print(f'cal.num1 = {cal.num1}')\n",
    "print(f'cal.num2 = {cal.num2}')\n"
   ]
  },
  {
   "cell_type": "code",
   "execution_count": 7,
   "metadata": {},
   "outputs": [
    {
     "name": "stdout",
     "output_type": "stream",
     "text": [
      "[Calculator] __init__() called!\n",
      "cal.num1 = 3.14\n",
      "cal.num2 = 203\n"
     ]
    }
   ],
   "source": [
    "# 하나는 고정 하나는 고정x\n",
    "\n",
    "class Calculator:\n",
    "  \n",
    "  def __init__(self, n):\n",
    "    print('[Calculator] __init__() called!')\n",
    "    self.num1 = n\n",
    "    self.num2 = 203\n",
    "    \n",
    "cal = Calculator(3.14)\n",
    "print(f'cal.num1 = {cal.num1}')\n",
    "print(f'cal.num2 = {cal.num2}')\n"
   ]
  },
  {
   "cell_type": "code",
   "execution_count": 10,
   "metadata": {},
   "outputs": [
    {
     "name": "stdout",
     "output_type": "stream",
     "text": [
      "[C_Class] __init__() called!!\n",
      "[P_Class] __init__() called!!\n"
     ]
    }
   ],
   "source": [
    "class P_Class:\n",
    "  \n",
    "  def __init__(self, pNum1, pNum2):\n",
    "    print('[P_Class] __init__() called!!')\n",
    "    self.pNum1 = pNum1\n",
    "    self.pNum2 = pNum2\n",
    "    \n",
    "\n",
    "class C_class(P_Class):\n",
    "  def __init__(self, cNum1, cNum2):\n",
    "    print('[C_Class] __init__() called!!')\n",
    "    \n",
    "    # P_Class.__init__(self, cNum1, cNum2)\n",
    "    super().__init__(cNum1, cNum2)    \n",
    "    self.cNum1 = cNum1\n",
    "    self.cNum2 = cNum2\n",
    "    \n",
    "    \n",
    "cls = C_class(10, 20)\n"
   ]
  },
  {
   "cell_type": "code",
   "execution_count": 12,
   "metadata": {},
   "outputs": [
    {
     "name": "stdout",
     "output_type": "stream",
     "text": [
      "[EndExam] __init__()\n",
      "[MidExam] __init__()\n",
      "mid_kor_score: 65\n",
      "mid_eng_score: 74\n",
      "mid_mat_score: 57\n",
      "end_kor_score: 65\n",
      "end_eng_score: 74\n",
      "end_mat_score: 57\n",
      "None\n",
      "427\n",
      "71.16666666666667\n"
     ]
    }
   ],
   "source": [
    "# 05 024 생성자 2 / __init__() 와 객체 속성 super()\n",
    "\n",
    "\n",
    "# 중간고사 클래스와 기말고사 클래스를 상속 관계로 만들고 각각의 점수를 초기화 하자 /  또한 총점 및 평균을 반환하는 기능도 만들자\n",
    "\n",
    "class MidExam:\n",
    "  def __init__(self, s1, s2, s3):\n",
    "    print('[MidExam] __init__()')\n",
    "    \n",
    "    \n",
    "    self.mid_kor_score = s1\n",
    "    self.mid_eng_score = s2\n",
    "    self.mid_mat_score = s3\n",
    "    \n",
    "    \n",
    "  def printScores(self):\n",
    "    print(f'mid_kor_score: {self.mid_kor_score}')\n",
    "    print(f'mid_eng_score: {self.mid_eng_score}')\n",
    "    print(f'mid_mat_score: {self.mid_mat_score}')\n",
    "    \n",
    "    \n",
    "class EndExam(MidExam):\n",
    "  \n",
    "  def __init__(self, s1, s2, s3, s4, s5, s6):\n",
    "    print('[EndExam] __init__()')\n",
    "    \n",
    "    super().__init__(s1, s2, s3)\n",
    "    \n",
    "    self.end_kor_score = s4\n",
    "    self.end_eng_score = s5\n",
    "    self.end_mat_score = s6\n",
    "    \n",
    "    \n",
    "  def printScores(self):\n",
    "    super().printScores()\n",
    "    print(f'end_kor_score: {self.mid_kor_score}')\n",
    "    print(f'end_eng_score: {self.mid_eng_score}')\n",
    "    print(f'end_mat_score: {self.mid_mat_score}')\n",
    "    \n",
    "  def getTotalScore(self):\n",
    "    total = self.mid_kor_score + self.mid_eng_score + self.mid_mat_score\n",
    "    total += self.end_kor_score + self.end_eng_score + self.end_mat_score\n",
    "    \n",
    "    return total\n",
    "  \n",
    "  def getAverageScore(self):\n",
    "    return self.getTotalScore() / 6\n",
    "  \n",
    "  \n",
    "exam = EndExam(65, 74, 57, 66, 77, 88)\n",
    "print(exam.printScores())\n",
    "print(exam.getTotalScore())\n",
    "print(exam.getAverageScore())    "
   ]
  },
  {
   "cell_type": "code",
   "execution_count": 14,
   "metadata": {},
   "outputs": [
    {
     "name": "stdout",
     "output_type": "stream",
     "text": [
      "drive() method called!\n",
      "turbo() method called!!\n",
      "fly() method called\n"
     ]
    }
   ],
   "source": [
    "# 05 025 다중 상속 / 2개 이상의 클래스 상속하기\n",
    "\n",
    "class Car01:\n",
    "  \n",
    "  def drive(self):\n",
    "    print('drive() method called!')\n",
    "    \n",
    "    \n",
    "class Car02:\n",
    "  def turbo(self):\n",
    "    print('turbo() method called!!')\n",
    "    \n",
    "class Car03:\n",
    "  def fly(self):\n",
    "    print('fly() method called')\n",
    "    \n",
    "    \n",
    "class Car(Car01, Car02, Car03):\n",
    "  def __init__(self):\n",
    "    pass\n",
    "\n",
    "myCar = Car()\n",
    "myCar.drive()\n",
    "myCar.turbo()\n",
    "myCar.fly()"
   ]
  },
  {
   "cell_type": "code",
   "execution_count": 1,
   "metadata": {},
   "outputs": [
    {
     "name": "stdout",
     "output_type": "stream",
     "text": [
      "65\n",
      "-45\n",
      "550\n",
      "0.18181818181818182\n",
      "10\n",
      "0\n",
      "10000000000000000000000000000000000000000000000000000000\n"
     ]
    }
   ],
   "source": [
    "# BasicCalculator와 DeveloperCalculator 클래스를 다음과 같이 만들고 이들 클래스를 상속해서 Calculator 클래스를 만들고 사용하기\n",
    "\n",
    "class BasicCalculator:\n",
    "  \n",
    "  def add(self, n1, n2):\n",
    "    return n1 + n2\n",
    "  \n",
    "  def sub(self, n1, n2):\n",
    "    return n1 - n2\n",
    "  \n",
    "  def mul(self, n1, n2):\n",
    "    return n1 * n2\n",
    "  \n",
    "  def div(self, n1, n2):\n",
    "    return n1 / n2\n",
    "  \n",
    "class DeveloperCalculator:\n",
    "  def mod(self, n1, n2):\n",
    "    return n1 % n2\n",
    "  \n",
    "  def flo(self, n1, n2):\n",
    "    return n1 // n2\n",
    "  \n",
    "  def exp(self, n1, n2):\n",
    "    return n1 ** n2\n",
    "  \n",
    "\n",
    "class NewCalculator(BasicCalculator, DeveloperCalculator):\n",
    "  def __init__(self):\n",
    "    pass\n",
    "  \n",
    "cal = NewCalculator()\n",
    "\n",
    "print(cal.add(10, 55))\n",
    "print(cal.sub(10, 55))\n",
    "print(cal.mul(10, 55))\n",
    "print(cal.div(10, 55))\n",
    "\n",
    "print(cal.mod(10, 55))\n",
    "print(cal.flo(10, 55))\n",
    "print(cal.exp(10, 55))\n",
    "\n",
    "\n"
   ]
  },
  {
   "cell_type": "code",
   "execution_count": null,
   "metadata": {},
   "outputs": [],
   "source": []
  },
  {
   "cell_type": "code",
   "execution_count": 7,
   "metadata": {},
   "outputs": [
    {
     "name": "stdout",
     "output_type": "stream",
     "text": [
      "self.width : 7\n",
      "self.height : 8\n",
      "self.width : 7\n",
      "self.height : 8\n",
      "28.0\n",
      "28.0cm^2\n",
      "28.0\n",
      "28.0cm^2\n"
     ]
    }
   ],
   "source": [
    "class TriangleArea:\n",
    "  def __init__(self, w, h):\n",
    "    self.width = w\n",
    "    self.height = h\n",
    "    \n",
    "  def printTriangleInfo(self):\n",
    "    print(f'self.width : {self.width}')\n",
    "    print(f'self.height : {self.height}')\n",
    "    \n",
    "  def getArea(self):\n",
    "    return self.width * self.height / 2\n",
    "\n",
    "\n",
    "class NewTriangleArea(TriangleArea):\n",
    "  def __init__(self, w, h):\n",
    "    super().__init__(w, h)\n",
    "    \n",
    "  def getArea(self):\n",
    "    return str(super().getArea())+'cm^2'\n",
    "  \n",
    "  \n",
    "ta = TriangleArea(7, 8)\n",
    "ta2 = NewTriangleArea(7, 8)\n",
    "\n",
    "ta.printTriangleInfo()\n",
    "ta2.printTriangleInfo()\n",
    "\n",
    "t1 = ta.getArea()\n",
    "t2 = ta2.getArea()\n",
    "\n",
    "print(ta.getArea())\n",
    "print(ta2.getArea())\n",
    "\n",
    "print(t1)\n",
    "print(t2)\n",
    "\n",
    "\n",
    "\n",
    "\n",
    "\n"
   ]
  },
  {
   "cell_type": "code",
   "execution_count": 11,
   "metadata": {},
   "outputs": [
    {
     "name": "stdout",
     "output_type": "stream",
     "text": [
      "FLY!!! 시속 400 km/h 비행 \n",
      "후진!!\n",
      "전진!!\n",
      "후진!!\n",
      "전진!!\n",
      "FLY!!! 시속 700 km/h 비행 \n"
     ]
    }
   ],
   "source": [
    "# 05 027 추상 클래스 / 메서드 구현을 강요한다 / 상위 클래스가 하위 클래스에게 특정 메서드를 꼭 구현하라고 하는 경우(강제)\n",
    "\n",
    "from abc import ABCMeta\n",
    "from abc import abstractmethod\n",
    "\n",
    "class Airplane(metaclass = ABCMeta):\n",
    "  \n",
    "  @abstractmethod\n",
    "  def flight(self):\n",
    "    pass\n",
    "  def forward(self):\n",
    "    print('전진!!')\n",
    "  def backward(self):\n",
    "    print('후진!!')\n",
    "    \n",
    "    \n",
    "class Airliner(Airplane):\n",
    "  def __init__(self, c):\n",
    "    self.color = c\n",
    "    \n",
    "  def flight(self):\n",
    "    print('FLY!!! 시속 400 km/h 비행 ')\n",
    "    \n",
    "    \n",
    "    \n",
    "    \n",
    "class Jetplane(Airplane):\n",
    "  \n",
    "  def __init__(self, c):\n",
    "    self.color = c\n",
    "  \n",
    "  def flight(self):\n",
    "    print('FLY!!! 시속 700 km/h 비행 ') \n",
    "    \n",
    "al = Airliner('red')\n",
    "al.flight()\n",
    "al.backward()\n",
    "al.forward()\n",
    "\n",
    "fl = Jetplane('grey')\n",
    "fl.backward()\n",
    "fl.forward()\n",
    "fl.flight()"
   ]
  },
  {
   "cell_type": "code",
   "execution_count": 20,
   "metadata": {},
   "outputs": [
    {
     "name": "stdout",
     "output_type": "stream",
     "text": [
      "43\n",
      "None\n"
     ]
    }
   ],
   "source": [
    "# 실습 - 계산기 추상 클래스를 만들고 이를 이용해서 새로운 계산기 클래스를 만든다. 추상 클래스에는 덧셈, 뺄셈, 곱셈, 나눗셈 기능이 선언되어야 함.\n",
    "\n",
    "from abc import ABCMeta\n",
    "from abc import abstractmethod\n",
    "\n",
    "class Calculator(metaclass = ABCMeta):\n",
    "  \n",
    "  @abstractmethod\n",
    "  def add(self, n1, n2):\n",
    "    pass\n",
    "  \n",
    "  @abstractmethod\n",
    "  def sub(self, n1, n2):\n",
    "    pass\n",
    "  \n",
    "  @abstractmethod\n",
    "  def mul(self, n1, n2):\n",
    "    pass\n",
    "  \n",
    "  @abstractmethod\n",
    "  def div(self, n1, n2):\n",
    "    pass\n",
    "  \n",
    "  \n",
    "class DeveloperCalculator(Calculator):\n",
    "  def add(self, n1, n2):\n",
    "    print(n1 + n2)\n",
    "    \n",
    "  def sub(self, n1, n2):\n",
    "    print(n1 - n2)\n",
    "    \n",
    "  def mul(self, n1, n2):\n",
    "    print(n1 * n2)\n",
    "    \n",
    "  def div(self, n1, n2):\n",
    "    print(n1 / n2)\n",
    "    \n",
    "  def mod(self, n1, n2):\n",
    "    print(n1%n2)\n",
    "    \n",
    "  def flo(self, n1, n2):\n",
    "    print(n1 // n2)\n",
    "\n",
    "\n",
    "dc = DeveloperCalculator().add(3, 40)\n",
    "\n",
    "print(dc) # -> 리턴 값이 없어서 none이 나옴\n",
    "\n",
    "\n"
   ]
  },
  {
   "cell_type": "code",
   "execution_count": null,
   "metadata": {},
   "outputs": [],
   "source": [
    "# 05 028 예외 / 예상치 못한 문제로 프로그램 실행이 어려운 상태\n",
    "\n"
   ]
  },
  {
   "cell_type": "code",
   "execution_count": 22,
   "metadata": {},
   "outputs": [
    {
     "name": "stdout",
     "output_type": "stream",
     "text": [
      "예상치 못하 문제 발생!\n",
      "다음 프로그램이 정상  방영됩니다.\n"
     ]
    }
   ],
   "source": [
    "# 05 029 예외처리 / 발생된 예외를  별도 처리함으로싸 프로그램 전체 실행에 영향 없도록\n",
    "\n",
    "n1 = 10\n",
    "\n",
    "n2 = 0\n",
    "\n",
    "\n",
    "try:\n",
    "  \n",
    "  print(n1 / n2)\n",
    "  print(n1 - n2)\n",
    "  print(n1 + n2)\n",
    "  print(n1 * n2)\n",
    "  \n",
    "except:\n",
    "  print('예상치 못하 문제 발생!')\n",
    "  print('다음 프로그램이 정상  방영됩니다.')\n",
    "  \n",
    "  "
   ]
  },
  {
   "cell_type": "code",
   "execution_count": 25,
   "metadata": {},
   "outputs": [
    {
     "name": "stdout",
     "output_type": "stream",
     "text": [
      "예외발생!\n",
      "예외발생!\n",
      "nums = [4, 5, 84, 54, 666]\n"
     ]
    }
   ],
   "source": [
    "nums = []\n",
    "\n",
    "n = 1\n",
    "\n",
    "while n < 6:\n",
    "  \n",
    "  try:\n",
    "    num = int(input('input Number: '))\n",
    "  except: \n",
    "    print('예외발생!')\n",
    "    continue\n",
    "  nums.append(num)\n",
    "  n += 1\n",
    "  \n",
    "print(f'nums = {nums}')\n",
    "\n"
   ]
  },
  {
   "cell_type": "code",
   "execution_count": 26,
   "metadata": {},
   "outputs": [
    {
     "name": "stdout",
     "output_type": "stream",
     "text": [
      "예외 발생\n",
      "예외 발생\n",
      "입력한 숫자는 홀수 입니다.다시 입력 하세요.\n",
      "숫자들 = [84, 54, 54, 66, 98]\n"
     ]
    }
   ],
   "source": [
    "# 05 030 예외가 발생하지 않은 경우에 실행하는 구문! / try ~ except ~ else\n",
    "\n",
    "nums = []\n",
    "n = 1\n",
    "while n < 6:\n",
    "  \n",
    "  try:\n",
    "    num = int(input('input number: '))\n",
    "  \n",
    "  except:\n",
    "    print('예외 발생')\n",
    "    continue # 카운트 되면 안되니까 while 문을 다음 실행으로 넘겨버린다.\n",
    "  \n",
    "  else: # 예외가 발생하지 않으면 실행한다.\n",
    "    if num % 2 == 0:\n",
    "      nums.append(num)\n",
    "      n += 1\n",
    "      \n",
    "    else:\n",
    "      print('입력한 숫자는 홀수 입니다.', end = '')\n",
    "      print('다시 입력 하세요.')\n",
    "      continue\n",
    "    \n",
    "print(f'숫자들 = {nums}')"
   ]
  },
  {
   "cell_type": "code",
   "execution_count": 32,
   "metadata": {},
   "outputs": [
    {
     "name": "stdout",
     "output_type": "stream",
     "text": [
      "even number\n",
      "odd number\n",
      "even number\n",
      "even number\n",
      "odd number\n",
      "짝수들 = [84, 6516598, 651351684]\n",
      "홀수들 = [65151, 5213516135]\n",
      "실수들 = []\n"
     ]
    }
   ],
   "source": [
    "# 실습 - 숫자 5개 입력 받아 짝수 홀수 실수로 구분해서 각각을 리스트에 저장하는 프로그램 만들기\n",
    "\n",
    "eveList = []; oddList = []; floatList = []\n",
    "\n",
    "n = 1\n",
    "while n < 6:\n",
    "  \n",
    "  try:\n",
    "    num = float(input('input number: '))\n",
    "    \n",
    "  except:\n",
    "    print('exception raise!')\n",
    "    print('input number again')\n",
    "    continue # 카운트가 되면 안된다.\n",
    "  \n",
    "  else:\n",
    "    if num - int(num) != 0:\n",
    "      print('float number!')\n",
    "      floatList.append(num)\n",
    "      \n",
    "    else:\n",
    "      if num % 2 == 0:\n",
    "        print('even number')\n",
    "        eveList.append(int(num))\n",
    "        \n",
    "      else:\n",
    "        print('odd number')\n",
    "        oddList.append(int(num))\n",
    "        \n",
    "    n += 1\n",
    "    \n",
    "print(f'짝수들 = {eveList}')\n",
    "print(f'홀수들 = {oddList}')\n",
    "print(f'실수들 = {floatList}')\n"
   ]
  },
  {
   "cell_type": "code",
   "execution_count": 34,
   "metadata": {},
   "outputs": [
    {
     "name": "stdout",
     "output_type": "stream",
     "text": [
      "odd number!!!\n",
      "Input Data: 33\n"
     ]
    }
   ],
   "source": [
    "# 05 031 finally / 예외 발생과 상관없이 항상 실행한다. \n",
    "\n",
    "try :\n",
    "  inputData = input('input number: ')\n",
    "  numInt = int(inputData)\n",
    "except:\n",
    "  print('Exception rise!!!')\n",
    "  print('Not Number!!!')\n",
    "  \n",
    "else:\n",
    "  if numInt % 2 == 0:\n",
    "    print('even number!!!')\n",
    "  else: print('odd number!!!')\n",
    "  \n",
    "finally:\n",
    "  print(f'Input Data: {inputData}')\n",
    "  \n",
    "  "
   ]
  },
  {
   "cell_type": "code",
   "execution_count": 36,
   "metadata": {},
   "outputs": [
    {
     "name": "stdout",
     "output_type": "stream",
     "text": [
      "Exception rise!!\n",
      "Not Number!!\n",
      "even number!!\n",
      "even number!!\n",
      "odd number!!\n",
      "float number!!\n",
      "float number!!\n",
      "짝수 = [88.0, 554.0]\n",
      "홀수 = [67.0]\n",
      "실수 = [5.11, 5.32138]\n",
      "짝수 = ['qd', '88', '554', '67', '5.11', '5.32138']\n"
     ]
    }
   ],
   "source": [
    "eveList = []; oddList = []; floatList = []; dataList = []\n",
    "\n",
    "n = 1\n",
    "while n < 6:\n",
    "  \n",
    "  try:\n",
    "    data = input('input number: ')\n",
    "    floatNum = float(data)\n",
    "    \n",
    "  except:\n",
    "    print('Exception rise!!')\n",
    "    print('Not Number!!')\n",
    "    continue\n",
    "  \n",
    "  else:\n",
    "    if floatNum - int(floatNum) != 0:\n",
    "      print('float number!!')\n",
    "      floatList.append(floatNum)\n",
    "      \n",
    "    else: \n",
    "      if floatNum % 2 == 0:\n",
    "        print('even number!!')\n",
    "        eveList.append(int(floatNum))\n",
    "        \n",
    "      else: \n",
    "        print('odd number!!')\n",
    "        oddList.append(int(floatNum))\n",
    "        \n",
    "    n += 1\n",
    "    \n",
    "  finally:\n",
    "    dataList.append(data)\n",
    "    \n",
    "    \n",
    "print(f'짝수 = {eveList}')\n",
    "print(f'홀수 = {oddList}')\n",
    "print(f'실수 = {floatList}')\n",
    "print(f'모든 데이터 = {dataList}')\n",
    "      "
   ]
  },
  {
   "cell_type": "code",
   "execution_count": 39,
   "metadata": {},
   "outputs": [
    {
     "name": "stdout",
     "output_type": "stream",
     "text": [
      "num1 / num2 = 10.277777777777779\n",
      "모든 데이타: (555, 54)\n",
      "num1 * num2 = 29970\n",
      "num1 - num2 = 501\n",
      "num1 + num2 = 609\n"
     ]
    }
   ],
   "source": [
    "# 05 032 exception 클래스 / exception은 예외를 담당하는 클래스이다\n",
    "\n",
    "num1 = int(input('input number: '))\n",
    "num2 = int(input('input number: '))\n",
    "\n",
    "try:\n",
    "  print(f'num1 / num2 = {num1 / num2}')\n",
    "  \n",
    "except Exception as e:\n",
    "  print('0으로 나눌 수 없음.')\n",
    "  print(f'exception : {e}')\n",
    "  \n",
    "finally:\n",
    "  print(f'모든 데이타: {num1, num2}')\n",
    "  \n",
    "print(f'num1 * num2 = {num1 * num2}')\n",
    "print(f'num1 - num2 = {num1 - num2}')\n",
    "print(f'num1 + num2 = {num1 + num2}')\n",
    "\n"
   ]
  },
  {
   "cell_type": "code",
   "execution_count": 42,
   "metadata": {},
   "outputs": [
    {
     "name": "stdout",
     "output_type": "stream",
     "text": [
      "Exception: 0으로 나눌 수 없습니다.\n"
     ]
    }
   ],
   "source": [
    "# raise / exception 객체 생성을 한 후 예외 발생시키기 -> 이해 안됨\n",
    "\n",
    "\n",
    "def divCalculator(n1, n2): \n",
    "  \n",
    "  if n2 != 0:\n",
    "    print(f'{n1} / {n2} = {n1 / n2}')\n",
    "  else:\n",
    "    raise Exception('0으로 나눌 수 없습니다.')\n",
    "  \n",
    "num1 = int(input('input number1: '))\n",
    "num2 = int(input('input number2: '))\n",
    "\n",
    "try:\n",
    "  divCalculator(num1, num2)\n",
    "except Exception as e:\n",
    "  print(f'Exception: {e}')"
   ]
  },
  {
   "cell_type": "code",
   "execution_count": 46,
   "metadata": {},
   "outputs": [
    {
     "name": "stdout",
     "output_type": "stream",
     "text": [
      "e: 길이 초과!! MMS 전환 후 발송!!\n",
      "e: 1\n",
      "MMS 발송!!\n"
     ]
    }
   ],
   "source": [
    "def sendSMS(msg):\n",
    "  \n",
    "  if len(msg) > 10:\n",
    "    raise Exception('길이 초과!! MMS 전환 후 발송!!', 1)\n",
    "  \n",
    "  else:\n",
    "    print('SMS 발송')\n",
    "    \n",
    "def sendMMS(msg):\n",
    "  if len(msg) <= 10:\n",
    "    raise Exception('길이 미달!! SMS 전환 후 발송!!', 2)\n",
    "  else:\n",
    "    print('MMS 발송!!')\n",
    "    \n",
    "msg = input('input message: ')\n",
    "\n",
    "try:\n",
    "  sendSMS(msg)\n",
    "  \n",
    "except Exception as e:\n",
    "  print(f'e: {e.args[0]}')\n",
    "  print(f'e: {e.args[1]}')\n",
    "  \n",
    "  if e.args[1] == 1:\n",
    "    sendMMS(msg)\n",
    "  elif e.args[1] == 2:\n",
    "    sendMMS(msg)"
   ]
  }
 ],
 "metadata": {
  "kernelspec": {
   "display_name": "Python 3",
   "language": "python",
   "name": "python3"
  },
  "language_info": {
   "codemirror_mode": {
    "name": "ipython",
    "version": 3
   },
   "file_extension": ".py",
   "mimetype": "text/x-python",
   "name": "python",
   "nbconvert_exporter": "python",
   "pygments_lexer": "ipython3",
   "version": "3.10.6"
  },
  "orig_nbformat": 4
 },
 "nbformat": 4,
 "nbformat_minor": 2
}
