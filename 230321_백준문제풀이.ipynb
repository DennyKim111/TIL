{
 "cells": [
  {
   "cell_type": "code",
   "execution_count": 1,
   "metadata": {},
   "outputs": [
    {
     "name": "stdout",
     "output_type": "stream",
     "text": [
      "5 * 1 = 5\n",
      "5 * 2 = 10\n",
      "5 * 3 = 15\n",
      "5 * 4 = 20\n",
      "5 * 5 = 25\n",
      "5 * 6 = 30\n",
      "5 * 7 = 35\n",
      "5 * 8 = 40\n",
      "5 * 9 = 45\n",
      "구구단이 끝났다.\n"
     ]
    }
   ],
   "source": [
    "#2739번 복습\n",
    "\n",
    "num = int(input())\n",
    "i = 1\n",
    "\n",
    "while i <= 9:\n",
    "    print('{} * {} = {}'.format(num, i, (num * i)))\n",
    "    i += 1\n",
    "print(\"구구단이 끝났다.\")"
   ]
  },
  {
   "cell_type": "code",
   "execution_count": 3,
   "metadata": {},
   "outputs": [
    {
     "name": "stdout",
     "output_type": "stream",
     "text": [
      "2\n",
      "5\n",
      "7\n",
      "17\n",
      "7\n"
     ]
    }
   ],
   "source": [
    "# 10950 복습\n",
    "\n",
    "howManyTimes = int(input())\n",
    "\n",
    "\n",
    "i = 1\n",
    "\n",
    "while i <= howManyTimes:\n",
    "    A, B = map(int, input().split())    # a, b 입력하는 것도 여러번 할거니까 while 문 안으로 포섭시켜야 한다. \n",
    "    print(A + B)\n",
    "    i += 1\n"
   ]
  },
  {
   "cell_type": "code",
   "execution_count": null,
   "metadata": {},
   "outputs": [],
   "source": [
    "howManyTimes = int(input())\n",
    "\n",
    "# while 문에서는 i의 시작 값을 while문 밖에서 따로 설정해야 하고 while 문 안에서 i 의 값을 하나 더 올려줘야하는데, for 문은 필요 없음.\n",
    "\n",
    "for i in range(howManyTimes):\n",
    "    A, B = map(int, input().split())\n",
    "    print(A + B)\n"
   ]
  },
  {
   "cell_type": "code",
   "execution_count": 4,
   "metadata": {},
   "outputs": [
    {
     "name": "stdout",
     "output_type": "stream",
     "text": [
      "55\n"
     ]
    }
   ],
   "source": [
    "# 8393 복습\n",
    "\n",
    "# while 문 써서\n",
    "\n",
    "n = int(input())\n",
    "sum = 0\n",
    "i = 1\n",
    "\n",
    "while i <= n :\n",
    "    sum += i\n",
    "    i += 1\n",
    "print(sum)"
   ]
  },
  {
   "cell_type": "code",
   "execution_count": 7,
   "metadata": {},
   "outputs": [
    {
     "name": "stdout",
     "output_type": "stream",
     "text": [
      "15\n"
     ]
    }
   ],
   "source": [
    "# 8393 for 문 써서\n",
    "n = int(input())\n",
    "sum = 0\n",
    "\n",
    "for i in range(n+1):\n",
    "    sum += i\n",
    "print(sum)\n"
   ]
  },
  {
   "cell_type": "code",
   "execution_count": 12,
   "metadata": {},
   "outputs": [
    {
     "name": "stdout",
     "output_type": "stream",
     "text": [
      "YES 영수증에 적힌 총 금액 : 260000, 구매한 물건 총 금액 : 260000\n"
     ]
    }
   ],
   "source": [
    "# 25304 번 도전 / 와일 문으로\n",
    "\n",
    "X = int(input()) # 총금액\n",
    "N = int(input()) # 물건 종류의 수\n",
    "i = 1\n",
    "total = 0\n",
    "\n",
    "while i <= N:\n",
    "    a, b = map(int, input().split())\n",
    "    result = (a * b)\n",
    "    total += result\n",
    "    i += 1\n",
    "if total == X :\n",
    "    print(\"YES\", \"영수증에 적힌 총 금액 : {}, 구매한 물건 총 금액 : {}\".format(X, total))\n",
    "else:\n",
    "    print(\"NO\")"
   ]
  },
  {
   "cell_type": "code",
   "execution_count": 15,
   "metadata": {},
   "outputs": [
    {
     "name": "stdout",
     "output_type": "stream",
     "text": [
      "Yes 영수증에 적힌 총 금액 : 260000, 구매한 물건 총 금액 : 260000\n"
     ]
    }
   ],
   "source": [
    "#25304 포 문으로 해보기\n",
    "\n",
    "\n",
    "X = int(input()) # 총금액\n",
    "N = int(input()) # 물건 종류의 수\n",
    "total = 0\n",
    "for i in range(1, N+1):\n",
    "    a, b = map(int, input().split())\n",
    "    result = (a * b)\n",
    "    total += result\n",
    "if total == X :\n",
    "    print(\"Yes\")\n",
    "else:\n",
    "    print(\"No\")"
   ]
  },
  {
   "cell_type": "code",
   "execution_count": 26,
   "metadata": {},
   "outputs": [
    {
     "name": "stdout",
     "output_type": "stream",
     "text": [
      "long long long long long int\n"
     ]
    }
   ],
   "source": [
    "# 25314번 도전 와일문으로\n",
    "\n",
    "N = int(input())\n",
    "howmany = N // 4\n",
    "i = 0\n",
    "while i <= howmany:\n",
    "    i += 1\n",
    "    \n",
    "print('long '* howmany, 'int', sep='')"
   ]
  },
  {
   "cell_type": "code",
   "execution_count": 29,
   "metadata": {},
   "outputs": [
    {
     "name": "stdout",
     "output_type": "stream",
     "text": [
      "long long long long long int\n"
     ]
    }
   ],
   "source": [
    "#25314 포문으로\n",
    "\n",
    "N = int(input())\n",
    "howmany = N // 4\n",
    "\n",
    "for i in range(1, howmany+1):\n",
    "    i +=1\n",
    "print('long '* howmany, 'int', sep='')"
   ]
  }
 ],
 "metadata": {
  "kernelspec": {
   "display_name": "Python 3",
   "language": "python",
   "name": "python3"
  },
  "language_info": {
   "codemirror_mode": {
    "name": "ipython",
    "version": 3
   },
   "file_extension": ".py",
   "mimetype": "text/x-python",
   "name": "python",
   "nbconvert_exporter": "python",
   "pygments_lexer": "ipython3",
   "version": "3.10.6"
  },
  "orig_nbformat": 4
 },
 "nbformat": 4,
 "nbformat_minor": 2
}
