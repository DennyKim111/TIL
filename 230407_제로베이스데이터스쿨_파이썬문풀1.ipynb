{
 "cells": [
  {
   "cell_type": "code",
   "execution_count": 21,
   "metadata": {},
   "outputs": [
    {
     "name": "stdout",
     "output_type": "stream",
     "text": [
      "------------------------------------------------------------------\n",
      "90.0 km/h 속도로 2시간 30분 동안 이동한 거리는 225.0km 이다.\n",
      "------------------------------------------------------------------\n"
     ]
    }
   ],
   "source": [
    "## 05_041 함수 - 함수를 이용한 프로그래밍\n",
    "\n",
    "#### 이동 거리 반환하는 함수 만들기 \n",
    "\n",
    "def getDistance(speed, hour, minute):\n",
    "  distance = speed * (hour + minute/60 )\n",
    "  return distance\n",
    "\n",
    "print('-' * 66)\n",
    "s = float(input('속도(km/h) 입력: '))\n",
    "h = float(input('시간(h) 입력: '))\n",
    "m = float(input('시간(m) 입력: '))\n",
    "d = getDistance(s, h, m)\n",
    "\n",
    "print(f'{s} km/h 속도로 {int(h)}시간 {int(m)}분 동안 이동한 거리는 {round(d, 1)}km 이다.')\n",
    "print('-' * 66)"
   ]
  },
  {
   "cell_type": "code",
   "execution_count": 5,
   "metadata": {},
   "outputs": [
    {
     "ename": "SyntaxError",
     "evalue": "f-string: empty expression not allowed (4162984845.py, line 13)",
     "output_type": "error",
     "traceback": [
      "\u001b[1;36m  Cell \u001b[1;32mIn[5], line 13\u001b[1;36m\u001b[0m\n\u001b[1;33m    print(f'{s}(km/h) 속도로 {d}(km) 이동한 시간은 {}')\u001b[0m\n\u001b[1;37m                                             ^\u001b[0m\n\u001b[1;31mSyntaxError\u001b[0m\u001b[1;31m:\u001b[0m f-string: empty expression not allowed\n"
     ]
    }
   ],
   "source": [
    "#### 이동 시간 반환하는 함수 만들기 - try\n",
    "\n",
    "def getTime(speed, distance):\n",
    "  hour = distance // speed\n",
    "  minute = (distance % speed) * (60 / speed)\n",
    "  return hour, minute\n",
    "\n",
    "\n",
    "print('-' * 66)\n",
    "d = float(input('거리(km) 입력: '))\n",
    "s = float(input('속도(km/h) 입력: '))\n",
    "t = getTime(s, d)\n",
    "print(f'{s}(km/h) 속도로 {d}(km) 이동한 시간은 {}')\n",
    "print('-' * 66)"
   ]
  },
  {
   "cell_type": "code",
   "execution_count": 22,
   "metadata": {},
   "outputs": [
    {
     "name": "stdout",
     "output_type": "stream",
     "text": [
      "------------------------------------------------------------------\n",
      "90.0(km/h) 속도로 225.0(km) 이동한 시간은 2시간 0분이다.\n",
      "------------------------------------------------------------------\n"
     ]
    }
   ],
   "source": [
    "#### 이동 시간 반환하는 함수 만들기 - 해답\n",
    "\n",
    "def getTime(speed, distance):\n",
    "  time = distance / speed\n",
    "  hour = int(time)\n",
    "  minute = int((time - hour) * (60/speed))\n",
    "  return [hour, minute]  ##### 반환 값 두 개일 때는 리스트 활용\n",
    "\n",
    "\n",
    "print('-' * 66)\n",
    "d = float(input('거리(km) 입력: '))\n",
    "s = float(input('속도(km/h) 입력: '))\n",
    "t = getTime(s, d)\n",
    "print(f'{s}(km/h) 속도로 {d}(km) 이동한 시간은 {t[0]}시간 {t[1]}분이다.')  ##### 반환값 첫번째 = t[0] / 두번째 t[1]\n",
    "print('-' * 66)"
   ]
  },
  {
   "cell_type": "code",
   "execution_count": 29,
   "metadata": {},
   "outputs": [
    {
     "name": "stdout",
     "output_type": "stream",
     "text": [
      "유아 14명 요금: 252000원\n",
      "유아 11명 요금: 99000원\n",
      "소아 23명 요금: 575000원\n",
      "소아 4명 요금: 50000원\n",
      "성인 8명 요금: 400000원\n",
      "성인 11명 요금: 275000원\n",
      "Total: 71원\n",
      "TotalPrice: 1651000원\n"
     ]
    }
   ],
   "source": [
    "## 05_042 함수 3\n",
    "\n",
    "#### 비행기 티켓 출력 기계 유아, 소아, 성인\n",
    "\n",
    "childPrice = 18000\n",
    "infantPrice = 25000\n",
    "adultPrice = 50000\n",
    "specialDC = 50\n",
    "\n",
    "\n",
    "\n",
    "def printAirPlaneReceipt(c1, c2, i1, i2, a1, a2):\n",
    "  cp = c1 * childPrice\n",
    "  cp_dc = int(c2 * childPrice * 0.5)\n",
    "  print(f'유아 {c1}명 요금: {cp}원')\n",
    "  print(f'유아 {c2}명 요금: {cp_dc}원')\n",
    "  \n",
    "  ip = i1 * infantPrice\n",
    "  ip_dc = int(i2 * infantPrice * 0.5)\n",
    "  print(f'소아 {i1}명 요금: {ip}원')\n",
    "  print(f'소아 {i2}명 요금: {ip_dc}원')\n",
    "  \n",
    "  ap = a1 * adultPrice\n",
    "  ap_dc = int(a2 * adultPrice * 0.5)\n",
    "  print(f'성인 {a1}명 요금: {ap}원')\n",
    "  print(f'성인 {a2}명 요금: {ap_dc}원')\n",
    "  \n",
    "  print(f'Total: {c1 + c2 + i1 + i2 + a1 + a2}원')\n",
    "  print(f'TotalPrice: {cp + cp_dc + ip + ip_dc + ap + ap_dc}원')\n",
    "  \n",
    "  \n",
    "childCnt = int(input('유아 명수 입력: '))\n",
    "specialDCchildCnt = int(input('할인 대상 유아 명수 입력: '))\n",
    "\n",
    "infantCnt = int(input('소아 명수 입력: '))\n",
    "specialDCinfantCnt = int(input('할인 대상 소아 명수 입력: '))\n",
    "\n",
    "adultCnt = int(input('성인 명수 입력: '))\n",
    "specialDCadultCnt = int(input('할인 대상 성인 명수 입력: '))\n",
    "\n",
    "printAirPlaneReceipt(childCnt, specialDCadultCnt, infantCnt, specialDCinfantCnt, adultCnt, specialDCadultCnt)\n"
   ]
  },
  {
   "cell_type": "code",
   "execution_count": null,
   "metadata": {},
   "outputs": [],
   "source": [
    "#### 보완 - 가격 세 자리 마다 , 붙이는 법\n",
    "\n",
    "\n",
    "\n",
    "childPrice = 18000\n",
    "infantPrice = 25000\n",
    "adultPrice = 50000\n",
    "specialDC = 50\n",
    "\n",
    "##### 함수를 따로 만들자\n",
    "def formatedNumber(n):\n",
    "  return format(n, ',')\n",
    "  \n",
    "\n",
    "def printAirPlaneReceipt(c1, c2, i1, i2, a1, a2):\n",
    "  cp = c1 * childPrice\n",
    "  cp_dc = int(c2 * childPrice * 0.5)\n",
    "  print(f'유아 {c1}명 요금: {formatedNumber(cp)}원')\n",
    "  print(f'유아 {c2}명 요금: {formatedNumber(cp_dc)}원')\n",
    "  \n",
    "  ip = i1 * infantPrice\n",
    "  ip_dc = int(i2 * infantPrice * 0.5)\n",
    "  print(f'소아 {i1}명 요금: {formatedNumber(ip)}원')\n",
    "  print(f'소아 {i2}명 요금: {formatedNumber(ip_dc)}원')\n",
    "  \n",
    "  ap = a1 * adultPrice\n",
    "  ap_dc = int(a2 * adultPrice * 0.5)\n",
    "  print(f'성인 {a1}명 요금: {formatedNumber(ap)}원')\n",
    "  print(f'성인 {a2}명 요금: {formatedNumber(ap_dc)}원')\n",
    "  \n",
    "  print(f'Total: {formatedNumber(c1 + c2 + i1 + i2 + a1 + a2)}원')\n",
    "  print(f'TotalPrice: {formatedNumber(cp + cp_dc + ip + ip_dc + ap + ap_dc)}원')\n",
    "  \n",
    "  \n",
    "childCnt = int(input('유아 명수 입력: '))\n",
    "specialDCchildCnt = int(input('할인 대상 유아 명수 입력: '))\n",
    "\n",
    "infantCnt = int(input('소아 명수 입력: '))\n",
    "specialDCinfantCnt = int(input('할인 대상 소아 명수 입력: '))\n",
    "\n",
    "adultCnt = int(input('성인 명수 입력: '))\n",
    "specialDCadultCnt = int(input('할인 대상 성인 명수 입력: '))\n",
    "\n",
    "printAirPlaneReceipt(childCnt, specialDCadultCnt, infantCnt, specialDCinfantCnt, adultCnt, specialDCadultCnt)\n"
   ]
  },
  {
   "cell_type": "code",
   "execution_count": 4,
   "metadata": {},
   "outputs": [
    {
     "name": "stdout",
     "output_type": "stream",
     "text": [
      "------------------------------------------------------------------\n",
      "유아 11명 요금: 198,000원\n",
      "유아 할인 대상 1명 요금: 9,000원\n",
      "소아 11명 요금: 275,000원\n",
      "소아 할인 대상 1명 요금: 12,500원\n",
      "성인 11명 요금: 550,000원\n",
      "성인 할인 대상1명 요금: 25,000원\n",
      "------------------------------------------------------------------\n",
      "Total 명수 : 36\n",
      "Total 금액 : 1,069,500\n",
      "------------------------------------------------------------------\n"
     ]
    }
   ],
   "source": [
    "#### 비행기 티켓 영수증 출력 self try\n",
    "\n",
    "childPrice = 18000\n",
    "infantPrice = 25000\n",
    "adultPrice = 50000\n",
    "\n",
    "def formatedNumber(n):\n",
    "  return format(n, ',')\n",
    "\n",
    "def printAirplaneTicekt(c1, c2, i1, i2, a1, a2):\n",
    "  \n",
    "  print('-' * 66)\n",
    "  cp = c1 * childPrice\n",
    "  cp_dc = int(c2 * childPrice * 0.5)\n",
    "  print(f'유아 {c1}명 요금: {formatedNumber(cp)}원')\n",
    "  print(f'유아 할인 대상 {c2}명 요금: {formatedNumber(cp_dc)}원')\n",
    "\n",
    "  ip = i1 * infantPrice\n",
    "  ip_dc = int(i2 * infantPrice * 0.5)\n",
    "  print(f'소아 {i1}명 요금: {formatedNumber(ip)}원')\n",
    "  print(f'소아 할인 대상 {i2}명 요금: {formatedNumber(ip_dc)}원')\n",
    "  \n",
    "  ap = a1 * adultPrice\n",
    "  ap_dc = int(a2 * adultPrice * 0.5)\n",
    "  print(f'성인 {a1}명 요금: {formatedNumber(ap)}원')\n",
    "  print(f'성인 할인 대상{a2}명 요금: {formatedNumber(ap_dc)}원')\n",
    "  print('-' * 66)\n",
    "  print(f'Total 명수 : {c1 + c2 + i1 + i2 + a1 + a2}')\n",
    "  print(f'Total 금액 : {formatedNumber(cp + cp_dc + ip + ip_dc + ap + ap_dc)}')\n",
    "  \n",
    "  print('-' * 66)\n",
    "  \n",
    "  \n",
    "  \n",
    "childCnt = int(input('일반 유아 명수는? : '))\n",
    "childDCCnt = int(input('할인 유아 명수는? : '))\n",
    "\n",
    "infantCnt = int(input('일반 소아 명수는? '))\n",
    "infantDCCnt = int(input('할인 소아 명수는? '))\n",
    "\n",
    "adultCnt = int(input('일반 성인 명수는? '))\n",
    "adultDCCnt = int(input('할인 성인 명수는? '))\n",
    "\n",
    "\n",
    "printAirplaneTicekt(childCnt, childDCCnt, infantCnt, infantDCCnt, adultCnt, adultDCCnt)\n",
    "\n"
   ]
  },
  {
   "cell_type": "code",
   "execution_count": 7,
   "metadata": {},
   "outputs": [
    {
     "name": "stdout",
     "output_type": "stream",
     "text": [
      "비행기 티켓 영수증입니다.\n",
      "==================================================================\n",
      "할인 미적용 유아 15명 요금: 18,000원\n",
      "할인 적용 유아 7명 요금: 9,000원\n",
      "할인 미적용 소아 34명 요금: 25,000원\n",
      "할인 적용 소아 5명 요금: 12,500원\n",
      "할인 미적용 성인 15명 요금: 50,000원\n",
      "할인 적용 성인 8명 요금: 25,000원\n",
      "==================================================================\n"
     ]
    }
   ],
   "source": [
    "### 비행기 티켓 구하기 self try 2  / 이번에는 함수 자체에 print 기능 실지 말고 리턴 값 받아서 출력헤보기\n",
    "\n",
    "childPrice = 18000\n",
    "infantPrice = 25000\n",
    "adultPrice = 50000\n",
    "discountRate = 0.5\n",
    "\n",
    "def formatedNum(n):\n",
    "  return format(n, ',')\n",
    "\n",
    "def printAirplaneticket(c1, c2, i1, i2, a1, a2):   #### 함수에 어떤 기능을 추가해야 한다 / \n",
    "  cp = childPrice\n",
    "  cp_dc = childPrice * discountRate\n",
    "  ip = infantPrice\n",
    "  ip_dc = infantPrice * discountRate\n",
    "  ap = adultPrice\n",
    "  ap_dc = adultPrice * discountRate\n",
    "  return ['='*66, f'할인 미적용 유아 {c1}명 요금: {formatedNum(int(cp))}원', f'할인 적용 유아 {c2}명 요금: {formatedNum(int(cp_dc))}원', f'할인 미적용 소아 {i1}명 요금: {formatedNum(int(ip))}원', f'할인 적용 소아 {i2}명 요금: {formatedNum(int(ip_dc))}원', f'할인 미적용 성인 {a1}명 요금: {formatedNum(int(ap))}원', f'할인 적용 성인 {a2}명 요금: {formatedNum(int(ap_dc))}원', '='*66]\n",
    "  \n",
    "  \n",
    "  \n",
    "childCnt = int(input('할인 미적용 유아는 몇 명인가요?: '))\n",
    "childDCCnt = int(input('할인 적용 유아는 몇 명인가요?: '))\n",
    "infantCnt = int(input('할인 미적용 소아는 몇 명인가요?: '))\n",
    "infantDCCnt = int(input('할인 적용 소아는 몇 명인가요?: '))\n",
    "adultCnt = int(input('할인 미적용 성인은 몇 명인가요?: '))\n",
    "adultDCCnt = int(input('할인 적용 성인은 몇 명인가요?: '))\n",
    "\n",
    "\n",
    "receipt = printAirplaneticket(childCnt, childDCCnt, infantCnt, infantDCCnt, adultCnt, adultDCCnt)\n",
    "\n",
    "print(f'비행기 티켓 영수증입니다.\\n{receipt[0]}\\n{receipt[1]}\\n{receipt[2]}\\n{receipt[3]}\\n{receipt[4]}\\n{receipt[5]}\\n{receipt[6]}\\n{receipt[7]}')\n",
    "### 리턴 값이 여러 개일 경우 리스트로 받는다.\n",
    "\n",
    "## 궁금한 점: 리스트 값 하나씩 말고 한꺼번에 받는 방법은 뭐가 있을까?\n",
    "\n",
    "\n"
   ]
  },
  {
   "cell_type": "code",
   "execution_count": 2,
   "metadata": {},
   "outputs": [
    {
     "name": "stdout",
     "output_type": "stream",
     "text": [
      "479,001,600\n"
     ]
    }
   ],
   "source": [
    "## 05_043\n",
    "\n",
    "#### 재귀 함수 - 팩토리얼 함수 만들기\n",
    "\n",
    "def recursionFun(n):\n",
    "  if n == 1:\n",
    "    return n\n",
    "  \n",
    "  return n * recursionFun(n-1)   ##### else 없어도 'n 이 1이 아닌 경우'를 의미한다. \n",
    "\n",
    "\n",
    "inputNumber = int(input('input number: '))\n",
    "print(format(recursionFun(inputNumber), ','))\n",
    "\n"
   ]
  },
  {
   "cell_type": "code",
   "execution_count": 10,
   "metadata": {},
   "outputs": [
    {
     "name": "stdout",
     "output_type": "stream",
     "text": [
      "3,628,800\n"
     ]
    }
   ],
   "source": [
    "#### 재귀 함수 만들기 셀프 연습1\n",
    "def 재귀함수(n):\n",
    "  if n == 1:\n",
    "    return n\n",
    "  \n",
    "  return n * 재귀함수(n-1)\n",
    "\n",
    "\n",
    "\n",
    "inputNum = int(input('number: '))\n",
    "\n",
    "print(format(재귀함수(inputNum), ','))"
   ]
  },
  {
   "cell_type": "code",
   "execution_count": 9,
   "metadata": {},
   "outputs": [
    {
     "name": "stdout",
     "output_type": "stream",
     "text": [
      "3,628,800\n"
     ]
    }
   ],
   "source": [
    "#### 재귀함수 만들기 셀프 연습2\n",
    "\n",
    "\n",
    "def formatedNum(n):\n",
    "  return format(n, ',')\n",
    "\n",
    "\n",
    "def 재귀함수(n):\n",
    "  if n == 1:\n",
    "    return n\n",
    "  \n",
    "  return n * 재귀함수(n-1) #### 재귀함수(n-1) 에서 또 함수 재귀함수() 가 발동된다. 그래서 결국 n 이 1이 될 때까지 반복되어 팩토리얼을 구할 수 있게 됨.\n",
    "\n",
    "## 새로 얻어갈 포인트: [함수 내부에서 또 같은 함수를 발동 시킬 수 있다.]\n",
    "\n",
    "입력값 = int(input('숫자를 입력하세요 :     '))\n",
    "\n",
    "print(formatedNum(재귀함수(입력값)))"
   ]
  },
  {
   "cell_type": "code",
   "execution_count": null,
   "metadata": {},
   "outputs": [],
   "source": [
    "#### 셀프 연습\n",
    "\n",
    "def 재귀함수(n):\n",
    "  if n == 1:\n",
    "    return n\n",
    "  \n",
    "  return n * 재귀함수(n-1) #### n이 1인 경우와 1이 아닐 경우만 생각 \n",
    "\n"
   ]
  },
  {
   "cell_type": "code",
   "execution_count": 2,
   "metadata": {},
   "outputs": [
    {
     "name": "stdout",
     "output_type": "stream",
     "text": [
      "3,628,800\n"
     ]
    }
   ],
   "source": [
    "#### 셀프 연습\n",
    "\n",
    "def formatedNum(n):\n",
    "  return format(n, ',')\n",
    "\n",
    "def 재귀함수(n):\n",
    "  \n",
    "  if n ==1 :\n",
    "    return 1\n",
    "  \n",
    "  return n * 재귀함수(n-1)\n",
    "\n",
    "inputNum = int(input('숫자를 입력하세요: '))\n",
    "\n",
    "print(formatedNum(재귀함수(inputNum)))"
   ]
  },
  {
   "cell_type": "code",
   "execution_count": 5,
   "metadata": {},
   "outputs": [
    {
     "name": "stdout",
     "output_type": "stream",
     "text": [
      "[단리 계산기]\n",
      "5년 후 총 수령액 : 57,500,000\n",
      "[월 복리 계산기]\n",
      "5년 후 총 수령액: 58,080,839\n"
     ]
    }
   ],
   "source": [
    "#### 단리 / 월 복리 계산기 함수를 만들어보자.\n",
    "\n",
    "def formatedNumber(n):\n",
    "  return format(n, ',')\n",
    "\n",
    "##### 단리 \n",
    "def singleRateCalculator(m, t, r):  ##### 원금, 기간, 이율\n",
    "  \n",
    "  totalMoney = 0  # 돈 합계 ( 원금 + 이자 )  # Q. 그런데 왜 0 이지? 나중에 m 이랑 이자 총합이랑 더해줄 거임!\n",
    "  totalRateMoney = 0 # 이자 합계\n",
    "  \n",
    "  for i in range(t):\n",
    "    totalRateMoney += m * (r * 0.01)   ##### totalRateMoney = totalRateMoney + m * (r * 0.01) ##### 단리 이자니까 개월수 곱하기 이자.  그리고 totalRateMoney = 0 에다가 더해줌.\n",
    "    \n",
    "  totalMoney = m + totalRateMoney\n",
    "  return int(totalMoney)\n",
    "\n",
    "\n",
    "\n",
    "##### 월 복리\n",
    "def multiRateCalculator(m, t, r): ###### 원금, 거치 기간, 이율\n",
    "  ###### 거치 기간 연 단위에서 월 단위로 환산\n",
    "  t = t * 12\n",
    "  rpm = (r / 12) * 0.01  ##### 연 이자율을 12로 나누는 것이 맞나? (헷갈림) / 0.01 은 % 니까 해주는 거고.\n",
    "  \n",
    "  totalMoney = m\n",
    "  \n",
    "  for i in range(t):\n",
    "    totalMoney += (totalMoney * rpm) ##### 언제 FOR 문을 사용해야할지, WHILE 문을 사용해야할지 판단을 내리기가 참 어렵다.\n",
    "    ##### 복리는 돈 전체에다가 이자율을 곱해야 하니까 totalMoney를 애초에 이자와 분리해서 0으로 두고 계산하기가 불가능. \n",
    "  return int(totalMoney)\n",
    "\n",
    "\n",
    "money = int(input('예치금(원): '))\n",
    "term = int(input('기간(년)'))\n",
    "rate = int(input('연 이율(%)'))\n",
    "\n",
    "print('[단리 계산기]')\n",
    "print(f'{term}년 후 총 수령액 : {formatedNumber(singleRateCalculator(money, term, rate))}')\n",
    "\n",
    "print('[월 복리 계산기]')\n",
    "print(f'{term}년 후 총 수령액: {formatedNumber(multiRateCalculator(money, term, rate))}')\n",
    "\n"
   ]
  },
  {
   "cell_type": "code",
   "execution_count": 15,
   "metadata": {},
   "outputs": [
    {
     "name": "stdout",
     "output_type": "stream",
     "text": [
      "==================================================================\n",
      "원금:100,000,000, 기간:10, 이자율:3\n",
      "총 금액: 130,000,000, 늘어난 금액: 30,000,000\n",
      "==================================================================\n"
     ]
    }
   ],
   "source": [
    "##### 셀프 연습 -  이해가 완전히 안될 때는 그냥 연습하자  !!!\n",
    "\n",
    "#### 단리 함수\n",
    "\n",
    "def formatedNum(n):\n",
    "  return format(n, ',') \n",
    "\n",
    "\n",
    "def singleRateCalculator(m, t, r): # t, 시간은 월 단위가 아닌 연 단위이다..\n",
    "  totalMoney = m\n",
    "  totalRateMoney = 0\n",
    "  \n",
    "  for i in range(t):\n",
    "    totalRateMoney += ( r * 0.01 ) * m\n",
    "    \n",
    "  totalMoney = totalMoney + totalRateMoney\n",
    "  earnMoney = totalMoney - m #### 원금과 비교하여 결과적으로 얼만큼 더 벌리는지도 구해보자 !!\n",
    "  \n",
    "  return [int(totalMoney), int(earnMoney)]  # 리턴 값이 두 개니까 리스트\n",
    "\n",
    "\n",
    "howLong = int(input('몇 년 동안 돈을 맡기실 건가요?: '))\n",
    "howMuchMoney = int(input('얼마만큼의 돈을 맡기실 건가요?: '))\n",
    "howMuchRate = int(input('얼마만큼의 이자율?: '))\n",
    "\n",
    "단리이자율계산 = singleRateCalculator(howMuchMoney, howLong, howMuchRate)\n",
    "\n",
    "print('='*66, f'원금:{formatedNum(howMuchMoney)}, 기간:{howLong}, 이자율:{howMuchRate}', f'총 금액: {formatedNum(단리이자율계산[0])}, 늘어난 금액: {formatedNum(단리이자율계산[1])}', '='*66, sep='\\n')\n"
   ]
  },
  {
   "cell_type": "code",
   "execution_count": 19,
   "metadata": {},
   "outputs": [
    {
     "name": "stdout",
     "output_type": "stream",
     "text": [
      "==================================================================\n",
      "원금:100,000,000, 기간:10, 이자율:3\n",
      "총 금액: 134,935,354, 늘어난 금액: 34,935,354\n",
      "==================================================================\n"
     ]
    }
   ],
   "source": [
    "##### 복리 계산기 \n",
    "\n",
    "def formatedNum(n):\n",
    "  return format(n, ',')\n",
    "\n",
    "\n",
    "def multiRateCalculator(m, t, r):\n",
    "  totalMoney = m\n",
    "  t = t * 12\n",
    "  \n",
    "  rpm = r / 12\n",
    "  \n",
    "  for i in range(t):            # totalMoney = totalMoney * (rpm * 0.01)  /  = > 틀림\n",
    "    totalMoney += totalMoney * (rpm * 0.01)\n",
    "  \n",
    "  earingMoney = totalMoney - m\n",
    "  \n",
    "  return [int(totalMoney), int(earingMoney)]\n",
    "\n",
    "\n",
    "howLong = int(input('몇 년 동안 돈을 맡기실 건가요?: '))\n",
    "howMuchMoney = int(input('얼마만큼의 돈을 맡기실 건가요?: '))\n",
    "howMuchRate = int(input('얼마만큼의 이자율?: '))\n",
    "\n",
    "복리계산기 = multiRateCalculator(howMuchMoney, howLong, howMuchRate)\n",
    "  \n",
    "print('='*66, f'원금:{formatedNum(howMuchMoney)}, 기간:{howLong}, 이자율:{howMuchRate}', f'총 금액: {formatedNum(복리계산기[0])}, 늘어난 금액: {formatedNum(복리계산기[1])}', '='*66, sep='\\n')"
   ]
  },
  {
   "cell_type": "code",
   "execution_count": 6,
   "metadata": {},
   "outputs": [
    {
     "name": "stdout",
     "output_type": "stream",
     "text": [
      "1번째 항의 값: 2\n",
      "1 번째 항까지의 합: 2\n",
      "2번째 항의 값: 5\n",
      "2번째 항까지의 합: 7\n",
      "3번째 항의 값: 8\n",
      "3번째 항까지의 합: 15\n",
      "4번째 항의 값: 11\n",
      "4번째 항까지의 합: 26\n",
      "5번째 항의 값: 14\n",
      "5번째 항까지의 합: 40\n",
      "6번째 항의 값: 17\n",
      "6번째 항까지의 합: 57\n",
      "7번째 항의 값: 20\n",
      "7번째 항까지의 합: 77\n"
     ]
    }
   ],
   "source": [
    "## 05_44 함수 5\n",
    "\n",
    "#### 함수를 이용해서 등차 수열 값, 합 구하기\n",
    "\n",
    "# 초항 입력\n",
    "# 공차 입력\n",
    "# 몇 번째 수열 구하고 싶은지(n 항)\n",
    "\n",
    "#  -- 출력 --\n",
    "#  n 번째 항의 값\n",
    "#  n 번째 항까지의 합\n",
    "\n",
    "def sequenceCal(n1, d, n):  #####초항이 n1, 공차가 d, n = 몇 항까지\n",
    "  \n",
    "  valueN = 0; sumN = 0; ##### n 항의 값과 n 항까지의 합의 값\n",
    "  \n",
    "  i = 1   ##### i 가 1인 경우 \n",
    "  while i <= n :\n",
    "    \n",
    "    if i == 1:\n",
    "      valueN = n1\n",
    "      sumN += valueN  ##### sumN = valueN 이나 똑같음 / 첫 항이니까.\n",
    "      print(f'{i}번째 항의 값: {valueN}')\n",
    "      print(f'{i} 번째 항까지의 합: {sumN}')\n",
    "      \n",
    "      i += 1 ##### i 가 하나씩 올라가야 함.\n",
    "      continue ##### 바로 진행 / 이걸로 아래쪽이 진행되지 못하게 함\n",
    "    \n",
    "    valueN += d     ##### 공차 만큼 계속 더해서 나가면 되니까 d를 계속 더해준다. ##### i 가 1이 아닌 경우\n",
    "    \n",
    "    sumN += valueN ##### n 항의 값(=valueN)을 계속 더해주면 총합이 됨.\n",
    "    print(f'{i}번째 항의 값: {valueN}')\n",
    "    print(f'{i}번째 항까지의 합: {sumN}')\n",
    "    \n",
    "    i += 1\n",
    "    \n",
    "\n",
    "inputN1 = int(input('a1 입력: '))\n",
    "inputD = int(input('공차 입력: '))\n",
    "inputN = int(input('몇 번째 항을 볼 것인지 입력: '))\n",
    "\n",
    "\n",
    "sequenceCal(inputN1, inputD, inputN)"
   ]
  },
  {
   "cell_type": "code",
   "execution_count": null,
   "metadata": {},
   "outputs": [],
   "source": [
    "### 등차 수열 공식: an = a1 + (n-1) * d\n",
    "### 등차 수열 합 공식: sn = n*(a1 + an) / 2\n",
    "\n",
    "### 등비 수열 공식 an = a1 * r ^(n-1)\n",
    "### 등비 수열의 합 공식 sn = a1 * (1-r^n) / (1 - r)\n",
    "\n",
    "# 이걸로 다시 만들어 풀어보기 답은 소스 코드 파일 안에 있음!!\n",
    "\n",
    "\n",
    "\n"
   ]
  },
  {
   "cell_type": "code",
   "execution_count": 9,
   "metadata": {},
   "outputs": [
    {
     "name": "stdout",
     "output_type": "stream",
     "text": [
      "1 번째 항의 값: 4\n",
      "1 번째 항까지의 합: 4\n",
      "2 번째 항의 값: 36\n",
      "2 번째 항까지의 합: 40\n",
      "3 번째 항의 값: 324\n",
      "3 번째 항까지의 합: 364\n",
      "4 번째 항의 값: 2916\n",
      "4 번째 항까지의 합: 3280\n",
      "5 번째 항의 값: 26244\n",
      "5 번째 항까지의 합: 29524\n",
      "6 번째 항의 값: 236196\n",
      "6 번째 항까지의 합: 265720\n",
      "7 번째 항의 값: 2125764\n",
      "7 번째 항까지의 합: 2391484\n",
      "8 번째 항의 값: 19131876\n",
      "8 번째 항까지의 합: 21523360\n",
      "9 번째 항의 값: 172186884\n",
      "9 번째 항까지의 합: 193710244\n",
      "10 번째 항의 값: 1549681956\n",
      "10 번째 항까지의 합: 1743392200\n",
      "11 번째 항의 값: 13947137604\n",
      "11 번째 항까지의 합: 15690529804\n"
     ]
    }
   ],
   "source": [
    "## 05_045 함수 / 등비 수열\n",
    "\n",
    "\n",
    "\n",
    "def sequenceCal(n1, r, n):\n",
    "  \n",
    "  valueN = 0 ; sumN = 0\n",
    "  \n",
    "  i = 1\n",
    "  while i <= n:\n",
    "    \n",
    "    if i == 1:\n",
    "      valueN = n1\n",
    "      sumN = valueN\n",
    "      print(f'{i} 번째 항의 값: {valueN}')\n",
    "      print(f'{i} 번째 항까지의 합: {sumN}')\n",
    "\n",
    "      i += 1\n",
    "      continue\n",
    "    \n",
    "    valueN *= r\n",
    "    sumN += valueN\n",
    "    print(f'{i} 번째 항의 값: {valueN}')\n",
    "    print(f'{i} 번째 항까지의 합: {sumN}')\n",
    "    \n",
    "    i += 1\n",
    "    \n",
    "    \n",
    "inputN1 = int(input('a1 입력: '))\n",
    "inputR = int(input('공비 입력: '))\n",
    "inputN = int(input('몇 항까지의 합 구하고 싶은지 입력: '))\n",
    "\n",
    "sequenceCal(inputN1, inputR, inputN)\n"
   ]
  },
  {
   "cell_type": "code",
   "execution_count": null,
   "metadata": {},
   "outputs": [],
   "source": [
    "## 05_046 모듈을 이용한 프로그래밍\n",
    "\n",
    "#### 모듈 부터 만들자\n",
    "\n",
    "def exampleResult(s1, s2, s3, s4, s5):\n",
    "  \n",
    "  passAvgScore = 60; limitScore = 40\n",
    "  \n",
    "  def getTotal():\n",
    "    totalScore = s1 + s2 + s3 + s4 + s5\n",
    "    print(f'총점: {totalScore}')\n",
    "    return totalScore\n",
    "  \n",
    "  def getAverage():\n",
    "    avg = getTotal() / 5\n",
    "    print(f'평균: {avg}')\n",
    "    return avg\n",
    "  \n",
    "  def printPassOrFail():\n",
    "    print(f'{s1}: pass') if s1 >= limitScore else print(f'{s1}: fail')\n",
    "    print(f'{s2}: pass') if s2 >= limitScore else print(f'{s2}: fail')\n",
    "    print(f'{s3}: pass') if s3 >= limitScore else print(f'{s3}: fail')\n",
    "    print(f'{s4}: pass') if s4 >= limitScore else print(f'{s4}: fail')\n",
    "    print(f'{s5}: pass') if s5 >= limitScore else print(f'{s5}: fail')\n",
    "    \n",
    "    def printFinalPassOrFail():\n",
    "      \n",
    "      if getAverage() >= passAvgScore:\n",
    "        if s1 >= limitScore and s2 >= limitScore and s3 >= limitScore and s4 >= limitScore and s5 >= limitScore :\n",
    "          print('Final Pass!!')\n",
    "          \n",
    "        else:\n",
    "          print('Final Fail!!')\n",
    "          \n",
    "      else:\n",
    "        print('Final Fail!!')\n",
    "        \n",
    "        \n",
    "getAverage()\n",
    "printPassOrFail()\n",
    "printFinalPassOrFail()"
   ]
  },
  {
   "cell_type": "code",
   "execution_count": null,
   "metadata": {},
   "outputs": [],
   "source": []
  },
  {
   "cell_type": "code",
   "execution_count": null,
   "metadata": {},
   "outputs": [],
   "source": []
  }
 ],
 "metadata": {
  "kernelspec": {
   "display_name": "Python 3",
   "language": "python",
   "name": "python3"
  },
  "language_info": {
   "codemirror_mode": {
    "name": "ipython",
    "version": 3
   },
   "file_extension": ".py",
   "mimetype": "text/x-python",
   "name": "python",
   "nbconvert_exporter": "python",
   "pygments_lexer": "ipython3",
   "version": "3.10.6"
  },
  "orig_nbformat": 4
 },
 "nbformat": 4,
 "nbformat_minor": 2
}
