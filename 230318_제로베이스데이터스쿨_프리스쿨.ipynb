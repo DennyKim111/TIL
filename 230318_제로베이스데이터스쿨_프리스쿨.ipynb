{
 "cells": [
  {
   "cell_type": "code",
   "execution_count": 1,
   "metadata": {},
   "outputs": [
    {
     "name": "stdout",
     "output_type": "stream",
     "text": [
      "num1 > num2 : True\n",
      "num1 >= num2 : True\n",
      "num1 < num2 : False\n",
      "num1 <= num2 : False\n",
      "num1 == num2 : False\n",
      "num1 != num2 : True\n"
     ]
    }
   ],
   "source": [
    "num1 = 10 ; num2 = 5\n",
    "\n",
    "result = num1 > num2\n",
    "\n",
    "print('num1 > num2 : {}'.format(result))\n",
    "\n",
    "result = num1 >= num2\n",
    "\n",
    "print('num1 >= num2 : {}'.format(result))\n",
    "\n",
    "result = num1 < num2\n",
    "\n",
    "print('num1 < num2 : {}'.format(result))\n",
    "\n",
    "result = num1 <= num2\n",
    "\n",
    "print('num1 <= num2 : {}'.format(result))\n",
    "\n",
    "result = num1 ==num2\n",
    "\n",
    "print('num1 == num2 : {}'.format(result))\n",
    "\n",
    "result = num1 != num2\n",
    "\n",
    "print('num1 != num2 : {}'.format(result))"
   ]
  },
  {
   "cell_type": "code",
   "execution_count": 7,
   "metadata": {},
   "outputs": [
    {
     "name": "stdout",
     "output_type": "stream",
     "text": [
      "num1 : 88, num2 : 55\n",
      "88 > 55 : True\n",
      "88 >= 55 : True\n",
      "88 == 55 : True\n",
      "88 != 55 : True\n",
      "88 < 55 : True\n",
      "88 <= 55 : True\n"
     ]
    }
   ],
   "source": [
    "num1 = int(input('첫 번째 숫자를 입력하세요. : '))\n",
    "num2 = int(input('두 번째 숫자를 입력하세요. : '))\n",
    "\n",
    "result1 = num1 > num2\n",
    "result2 = num1 >= num2\n",
    "result3 = num1 < num2\n",
    "result4 = num1 <= num2\n",
    "result5 = num1 == num2\n",
    "result6 = num1 != num2\n",
    "\n",
    "print('num1 : {}, num2 : {}' .format(num1, num2))\n",
    "print('{} > {} : {}' .format(num1, num2, result1))\n",
    "print('{} >= {} : {}' .format(num1, num2, result1))\n",
    "print('{} == {} : {}' .format(num1, num2, result1))\n",
    "print('{} != {} : {}' .format(num1, num2, result1))\n",
    "print('{} < {} : {}' .format(num1, num2, result1))\n",
    "print('{} <= {} : {}' .format(num1, num2, result1))"
   ]
  },
  {
   "cell_type": "code",
   "execution_count": 9,
   "metadata": {},
   "outputs": [
    {
     "name": "stdout",
     "output_type": "stream",
     "text": [
      "전장 가능 여부 : False\n",
      "전폭 가능 여부 : True\n"
     ]
    }
   ],
   "source": [
    "Len = int(input('전장을 입력하세요. : '))\n",
    "Wid = int(input('전폭을 입력하세요. : '))\n",
    "\n",
    "maxLen = 5200\n",
    "maxWidth = 1985\n",
    "\n",
    "print('전장 가능 여부 : {}' .format(Len <= maxLen))\n",
    "print('전폭 가능 여부 : {}' .format(Wid <= maxWidth))\n",
    "\n"
   ]
  },
  {
   "cell_type": "code",
   "execution_count": 4,
   "metadata": {},
   "outputs": [
    {
     "name": "stdout",
     "output_type": "stream",
     "text": [
      "'A' > 'S' : False\n",
      "'A' >= 'S' : False\n",
      "'A' < 'S' : True\n",
      "'A' <= 'S' : True\n",
      "'A' == 'S' : False\n",
      "'A' != 'S' : True\n"
     ]
    }
   ],
   "source": [
    "cha1 = 'A'  # 65\n",
    "cha2 = 'S'  # 83\n",
    "\n",
    "print('\\'{}\\' > \\'{}\\' : {}' .format(cha1, cha2, cha1 >cha2))\n",
    "print('\\'{}\\' >= \\'{}\\' : {}' .format(cha1, cha2, cha1 >=cha2))\n",
    "print('\\'{}\\' < \\'{}\\' : {}' .format(cha1, cha2, cha1 <cha2))\n",
    "print('\\'{}\\' <= \\'{}\\' : {}' .format(cha1, cha2, cha1 <=cha2))\n",
    "print('\\'{}\\' == \\'{}\\' : {}' .format(cha1, cha2, cha1 ==cha2))\n",
    "print('\\'{}\\' != \\'{}\\' : {}' .format(cha1, cha2, cha1 !=cha2))\n",
    "\n",
    "\n",
    "\n",
    "# \\' => 작은 따옴표 넣기\n",
    "\n"
   ]
  },
  {
   "cell_type": "code",
   "execution_count": 7,
   "metadata": {},
   "outputs": [
    {
     "name": "stdout",
     "output_type": "stream",
     "text": [
      "'A' -> 65\n",
      "'a' -> 97\n",
      "'S' -> 83\n",
      "'s' -> 115\n",
      "65 -> A\n",
      "83 -> S\n"
     ]
    },
    {
     "data": {
      "text/plain": [
       "'S'"
      ]
     },
     "execution_count": 7,
     "metadata": {},
     "output_type": "execute_result"
    }
   ],
   "source": [
    "print('\\'A\\' -> {}' .format(ord('A')))\n",
    "print('\\'a\\' -> {}' .format(ord('a')))\n",
    "print('\\'S\\' -> {}' .format(ord('S')))\n",
    "print('\\'s\\' -> {}' .format(ord('s')))\n",
    "\n",
    "print('65 -> {}' .format(chr(65)))\n",
    "print('83 -> {}' .format(chr(83)))\n",
    "chr(65)\n",
    "chr(83)\n",
    "\n",
    "# 문자를 아스키 코드로 변환 ord(문자를 정수로), chr(숫자를 문자로)  "
   ]
  },
  {
   "cell_type": "code",
   "execution_count": 8,
   "metadata": {},
   "outputs": [
    {
     "name": "stdout",
     "output_type": "stream",
     "text": [
      "Hello == Hello : True\n",
      "Hello != Hello : False\n"
     ]
    }
   ],
   "source": [
    "#숫자열 -> 6가지 비교 연산 다 사용 가능, but 문자는 ==, != 만 사용 가능\n",
    "\n",
    "str1 = \"Hello\"\n",
    "str2 = \"Hello\"\n",
    "\n",
    "print('{} == {} : {}' .format(str1, str2, str1==str2))\n",
    "print('{} != {} : {}' .format(str1, str2, str1!=str2))"
   ]
  },
  {
   "cell_type": "code",
   "execution_count": 22,
   "metadata": {},
   "outputs": [
    {
     "name": "stdout",
     "output_type": "stream",
     "text": [
      "'아스키 코드 h' : 104\n"
     ]
    }
   ],
   "source": [
    "alphabet1 = input('문자를 입력하세요 : ')\n",
    "\n",
    "print('\\'아스키 코드 {}\\' : {}' .format(alphabet1, ord(alphabet1)))"
   ]
  },
  {
   "cell_type": "code",
   "execution_count": 20,
   "metadata": {},
   "outputs": [
    {
     "name": "stdout",
     "output_type": "stream",
     "text": [
      "104 : 'h'\n"
     ]
    }
   ],
   "source": [
    "code1 = int(input('아스키 코드를 입력하세요 : '))\n",
    "print('{} : \\'{}\\'' .format(code1, chr(code1)))"
   ]
  }
 ],
 "metadata": {
  "kernelspec": {
   "display_name": "Python 3",
   "language": "python",
   "name": "python3"
  },
  "language_info": {
   "codemirror_mode": {
    "name": "ipython",
    "version": 3
   },
   "file_extension": ".py",
   "mimetype": "text/x-python",
   "name": "python",
   "nbconvert_exporter": "python",
   "pygments_lexer": "ipython3",
   "version": "3.10.6"
  },
  "orig_nbformat": 4
 },
 "nbformat": 4,
 "nbformat_minor": 2
}
