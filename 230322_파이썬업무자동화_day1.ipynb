{
 "cells": [
  {
   "cell_type": "code",
   "execution_count": null,
   "metadata": {},
   "outputs": [],
   "source": [
    "파이썬으로 할 수 있는 것\n",
    "1. 업무자동화\n",
    "2. 크롤링\n",
    "3. 서비스 구현 / 백엔드, 서버\n",
    "4. 데이터 분석\n",
    "5. 머신러닝\n",
    "6. 해킹\n",
    "\n"
   ]
  },
  {
   "cell_type": "code",
   "execution_count": null,
   "metadata": {},
   "outputs": [],
   "source": [
    "할 수 없는 것\n",
    "1. 게임 개발'\n",
    "2. 웹 또는 앱 개발\n"
   ]
  },
  {
   "cell_type": "code",
   "execution_count": 3,
   "metadata": {},
   "outputs": [
    {
     "name": "stdout",
     "output_type": "stream",
     "text": [
      "my name is jtk\n"
     ]
    }
   ],
   "source": [
    "# 파이썬 함수\n",
    "\n",
    "# def 함수명(매개 변수):\n",
    "#   함수 코드\n",
    "  \n",
    "def my_name(name):\n",
    "  print(\"my name is \" + name)\n",
    "  \n",
    "my_name(\"jtk\")"
   ]
  },
  {
   "cell_type": "code",
   "execution_count": 7,
   "metadata": {},
   "outputs": [
    {
     "name": "stdout",
     "output_type": "stream",
     "text": [
      "90점\t kjt 학생은 A 등급 입니다.\n"
     ]
    }
   ],
   "source": [
    "\n",
    "def result_grade(score, name):\n",
    "  if score >= 90:\n",
    "    print('{}점\\t {} 학생은 A 등급 입니다.'.format(score, name))\n",
    "  elif score >= 80:\n",
    "    print('{}점\\t {} 학생은 B 등급 입니다.'.format(score, name))\n",
    "  elif score >= 70:\n",
    "    print('{}점\\t {} 학생은 C 등급 입니다.'.format(score, name))\n",
    "  elif score >= 60:\n",
    "    print('{}점\\t {} 학생은 D 등급 입니다.'.format(score, name))\n",
    "  else:\n",
    "    print('{}점\\t {} 학생은 F 등급 입니다.'.format(score, name))\n",
    "\n",
    "result_grade(90, \"kjt\")"
   ]
  },
  {
   "cell_type": "code",
   "execution_count": 2,
   "metadata": {},
   "outputs": [
    {
     "data": {
      "text/plain": [
       "(3, 0)"
      ]
     },
     "execution_count": 2,
     "metadata": {},
     "output_type": "execute_result"
    }
   ],
   "source": [
    "# 내장함수, 외장함수\n",
    "\n",
    "divmod(12, 3) # -> (몫, 나머지)\n",
    "\n",
    "divmod(12, 4)\n",
    "\n"
   ]
  },
  {
   "cell_type": "code",
   "execution_count": 7,
   "metadata": {},
   "outputs": [
    {
     "data": {
      "text/plain": [
       "'s/k/s/k/s'"
      ]
     },
     "execution_count": 7,
     "metadata": {},
     "output_type": "execute_result"
    }
   ],
   "source": [
    "\"/\".join(\"sksks\")"
   ]
  },
  {
   "cell_type": "code",
   "execution_count": 13,
   "metadata": {},
   "outputs": [
    {
     "name": "stdout",
     "output_type": "stream",
     "text": [
      "USA/Russia/China/Germany/Japan\n",
      "['USA', 'Russia', 'China', 'Germany', 'Japan']\n",
      "['USA/Russia/China/Germany/Japan']\n"
     ]
    }
   ],
   "source": [
    "country = [\"USA\", \"Russia\", \"China\", \"Germany\", \"Japan\"]\n",
    "\n",
    "a = \"/\".join(country)\n",
    "\n",
    "print(a)\n",
    "print(country)\n",
    "\n",
    "newGroup = a.split(\",\")\n",
    "print(newGroup)"
   ]
  },
  {
   "cell_type": "code",
   "execution_count": 17,
   "metadata": {},
   "outputs": [
    {
     "data": {
      "text/plain": [
       "835"
      ]
     },
     "execution_count": 17,
     "metadata": {},
     "output_type": "execute_result"
    }
   ],
   "source": [
    "# 외장함수 import 써야함\n",
    "\n",
    "# random\n",
    "\n",
    "import random\n",
    "random.randint(1, 999)\n",
    "\n",
    "a = [1, 2, 3, 4, 5]\n",
    "\n"
   ]
  }
 ],
 "metadata": {
  "kernelspec": {
   "display_name": "Python 3",
   "language": "python",
   "name": "python3"
  },
  "language_info": {
   "codemirror_mode": {
    "name": "ipython",
    "version": 3
   },
   "file_extension": ".py",
   "mimetype": "text/x-python",
   "name": "python",
   "nbconvert_exporter": "python",
   "pygments_lexer": "ipython3",
   "version": "3.10.6"
  },
  "orig_nbformat": 4
 },
 "nbformat": 4,
 "nbformat_minor": 2
}
