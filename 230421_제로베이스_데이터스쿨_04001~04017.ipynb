{
 "cells": [
  {
   "cell_type": "code",
   "execution_count": null,
   "metadata": {},
   "outputs": [],
   "source": [
    "## 04_001 자료 구조\n",
    "\n",
    "### 리스트, 튜플, 딕셔너리, 셋 / 셋은 중복된 데이터를 하나로 취급?"
   ]
  },
  {
   "cell_type": "code",
   "execution_count": 3,
   "metadata": {},
   "outputs": [
    {
     "name": "stdout",
     "output_type": "stream",
     "text": [
      "학생: ['kimjitae', 'Valeria', 'kimyootae']\n",
      "[1, 2, 3, 4, 5, 6, 7]\n",
      "<class 'list'>\n"
     ]
    }
   ],
   "source": [
    "## 04_002 리스트\n",
    "\n",
    "students = ['kimjitae', 'Valeria', 'kimyootae']\n",
    "\n",
    "print(f'학생: {students}')\n",
    "\n",
    "numbers = [1, 2, 3, 4, 5, 6, 7]\n",
    "\n",
    "print(numbers)\n",
    "\n",
    "print(type(students))\n"
   ]
  },
  {
   "cell_type": "code",
   "execution_count": 6,
   "metadata": {},
   "outputs": [
    {
     "name": "stdout",
     "output_type": "stream",
     "text": [
      "kimjitae\n",
      "Valeria\n",
      "kimyootae\n",
      "<class 'str'>\n"
     ]
    }
   ],
   "source": [
    "## 04_003 list item searching  /   리스트 아이템 조회\n",
    "\n",
    "students = ['kimjitae', 'Valeria', 'kimyootae']\n",
    "\n",
    "print(students[0])   # -> kimjitae\n",
    "print(students[1])   # -> Valeria\n",
    "print(students[2])   # -> kimyootae\n",
    "\n",
    "print(type(students[2]))\n"
   ]
  },
  {
   "cell_type": "code",
   "execution_count": 7,
   "metadata": {},
   "outputs": [
    {
     "name": "stdout",
     "output_type": "stream",
     "text": [
      "인덱스가 짝수인 경우 --> students[0]: kim\n",
      "인덱스가 홀수인 경우 --> students[1]: lee\n",
      "인덱스가 짝수인 경우 --> students[2]: kwang\n",
      "인덱스가 홀수인 경우 --> students[3]: park\n",
      "인덱스가 짝수인 경우 --> students[4]: choi\n"
     ]
    }
   ],
   "source": [
    "### \n",
    "\n",
    "students = ['kim', 'lee', 'kwang', 'park', 'choi']\n",
    "\n",
    "for i in range(5):\n",
    "  if i % 2 == 0:\n",
    "    print('인덱스가 짝수인 경우 --> students[{}]: {}'.format(i, students[i]))\n",
    "  else:\n",
    "    print('인덱스가 홀수인 경우 --> students[{}]: {}'.format(i, students[i]))\n"
   ]
  },
  {
   "cell_type": "code",
   "execution_count": 10,
   "metadata": {},
   "outputs": [
    {
     "name": "stdout",
     "output_type": "stream",
     "text": [
      "수영\n",
      "배구\n",
      "야구\n",
      "조깅\n",
      "수영\n",
      "배구\n",
      "야구\n",
      "조깅\n"
     ]
    }
   ],
   "source": [
    "## 04_004 길이 / 아이템 개수, len()을 통한 조회 / 문자열 길이 조회 \n",
    "\n",
    "\n",
    "myFavoriteSports = ['수영', '배구', '야구', '조깅']\n",
    "\n",
    "for i in range(len(myFavoriteSports)):\n",
    "  print(myFavoriteSports[i])\n",
    "  \n",
    "  \n",
    "for item in myFavoriteSports:\n",
    "  print(item)\n"
   ]
  },
  {
   "cell_type": "code",
   "execution_count": 11,
   "metadata": {},
   "outputs": [
    {
     "name": "stdout",
     "output_type": "stream",
     "text": [
      "수영\n",
      "배구\n",
      "야구\n",
      "조깅\n",
      "조깅\n",
      "조깅\n",
      "조깅\n",
      "조깅\n"
     ]
    }
   ],
   "source": [
    "## 04_004 길이 / 아이템 개수, len()을 통한 조회 / 문자열 길이 조회 \n",
    "\n",
    "\n",
    "myFavoriteSports = ['수영', '배구', '야구', '조깅']\n",
    "\n",
    "for i in range(len(myFavoriteSports)):\n",
    "  print(myFavoriteSports[i])\n",
    "  \n",
    "  \n",
    "for item in myFavoriteSports:\n",
    "  print(myFavoriteSports[i])\n",
    "  \n",
    "  \n",
    "## 질문 : 왜 이렇게 하면 끝에 조깅이 반복적으로 출력이 될까?\n"
   ]
  },
  {
   "cell_type": "code",
   "execution_count": 12,
   "metadata": {},
   "outputs": [
    {
     "name": "stdout",
     "output_type": "stream",
     "text": [
      "그랜저\n",
      "소나타\n",
      "말리부\n",
      "카니발\n",
      "쏘렌토\n",
      "그랜저\n",
      "소나타\n",
      "말리부\n",
      "카니발\n",
      "쏘렌토\n"
     ]
    }
   ],
   "source": [
    "## 04_005 리스트와 for 문\n",
    "\n",
    "cars = ['그랜저', '소나타', '말리부', '카니발', '쏘렌토']\n",
    "\n",
    "for i in range(len(cars)):\n",
    "  print(cars[i])\n",
    "  \n",
    "for car in cars:\n",
    "  print(car)\n",
    "\n"
   ]
  },
  {
   "cell_type": "code",
   "execution_count": 8,
   "metadata": {},
   "outputs": [
    {
     "name": "stdout",
     "output_type": "stream",
     "text": [
      "1반은 19명 입니다.\n",
      "2반은 20명 입니다.\n",
      "3반은 22명 입니다.\n",
      "4반은 18명 입니다.\n",
      "5반은 21명 입니다.\n",
      "1반은 19명 입니다.\n",
      "2반은 20명 입니다.\n",
      "3반은 22명 입니다.\n",
      "4반은 18명 입니다.\n",
      "5반은 21명 입니다.\n",
      "0 [1, 19]\n",
      "1 [2, 20]\n",
      "2 [3, 22]\n",
      "3 [4, 18]\n",
      "4 [5, 21]\n"
     ]
    }
   ],
   "source": [
    "studentsCnts = [ [1, 19], [2, 20], [3, 22], [4, 18], [5, 21]]\n",
    "\n",
    "for classNo, cnt in studentsCnts:\n",
    "  print(f'{classNo}반은 {cnt}명 입니다.')\n",
    "  \n",
    "  \n",
    "for i in range(len(studentsCnts)):\n",
    "  print(f'{studentsCnts[i][0]}반은 {studentsCnts[i][1]}명 입니다.')\n",
    "  \n",
    "for idx, value in enumerate(studentsCnts):\n",
    "  print('{} {}'.format(idx, value))"
   ]
  },
  {
   "cell_type": "code",
   "execution_count": 17,
   "metadata": {},
   "outputs": [
    {
     "name": "stdout",
     "output_type": "stream",
     "text": [
      "FAIL TEST :  국어 = 58\n",
      "FAIL TEST :  국사 = 50\n",
      "FAIL TEST :  국어 = 58\n",
      "FAIL TEST :  국사 = 50\n",
      "FAIL TEST :  국어 = 58\n",
      "FAIL TEST :  국사 = 50\n"
     ]
    }
   ],
   "source": [
    "## 04_006 리스트와 for 문 2\n",
    "\n",
    "minScore = 60\n",
    "\n",
    "scores = [\n",
    "  ['국어', 58],\n",
    "  ['영어', 77],\n",
    "  ['수학', 89],\n",
    "  ['과학', 99],\n",
    "  ['국사', 50]]\n",
    "\n",
    "for i in scores:\n",
    "  if i[1] < minScore:\n",
    "    print(f'FAIL TEST :  {i[0]} = {i[1]}')\n",
    "    \n",
    "    \n",
    "for subject, score in scores:\n",
    "  if score < minScore:\n",
    "    print(f'FAIL TEST :  {subject} = {score}')\n",
    "    \n",
    "for subject, score in scores:\n",
    "  if score >= minScore: continue\n",
    "  print(f'FAIL TEST :  {subject} = {score}')\n",
    "  \n",
    "  \n",
    "### 연습문제 풀기\n"
   ]
  },
  {
   "cell_type": "code",
   "execution_count": 1,
   "metadata": {},
   "outputs": [
    {
     "name": "stdout",
     "output_type": "stream",
     "text": [
      "그랜저\n",
      "소나타\n",
      "말리부\n",
      "카니발\n",
      "쏘렌토\n",
      "그랜저\n",
      "소나타\n",
      "말리부\n",
      "카니발\n",
      "쏘렌토\n",
      "그랜저\n",
      "소나타\n",
      "말리부\n",
      "카니발\n",
      "쏘렌토\n"
     ]
    }
   ],
   "source": [
    "## 04_007 리스트와 while 문 1\n",
    "\n",
    "cars = ['그랜저', '소나타', '말리부', '카니발', '쏘렌토']\n",
    "\n",
    "### 1\n",
    "n = 0\n",
    "while n < len(cars):\n",
    "  print(cars[n])\n",
    "  n += 1\n",
    "  \n",
    "### 2\n",
    "n = 0\n",
    "flag = True\n",
    "while flag:\n",
    "  print(cars[n])\n",
    "  n += 1\n",
    "  \n",
    "  if n == len(cars):\n",
    "    flag = False\n",
    "    \n",
    "### 3\n",
    "n = 0\n",
    "while True:\n",
    "  print(cars[n])\n",
    "  n += 1\n",
    "  \n",
    "  if n == len(cars):\n",
    "    break"
   ]
  },
  {
   "cell_type": "code",
   "execution_count": 3,
   "metadata": {},
   "outputs": [
    {
     "name": "stdout",
     "output_type": "stream",
     "text": [
      "1반은 19명 입니다.\n",
      "2반은 20명 입니다.\n",
      "3반은 22명 입니다.\n",
      "4반은 18명 입니다.\n",
      "5반은 21명 입니다.\n"
     ]
    }
   ],
   "source": [
    "studentsCnts = [ [1, 19], [2, 20], [3, 22], [4, 18], [5, 21]]\n",
    "\n",
    "n = 0\n",
    "while n < len(studentsCnts):\n",
    "  print(f'{studentsCnts[n][0]}반은 {studentsCnts[n][1]}명 입니다.')\n",
    "  n += 1\n",
    "\n"
   ]
  },
  {
   "cell_type": "code",
   "execution_count": 5,
   "metadata": {},
   "outputs": [
    {
     "name": "stdout",
     "output_type": "stream",
     "text": [
      "과락 과목: 국어 = 점수: 58\n",
      "과락 과목: 국사 = 점수: 50\n",
      "과락 과목: 국어 = 점수: 58\n",
      "과락 과목: 국사 = 점수: 50\n"
     ]
    }
   ],
   "source": [
    "## 04_008 리스트와 while 문 2\n",
    "\n",
    "minScore = 60\n",
    "scores = [\n",
    "  ['국어', 58],\n",
    "  ['영어', 77],\n",
    "  ['수학', 89],\n",
    "  ['과학', 99],\n",
    "  ['국사', 50]]\n",
    "\n",
    "n = 0\n",
    "while n < len(scores):\n",
    "  if scores[n][1] < minScore:\n",
    "    print('과락 과목: {} = 점수: {}'.format(scores[n][0], scores[n][1]))\n",
    "  n += 1\n",
    "  \n",
    "n = 0\n",
    "while n < len(scores):\n",
    "  if scores[n][1] >= minScore:\n",
    "    n += 1\n",
    "    continue # = 이 아래 쪽은 출력하지 말아라.\n",
    "  print('과락 과목: {} = 점수: {}'.format(scores[n][0], scores[n][1]))\n",
    "  n += 1\n",
    "  \n"
   ]
  },
  {
   "cell_type": "code",
   "execution_count": 7,
   "metadata": {},
   "outputs": [
    {
     "name": "stdout",
     "output_type": "stream",
     "text": [
      "0 : 그랜저\n",
      "1 : 소나타\n",
      "2 : 말리부\n",
      "3 : 카니발\n",
      "4 : 쏘렌토\n",
      "0 : 그랜저\n",
      "1 : 소나타\n",
      "2 : 말리부\n",
      "3 : 카니발\n",
      "4 : 쏘렌토\n"
     ]
    }
   ],
   "source": [
    "## enumerate 함수\n",
    "\n",
    "cars = ['그랜저', '소나타', '말리부', '카니발', '쏘렌토']\n",
    "\n",
    "for i in range(len(cars)):\n",
    "  print('{} : {}'.format(i, cars[i]))\n",
    "  \n",
    "for idx, value in enumerate(cars):\n",
    "  print('{} : {}'.format(idx, value))"
   ]
  },
  {
   "cell_type": "code",
   "execution_count": null,
   "metadata": {},
   "outputs": [],
   "source": [
    "## 04_010 리스트에 아이템 추가 \n",
    "\n",
    "### append 사용 \n",
    "\n",
    "### 리스트명.append(추가할 요소/아이템 이름)\n",
    "\n"
   ]
  },
  {
   "cell_type": "code",
   "execution_count": null,
   "metadata": {},
   "outputs": [],
   "source": [
    "## 04_011 특정 위치에 아이템 추가\n",
    "\n",
    "### insert 사용\n",
    "\n",
    "### 리스트명.insert(끼어들 자리/인덱스, 추가할 아이템 이름)\n",
    "\n",
    "### insert 로 추가한 아이템이 끼어들게 되고 그 뒤로는 한 칸씩 밀려남."
   ]
  },
  {
   "cell_type": "code",
   "execution_count": 17,
   "metadata": {},
   "outputs": [
    {
     "name": "stdout",
     "output_type": "stream",
     "text": [
      "0 1\n",
      "1 3\n",
      "2 6\n",
      "3 11\n",
      "4 45\n",
      "5 54\n",
      "6 62\n",
      "7 74\n",
      "8 85\n",
      "[1, 3, 6, 11, 22, 45, 54, 62, 74, 85]\n"
     ]
    }
   ],
   "source": [
    "### 중요 **\n",
    "\n",
    "numbers = [1,3,6,11,45,54,62,74,85]\n",
    "\n",
    "inputNumber = int(input('숫자 입력: '))\n",
    "\n",
    "insertIdx = 0\n",
    "\n",
    "for idx, number in enumerate(numbers):\n",
    "  print(idx, number)\n",
    "  \n",
    "  if insertIdx == 0 and inputNumber < number:\n",
    "    insertIdx = idx \n",
    "    \n",
    "numbers.insert(insertIdx, inputNumber)\n",
    "\n",
    "print(numbers)\n",
    "\n",
    "## 이해 잘 안됨\n"
   ]
  },
  {
   "cell_type": "code",
   "execution_count": 19,
   "metadata": {},
   "outputs": [
    {
     "name": "stdout",
     "output_type": "stream",
     "text": [
      "playersScores : [9.5, 8.9, 9.2, 9.8, 8.8, 9.0]\n",
      "minScore: 8.8, minScoreIdx: 4\n",
      "maxScore: 9.8, maxScoreIdx: 0\n",
      "playersScores : [8.9, 9.2, 9.8, 9.0]\n"
     ]
    }
   ],
   "source": [
    "## 04_012 리스트의 아이템 삭제  *****\n",
    "\n",
    "### pop() 함수 활용 / 마지막 해당 아이템을 삭제 가능\n",
    "\n",
    "### pop(n) 인덱스 n 에 해당 아이템을 삭제할 수 있다. \n",
    "\n",
    "\n",
    "### 변수 = 리스트.pop() / 혹은 / 변수 = 리스트.pop(n)  이렇게 변수에 할당하면 삭제한 데이터를 활용할 수 있다. \n",
    "\n",
    "playerScores = [9.5, 8.9, 9.2, 9.8, 8.8, 9.0]\n",
    "print('playersScores : {}'.format(playerScores))\n",
    "\n",
    "minScore = 0 ; maxScore = 0 ; minScoreIdx = 0; maxScoreIdx = 0\n",
    "\n",
    "for idx, score in enumerate(playerScores):\n",
    "  if idx == 0 or minScore > score:\n",
    "    minScoreIdx = idx\n",
    "    minScore = score\n",
    "\n",
    "print('minScore: {}, minScoreIdx: {}'.format(minScore, minScoreIdx))\n",
    "\n",
    "playerScores.pop(minScoreIdx)\n",
    "\n",
    "\n",
    "for idx, score in enumerate(playerScores):\n",
    "  if idx == 0 or maxScore < score:\n",
    "    minScoreIdx = idx\n",
    "    maxScore = score\n",
    "    \n",
    "print('maxScore: {}, maxScoreIdx: {}'.format(maxScore, maxScoreIdx))\n",
    "\n",
    "playerScores.pop(maxScoreIdx)\n",
    "\n",
    "print('playersScores : {}'.format(playerScores))"
   ]
  },
  {
   "cell_type": "code",
   "execution_count": 21,
   "metadata": {},
   "outputs": [
    {
     "name": "stdout",
     "output_type": "stream",
     "text": [
      "['홍길동', '박찬호', '이용규', '강호동', '박승철', '김지은', '강호동']\n",
      "['홍길동', '박찬호', '이용규', '박승철', '김지은']\n",
      "False\n"
     ]
    }
   ],
   "source": [
    "## 04_013 리스트의 특정 아이템 삭제\n",
    "\n",
    "### remove 함수 이용  =>   리스트.remove(삭제할 아이템이름)\n",
    "\n",
    "### remove는 한 개의 아이템만 삭제 가능하다. 만약 삭제하려는 데이터가 2개 이상이라면 while 문을 사용하자. \n",
    "\n",
    "students = ['홍길동', '박찬호', '이용규', '강호동', '박승철', '김지은', '강호동']\n",
    "\n",
    "print(students)\n",
    "\n",
    "while '강호동' in students:\n",
    "  students.remove('강호동')\n",
    "  \n",
    "print(students) \n",
    "\n",
    "print('강호동' in students)\n",
    "\n",
    "\n",
    "\n"
   ]
  },
  {
   "cell_type": "code",
   "execution_count": 23,
   "metadata": {},
   "outputs": [
    {
     "name": "stdout",
     "output_type": "stream",
     "text": [
      "group1: ['홍길동', '박찬호', '이용규']\n",
      "group2: ['강호동', '박승철', '김지은']\n",
      "group1: ['홍길동', '박찬호', '이용규', '강호동', '박승철', '김지은']\n",
      "group2: ['강호동', '박승철', '김지은']\n"
     ]
    }
   ],
   "source": [
    "## 04_014 리스트 연결 / 리스트에 다른 리스트를 연결하기\n",
    "\n",
    "### extend() 는 본인에 리스트를 확장하는 것\n",
    "\n",
    "g1 = ['홍길동', '박찬호', '이용규']\n",
    "g2 = ['강호동', '박승철', '김지은']\n",
    "\n",
    "print('group1: {}'.format(g1))\n",
    "print('group2: {}'.format(g2))\n",
    "\n",
    "g1.extend(g2)\n",
    "\n",
    "print('group1: {}'.format(g1))\n",
    "print('group2: {}'.format(g2))"
   ]
  },
  {
   "cell_type": "code",
   "execution_count": 24,
   "metadata": {},
   "outputs": [
    {
     "name": "stdout",
     "output_type": "stream",
     "text": [
      "group1: ['홍길동', '박찬호', '이용규']\n",
      "group2: ['강호동', '박승철', '김지은']\n",
      "group1: ['홍길동', '박찬호', '이용규']\n",
      "group2: ['강호동', '박승철', '김지은']\n",
      "group3: ['홍길동', '박찬호', '이용규', '강호동', '박승철', '김지은']\n"
     ]
    }
   ],
   "source": [
    "### 합치면 extend()와 다르게 아예 새로운 리스트가 생겨남\n",
    "\n",
    "g1 = ['홍길동', '박찬호', '이용규']\n",
    "g2 = ['강호동', '박승철', '김지은']\n",
    "\n",
    "print('group1: {}'.format(g1))\n",
    "print('group2: {}'.format(g2))\n",
    "\n",
    "g3 = g1 + g2\n",
    "\n",
    "print('group1: {}'.format(g1))\n",
    "print('group2: {}'.format(g2))\n",
    "print('group3: {}'.format(g3))"
   ]
  },
  {
   "cell_type": "code",
   "execution_count": 26,
   "metadata": {},
   "outputs": [
    {
     "name": "stdout",
     "output_type": "stream",
     "text": [
      "myFavoriteNumber: [1, 3, 5, 6, 7]\n",
      "friendFavoriteNumber: [2, 3, 5, 8, 10]\n",
      "addList: [1, 3, 5, 6, 7, 2, 3, 5, 8, 10]\n",
      "result: [1, 3, 5, 6, 7, 2, 8, 10]\n"
     ]
    }
   ],
   "source": [
    "myFavoriteNumber = [1, 3, 5, 6, 7]\n",
    "friendFavoriteNumber = [2, 3, 5, 8, 10]\n",
    "print('myFavoriteNumber: {}'.format(myFavoriteNumber))\n",
    "print('friendFavoriteNumber: {}'.format(friendFavoriteNumber))\n",
    "\n",
    "addList = myFavoriteNumber + friendFavoriteNumber\n",
    "\n",
    "print('addList: {}'.format(addList))  # 겹치는 숫자 발생\n",
    "\n",
    "result = []\n",
    "for number in addList:\n",
    "  if number not in result:\n",
    "    result.append(number)\n",
    "    \n",
    "    \n",
    "print('result: {}'.format(result))\n",
    "\n"
   ]
  },
  {
   "cell_type": "code",
   "execution_count": 30,
   "metadata": {},
   "outputs": [
    {
     "name": "stdout",
     "output_type": "stream",
     "text": [
      "students: ['홍길동', '박찬호', '이용규', '강호동', '박승철', '김지은']\n",
      "students: ['강호동', '김지은', '박승철', '박찬호', '이용규', '홍길동']\n",
      "students(reverse=True): ['홍길동', '이용규', '박찬호', '박승철', '김지은', '강호동']\n",
      "students(reverse=False): ['강호동', '김지은', '박승철', '박찬호', '이용규', '홍길동']\n"
     ]
    }
   ],
   "source": [
    "## 04_015 리스트 아이템 정렬 / 오름차순, 내림차순으로 정렬하기\n",
    "\n",
    "### sort() -> 오름차순 정렬 \n",
    "### sort(reverse = True) -> 내림차순 정렬\n",
    "\n",
    "students = ['홍길동', '박찬호', '이용규', '강호동', '박승철', '김지은']\n",
    "print('students: {}'.format(students))\n",
    "\n",
    "\n",
    "students.sort()\n",
    "print('students: {}'.format(students))\n",
    "\n",
    "students.sort(reverse=True)\n",
    "print('students(reverse=True): {}'.format(students))\n",
    "\n",
    "students.sort(reverse=False)\n",
    "print('students(reverse=False): {}'.format(students))"
   ]
  },
  {
   "cell_type": "code",
   "execution_count": null,
   "metadata": {},
   "outputs": [],
   "source": [
    "## 04_016 리스트 아이템 순서 뒤집기\n",
    "\n",
    "### reverse() -> 아이템들 순서를 뒤집을 수 있음\n",
    "\n"
   ]
  },
  {
   "cell_type": "code",
   "execution_count": null,
   "metadata": {},
   "outputs": [],
   "source": [
    "## 04_017 리스트 슬라이싱 / 원하는 아이템만 뽑아내자\n",
    "\n",
    "### [n : m] 인덱스 값 n 부터 m-1까지 슬라이싱\n",
    "### [n : ] 인덱스 값 n부터 끝까지 슬라이싱\n",
    "### [n : -m] 인덱스 값 n부터 (마지막 인덱스 값 - m)인 인덱스 값까지 / (리스트 길이 값 -m -1)인 인덱스 값까지\n",
    "\n",
    "\n",
    "### 문자열도 슬라이싱 가능\n",
    "\n",
    "### [n : m : k]  k칸씩 띄어 슬라이싱\n",
    "\n",
    "### 슬라이싱으로 아이템 변경 가능\n",
    "\n",
    "### [2:5] = [g, f, d]    기존 리스트의 2번~4번 값 대신 g, f, d 로 바꿈   갯수 안맞으면 안맞는 대로 됨 \n",
    "\n",
    "\n",
    "### slice() 함수 사용 가능  slice(2, 4)  ==  [2:4]\n",
    "\n"
   ]
  }
 ],
 "metadata": {
  "kernelspec": {
   "display_name": "Python 3",
   "language": "python",
   "name": "python3"
  },
  "language_info": {
   "codemirror_mode": {
    "name": "ipython",
    "version": 3
   },
   "file_extension": ".py",
   "mimetype": "text/x-python",
   "name": "python",
   "nbconvert_exporter": "python",
   "pygments_lexer": "ipython3",
   "version": "3.10.6"
  },
  "orig_nbformat": 4
 },
 "nbformat": 4,
 "nbformat_minor": 2
}
