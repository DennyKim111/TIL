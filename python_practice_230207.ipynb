{
 "cells": [
  {
   "cell_type": "code",
   "execution_count": 2,
   "id": "6aba88cc",
   "metadata": {},
   "outputs": [
    {
     "name": "stdout",
     "output_type": "stream",
     "text": [
      "게임점수를 입력하시오2222\n",
      "고수입니다.\n"
     ]
    }
   ],
   "source": [
    "score=int(input('게임점수를 입력하시오'))\n",
    "\n",
    "if score>=1000:\n",
    "    print('고수입니다.')\n",
    "else:\n",
    "    print('입문자입니다.')"
   ]
  },
  {
   "cell_type": "code",
   "execution_count": 4,
   "id": "9d7b9e27",
   "metadata": {},
   "outputs": [
    {
     "name": "stdout",
     "output_type": "stream",
     "text": [
      "당신은 성인인가요?(성인이면 1, 미성년이면 0)1\n",
      "당신은 성인입니다.\n",
      "결혼을 하셨나요?(기혼이면 1, 미혼이면 0)0\n",
      "당신은 결혼하지 않은 성인입니다.\n"
     ]
    }
   ],
   "source": [
    "question = int(input('당신은 성인인가요?(성인이면 1, 미성년이면 0)'))\n",
    "if question == 0:\n",
    "    print('당신은 미성년입니다.')\n",
    "else:\n",
    "    print('당신은 성인입니다.')\n",
    "    marry = int(input('결혼을 하셨나요?(기혼이면 1, 미혼이면 0)'))\n",
    "    if marry == 1:\n",
    "        print('당신은 결혼한 성인입니다.')\n",
    "    else:\n",
    "        print('당신은 결혼하지 않은 성인입니다.')    \n",
    "\n",
    "        \n"
   ]
  },
  {
   "cell_type": "code",
   "execution_count": 12,
   "id": "b58c1ed6",
   "metadata": {},
   "outputs": [
    {
     "name": "stdout",
     "output_type": "stream",
     "text": [
      "숫자를 입력하세요3\n",
      "True\n"
     ]
    }
   ],
   "source": [
    "\n",
    "num = int(input('숫자를 입력하세요'))\n",
    "if num >=1 and num <= 10:\n",
    "    print('True')"
   ]
  },
  {
   "cell_type": "code",
   "execution_count": 3,
   "id": "b2a5d80f",
   "metadata": {},
   "outputs": [
    {
     "name": "stdout",
     "output_type": "stream",
     "text": [
      "put your age12\n",
      "청소년입니다.\n"
     ]
    }
   ],
   "source": [
    "age = int(input('put your age'))\n",
    "if age > 10 and age <19:\n",
    "    print('청소년입니다.')"
   ]
  },
  {
   "cell_type": "code",
   "execution_count": 7,
   "id": "ddda40c9",
   "metadata": {},
   "outputs": [
    {
     "name": "stdout",
     "output_type": "stream",
     "text": [
      "자동차의 속도를 입력하세요.(단위 : km/h)78\n",
      "중속\n"
     ]
    }
   ],
   "source": [
    "speed = int(input('자동차의 속도를 입력하세요.(단위 : km/h)'))\n",
    "\n",
    "if speed >= 100:\n",
    "    print('고속')\n",
    "elif speed >= 60 and speed < 100:\n",
    "    print('중속')\n",
    "else:\n",
    "    print('저속')"
   ]
  },
  {
   "cell_type": "code",
   "execution_count": 12,
   "id": "d43d0a8d",
   "metadata": {},
   "outputs": [
    {
     "name": "stdout",
     "output_type": "stream",
     "text": [
      "미세먼지 농도를 입력하세요.88\n",
      "매우 나쁨\n"
     ]
    }
   ],
   "source": [
    "air = int(input('미세먼지 농도를 입력하세요.'))\n",
    "if air >= 76:\n",
    "    print('매우 나쁨')\n",
    "elif air >=36 and air < 76:\n",
    "    print('나쁨')\n",
    "elif air >=16 and air < 36:\n",
    "    print('보통')\n",
    "else:\n",
    "    print('좋음')"
   ]
  },
  {
   "cell_type": "code",
   "execution_count": 4,
   "id": "b1511f82",
   "metadata": {},
   "outputs": [
    {
     "name": "stdout",
     "output_type": "stream",
     "text": [
      "한 정수를 입력하시오.3\n",
      "다른 정수를 입력하시오.44\n",
      "두 값이 일치하지 않습니다.\n"
     ]
    }
   ],
   "source": [
    "a = int(input('한 정수를 입력하시오.'))\n",
    "b = int(input('다른 정수를 입력하시오.'))\n",
    "\n",
    "if a = b :\n",
    "    print('두 값이 일치합니다.')\n",
    "else:\n",
    "    print('두 값이 일치하지않습니다.')"
   ]
  },
  {
   "cell_type": "code",
   "execution_count": 13,
   "id": "c6be574c",
   "metadata": {},
   "outputs": [
    {
     "name": "stdout",
     "output_type": "stream",
     "text": [
      "Hello, Python!\n",
      "Hello, Python!\n",
      "Hello, Python!\n",
      "Hello, Python!\n",
      "Hello, Python!\n"
     ]
    }
   ],
   "source": [
    "for i in range(5):\n",
    "    print(\"Hello, Python!\")"
   ]
  },
  {
   "cell_type": "code",
   "execution_count": 14,
   "id": "d8ac18b4",
   "metadata": {},
   "outputs": [
    {
     "data": {
      "text/plain": [
       "[0, 1, 2, 3, 4]"
      ]
     },
     "execution_count": 14,
     "metadata": {},
     "output_type": "execute_result"
    }
   ],
   "source": [
    "list(range(5))"
   ]
  },
  {
   "cell_type": "code",
   "execution_count": 16,
   "id": "c1ecc559",
   "metadata": {},
   "outputs": [
    {
     "data": {
      "text/plain": [
       "[0, 1, 2, 3, 4]"
      ]
     },
     "execution_count": 16,
     "metadata": {},
     "output_type": "execute_result"
    }
   ],
   "source": [
    "list(range(0,5))"
   ]
  },
  {
   "cell_type": "code",
   "execution_count": 17,
   "id": "ce364e1a",
   "metadata": {},
   "outputs": [
    {
     "data": {
      "text/plain": [
       "[0, 1, 2, 3, 4]"
      ]
     },
     "execution_count": 17,
     "metadata": {},
     "output_type": "execute_result"
    }
   ],
   "source": [
    "list(range(0,5,1))"
   ]
  },
  {
   "cell_type": "code",
   "execution_count": null,
   "id": "81f2bf8a",
   "metadata": {},
   "outputs": [],
   "source": [
    "# 여기까지 230207 11:00 am"
   ]
  },
  {
   "cell_type": "code",
   "execution_count": 1,
   "id": "8261ffb1",
   "metadata": {},
   "outputs": [
    {
     "data": {
      "text/plain": [
       "[0, 2, 4]"
      ]
     },
     "execution_count": 1,
     "metadata": {},
     "output_type": "execute_result"
    }
   ],
   "source": [
    "list(range(0,5,2))"
   ]
  },
  {
   "cell_type": "code",
   "execution_count": 2,
   "id": "fe799648",
   "metadata": {},
   "outputs": [
    {
     "data": {
      "text/plain": [
       "[2,\n",
       " 4,\n",
       " 6,\n",
       " 8,\n",
       " 10,\n",
       " 12,\n",
       " 14,\n",
       " 16,\n",
       " 18,\n",
       " 20,\n",
       " 22,\n",
       " 24,\n",
       " 26,\n",
       " 28,\n",
       " 30,\n",
       " 32,\n",
       " 34,\n",
       " 36,\n",
       " 38,\n",
       " 40,\n",
       " 42,\n",
       " 44,\n",
       " 46,\n",
       " 48,\n",
       " 50,\n",
       " 52,\n",
       " 54,\n",
       " 56,\n",
       " 58,\n",
       " 60,\n",
       " 62,\n",
       " 64,\n",
       " 66,\n",
       " 68,\n",
       " 70,\n",
       " 72,\n",
       " 74,\n",
       " 76,\n",
       " 78,\n",
       " 80,\n",
       " 82,\n",
       " 84,\n",
       " 86,\n",
       " 88,\n",
       " 90,\n",
       " 92,\n",
       " 94,\n",
       " 96,\n",
       " 98,\n",
       " 100]"
      ]
     },
     "execution_count": 2,
     "metadata": {},
     "output_type": "execute_result"
    }
   ],
   "source": [
    "list(range(2, 101, 2))"
   ]
  },
  {
   "cell_type": "code",
   "execution_count": 3,
   "id": "d04187e2",
   "metadata": {},
   "outputs": [
    {
     "data": {
      "text/plain": [
       "[1,\n",
       " 3,\n",
       " 5,\n",
       " 7,\n",
       " 9,\n",
       " 11,\n",
       " 13,\n",
       " 15,\n",
       " 17,\n",
       " 19,\n",
       " 21,\n",
       " 23,\n",
       " 25,\n",
       " 27,\n",
       " 29,\n",
       " 31,\n",
       " 33,\n",
       " 35,\n",
       " 37,\n",
       " 39,\n",
       " 41,\n",
       " 43,\n",
       " 45,\n",
       " 47,\n",
       " 49,\n",
       " 51,\n",
       " 53,\n",
       " 55,\n",
       " 57,\n",
       " 59,\n",
       " 61,\n",
       " 63,\n",
       " 65,\n",
       " 67,\n",
       " 69,\n",
       " 71,\n",
       " 73,\n",
       " 75,\n",
       " 77,\n",
       " 79,\n",
       " 81,\n",
       " 83,\n",
       " 85,\n",
       " 87,\n",
       " 89,\n",
       " 91,\n",
       " 93,\n",
       " 95,\n",
       " 97,\n",
       " 99]"
      ]
     },
     "execution_count": 3,
     "metadata": {},
     "output_type": "execute_result"
    }
   ],
   "source": [
    "list(range(1, 101, 2))"
   ]
  },
  {
   "cell_type": "code",
   "execution_count": 7,
   "id": "3b174a4b",
   "metadata": {},
   "outputs": [
    {
     "data": {
      "text/plain": [
       "[-1,\n",
       " -2,\n",
       " -3,\n",
       " -4,\n",
       " -5,\n",
       " -6,\n",
       " -7,\n",
       " -8,\n",
       " -9,\n",
       " -10,\n",
       " -11,\n",
       " -12,\n",
       " -13,\n",
       " -14,\n",
       " -15,\n",
       " -16,\n",
       " -17,\n",
       " -18,\n",
       " -19,\n",
       " -20,\n",
       " -21,\n",
       " -22,\n",
       " -23,\n",
       " -24,\n",
       " -25,\n",
       " -26,\n",
       " -27,\n",
       " -28,\n",
       " -29,\n",
       " -30,\n",
       " -31,\n",
       " -32,\n",
       " -33,\n",
       " -34,\n",
       " -35,\n",
       " -36,\n",
       " -37,\n",
       " -38,\n",
       " -39,\n",
       " -40,\n",
       " -41,\n",
       " -42,\n",
       " -43,\n",
       " -44,\n",
       " -45,\n",
       " -46,\n",
       " -47,\n",
       " -48,\n",
       " -49,\n",
       " -50,\n",
       " -51,\n",
       " -52,\n",
       " -53,\n",
       " -54,\n",
       " -55,\n",
       " -56,\n",
       " -57,\n",
       " -58,\n",
       " -59,\n",
       " -60,\n",
       " -61,\n",
       " -62,\n",
       " -63,\n",
       " -64,\n",
       " -65,\n",
       " -66,\n",
       " -67,\n",
       " -68,\n",
       " -69,\n",
       " -70,\n",
       " -71,\n",
       " -72,\n",
       " -73,\n",
       " -74,\n",
       " -75,\n",
       " -76,\n",
       " -77,\n",
       " -78,\n",
       " -79,\n",
       " -80,\n",
       " -81,\n",
       " -82,\n",
       " -83,\n",
       " -84,\n",
       " -85,\n",
       " -86,\n",
       " -87,\n",
       " -88,\n",
       " -89,\n",
       " -90,\n",
       " -91,\n",
       " -92,\n",
       " -93,\n",
       " -94,\n",
       " -95,\n",
       " -96,\n",
       " -97,\n",
       " -98,\n",
       " -99]"
      ]
     },
     "execution_count": 7,
     "metadata": {},
     "output_type": "execute_result"
    }
   ],
   "source": [
    "list(range(-1, -100, -1))"
   ]
  },
  {
   "cell_type": "code",
   "execution_count": 8,
   "id": "0ba908c9",
   "metadata": {},
   "outputs": [
    {
     "name": "stdout",
     "output_type": "stream",
     "text": [
      "0\n",
      "1\n",
      "2\n",
      "3\n",
      "4\n"
     ]
    }
   ],
   "source": [
    "for i in range(5):\n",
    "    print(i)"
   ]
  },
  {
   "cell_type": "code",
   "execution_count": 11,
   "id": "919ad5af",
   "metadata": {},
   "outputs": [
    {
     "name": "stdout",
     "output_type": "stream",
     "text": [
      "0, 1, 2, 3, 4, "
     ]
    }
   ],
   "source": [
    "for i in range(5):\n",
    "    print(i, end=\", \")"
   ]
  },
  {
   "cell_type": "code",
   "execution_count": 13,
   "id": "0b4f17ae",
   "metadata": {},
   "outputs": [
    {
     "name": "stdout",
     "output_type": "stream",
     "text": [
      "01234"
     ]
    }
   ],
   "source": [
    "for i in range(0, 5):\n",
    "    print(i, end='')"
   ]
  },
  {
   "cell_type": "code",
   "execution_count": 16,
   "id": "35397aba",
   "metadata": {},
   "outputs": [
    {
     "name": "stdout",
     "output_type": "stream",
     "text": [
      "0 1 2 3 4 \n"
     ]
    }
   ],
   "source": [
    "for i in range(0,5):\n",
    "    print(i, end=' ')\n",
    "print()"
   ]
  },
  {
   "cell_type": "code",
   "execution_count": 17,
   "id": "08358301",
   "metadata": {},
   "outputs": [
    {
     "name": "stdout",
     "output_type": "stream",
     "text": [
      "234"
     ]
    }
   ],
   "source": [
    "for i in range(2, 5):\n",
    "    print(i, end='')"
   ]
  },
  {
   "cell_type": "code",
   "execution_count": 18,
   "id": "e63077a8",
   "metadata": {},
   "outputs": [
    {
     "name": "stdout",
     "output_type": "stream",
     "text": [
      "1에서 10까지의 합: 55\n"
     ]
    }
   ],
   "source": [
    "s = 0\n",
    "\n",
    "for i in range(1, 11):\n",
    "    s = s + i\n",
    "    \n",
    "print('1에서 10까지의 합:', s)"
   ]
  },
  {
   "cell_type": "code",
   "execution_count": 19,
   "id": "0801194f",
   "metadata": {},
   "outputs": [
    {
     "name": "stdout",
     "output_type": "stream",
     "text": [
      "i = 1, s=1\n",
      "i = 2, s=3\n",
      "i = 3, s=6\n",
      "i = 4, s=10\n",
      "i = 5, s=15\n",
      "i = 6, s=21\n",
      "i = 7, s=28\n",
      "i = 8, s=36\n",
      "i = 9, s=45\n",
      "i = 10, s=55\n",
      "1에서 10까지의 합:  55\n"
     ]
    }
   ],
   "source": [
    "s = 0\n",
    "\n",
    "for i in range(1, 11):\n",
    "    s = s + i\n",
    "    print('i = {}, s={}'.format(i, s))\n",
    "    \n",
    "print('1에서 10까지의 합: ', s) "
   ]
  },
  {
   "cell_type": "code",
   "execution_count": 20,
   "id": "1e197b01",
   "metadata": {},
   "outputs": [
    {
     "name": "stdout",
     "output_type": "stream",
     "text": [
      "1부터 100까지의 합은: 5050\n"
     ]
    }
   ],
   "source": [
    "k = 0\n",
    "\n",
    "for i in range(1, 101):\n",
    "    k = k + i\n",
    "\n",
    "print('1부터 100까지의 합은:', k)"
   ]
  },
  {
   "cell_type": "code",
   "execution_count": 21,
   "id": "b481509d",
   "metadata": {},
   "outputs": [
    {
     "name": "stdout",
     "output_type": "stream",
     "text": [
      "1부터 100까지의 짝수의 합은: 2550\n"
     ]
    }
   ],
   "source": [
    "k = 0\n",
    "\n",
    "for i in range(2, 101, 2):\n",
    "    k = k + i\n",
    "\n",
    "print('1부터 100까지의 짝수의 합은:', k)"
   ]
  },
  {
   "cell_type": "code",
   "execution_count": 22,
   "id": "7a7ecf58",
   "metadata": {},
   "outputs": [
    {
     "name": "stdout",
     "output_type": "stream",
     "text": [
      "1부터 100까지의 홀수의 합은: 2500\n"
     ]
    }
   ],
   "source": [
    "k = 0\n",
    "\n",
    "for i in range(1, 101, 2):\n",
    "    k = k + i\n",
    "\n",
    "print('1부터 100까지의 홀수의 합은:', k)"
   ]
  },
  {
   "cell_type": "code",
   "execution_count": 24,
   "id": "f871cef5",
   "metadata": {},
   "outputs": [
    {
     "name": "stdout",
     "output_type": "stream",
     "text": [
      "합계를 구할 수를 입력하세요 : 444\n",
      "1부터 444까지의 합은 98790\n"
     ]
    }
   ],
   "source": [
    "n = int(input('합계를 구할 수를 입력하세요 : '))\n",
    "s = 0\n",
    "\n",
    "for i in range(1, n+1):\n",
    "    s = s + i\n",
    "    \n",
    "print('1부터 {}까지의 합은 {}'.format(n, s))"
   ]
  },
  {
   "cell_type": "code",
   "execution_count": 25,
   "id": "50436125",
   "metadata": {},
   "outputs": [
    {
     "name": "stdout",
     "output_type": "stream",
     "text": [
      "정수를 입력하세요 : 99\n",
      "99! = 933262154439441526816992388562667004907159682643816214685929638952175999932299156089414639761565182862536979208272237582511852109168640000000000000000000000\n"
     ]
    }
   ],
   "source": [
    "n = int(input('정수를 입력하세요 : '))\n",
    "fact = 1\n",
    "for i in range(1, n+1):\n",
    "    fact = fact * i\n",
    "    \n",
    "print('{}! = {}'.format(n, fact))"
   ]
  },
  {
   "cell_type": "code",
   "execution_count": 3,
   "id": "37eb7019",
   "metadata": {},
   "outputs": [
    {
     "name": "stdout",
     "output_type": "stream",
     "text": [
      "#\n",
      " #\n",
      "  #\n",
      "   #\n",
      "    #\n",
      "     #\n",
      "      #\n",
      "       #\n",
      "        #\n",
      "         #\n",
      "          #\n"
     ]
    }
   ],
   "source": [
    "\n",
    "\n",
    "n = 11\n",
    "for i in range(n) : \n",
    "    st = ''\n",
    "    for j in range(i):\n",
    "        st = st + ' '\n",
    "    print(st + '#')"
   ]
  },
  {
   "cell_type": "code",
   "execution_count": null,
   "id": "e5957b52",
   "metadata": {},
   "outputs": [],
   "source": [
    "# LAB 3-9\n",
    "\n",
    "n = 7\n",
    "for i in range(n) :\n",
    "    st = ''\n",
    "    for j in range(i):\n",
    "        st = st + ' '\n",
    "        \n",
    "    print("
   ]
  },
  {
   "cell_type": "code",
   "execution_count": null,
   "id": "1c4176e8",
   "metadata": {},
   "outputs": [],
   "source": []
  },
  {
   "cell_type": "code",
   "execution_count": null,
   "id": "edb034d9",
   "metadata": {},
   "outputs": [],
   "source": []
  }
 ],
 "metadata": {
  "kernelspec": {
   "display_name": "Python 3 (ipykernel)",
   "language": "python",
   "name": "python3"
  },
  "language_info": {
   "codemirror_mode": {
    "name": "ipython",
    "version": 3
   },
   "file_extension": ".py",
   "mimetype": "text/x-python",
   "name": "python",
   "nbconvert_exporter": "python",
   "pygments_lexer": "ipython3",
   "version": "3.10.6"
  }
 },
 "nbformat": 4,
 "nbformat_minor": 5
}
