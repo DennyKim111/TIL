{
 "cells": [
  {
   "cell_type": "code",
   "execution_count": 4,
   "metadata": {},
   "outputs": [
    {
     "name": "stdout",
     "output_type": "stream",
     "text": [
      "세금 : 100,000원\n"
     ]
    }
   ],
   "source": [
    "# 30강 ~\n",
    "\n",
    "carDisplacement = int(input('자동차 배기량 입력 : '))\n",
    "\n",
    "if carDisplacement >= 5000:\n",
    "    print('세금 : {0:,}원' .format(600000))\n",
    "elif carDisplacement >= 4000:\n",
    "    print('세금 : {0:,}원' .format(500000))\n",
    "elif carDisplacement >= 3000:\n",
    "    print('세금 : {0:,}원' .format(400000))\n",
    "elif carDisplacement >= 2000:\n",
    "    print('세금 : {0:,}원' .format(300000))\n",
    "elif carDisplacement >= 1000:\n",
    "    print('세금 : {0:,}원' .format(200000))\n",
    "else :\n",
    "    print('세금 : {0:,}원' .format(100000))"
   ]
  },
  {
   "cell_type": "code",
   "execution_count": 6,
   "metadata": {},
   "outputs": [
    {
     "name": "stdout",
     "output_type": "stream",
     "text": [
      "A\n"
     ]
    }
   ],
   "source": [
    "examScore = int(input('시험 점수 : '))\n",
    "\n",
    "if examScore < 60:\n",
    "    print('재시험 대상입니다.')\n",
    "else :\n",
    "    if examScore >= 90:\n",
    "        print('A')\n",
    "    elif examScore >= 80:\n",
    "        print('B')\n",
    "    elif examScore >= 80:\n",
    "        print('C')\n",
    "    elif examScore >= 80:\n",
    "        print('D')"
   ]
  },
  {
   "cell_type": "code",
   "execution_count": 7,
   "metadata": {},
   "outputs": [
    {
     "name": "stdout",
     "output_type": "stream",
     "text": [
      "교통 수단을 선택하세요\n",
      "세금감면 3%\n"
     ]
    }
   ],
   "source": [
    "commuter = int(input('1 = Yes \\t2 = No. : '))\n",
    "\n",
    "if commuter ==1 :\n",
    "    print('교통 수단을 선택하세요')\n",
    "    trans = int(input('1 = 도보, 자전거 \\t 2. 버스, 지하철 \\t 3. 자가용'))\n",
    "    if trans ==1:\n",
    "        print('세금 감면 5%')\n",
    "    if trans ==2:\n",
    "        print('세금감면 3%')\n",
    "    if trans ==3:\n",
    "        print('추가 세금 1%')\n",
    "else:\n",
    "    print('세금 변동 없음')"
   ]
  },
  {
   "cell_type": "code",
   "execution_count": 10,
   "metadata": {},
   "outputs": [
    {
     "name": "stdout",
     "output_type": "stream",
     "text": [
      "Hello\n",
      "0\n",
      "Hello\n",
      "1\n",
      "Hello\n",
      "2\n",
      "Hello\n",
      "3\n",
      "Hello\n",
      "4\n",
      "Hello\n",
      "5\n",
      "Hello\n",
      "6\n",
      "7 * 0 = 0\n",
      "7 * 1 = 7\n",
      "7 * 2 = 14\n",
      "7 * 3 = 21\n",
      "7 * 4 = 28\n",
      "7 * 5 = 35\n",
      "7 * 6 = 42\n",
      "7 * 7 = 49\n",
      "7 * 8 = 56\n",
      "7 * 9 = 63\n"
     ]
    }
   ],
   "source": [
    "# 32 반복문\n",
    "# 33 횟수에 의한 반복\n",
    "\n",
    "\n",
    "for i in range(7):\n",
    "    print('Hello')\n",
    "    print(i)\n",
    "\n",
    "\n",
    "for i in range(10):\n",
    "    result = 7*i\n",
    "    print('{} * {} = {}' .format(7, i, result))"
   ]
  },
  {
   "cell_type": "code",
   "execution_count": 12,
   "metadata": {},
   "outputs": [
    {
     "name": "stdout",
     "output_type": "stream",
     "text": [
      "Hi loop statement\n",
      "Hi loop statement\n",
      "Hi loop statement\n",
      "Hi loop statement\n",
      "Hi loop statement\n"
     ]
    }
   ],
   "source": [
    "for k in range(100):\n",
    "    pass\n",
    "\n",
    "for h in range(5):\n",
    "    print('Hi', end = ' ')\n",
    "    print('loop statement')\n",
    "\n"
   ]
  },
  {
   "cell_type": "code",
   "execution_count": 13,
   "metadata": {},
   "outputs": [
    {
     "name": "stdout",
     "output_type": "stream",
     "text": [
      "Hello Python\n",
      "Hello Python\n",
      "Hello Python\n",
      "Hello Python\n",
      "Hello Python\n"
     ]
    }
   ],
   "source": [
    "for k in range(5):\n",
    "    print('Hello Python')"
   ]
  },
  {
   "cell_type": "code",
   "execution_count": 15,
   "metadata": {},
   "outputs": [
    {
     "name": "stdout",
     "output_type": "stream",
     "text": [
      "7 * 1 = 7\n",
      "7 * 2 = 14\n",
      "7 * 3 = 21\n",
      "7 * 4 = 28\n",
      "7 * 5 = 35\n",
      "7 * 6 = 42\n",
      "7 * 7 = 49\n",
      "7 * 8 = 56\n",
      "7 * 9 = 63\n"
     ]
    }
   ],
   "source": [
    "num = int(input('몇 단을 원하십니까 : '))\n",
    "\n",
    "for i in range(1, 10):\n",
    "    print('{} * {} = {}' .format(num, i, num * i))"
   ]
  },
  {
   "cell_type": "code",
   "execution_count": 17,
   "metadata": {},
   "outputs": [
    {
     "name": "stdout",
     "output_type": "stream",
     "text": [
      "2\n",
      "4\n",
      "6\n",
      "8\n",
      "10\n",
      "12\n",
      "14\n",
      "16\n",
      "18\n",
      "20\n",
      "22\n",
      "24\n",
      "26\n",
      "28\n",
      "30\n",
      "32\n",
      "34\n",
      "36\n",
      "38\n",
      "40\n",
      "42\n",
      "44\n",
      "46\n",
      "48\n",
      "50\n",
      "52\n",
      "54\n",
      "56\n",
      "58\n",
      "60\n",
      "62\n",
      "64\n",
      "66\n"
     ]
    }
   ],
   "source": [
    "# 34강 range(시작, 끝+1, 몇 개씩 증가)\n",
    "\n",
    "startNum = int(input('반복의 시작 숫자 : '))\n",
    "endNum = int(input('반복의 끝 숫자 : '))\n",
    "\n",
    "for i in range(startNum, (endNum+1), 2):\n",
    "    print(i)\n"
   ]
  },
  {
   "cell_type": "code",
   "execution_count": 20,
   "metadata": {},
   "outputs": [
    {
     "name": "stdout",
     "output_type": "stream",
     "text": [
      "0\n",
      "1\n",
      "2\n",
      "3\n",
      "4\n",
      "5\n",
      "6\n",
      "7\n",
      "8\n",
      "9\n",
      "10\n"
     ]
    }
   ],
   "source": [
    "# 조건에 의한 반복 = while 문 / 35강\n",
    "\n",
    "endNum = 10\n",
    "\n",
    "n = 0\n",
    "\n",
    "while n <= endNum:\n",
    "    print(n)\n",
    "    # n = n + 1\n",
    "    n += 1\n",
    "\n"
   ]
  },
  {
   "cell_type": "code",
   "execution_count": 22,
   "metadata": {},
   "outputs": [
    {
     "name": "stdout",
     "output_type": "stream",
     "text": [
      "7 * 1 = 7\n",
      "7 * 2 = 14\n",
      "7 * 3 = 21\n",
      "7 * 4 = 28\n",
      "7 * 5 = 35\n",
      "7 * 6 = 42\n",
      "7 * 7 = 49\n",
      "7 * 8 = 56\n",
      "7 * 9 = 63\n"
     ]
    }
   ],
   "source": [
    "n = 1\n",
    "while n < 10:\n",
    "    result = 7 * n\n",
    "    print('7 * {} = {}' .format(n, result))\n",
    "    n += 1"
   ]
  },
  {
   "cell_type": "code",
   "execution_count": 23,
   "metadata": {},
   "outputs": [
    {
     "name": "stdout",
     "output_type": "stream",
     "text": [
      "Hello\n",
      "Hi\n",
      "Hello\n",
      "Hi\n",
      "Hello\n",
      "Hi\n",
      "Hello\n",
      "Hi\n",
      "Hello\n",
      "Hi\n",
      "Hello\n",
      "Hi\n",
      "Hello\n",
      "Hi\n",
      "Hello\n",
      "Hi\n",
      "Hello\n",
      "Hi\n",
      "Hello\n",
      "Hi\n"
     ]
    }
   ],
   "source": [
    "n = 0\n",
    "while n < 10:\n",
    "    print('Hello')\n",
    "    print('Hi')\n",
    "    n += 1"
   ]
  },
  {
   "cell_type": "code",
   "execution_count": 24,
   "metadata": {},
   "outputs": [
    {
     "name": "stdout",
     "output_type": "stream",
     "text": [
      "2 은 2의 배수이다.\n",
      "3 은 3의 배수이다.\n",
      "4 은 2의 배수이다.\n",
      "6 은 2의 배수이다.\n",
      "6 은 3의 배수이다.\n",
      "8 은 2의 배수이다.\n",
      "9 은 3의 배수이다.\n",
      "10 은 2의 배수이다.\n",
      "12 은 2의 배수이다.\n",
      "12 은 3의 배수이다.\n",
      "14 은 2의 배수이다.\n",
      "15 은 3의 배수이다.\n",
      "16 은 2의 배수이다.\n",
      "18 은 2의 배수이다.\n",
      "18 은 3의 배수이다.\n",
      "20 은 2의 배수이다.\n",
      "21 은 3의 배수이다.\n",
      "22 은 2의 배수이다.\n",
      "24 은 2의 배수이다.\n",
      "24 은 3의 배수이다.\n",
      "26 은 2의 배수이다.\n",
      "27 은 3의 배수이다.\n",
      "28 은 2의 배수이다.\n",
      "30 은 2의 배수이다.\n",
      "30 은 3의 배수이다.\n",
      "32 은 2의 배수이다.\n",
      "33 은 3의 배수이다.\n",
      "34 은 2의 배수이다.\n",
      "36 은 2의 배수이다.\n",
      "36 은 3의 배수이다.\n",
      "38 은 2의 배수이다.\n",
      "39 은 3의 배수이다.\n",
      "40 은 2의 배수이다.\n",
      "42 은 2의 배수이다.\n",
      "42 은 3의 배수이다.\n",
      "44 은 2의 배수이다.\n",
      "45 은 3의 배수이다.\n",
      "46 은 2의 배수이다.\n",
      "48 은 2의 배수이다.\n",
      "48 은 3의 배수이다.\n",
      "50 은 2의 배수이다.\n",
      "51 은 3의 배수이다.\n",
      "52 은 2의 배수이다.\n",
      "54 은 2의 배수이다.\n",
      "54 은 3의 배수이다.\n",
      "56 은 2의 배수이다.\n",
      "57 은 3의 배수이다.\n",
      "58 은 2의 배수이다.\n",
      "60 은 2의 배수이다.\n",
      "60 은 3의 배수이다.\n",
      "62 은 2의 배수이다.\n",
      "63 은 3의 배수이다.\n",
      "64 은 2의 배수이다.\n",
      "66 은 2의 배수이다.\n",
      "66 은 3의 배수이다.\n",
      "68 은 2의 배수이다.\n",
      "69 은 3의 배수이다.\n",
      "70 은 2의 배수이다.\n",
      "72 은 2의 배수이다.\n",
      "72 은 3의 배수이다.\n",
      "74 은 2의 배수이다.\n",
      "75 은 3의 배수이다.\n",
      "76 은 2의 배수이다.\n",
      "78 은 2의 배수이다.\n",
      "78 은 3의 배수이다.\n",
      "80 은 2의 배수이다.\n",
      "81 은 3의 배수이다.\n",
      "82 은 2의 배수이다.\n",
      "84 은 2의 배수이다.\n",
      "84 은 3의 배수이다.\n",
      "86 은 2의 배수이다.\n",
      "87 은 3의 배수이다.\n",
      "88 은 2의 배수이다.\n",
      "90 은 2의 배수이다.\n",
      "90 은 3의 배수이다.\n",
      "92 은 2의 배수이다.\n",
      "93 은 3의 배수이다.\n",
      "94 은 2의 배수이다.\n",
      "96 은 2의 배수이다.\n",
      "96 은 3의 배수이다.\n",
      "98 은 2의 배수이다.\n",
      "99 은 3의 배수이다.\n",
      "100 은 2의 배수이다.\n"
     ]
    }
   ],
   "source": [
    "# 1~100 정수 중 2의 배수와 3의 배수 구분해서 출력\n",
    "\n",
    "n = 1\n",
    "\n",
    "while n < 101:\n",
    "    if n % 2 == 0:\n",
    "        print('{} 은 2의 배수이다.' .format(n))\n",
    "    if n % 3 == 0:\n",
    "        print('{} 은 3의 배수이다.' .format(n))\n",
    "    n += 1"
   ]
  },
  {
   "cell_type": "code",
   "execution_count": 25,
   "metadata": {},
   "outputs": [
    {
     "name": "stdout",
     "output_type": "stream",
     "text": [
      "9 * 1 = 9\n",
      "9 * 2 = 18\n",
      "9 * 3 = 27\n",
      "9 * 4 = 36\n",
      "9 * 5 = 45\n",
      "9 * 6 = 54\n",
      "9 * 7 = 63\n",
      "9 * 8 = 72\n",
      "9 * 9 = 81\n"
     ]
    }
   ],
   "source": [
    "gugu = int(input('몇 단의 구구단을 알고 싶으신가요? : '))\n",
    "\n",
    "n = 1\n",
    "while n < 10:\n",
    "    result = gugu * n\n",
    "    print('{} * {} = {}' .format(gugu, n, result))\n",
    "    n += 1"
   ]
  },
  {
   "cell_type": "code",
   "execution_count": 26,
   "metadata": {},
   "outputs": [
    {
     "name": "stdout",
     "output_type": "stream",
     "text": [
      "sum : 55\n"
     ]
    }
   ],
   "source": [
    "# 36 for 문 while 문 비교\n",
    "\n",
    "sum = 0\n",
    "\n",
    "for i in range(1, 11):\n",
    "    sum += i\n",
    "\n",
    "print('sum : {}' .format(sum))\n",
    "\n"
   ]
  },
  {
   "cell_type": "code",
   "execution_count": 27,
   "metadata": {},
   "outputs": [
    {
     "name": "stdout",
     "output_type": "stream",
     "text": [
      "sum : 55\n"
     ]
    }
   ],
   "source": [
    "sum = 0\n",
    "\n",
    "n = 1\n",
    "while n < 11:\n",
    "    sum += n\n",
    "    n += 1\n",
    "\n",
    "print('sum : {}' .format(sum))"
   ]
  },
  {
   "cell_type": "code",
   "execution_count": 28,
   "metadata": {},
   "outputs": [
    {
     "name": "stdout",
     "output_type": "stream",
     "text": [
      "i : 1\n",
      "i : 2\n",
      "i : 3\n",
      "i : 4\n",
      "i : 5\n",
      "i : 6\n",
      "i : 7\n",
      "i : 8\n",
      "i : 9\n",
      "i : 10\n",
      "i : 11\n",
      "i : 12\n",
      "i : 13\n",
      "i : 14\n",
      "i : 15\n",
      "i : 16\n",
      "i : 17\n",
      "i : 18\n",
      "i : 19\n",
      "i : 20\n",
      "i : 21\n",
      "i : 22\n",
      "i : 23\n",
      "i : 24\n",
      "i : 25\n",
      "i : 26\n",
      "i : 27\n",
      "i : 28\n",
      "i : 29\n",
      "i : 30\n",
      "i : 31\n",
      "i : 32\n",
      "i : 33\n",
      "i : 34\n",
      "i : 35\n",
      "i : 36\n",
      "i : 37\n",
      "i : 38\n",
      "i : 39\n",
      "i : 40\n",
      "i : 41\n",
      "i : 42\n",
      "i : 43\n",
      "i : 44\n",
      "i : 45\n",
      "i : 46\n",
      "i : 47\n",
      "i : 48\n",
      "i : 49\n",
      "i : 50\n",
      "i : 51\n",
      "i : 52\n",
      "i : 53\n",
      "i : 54\n",
      "i : 55\n",
      "i : 56\n",
      "i : 57\n",
      "i : 58\n",
      "i : 59\n",
      "i : 60\n",
      "i : 61\n",
      "i : 62\n",
      "i : 63\n",
      "i : 64\n",
      "i : 65\n",
      "i : 66\n",
      "i : 67\n",
      "i : 68\n",
      "i : 69\n",
      "i : 70\n",
      "i : 71\n",
      "i : 72\n",
      "i : 73\n",
      "i : 74\n",
      "i : 75\n",
      "i : 76\n",
      "i : 77\n",
      "i : 78\n",
      "i : 79\n",
      "i : 80\n",
      "i : 81\n",
      "i : 82\n",
      "i : 83\n",
      "i : 84\n",
      "i : 85\n",
      "i : 86\n",
      "i : 87\n",
      "i : 88\n",
      "i : 89\n",
      "i : 90\n",
      "i : 91\n",
      "i : 92\n",
      "i : 93\n",
      "i : 94\n",
      "i : 95\n",
      "i : 96\n",
      "i : 97\n",
      "i : 98\n",
      "i : 99\n",
      "i : 100\n",
      "7의 배수의 합이 50이상인 최초의 정수 : 28\n"
     ]
    }
   ],
   "source": [
    "sum = 0\n",
    "maxInt = 0\n",
    "for i in range(1, 101):\n",
    "    if i % 7 == 0 and sum <= 50:\n",
    "        sum += i\n",
    "        maxInt = i\n",
    "    print('i : {}' .format(i))\n",
    "\n",
    "print('7의 배수의 합이 50이상인 최초의 정수 : {}' .format(maxInt))\n",
    "\n"
   ]
  },
  {
   "cell_type": "code",
   "execution_count": 29,
   "metadata": {},
   "outputs": [
    {
     "name": "stdout",
     "output_type": "stream",
     "text": [
      "n : 2\n",
      "n : 3\n",
      "n : 4\n",
      "n : 5\n",
      "n : 6\n",
      "n : 7\n",
      "n : 8\n",
      "n : 9\n",
      "n : 10\n",
      "n : 11\n",
      "n : 12\n",
      "n : 13\n",
      "n : 14\n",
      "n : 15\n",
      "n : 16\n",
      "n : 17\n",
      "n : 18\n",
      "n : 19\n",
      "n : 20\n",
      "n : 21\n",
      "n : 22\n",
      "n : 23\n",
      "n : 24\n",
      "n : 25\n",
      "n : 26\n",
      "n : 27\n",
      "n : 28\n",
      "7의 배수의 합이 50이상인 최초의 정수 : 28\n"
     ]
    }
   ],
   "source": [
    "sum = 0\n",
    "maxInt = 0\n",
    "n =1\n",
    "while n < 101 and sum <= 50:\n",
    "    n += 1\n",
    "    if n % 7 == 0:\n",
    "        sum += n\n",
    "        maxInt = n\n",
    "\n",
    "    print('n : {}'.format(n))\n",
    "\n",
    "print('7의 배수의 합이 50이상인 최초의 정수 : {}' .format(maxInt))\n"
   ]
  },
  {
   "cell_type": "code",
   "execution_count": 30,
   "metadata": {},
   "outputs": [
    {
     "name": "stdout",
     "output_type": "stream",
     "text": [
      "운행 가능 횟수 : 66\n"
     ]
    }
   ],
   "source": [
    "currentThickness = 30\n",
    "rotationCount = 0\n",
    "removeThickness = 0.15\n",
    "\n",
    "while currentThickness >= 20:\n",
    "    rotationCount += 1\n",
    "    currentThickness -= removeThickness\n",
    "\n",
    "safeRotationCount = rotationCount - 1\n",
    "\n",
    "print('운행 가능 횟수 : {}' .format(safeRotationCount))\n"
   ]
  }
 ],
 "metadata": {
  "kernelspec": {
   "display_name": "Python 3",
   "language": "python",
   "name": "python3"
  },
  "language_info": {
   "codemirror_mode": {
    "name": "ipython",
    "version": 3
   },
   "file_extension": ".py",
   "mimetype": "text/x-python",
   "name": "python",
   "nbconvert_exporter": "python",
   "pygments_lexer": "ipython3",
   "version": "3.10.6"
  },
  "orig_nbformat": 4
 },
 "nbformat": 4,
 "nbformat_minor": 2
}
