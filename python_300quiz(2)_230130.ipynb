{
 "cells": [
  {
   "cell_type": "code",
   "execution_count": 5,
   "id": "20a0fea9",
   "metadata": {},
   "outputs": [
    {
     "name": "stdout",
     "output_type": "stream",
     "text": [
      "이름: 김민수 나이: 10\n",
      "이름: 이철희 나이: 13\n",
      "이름: 김지태 나이: 111\n",
      "이름: 김지태 나이: 111\n"
     ]
    }
   ],
   "source": [
    "# 035 문자열 출력 -> 틀림 / 다시 보기\n",
    "# 변수에 다음과 같이 문자열과 정수가 바인딩되어 있을 때 \n",
    "# % formatting을 사용해서 다음과 같이 출력해보세요.\n",
    "\n",
    "name1 = \"김민수\" \n",
    "age1 = 10\n",
    "name2 = \"이철희\"\n",
    "age2 = 13\n",
    "\n",
    "name4444 = \"김지태\"\n",
    "age4444 = 111\n",
    "\n",
    "\n",
    "# 이름: 김민수 나이: 10\n",
    "# 이름: 이철희 나이: 13\n",
    "\n",
    "# 정답확인\n",
    "# print 포맷팅에서 `%s`는 문자열 데이터 \n",
    "# 타입의 값을 `%d`는 정수형 데이터 타입 값의 출력을 의미합니다.\n",
    "\n",
    "# print(\"이름: %s 나이: %d\" % (name1, age1))\n",
    "# print(\"이름: %s 나이: %d\" % (name2, age2))\n",
    "\n",
    "print(\"이름: %s 나이: %d\" %(name1, age1))\n",
    "print(\"이름: %s 나이: %d\" %(name2, age2))\n",
    "\n",
    "print(\"이름: %s 나이: %d\" %(name4444, age4444))\n",
    "\n",
    "print(\"이름: %s 나이: %d\" %(name4444, age4444))\n"
   ]
  },
  {
   "cell_type": "code",
   "execution_count": 2,
   "id": "15d0ca0a",
   "metadata": {},
   "outputs": [
    {
     "name": "stdout",
     "output_type": "stream",
     "text": [
      "이름: 김민수 나이: 10\n",
      "이름: 이철희 나이: 13\n",
      "이름: 김민수 나이: 10\n",
      "이름: 이철희 나이: 13\n"
     ]
    }
   ],
   "source": [
    "# 036 문자열 출력 -> 틀림 / 다시 보기 / 이건 실현 과정 설명 들어야 함.\n",
    "# 문자열의 format( ) 메서드를 사용해서 035번 문제를 다시 풀어보세요.\n",
    "\n",
    "# 정답확인\n",
    "# 문자열의 포맷 메서드는 타입과 상관없이 값이 \n",
    "# 출력될 위치에 `{ }`를 적어주면 됩니다.\n",
    "\n",
    "name1 = \"김민수\" \n",
    "age1 = 10\n",
    "name2 = \"이철희\"\n",
    "age2 = 13\n",
    "\n",
    "print(\"이름: {} 나이: {}\".format(name1, age1))\n",
    "print(\"이름: {} 나이: {}\".format(name2, age2))\n",
    "\n",
    "print(\"이름: {} 나이: {}\".format(name1, age1))\n",
    "print(\"이름: {} 나이: {}\".format(name2, age2))"
   ]
  },
  {
   "cell_type": "code",
   "execution_count": null,
   "id": "7bfc1fcc",
   "metadata": {},
   "outputs": [],
   "source": [
    "# 037 문자열 출력 -> 틀림 / 다시 보기 실행 과정 필수\n",
    "# 파이썬 3.6부터 지원하는 f-string을 사용해서 \n",
    "# 035번 문제를 다시 풀어보세요.\n",
    "\n",
    "name1 = \"김민수\" \n",
    "age1 = 10\n",
    "name2 = \"이철희\"\n",
    "age2 = 13\n",
    "\n",
    "\n",
    "# 정답확인\n",
    "# f-string은 문자열 앞에 f가 붙은 형태입니다. \n",
    "# f-string을 사용하면 `{변수}`와 같은 형태로 \n",
    "# 문자열 사이에 타입과 상관없이 값을 출력할 수 있습니다.\n",
    "\n",
    "print(f\"이름: {name1} 나이: {age1}\")\n",
    "print(f\"이름: {name2} 나이: {age2}\")\n"
   ]
  },
  {
   "cell_type": "code",
   "execution_count": 7,
   "id": "d8ecb103",
   "metadata": {},
   "outputs": [
    {
     "name": "stdout",
     "output_type": "stream",
     "text": [
      "5969782550 <class 'int'>\n"
     ]
    }
   ],
   "source": [
    "# 038 컴마 제거하기 -> 틀림 / 다시 보기\n",
    "# 삼성전자의 상장주식수가 다음과 같습니다. \n",
    "# 컴마를 제거한 후 이를 정수 타입으로 변환해보세요.\n",
    "\n",
    "상장주식수 = \"5,969,782,550\"\n",
    "\n",
    "컴마제거 = 상장주식수.replace(\",\", \"\")\n",
    "\n",
    "정수타입 = int(컴마제거)\n",
    "\n",
    "print(정수타입, type(정수타입))\n",
    "\n"
   ]
  },
  {
   "cell_type": "code",
   "execution_count": 10,
   "id": "d93a48d1",
   "metadata": {},
   "outputs": [
    {
     "name": "stdout",
     "output_type": "stream",
     "text": [
      "2020/03\n",
      "2020/03\n"
     ]
    }
   ],
   "source": [
    "# 039 문자열 슬라이싱\n",
    "# 다음과 같은 문자열에서 '2020/03'만 출력하세요.\n",
    "\n",
    "분기 = \"2020/03(E) (IFRS연결)\"\n",
    "\n",
    "요약 = 분기.replace(\"(E) (IFRS연결)\", \"\")\n",
    "\n",
    "print(요약)\n",
    "\n",
    "print(분기[:7])"
   ]
  },
  {
   "cell_type": "code",
   "execution_count": 11,
   "id": "a47e7d5c",
   "metadata": {},
   "outputs": [
    {
     "name": "stdout",
     "output_type": "stream",
     "text": [
      "삼성전자\n"
     ]
    }
   ],
   "source": [
    "# 040 strip 메서드 / 답은 맞았는데 \n",
    "# 문자열의 좌우의 공백이 있을 때 이를 제거해보세요.\n",
    "\n",
    "data = \"   삼성전자    \"\n",
    "\n",
    "공백없음 = data.replace(\" \", \"\")\n",
    "\n",
    "print(공백없음)\n",
    "\n",
    "\n",
    "# 정답확인\n",
    "# 문자열에서 strip( ) 메서드를 사용하면 \n",
    "# 좌우의 공백을 제거할 수 있습니다. \n",
    "# 이때 원본 문자열은 그대로 유지되고 \n",
    "# 공백이 제거된 새로운 문자열이 반환됩니다.\n",
    "# data = \"   삼성전자    \"\n",
    "# data1 = data.strip()\n",
    "# print(data1)\n"
   ]
  },
  {
   "cell_type": "code",
   "execution_count": null,
   "id": "badef855",
   "metadata": {},
   "outputs": [],
   "source": []
  },
  {
   "cell_type": "code",
   "execution_count": null,
   "id": "17967197",
   "metadata": {},
   "outputs": [],
   "source": []
  },
  {
   "cell_type": "code",
   "execution_count": null,
   "id": "037e449c",
   "metadata": {},
   "outputs": [],
   "source": []
  },
  {
   "cell_type": "code",
   "execution_count": null,
   "id": "d09cef58",
   "metadata": {},
   "outputs": [],
   "source": []
  },
  {
   "cell_type": "code",
   "execution_count": null,
   "id": "32064f64",
   "metadata": {},
   "outputs": [],
   "source": []
  },
  {
   "cell_type": "code",
   "execution_count": null,
   "id": "3c0699c9",
   "metadata": {},
   "outputs": [],
   "source": []
  },
  {
   "cell_type": "code",
   "execution_count": null,
   "id": "27923c53",
   "metadata": {},
   "outputs": [],
   "source": []
  },
  {
   "cell_type": "code",
   "execution_count": null,
   "id": "958abe0e",
   "metadata": {},
   "outputs": [],
   "source": []
  },
  {
   "cell_type": "code",
   "execution_count": null,
   "id": "c0b93aee",
   "metadata": {},
   "outputs": [],
   "source": []
  },
  {
   "cell_type": "code",
   "execution_count": null,
   "id": "283624e8",
   "metadata": {},
   "outputs": [],
   "source": []
  },
  {
   "cell_type": "code",
   "execution_count": null,
   "id": "ade58ffc",
   "metadata": {},
   "outputs": [],
   "source": []
  },
  {
   "cell_type": "code",
   "execution_count": null,
   "id": "fed14bd1",
   "metadata": {},
   "outputs": [],
   "source": []
  },
  {
   "cell_type": "code",
   "execution_count": null,
   "id": "52db7785",
   "metadata": {},
   "outputs": [],
   "source": []
  },
  {
   "cell_type": "code",
   "execution_count": null,
   "id": "7c4fe7f9",
   "metadata": {},
   "outputs": [],
   "source": []
  },
  {
   "cell_type": "code",
   "execution_count": null,
   "id": "cc6824dd",
   "metadata": {},
   "outputs": [],
   "source": []
  }
 ],
 "metadata": {
  "kernelspec": {
   "display_name": "Python 3 (ipykernel)",
   "language": "python",
   "name": "python3"
  },
  "language_info": {
   "codemirror_mode": {
    "name": "ipython",
    "version": 3
   },
   "file_extension": ".py",
   "mimetype": "text/x-python",
   "name": "python",
   "nbconvert_exporter": "python",
   "pygments_lexer": "ipython3",
   "version": "3.10.6"
  }
 },
 "nbformat": 4,
 "nbformat_minor": 5
}
