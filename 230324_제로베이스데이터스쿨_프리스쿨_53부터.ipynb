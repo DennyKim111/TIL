{
 "cells": [
  {
   "cell_type": "code",
   "execution_count": null,
   "metadata": {},
   "outputs": [],
   "source": [
    "carSpeed = int(input('속도 입력 : '))\n",
    "limitSpeed = 50\n",
    "\n",
    "if carSpeed > 50 :\n",
    "  print('안전속도 위반!! 과태료 5만원 부과 대상!!!')\n",
    "  \n",
    "if carSpeed <= 50 :\n",
    "  print('안전속도 준수!!')\n"
   ]
  },
  {
   "cell_type": "code",
   "execution_count": 1,
   "metadata": {},
   "outputs": [
    {
     "name": "stdout",
     "output_type": "stream",
     "text": [
      "sms 발송!\n"
     ]
    }
   ],
   "source": [
    "msg = str(input('메시지 입력: '))\n",
    "\n",
    "msgSize = len(msg)\n",
    "\n",
    "msgPrice = 50\n",
    "\n",
    "if msgSize <= 50:\n",
    "  msgPrice = 50\n",
    "  print('sms 발송!')\n",
    "if msgSize>50:\n",
    "  msgPrice = 100\n",
    "  print('MMS 발송!')\n",
    "  \n",
    "print('메시지 길이: {}'.format(msgSize))\n",
    "print('메시지 발송 요금: {}원'.format(msgPrice))\n",
    "\n"
   ]
  },
  {
   "cell_type": "code",
   "execution_count": 9,
   "metadata": {},
   "outputs": [
    {
     "name": "stdout",
     "output_type": "stream",
     "text": [
      "@@@@@@@@@@@@@@@@@@@@@@@@@@@@@@@@@\n",
      "총점: 325(-100),\t평균: 65.0(85.0)\n",
      "국어: 99(14),    영어: 65(-17),    수학: 98(9),    과학: 45(-30),    국사: 18(-76)\n",
      "@@@@@@@@@@@@@@@@@@@@@@@@@@@@@@@@@\n",
      "국어 편차: ++++++++++++++(14)\n",
      "영어 편차: -----------------(-17)\n",
      "수학 편차: +++++++++(9)\n",
      "과학 편차: ------------------------------(-30)\n",
      "국사 편차: ----------------------------------------------------------------------------(-76)\n",
      "@@@@@@@@@@@@@@@@@@@@@@@@@@@@@@@@@\n"
     ]
    }
   ],
   "source": [
    "avgkor = 85\n",
    "avgeng = 82\n",
    "avgmat = 89\n",
    "avgsci = 75\n",
    "avghis = 94\n",
    "totalOfAvg = avgkor + avgeng + avgmat + avgsci + avghis\n",
    "avgOfAvg = totalOfAvg / 5\n",
    "\n",
    "kor = int(input('국어 점수 입력: '))\n",
    "eng = int(input('영어 점수 입력: '))\n",
    "mat = int(input('수학 점수 입력: '))\n",
    "sci = int(input('과학 점수 입력: '))\n",
    "his = int(input('국사 점수 입력: '))\n",
    "total = kor + eng + mat + sci + his\n",
    "avg = total / 5\n",
    "\n",
    "gapkor = kor - avgkor\n",
    "gapeng = eng - avgeng\n",
    "gapmat = mat - avgmat\n",
    "gapsci = sci - avgsci\n",
    "gaphis = his - avghis\n",
    "\n",
    "if gapkor >= 0:\n",
    "  gapScaleKor = '+'\n",
    "else:\n",
    "  gapScaleKor = '-'\n",
    "  \n",
    "if gapeng >= 0:\n",
    "  gapScaleEng = '+'\n",
    "else:\n",
    "  gapScaleEng = '-'\n",
    "\n",
    "if gapmat >= 0:\n",
    "  gapScaleMat = '+'\n",
    "else:\n",
    "  gapScaleMat = '-'\n",
    "  \n",
    "if gapsci >= 0:\n",
    "  gapScaleSci = '+'\n",
    "else:\n",
    "  gapScaleSci = '-'\n",
    "  \n",
    "if gaphis >= 0:\n",
    "  gapScaleHis = '+'\n",
    "else:\n",
    "  gapScaleHis = '-'\n",
    "\n",
    "\n",
    "print('@'*33)\n",
    "print('총점: {}({}),\\t평균: {}({})' .format(total, total - totalOfAvg, avg, avgOfAvg))\n",
    "print('국어: {}({}),    영어: {}({}),    수학: {}({}),    과학: {}({}),    국사: {}({})'.format(kor, gapkor, eng, gapeng, mat, gapmat, sci, gapsci, his, gaphis))\n",
    "print('@'*33)\n",
    "print('국어 편차: {}({})'.format(gapScaleKor * abs(gapkor), gapkor))\n",
    "print('영어 편차: {}({})'.format(gapScaleEng * abs(gapeng), gapeng))\n",
    "print('수학 편차: {}({})'.format(gapScaleMat * abs(gapmat), gapmat))\n",
    "print('과학 편차: {}({})'.format(gapScaleSci * abs(gapsci), gapsci))\n",
    "print('국사 편차: {}({})'.format(gapScaleHis * abs(gaphis), gaphis))\n",
    "print('@'*33)"
   ]
  },
  {
   "cell_type": "code",
   "execution_count": 10,
   "metadata": {},
   "outputs": [
    {
     "name": "stdout",
     "output_type": "stream",
     "text": [
      "@@@@@@@@@@@@@@@@@@@@@@@@@@@@@@@@@\n",
      "총점: 373(-52),\t평균: 74.6(85.0)\n",
      "국어: 94(9),    영어: 66(-16),    수학: 98(9),    과학: 51(-24),    국사: 64(-30)\n",
      "@@@@@@@@@@@@@@@@@@@@@@@@@@@@@@@@@\n",
      "국어 편차: +++++++++(9)\n",
      "영어 편차: ----------------(-16)\n",
      "수학 편차: +++++++++(9)\n",
      "과학 편차: ------------------------(-24)\n",
      "국사 편차: ------------------------------(-30)\n",
      "총점 편차: ----------------------------------------------------(-52)\n",
      "@@@@@@@@@@@@@@@@@@@@@@@@@@@@@@@@@\n"
     ]
    }
   ],
   "source": [
    "avgkor = 85\n",
    "avgeng = 82\n",
    "avgmat = 89\n",
    "avgsci = 75\n",
    "avghis = 94\n",
    "totalOfAvg = avgkor + avgeng + avgmat + avgsci + avghis\n",
    "avgOfAvg = totalOfAvg / 5\n",
    "\n",
    "kor = int(input('국어 점수 입력: '))\n",
    "eng = int(input('영어 점수 입력: '))\n",
    "mat = int(input('수학 점수 입력: '))\n",
    "sci = int(input('과학 점수 입력: '))\n",
    "his = int(input('국사 점수 입력: '))\n",
    "total = kor + eng + mat + sci + his\n",
    "avg = total / 5\n",
    "\n",
    "totalGap = total - totalOfAvg\n",
    "\n",
    "gapkor = kor - avgkor\n",
    "gapeng = eng - avgeng\n",
    "gapmat = mat - avgmat\n",
    "gapsci = sci - avgsci\n",
    "gaphis = his - avghis\n",
    "\n",
    "\n",
    "\n",
    "\n",
    "print('@'*33)\n",
    "print('총점: {}({}),\\t평균: {}({})' .format(total, total - totalOfAvg, avg, avgOfAvg))\n",
    "print('국어: {}({}),    영어: {}({}),    수학: {}({}),    과학: {}({}),    국사: {}({})'.format(kor, gapkor, eng, gapeng, mat, gapmat, sci, gapsci, his, gaphis))\n",
    "print('@'*33)\n",
    "\n",
    "gapScaleKor = \"+\" if gapkor > 0 else '-'\n",
    "gapScaleEng = \"+\" if gapeng > 0 else '-'\n",
    "gapScaleMat = \"+\" if gapmat > 0 else '-'\n",
    "gapScaleSci = \"+\" if gapsci > 0 else '-'\n",
    "gapScaleHis = \"+\" if gaphis > 0 else '-'\n",
    "gapScaleTotal = \"+\" if totalGap > 0 else '-'\n",
    "\n",
    "print('국어 편차: {}({})'.format(gapScaleKor * abs(gapkor), gapkor))\n",
    "print('영어 편차: {}({})'.format(gapScaleEng * abs(gapeng), gapeng))\n",
    "print('수학 편차: {}({})'.format(gapScaleMat * abs(gapmat), gapmat))\n",
    "print('과학 편차: {}({})'.format(gapScaleSci * abs(gapsci), gapsci))\n",
    "print('국사 편차: {}({})'.format(gapScaleHis * abs(gaphis), gaphis))\n",
    "print('총점 편차: {}({})'.format(gapScaleTotal * abs(totalGap), totalGap))\n",
    "print('@'*33)"
   ]
  },
  {
   "cell_type": "code",
   "execution_count": 13,
   "metadata": {},
   "outputs": [
    {
     "name": "stdout",
     "output_type": "stream",
     "text": [
      "실패!! 홀수!!\n"
     ]
    }
   ],
   "source": [
    "import random\n",
    "\n",
    "comNum = random.randint(1, 2)\n",
    "\n",
    "userSelect = input('홀/짝 선택: 1. 홀 \\t2.짝')\n",
    "userSelect = int(userSelect)\n",
    "if comNum == 1 and userSelect == 1:\n",
    "  print('빙고!! 홀수!!')\n",
    "elif comNum == 2 and userSelect == 2:\n",
    "  print('빙고!! 짝수!!' )\n",
    "elif comNum == 1 and userSelect == 2:\n",
    "  print('실패!! 홀수!!' )\n",
    "elif comNum == 2 and userSelect == 1:\n",
    "  print('실패!! 짝수!!' )\n",
    "  \n",
    "  "
   ]
  },
  {
   "cell_type": "code",
   "execution_count": 15,
   "metadata": {},
   "outputs": [
    {
     "name": "stdout",
     "output_type": "stream",
     "text": [
      "무승부 입니다.\n",
      "com: 3, user: 3\n"
     ]
    }
   ],
   "source": [
    "import random\n",
    "\n",
    "comNum = random.randint(1, 3)\n",
    "userNum = int(input('가위, 바위, 보 선택: 1.가위 \\t 2.바위 \\t 3.보'))\n",
    "\n",
    "if comNum ==1 and userNum == 2 or comNum ==2 and userNum == 3 or comNum == 3 and userNum ==1:\n",
    "  \n",
    "  print(\"컴퓨터를 이겼습니다.\")\n",
    "elif comNum == userNum:\n",
    "  print(\"무승부 입니다.\")\n",
    "else:\n",
    "  print(\"패배\")\n",
    "  \n",
    "print('com: {}, user: {}'.format(comNum, userNum))\n",
    "\n"
   ]
  },
  {
   "cell_type": "code",
   "execution_count": 24,
   "metadata": {},
   "outputs": [
    {
     "name": "stdout",
     "output_type": "stream",
     "text": [
      "=======================================================\n",
      "상수도 요금표 3\n",
      "-------------------------------------------------------\n",
      "사용량\t:\t요금\n",
      "470\n",
      "650\t:\t305500\n",
      "=======================================================\n"
     ]
    }
   ],
   "source": [
    "userKind = int(input('업종 입력 (1. 가정용        2. 대중탕용             3. 공업용):  '))\n",
    "useAmount = int(input('사용량 입력: '))\n",
    "userPrice = 0\n",
    "\n",
    "if userKind == 1: \n",
    "  userPrice = 540\n",
    "  \n",
    "elif userKind ==2:\n",
    "  if useAmount <= 50:\n",
    "    userPrice = 820\n",
    "  elif useAmount >50 and useAmount <= 300:\n",
    "    userPrice = 1920\n",
    "  elif useAmount > 300:\n",
    "    userPrice = 2400\n",
    "  \n",
    "elif userKind == 3:\n",
    "  if useAmount <= 500:\n",
    "    userPrice = 240\n",
    "  elif useAmount > 500:\n",
    "    userPrice = 470\n",
    "\n",
    "print('='*55)\n",
    "print('상수도 요금표', userKind)\n",
    "print('-' * 55)\n",
    "print('사용량\\t:\\t요금')\n",
    "userFee = useAmount * userPrice\n",
    "\n",
    "print(userPrice)\n",
    "print('{}\\t:\\t{}'.format(useAmount, userFee))\n",
    "print('='*55)\n"
   ]
  },
  {
   "cell_type": "code",
   "execution_count": 28,
   "metadata": {},
   "outputs": [
    {
     "name": "stdout",
     "output_type": "stream",
     "text": [
      "-------------------------------------------------------\n",
      "2023-03-24 17:07:06.201609\n",
      "-------------------------------------------------------\n",
      "금일 운행 가능합니다.\n",
      "-------------------------------------------------------\n"
     ]
    }
   ],
   "source": [
    "import datetime\n",
    "\n",
    "today = datetime.datetime.today()\n",
    "day = today.day\n",
    "\n",
    "limitDust = 150\n",
    "\n",
    "\n",
    "microDust = int(input('미세먼지 수치 입력: '))\n",
    "carType = int(input('차량 종류 선택 1. 승용차 \\t 2. 영업용차 : '))\n",
    "carNum = int(input('차량 번호 입력: '))\n",
    "\n",
    "print('-'*55)\n",
    "print(today) \n",
    "print('-'*55)\n",
    "if microDust > limitDust and carType == 1:\n",
    "  if (day % 2) == (carNum % 2):\n",
    "    print('차량 2부제 적용')\n",
    "    print('차량 2부제로 금일 운행제한 대상 차량입니다.')\n",
    "  else:\n",
    "    print('금일 운행 가능합니다.')\n",
    "    \n",
    "if microDust > limitDust and carType ==2:\n",
    "  if (day % 5) == (carNum % 5):\n",
    "    print('차량 5부제 적용')\n",
    "    print('차량 5부제로 금일 운행제한 대상 차량입니다.')\n",
    "  else:\n",
    "    print('금일 운행 가능합니다.')\n",
    "if microDust <= limitDust :\n",
    "  if (day % 5) == (carNum % 5):\n",
    "    print('차량 5부제 적용')\n",
    "    print('차량 5부제로 금일 운행제한 대상 차량입니다.')\n",
    "  else:\n",
    "    print('금일 운행 가능합니다.')\n",
    "print('-'*55)\n"
   ]
  },
  {
   "cell_type": "code",
   "execution_count": 6,
   "metadata": {},
   "outputs": [
    {
     "name": "stdout",
     "output_type": "stream",
     "text": [
      "난수가 작다!\n",
      "난수: 416, 시도 횟수: 1, 입력 숫자: 666\n",
      "난수가 작다!\n",
      "난수: 416, 시도 횟수: 2, 입력 숫자: 666\n",
      "난수가 작다!\n",
      "난수: 416, 시도 횟수: 3, 입력 숫자: 545\n",
      "빙고!\n",
      "난수: 416, 시도 횟수: 4, 입력 숫자: 416\n"
     ]
    }
   ],
   "source": [
    "import random\n",
    "rNum = random.randint(1, 1000)\n",
    "\n",
    "tryCnt = 0\n",
    "\n",
    "gameFlag = True\n",
    "\n",
    "while gameFlag:\n",
    "  tryCnt += 1\n",
    "  pNum = int(input('1에서 1,000까지의 정수 입력: '))\n",
    "\n",
    "  if rNum == pNum:\n",
    "    print('빙고!')\n",
    "    gameFlag = False\n",
    "  else:\n",
    "    if rNum > pNum:\n",
    "      print('난수가 크다')\n",
    "    else:\n",
    "      print('난수가 작다!')\n",
    "  print('난수: {}, 시도 횟수: {}, 입력 숫자: {}' .format(rNum, tryCnt, pNum))   \n",
    "\n"
   ]
  },
  {
   "cell_type": "code",
   "execution_count": 8,
   "metadata": {},
   "outputs": [
    {
     "name": "stdout",
     "output_type": "stream",
     "text": [
      "실내온도 입력: \n",
      "에어컨: 매우 강!!\n"
     ]
    }
   ],
   "source": [
    "innerTemp = int(input('실내온도 입력: '))\n",
    "\n",
    "print('실내온도 입력: '.format(innerTemp))\n",
    "\n",
    "if innerTemp <= 18:\n",
    "  print(\"에어컨: off\")\n",
    "if innerTemp > 18 and innerTemp <= 22:\n",
    "  print(\"에어컨: 매우 약!!\")\n",
    "if innerTemp >= 22 and innerTemp <= 24:\n",
    "  print(\"에어컨: 약!!\")\n",
    "if innerTemp >24 and innerTemp <=26:\n",
    "  print(\"에어컨: 중!!\")\n",
    "if innerTemp > 26 and innerTemp <= 28:\n",
    "  print(\"에어컨: 강!!\")\n",
    "if innerTemp > 28:\n",
    "  print(\"에어컨: 매우 강!!\")"
   ]
  }
 ],
 "metadata": {
  "kernelspec": {
   "display_name": "Python 3",
   "language": "python",
   "name": "python3"
  },
  "language_info": {
   "codemirror_mode": {
    "name": "ipython",
    "version": 3
   },
   "file_extension": ".py",
   "mimetype": "text/x-python",
   "name": "python",
   "nbconvert_exporter": "python",
   "pygments_lexer": "ipython3",
   "version": "3.10.6"
  },
  "orig_nbformat": 4
 },
 "nbformat": 4,
 "nbformat_minor": 2
}
