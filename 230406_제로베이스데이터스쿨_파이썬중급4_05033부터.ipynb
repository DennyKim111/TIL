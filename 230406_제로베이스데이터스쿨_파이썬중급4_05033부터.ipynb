{
 "cells": [
  {
   "cell_type": "code",
   "execution_count": 2,
   "metadata": {},
   "outputs": [
    {
     "name": "stdout",
     "output_type": "stream",
     "text": [
      "55 / 11 = 5.0\n"
     ]
    }
   ],
   "source": [
    "# 05 033 사용자 예외 클래스 / 내가 직접 예외를 처리하자\n",
    "# exception 클래스 상속 -> 사용자\n",
    "\n",
    "class NotUseZeroException(Exception):\n",
    "  \n",
    "  def __init__(self, n):\n",
    "    super().__init__(f'{n}은 사용할 수 없습니다!!')\n",
    "   \n",
    "    \n",
    "def divCalculator(num1, num2):\n",
    "  \n",
    "  if num2 == 0:\n",
    "    raise NotUseZeroException(num2)\n",
    "  else:\n",
    "    print(f'{num1} / {num2} = {num1 / num2}')\n",
    "  \n",
    "num1 = int(input('input number1: '))\n",
    "num2 = int(input('input number2: '))\n",
    "  \n",
    "try:\n",
    "  divCalculator(num1, num2)\n",
    "except NotUseZeroException as e:   # 왜 클래스 이름 다음에 ()를 안 넣지?  \n",
    "    print(e)"
   ]
  },
  {
   "cell_type": "code",
   "execution_count": 6,
   "metadata": {},
   "outputs": [
    {
     "name": "stdout",
     "output_type": "stream",
     "text": [
      "로그인에 성공했습니다!\n"
     ]
    }
   ],
   "source": [
    "# 실습 관리자 암호를 입력하고 암호가 5 미만인 경우 / 10 초과인 경우 / 암호가 틀린 경우 예외처리하는 클래스 만들기\n",
    "\n",
    "# 암호가 5미만인 경우\n",
    "class PasswordLengthShortException(Exception):\n",
    "  def __init__(self, str):\n",
    "    super().__init__(f'{str}: 길이 5미만입니다. 다시 입력하세요.')\n",
    "    \n",
    "# 암호가 10 초과인 경우\n",
    "class PasswordLengthLongException(Exception):\n",
    "  def __init__(self, str):\n",
    "    super().__init__(f'{str}: 길이 10 초과입니다. 다시 입력해주세요.')\n",
    "    \n",
    "# 암호가 잘못된 경우\n",
    "\n",
    "class PasswordWrongException(Exception):\n",
    "  def __init__(self, str):\n",
    "    super().__init__(f'{str}: 암호가 잘못되었습니다. 다시 입력해주세요.')\n",
    "    \n",
    "    \n",
    "adminPw = input('input admin password: ')\n",
    "\n",
    "try:\n",
    "  if len(adminPw) < 5:\n",
    "    raise PasswordLengthShortException(adminPw)\n",
    "  \n",
    "  elif len(adminPw) > 10:\n",
    "    raise PasswordLengthLongException(adminPw)\n",
    "  \n",
    "  elif adminPw != 'admin1234':\n",
    "    raise PasswordWrongException(adminPw)\n",
    "  \n",
    "  elif adminPw == 'admin1234':\n",
    "    print('로그인에 성공했습니다!')\n",
    "    \n",
    "except PasswordLengthShortException as e1:\n",
    "  print(e1)\n",
    "  \n",
    "except PasswordLengthLongException as e2:\n",
    "  print(e2)\n",
    "\n",
    "except PasswordWrongException as e3:\n",
    "  print(e3)\n",
    "  \n",
    "  "
   ]
  },
  {
   "cell_type": "code",
   "execution_count": 1,
   "metadata": {},
   "outputs": [
    {
     "name": "stdout",
     "output_type": "stream",
     "text": [
      "몇 글자 쓰여졌는지 = 12\n"
     ]
    }
   ],
   "source": [
    "# 05 034 기본 함수 파일쓰기\n",
    "# open -> read / write -> close\n",
    "\n",
    "#### open(디렉토리명, 파일모드 : w -> 쓰기 모드 / r -> 읽기 모드)\n",
    "\n",
    "\n",
    "\n",
    "file = open('C:/Users/SAMSUNG/Desktop/제로베이스 데이터스쿨/파이썬 실습용 폴더/test.txt', 'w')\n",
    "\n",
    "strCnt = file.write('Hello world!')\n",
    "\n",
    "print(f'몇 글자 쓰여졌는지 = {strCnt}')\n",
    "\n",
    "file.close()"
   ]
  },
  {
   "cell_type": "code",
   "execution_count": 12,
   "metadata": {},
   "outputs": [],
   "source": [
    "import time\n",
    "\n",
    "lt = time.localtime()\n",
    "\n",
    "dateStr = '[' + str(lt.tm_year) + '년' + str(lt.tm_mon) + '월' + str(lt.tm_mday) + '일] '\n",
    "\n",
    "todaySchedule = input('오늘 일정: ')\n",
    "\n",
    "file = open('C:/Users/SAMSUNG/Desktop/제로베이스 데이터스쿨/파이썬 실습용 폴더/test.txt', 'w')\n",
    "\n",
    "file.write(dateStr + todaySchedule)\n",
    "file.close()\n"
   ]
  },
  {
   "cell_type": "code",
   "execution_count": 11,
   "metadata": {},
   "outputs": [
    {
     "name": "stdout",
     "output_type": "stream",
     "text": [
      "str = [2023-04-06 02:07:21 PM]쓰레기 버리기\n"
     ]
    }
   ],
   "source": [
    "# 05 035 텍스트 파일 읽기\n",
    "\n",
    "# read() 함수\n",
    "\n",
    "file = open('C:/Users/SAMSUNG/Desktop/제로베이스 데이터스쿨/파이썬 실습용 폴더/test.txt', 'r')\n",
    "\n",
    "str = file.read()\n",
    "print(f'str = {str}')\n",
    "\n",
    "file.close()"
   ]
  },
  {
   "cell_type": "code",
   "execution_count": 10,
   "metadata": {},
   "outputs": [],
   "source": [
    "# 포맷이라는 함수 이용하기\n",
    "\n",
    "\n",
    "import time\n",
    "\n",
    "lt = time.localtime()\n",
    "\n",
    "# dateStr = '[' + str(lt.tm_year) + '년' + str(lt.tm_mon) + '월' + str(lt.tm_mday) + '일] '\n",
    "\n",
    "dateStr = '[' + time.strftime('%Y-%m-%d %I:%M:%S %p') +']'\n",
    "\n",
    "todaySchedule = input('오늘 일정: ')\n",
    "\n",
    "file = open('C:/Users/SAMSUNG/Desktop/제로베이스 데이터스쿨/파이썬 실습용 폴더/test.txt', 'w')\n",
    "\n",
    "file.write(dateStr + todaySchedule)\n",
    "file.close()\n"
   ]
  },
  {
   "cell_type": "code",
   "execution_count": 16,
   "metadata": {},
   "outputs": [
    {
     "name": "stdout",
     "output_type": "stream",
     "text": [
      "str = Python은 1991년 프로그래머 귀도 반 로섬이 발표한 고급 프로그래밍 언어로, \n",
      "플랫폼에 독립적이며 인터프리터식, 객체지향적, 동적 타이핑(dynamically typed) 대화형 언어이다. \n",
      "Python이라는 이름은 귀도가 좋아하는 코미디 <Monty Python's Flying Circus> 에서따온 것이다.\n",
      "changed str = 파이썬은 1991년 프로그래머 귀도 반 로섬이 발표한 고급 프로그래밍 언어로, \n",
      "플랫폼에 독립적이며 인터프리터식, 객체지향적, 동적 타이핑(dynamically typed) 대화형 언어이다. \n",
      "파이썬이라는 이름은 귀도가 좋아하는 코미디 <Monty Python's Flying Circus> 에서따온 것이다.\n"
     ]
    }
   ],
   "source": [
    "# 실습 텍스트 파일에서 Python을 파이썬으로 변경해서 파일에 다시 저장하자\n",
    "\n",
    "file = open('C:/Users/SAMSUNG/Desktop/제로베이스 데이터스쿨/파이썬 실습용 폴더/about_python.txt', 'r', encoding='UTF8')\n",
    "\n",
    "str = file.read()\n",
    "print(f'str = {str}')\n",
    "\n",
    "# str.replace('Python', '파이썬') -> 이렇게 하면 모든 문자가 다 바뀜 / 우리가 하고자하는 건 앞 쪽 두 개만 바꾸는 것\n",
    "\n",
    "\n",
    "file.close()\n",
    "\n",
    "\n",
    "str = str.replace('Python', '파이썬', 2) \n",
    "print(f'changed str = {str}')\n",
    "\n",
    "\n",
    "file = open('C:/Users/SAMSUNG/Desktop/제로베이스 데이터스쿨/파이썬 실습용 폴더/about_python.txt', 'w')\n",
    "\n",
    "file.write(str)\n",
    "\n",
    "file.close()"
   ]
  },
  {
   "cell_type": "code",
   "execution_count": 26,
   "metadata": {},
   "outputs": [],
   "source": [
    "# 05 036 텍스트 파일 열기 모드 \n",
    "\n",
    "uri = 'C:/Users/SAMSUNG/Desktop/제로베이스 데이터스쿨/파이썬 실습용 폴더/'\n",
    "\n",
    "\n",
    "# 'w' 파일 모드\n",
    "file = open(uri + 'hello.txt', 'w')\n",
    "file.write('Hello Python')\n",
    "file.close()\n",
    "\n"
   ]
  },
  {
   "cell_type": "code",
   "execution_count": 29,
   "metadata": {},
   "outputs": [],
   "source": [
    "uri = 'C:/Users/SAMSUNG/Desktop/제로베이스 데이터스쿨/파이썬 실습용 폴더/'\n",
    "\n",
    "# 'a' 파일 모드 - 덧붙임\n",
    "file = open(uri + 'hello.txt', 'a')\n",
    "file.write('\\nNice to meet u')\n",
    "file.close()"
   ]
  },
  {
   "cell_type": "code",
   "execution_count": 31,
   "metadata": {},
   "outputs": [],
   "source": [
    "uri = 'C:/Users/SAMSUNG/Desktop/제로베이스 데이터스쿨/파이썬 실습용 폴더/'\n",
    "\n",
    "# 'x' 파일 모드 -> 기존에 파일이 있으면 에러 남\n",
    "\n",
    "file = open(uri + 'hello_01.txt', 'x')\n",
    "file.write('\\nNice to meet u')\n",
    "file.close()\n",
    "\n"
   ]
  },
  {
   "cell_type": "code",
   "execution_count": 34,
   "metadata": {},
   "outputs": [
    {
     "name": "stdout",
     "output_type": "stream",
     "text": [
      "str = \n",
      "Nice to meet u\n"
     ]
    }
   ],
   "source": [
    "uri = 'C:/Users/SAMSUNG/Desktop/제로베이스 데이터스쿨/파이썬 실습용 폴더/'\n",
    "\n",
    "# 'r' 파일 모드\n",
    "\n",
    "file = open(uri + 'hello_01.txt', 'r')\n",
    "str = file.read()\n",
    "print(f'str = {str}')\n",
    "file.close()"
   ]
  },
  {
   "cell_type": "code",
   "execution_count": 5,
   "metadata": {},
   "outputs": [],
   "source": [
    "# 실습 / 사용자가 입력한 숫자에 대한 소수를 구하고 이를 파일에 작성해보자\n",
    "\n",
    "uri = 'C:/Users/SAMSUNG/Desktop/제로베이스 데이터스쿨/파이썬 실습용 폴더/'\n",
    "\n",
    "def writePrimeNumber(n):\n",
    "  file = open(uri + 'prime_numbers.txt', 'a')\n",
    "  file.write(str(n))\n",
    "  file.write('\\n')\n",
    "  file.close()\n",
    "  \n",
    "inputNumber = int(input('0보다 큰 정수 입력: '))\n",
    "for number in range(2, (inputNumber + 1)):\n",
    "  flag = True\n",
    "  for n in range(2, number):\n",
    "    if number % n == 0:\n",
    "      flag = False\n",
    "      break\n",
    "    \n",
    "  if flag:\n",
    "    writePrimeNumber(number)\n",
    "    \n",
    "    \n",
    "    "
   ]
  },
  {
   "cell_type": "code",
   "execution_count": 8,
   "metadata": {},
   "outputs": [],
   "source": [
    "uri = 'C:/Users/SAMSUNG/Desktop/제로베이스 데이터스쿨/파이썬 실습용 폴더/'\n",
    "\n",
    "file = open(uri + '05_037.txt', 'a')\n",
    "file.write('python study!!')\n",
    "file.close()\n",
    "\n",
    "\n"
   ]
  },
  {
   "cell_type": "code",
   "execution_count": 10,
   "metadata": {},
   "outputs": [
    {
     "name": "stdout",
     "output_type": "stream",
     "text": [
      "python study!!\n"
     ]
    }
   ],
   "source": [
    "uri = 'C:/Users/SAMSUNG/Desktop/제로베이스 데이터스쿨/파이썬 실습용 폴더/'\n",
    "\n",
    "file = open(uri + '05_037.txt', 'r')\n",
    "print(file.read())\n",
    "file.close()\n"
   ]
  },
  {
   "cell_type": "code",
   "execution_count": 11,
   "metadata": {},
   "outputs": [],
   "source": [
    "uri = 'C:/Users/SAMSUNG/Desktop/제로베이스 데이터스쿨/파이썬 실습용 폴더/'\n",
    "\n",
    "with open(uri + '연습1.txt', 'w') as f:\n",
    "  f.write('python easy!')"
   ]
  },
  {
   "cell_type": "code",
   "execution_count": 19,
   "metadata": {},
   "outputs": [
    {
     "name": "stdout",
     "output_type": "stream",
     "text": [
      "practice is not shame thing\n"
     ]
    }
   ],
   "source": [
    "uri = 'C:/Users/SAMSUNG/Desktop/제로베이스 데이터스쿨/파이썬 실습용 폴더/'\n",
    "\n",
    "# with open(uri + 'practice_without_complex.txt', 'w') as f:\n",
    "#   f.write('practice is not shame thing')\n",
    "  \n",
    "with open(uri + 'practice_without_complex.txt', 'r') as f:\n",
    "  print(f.read())\n",
    "\n",
    "  "
   ]
  },
  {
   "cell_type": "code",
   "execution_count": 23,
   "metadata": {},
   "outputs": [
    {
     "name": "stdout",
     "output_type": "stream",
     "text": [
      "today, my day\n"
     ]
    }
   ],
   "source": [
    "uri = 'C:/Users/SAMSUNG/Desktop/제로베이스 데이터스쿨/파이썬 실습용 폴더/'\n",
    "\n",
    "with open(uri + 'practice.txt', 'w') as gg:\n",
    "  gg.write('today, my day')\n",
    "  \n",
    "with open(uri + 'practice.txt', 'r') as read:\n",
    "  print(read.read())\n",
    "  "
   ]
  },
  {
   "cell_type": "code",
   "execution_count": null,
   "metadata": {},
   "outputs": [],
   "source": [
    "# 로또 번호 생성기 프로그램 / 파일에 번호 출력하기\n",
    "\n",
    "import random\n",
    "\n",
    "uri = 'C:/Users/SAMSUNG/Desktop/제로베이스 데이터스쿨/파이썬 실습용 폴더/'\n",
    "\n",
    "def writeNumbers(nums):\n",
    "  for idx, num in enumerate(nums): # enumerate?\n",
    "    with open(uri + 'lotto.txt', 'a') as f:\n",
    "      if idx < (len(nums) - 2):\n",
    "        f.write(str(num) + ', ')\n",
    "      elif idx == len(nums) - 2:\n",
    "        f.write(str(num))\n",
    "      elif idx == (len(nums) - 1):\n",
    "        f.write('\\n')\n",
    "        f.write('bonus: ' + str(num))\n",
    "        f.write('\\n')\n",
    "    \n",
    "rNums = random.sample(range(1, 46), 7) # => 여기에 리스트가 나옴!!\n",
    "print(f'rNums = {rNums}')\n",
    "\n",
    "\n",
    "writeNumbers(rNums)"
   ]
  },
  {
   "cell_type": "code",
   "execution_count": 25,
   "metadata": {},
   "outputs": [],
   "source": [
    "\n",
    "# 05 038 writelines() / 반복 가능한 자료형의 데이터를 파일에 쓰자!\n",
    "\n",
    "# writelines()는 리스트 또는 튜플 테이터를 파일에 쓰기 위한 함수이다.\n",
    "\n",
    "languages = ['a', 'b', 'c', 'd', 'e']\n",
    "\n",
    "uri = 'C:/Users/SAMSUNG/Desktop/제로베이스 데이터스쿨/파이썬 실습용 폴더/'\n",
    "\n",
    "for item in languages:\n",
    "  with open(uri + 'languages.txt', 'a') as f:\n",
    "    f.write(item)\n",
    "    f.write('\\n')"
   ]
  },
  {
   "cell_type": "code",
   "execution_count": 33,
   "metadata": {},
   "outputs": [
    {
     "name": "stdout",
     "output_type": "stream",
     "text": [
      "a\n",
      "b\n",
      "c\n",
      "d\n",
      "e\n",
      "\n"
     ]
    }
   ],
   "source": [
    "uri = 'C:/Users/SAMSUNG/Desktop/제로베이스 데이터스쿨/파이썬 실습용 폴더/'\n",
    "\n",
    "languages = ['a', 'b', 'c', 'd', 'e']\n",
    "\n",
    "with open(uri + 'languages_writelines.txt', 'w') as f:\n",
    "  f.writelines(item + '\\n' for item in languages)\n",
    "  \n",
    "with open(uri + 'languages_writelines.txt', 'r') as read:\n",
    "  print(read.read())"
   ]
  },
  {
   "cell_type": "code",
   "execution_count": 40,
   "metadata": {},
   "outputs": [],
   "source": [
    "# 실습 딕셔너리에 저장된 과목별 점수를 파일에 저장하는 코드 작성\n",
    "\n",
    "scoreDic = {'kor' : 85, 'eng' : 90, 'mat' : 92, 'sci' : 79, 'his' : 82}\n",
    "\n",
    "uri = 'C:/Users/SAMSUNG/Desktop/제로베이스 데이터스쿨/파이썬 실습용 폴더/'\n",
    "\n",
    "\n",
    "for key in scoreDic.keys():\n",
    "  with open(uri + 'scoreDic.txt', 'a') as f:\n",
    "    f.write(key + '\\t: ' + str(scoreDic[key]) + '\\n')\n"
   ]
  },
  {
   "cell_type": "code",
   "execution_count": 43,
   "metadata": {},
   "outputs": [],
   "source": [
    "# 딕셔너리 통째로 쓰기\n",
    "\n",
    "scoreDic = {'kor' : 85, 'eng' : 90, 'mat' : 92, 'sci' : 79, 'his' : 82}\n",
    "\n",
    "uri = 'C:/Users/SAMSUNG/Desktop/제로베이스 데이터스쿨/파이썬 실습용 폴더/'\n",
    "\n",
    "with open(uri + 'scores.txt', 'a') as f:\n",
    "  print(scoreDic, file = f)"
   ]
  },
  {
   "cell_type": "code",
   "execution_count": 44,
   "metadata": {},
   "outputs": [],
   "source": [
    "# 리스트 통째로 쓰기\n",
    "uri = 'C:/Users/SAMSUNG/Desktop/제로베이스 데이터스쿨/파이썬 실습용 폴더/'\n",
    "\n",
    "scoreList = [85, 90, 92, 79, 82]\n",
    "\n",
    "with open(uri + 'scoreList.txt', 'a') as f:\n",
    "  print(scoreList, file = f)\n"
   ]
  },
  {
   "cell_type": "code",
   "execution_count": 2,
   "metadata": {},
   "outputs": [
    {
     "name": "stdout",
     "output_type": "stream",
     "text": [
      "lanList: ['c/c++\\n', 'java\\n', 'python\\n', 'javascript\\n', 'R']\n",
      "lanList type: <class 'list'>\n"
     ]
    }
   ],
   "source": [
    "# 05 039 여러 읽기와 한 줄 읽기\n",
    "uri = 'C:/Users/SAMSUNG/Desktop/제로베이스 데이터스쿨/파이썬 실습용 폴더/'\n",
    "\n",
    "with open(uri + 'lans.txt', 'r') as f:\n",
    "  lanList = f.readlines() # readlines는 모든 것을 읽어서 리스트로 반환해줌 그래서 list에 담는다\n",
    "  \n",
    "print(f'lanList: {lanList}')\n",
    "print(f'lanList type: {type(lanList)}')\n",
    "\n",
    "\n"
   ]
  },
  {
   "cell_type": "code",
   "execution_count": 9,
   "metadata": {},
   "outputs": [
    {
     "name": "stdout",
     "output_type": "stream",
     "text": [
      "line: c/c++\n",
      "\n",
      "line: java\n",
      "\n",
      "line: python\n",
      "\n",
      "line: javascript\n",
      "\n",
      "line: R\n"
     ]
    }
   ],
   "source": [
    "uri = 'C:/Users/SAMSUNG/Desktop/제로베이스 데이터스쿨/파이썬 실습용 폴더/'\n",
    "\n",
    "with open(uri + 'lan.txt' , 'r') as f:\n",
    "  line = f.readline()\n",
    "  \n",
    "  while line != '':\n",
    "    print(f'line: {line}') # -> 자동 개행\n",
    "    line = f.readline() # 계속해서 내려가 읽고 싶으면 또 한 번 다음 행으로 가서 읽게 함 / R 까지 다 읽고 line = '' 이 되면 자동으로 while 문 종료\n",
    "    \n",
    "# 프린트 자체가 하나의 개행을 하는 경우가 있다. / 그런데 lan.txt 파일 자체에 개행하는 기능이 있어 두 줄씩 띄어서 출력이 되는 것이다. \n",
    "\n",
    "\n",
    "    \n"
   ]
  },
  {
   "cell_type": "code",
   "execution_count": 10,
   "metadata": {},
   "outputs": [
    {
     "name": "stdout",
     "output_type": "stream",
     "text": [
      "line: c/c++\n",
      "line: java\n",
      "line: python\n",
      "line: javascript\n",
      "line: R"
     ]
    }
   ],
   "source": [
    "uri = 'C:/Users/SAMSUNG/Desktop/제로베이스 데이터스쿨/파이썬 실습용 폴더/'\n",
    "\n",
    "with open(uri + 'lan.txt' , 'r') as f:\n",
    "  line = f.readline()\n",
    "  \n",
    "  while line != '':\n",
    "    print(f'line: {line}', end = '')  # 두 줄씩 띄는 것을 막고자 \n",
    "    line = f.readline() \n",
    "    \n"
   ]
  },
  {
   "cell_type": "code",
   "execution_count": 12,
   "metadata": {},
   "outputs": [
    {
     "name": "stdout",
     "output_type": "stream",
     "text": [
      "tempList : ['kor', '85\\n']\n",
      "tempList : ['eng', '90\\n']\n",
      "tempList : ['mat', '92\\n']\n",
      "tempList : ['sic', '79\\n']\n",
      "tempList : ['his', '82']\n"
     ]
    }
   ],
   "source": [
    "# 실습 파일에 저장된 과목별 점수를 파이썬에 읽어, 딕셔너리에 \n",
    "\n",
    "\n",
    "scoreDic = {}\n",
    "\n",
    "uri = 'C:/Users/SAMSUNG/Desktop/제로베이스 데이터스쿨/파이썬 실습용 폴더/'\n",
    "\n",
    "with open(uri + 'scores.txt', 'r') as f:\n",
    "  line = f.readline()\n",
    "  \n",
    "  while line != '':\n",
    "    tempList = line.split(':') # 구분자를 정해주면 구분자를 기점으로 리스트로 다 분리를 시켜준다 / 'kor:85' 면 kor 따로, 85 따로 분리 / 구분해준 데이터는 리스트에 담아서 반환\n",
    "    print(f'tempList : {tempList}')\n",
    "    line = f.readline()\n",
    "    \n",
    "# 결과 값==============================\n",
    "# tempList : ['kor', '85\\n']\n",
    "# tempList : ['eng', '90\\n']\n",
    "# tempList : ['mat', '92\\n']\n",
    "# tempList : ['sic', '79\\n']\n",
    "# tempList : ['his', '82']     -> 결과 값이 이렇게 나오는데, '\\n' 지워줘야 하고 숫자들을 문자형이 아닌 숫자형으로 다 캐스팅 해줘야 한다. \n"
   ]
  },
  {
   "cell_type": "code",
   "execution_count": 14,
   "metadata": {},
   "outputs": [
    {
     "name": "stdout",
     "output_type": "stream",
     "text": [
      "scoreDic: {'kor': 85, 'eng': 90, 'mat': 92, 'sic': 79, 'his': 82}\n"
     ]
    }
   ],
   "source": [
    "scoreDic = {}\n",
    "\n",
    "uri = 'C:/Users/SAMSUNG/Desktop/제로베이스 데이터스쿨/파이썬 실습용 폴더/'\n",
    "\n",
    "with open(uri + 'scores.txt', 'r') as f:\n",
    "  line = f.readline()\n",
    "  \n",
    "  while line != '':\n",
    "    tempList = line.split(':') \n",
    "    scoreDic[tempList[0]] = int(tempList[1].strip('\\n')) # tempList의 인덱스 0 값이 scoreDic의 키 값이 되어야 한다. 그리고 그 키 값에 저장되는 벨류 값을 넣어준다 / 벨류 값은 tempList의 인덱스 1, but 그냥 넣지 않고 strip 써서 \\n 없애줘야함 / 그리고 그걸 int로 캐스팅한다 !\n",
    "    # print(f'tempList : {tempList}')\n",
    "    line = f.readline()\n",
    "    \n",
    "    \n",
    "print(f'scoreDic: {scoreDic}')"
   ]
  },
  {
   "cell_type": "code",
   "execution_count": 17,
   "metadata": {},
   "outputs": [
    {
     "name": "stdout",
     "output_type": "stream",
     "text": [
      "------------------------------------------------------------\n",
      "99.0 % 11.0 = 0.0\n",
      "------------------------------------------------------------\n",
      "------------------------------------------------------------\n",
      "99.0 // 11.0 = 9.0\n",
      "------------------------------------------------------------\n",
      "------------------------------------------------------------\n",
      "잘 못 입력했습니다. 다시 입력하세요.\n",
      "------------------------------------------------------------\n",
      "------------------------------------------------------------\n",
      "굳 바이\n"
     ]
    }
   ],
   "source": [
    "## 파이썬 중급 문풀 시작 ~\n",
    "# 05 040 함수 / 함수를 이용한 프로그래밍\n",
    "\n",
    "def add(n1, n2):\n",
    "  return n1 + n2\n",
    "\n",
    "def sub(n1, n2):\n",
    "  return n1 - n2\n",
    "\n",
    "def mul(n1, n2):\n",
    "  return n1 * n2\n",
    "\n",
    "def div(n1, n2):\n",
    "  return n1 / n2\n",
    "\n",
    "def mod(n1, n2):\n",
    "  return n1 % n2\n",
    "\n",
    "def flo(n1, n2):\n",
    "  return n1 // n2\n",
    "\n",
    "def exp(n1, n2):\n",
    "  return n1 ** n2\n",
    "\n",
    "\n",
    "\n",
    "while True: # 무한루프 빠지듯이 계속해서 프로그램이 진행된다.\n",
    "  \n",
    "  print('-' * 60)\n",
    "  selectNum = int(input('1. 덧셈, 2. 뺄셈, 3. 곱셈, 4. 나눗셈, 5. 나머지, 6. 몫, 7. 제곱승, 8. 종료'))\n",
    "  # 받은 숫자에 따라서 프로그램을 분기한다.\n",
    "  if selectNum == 8:\n",
    "    print('굳 바이')\n",
    "    break\n",
    "  \n",
    "  num1 = float(input('첫 번째 숫자 입력: '))\n",
    "  num2 = float(input('두 번째 숫자 입력: '))\n",
    "  \n",
    "  if selectNum == 1:\n",
    "    print(f'{num1} + {num2} = {add(num1, num2)}')\n",
    "    \n",
    "  elif selectNum == 2:\n",
    "    print(f'{num1} - {num2} = {sub(num1, num2)}')\n",
    "    \n",
    "  elif selectNum == 3:\n",
    "    print(f'{num1} * {num2} = {mul(num1, num2)}')\n",
    "    \n",
    "  elif selectNum == 4:\n",
    "    print(f'{num1} / {num2} = {div(num1, num2)}')\n",
    "    \n",
    "  elif selectNum == 5:\n",
    "    print(f'{num1} % {num2} = {mod(num1, num2)}')\n",
    "    \n",
    "  elif selectNum == 6:\n",
    "    print(f'{num1} // {num2} = {flo(num1, num2)}')\n",
    "    \n",
    "  elif selectNum == 7:\n",
    "    print(f'{num1} ** {num2} = {exp(num1, num2)}')\n",
    "    \n",
    "  else:8\n",
    "  \n",
    "  print('잘 못 입력했습니다. 다시 입력하세요.')\n",
    "    \n",
    "  print('-' * 60)\n",
    "  \n",
    "  "
   ]
  },
  {
   "cell_type": "code",
   "execution_count": 21,
   "metadata": {},
   "outputs": [
    {
     "name": "stdout",
     "output_type": "stream",
     "text": [
      "------------------------------------------------------------------\n",
      "99.0 % 8.0=3.0\n",
      "------------------------------------------------------------------\n",
      "------------------------------------------------------------------\n",
      "8.0 ** 2.0=64.0\n",
      "------------------------------------------------------------------\n",
      "------------------------------------------------------------------\n",
      "99.0 // 55.0=1.0\n",
      "------------------------------------------------------------------\n",
      "------------------------------------------------------------------\n",
      "번호를 잘 못 입력했습니다.\n",
      "------------------------------------------------------------------\n",
      "------------------------------------------------------------------\n",
      "계산기를 종료합니다.\n"
     ]
    }
   ],
   "source": [
    "# 재 연습\n",
    "\n",
    "def add(n1, n2):\n",
    "  return n1 + n2\n",
    "\n",
    "def sub(n1, n2):\n",
    "  return n1 - n2\n",
    "\n",
    "def mul(n1, n2):\n",
    "  return n1 * n2\n",
    "\n",
    "def div(n1, n2):\n",
    "  return n1 / n2\n",
    "\n",
    "def mod(n1, n2):\n",
    "  return n1 % n2\n",
    "\n",
    "def flo(n1, n2):\n",
    "  return n1 // n2\n",
    "\n",
    "def exp(n1, n2):\n",
    "  return n1 ** n2\n",
    "\n",
    "\n",
    "\n",
    "while True:\n",
    "  print('-'*66)\n",
    "  selectNum = int(input('1. 덧셈, 2. 뺄셈, 3. 곱셈, 4. 나눗셈, 5. 나머지, 6. 몫, 7. 제곱승, 8. 종료'))\n",
    "  if selectNum == 8:\n",
    "    print('계산기를 종료합니다.')\n",
    "    break\n",
    "  num1 = float(input('첫번째 숫자를 고르시오: '))\n",
    "  num2 = float(input('두번째 숫자를 고르시오: '))\n",
    "  \n",
    "  if selectNum == 1:\n",
    "    print(f'{num1} + {num2}={add(num1,num2)}')\n",
    "    \n",
    "  elif selectNum == 2:\n",
    "    print(f'{num1} - {num2}={sub(num1,num2)}')\n",
    "    \n",
    "  elif selectNum == 3:\n",
    "    print(f'{num1} * {num2}={mul(num1,num2)}')\n",
    "    \n",
    "  elif selectNum == 4:\n",
    "    print(f'{num1} / {num2}={div(num1,num2)}')\n",
    "    \n",
    "  elif selectNum == 5:\n",
    "    print(f'{num1} % {num2}={mod(num1,num2)}')\n",
    "    \n",
    "  elif selectNum == 6:\n",
    "    print(f'{num1} // {num2}={flo(num1, num2)}')\n",
    "    \n",
    "  elif selectNum == 7:\n",
    "    print(f'{num1} ** {num2}={exp(num1, num2)}')\n",
    "    \n",
    "  else:\n",
    "    print('번호를 잘 못 입력했습니다.')\n",
    "    \n",
    "  print('-'*66)\n",
    "    "
   ]
  },
  {
   "cell_type": "code",
   "execution_count": 24,
   "metadata": {},
   "outputs": [
    {
     "name": "stdout",
     "output_type": "stream",
     "text": [
      "------------------------------------------------------------------\n",
      "99.24 km/h 속도로 11시간 12분 이동한 거리는 2183.28km 이다.\n",
      "------------------------------------------------------------------\n"
     ]
    }
   ],
   "source": [
    "# 05 041 함수\n",
    "\n",
    "# 이동 거리 반환하는 함수 만들기 \n",
    "\n",
    "def getDistance(s, h, m):\n",
    "  return s * h * (m/60 * 10)\n",
    "\n",
    "print('-' * 66)\n",
    "s = float(input('속도(km/h) 입력: '))\n",
    "h = float(input('시간(h) 입력: '))\n",
    "m = float(input('시간(m) 입력: '))\n",
    "d = getDistance(s, h, m)\n",
    "\n",
    "print(f'{s} km/h 속도로 {int(h)}시간 {int(m)}분 이동한 거리는 {round(d, 1)}km 이다.')\n",
    "print('-' * 66)\n",
    "\n",
    "\n"
   ]
  }
 ],
 "metadata": {
  "kernelspec": {
   "display_name": "Python 3",
   "language": "python",
   "name": "python3"
  },
  "language_info": {
   "codemirror_mode": {
    "name": "ipython",
    "version": 3
   },
   "file_extension": ".py",
   "mimetype": "text/x-python",
   "name": "python",
   "nbconvert_exporter": "python",
   "pygments_lexer": "ipython3",
   "version": "3.10.6"
  },
  "orig_nbformat": 4
 },
 "nbformat": 4,
 "nbformat_minor": 2
}
