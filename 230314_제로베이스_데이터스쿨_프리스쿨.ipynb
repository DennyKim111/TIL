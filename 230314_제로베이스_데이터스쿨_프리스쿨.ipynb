{
 "cells": [
  {
   "cell_type": "code",
   "execution_count": null,
   "metadata": {},
   "outputs": [],
   "source": [
    "print(10*5)\n",
    "print(\"god did\")\n",
    "\n",
    "print('Good morning' * 10)\n",
    "print('Good morning' * 10)\n",
    "\n",
    "print('good night' * 8 , sep = \", \\n\")"
   ]
  },
  {
   "cell_type": "code",
   "execution_count": null,
   "metadata": {},
   "outputs": [],
   "source": [
    "print('지난주 지출액: 제로베이스 30만원')\n",
    "\n",
    "print('좋아하는 캐릭터 : 조로')"
   ]
  }
 ],
 "metadata": {
  "language_info": {
   "name": "python"
  },
  "orig_nbformat": 4
 },
 "nbformat": 4,
 "nbformat_minor": 2
}
