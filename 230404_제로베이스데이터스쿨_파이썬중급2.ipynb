{
 "cells": [
  {
   "cell_type": "code",
   "execution_count": null,
   "metadata": {},
   "outputs": [],
   "source": [
    "# 05 012 실행(메인)파일\n",
    "\n",
    "def add(n1, n2):\n",
    "  return n1 + n2\n",
    "\n",
    "def sub(n1, n2):\n",
    "  return n1 - n2\n",
    "\n",
    "def mul(n1, n2):\n",
    "  return n1*n2\n",
    "\n",
    "def div(n1, n2):\n",
    "  return n1 / n2\n",
    "\n",
    "\n",
    "\n",
    "\n",
    "\n",
    "\n",
    "\n"
   ]
  },
  {
   "cell_type": "code",
   "execution_count": 5,
   "metadata": {},
   "outputs": [
    {
     "name": "stdout",
     "output_type": "stream",
     "text": [
      "30\n",
      "12\n",
      "12\n",
      "33.0\n"
     ]
    }
   ],
   "source": [
    "import add\n",
    "\n",
    "import sub\n",
    "\n",
    "import mul\n",
    "\n",
    "import div\n",
    "\n",
    "print(add.add(10, 20))\n",
    "print(sub.sub(14, 2))\n",
    "print(mul.mul(3, 4))\n",
    "print(div.div(99, 3))\n",
    "\n",
    "\n",
    "\n"
   ]
  },
  {
   "cell_type": "code",
   "execution_count": 8,
   "metadata": {},
   "outputs": [
    {
     "name": "stdout",
     "output_type": "stream",
     "text": [
      "10cm: 100mm\n",
      "10cm: 3.93inch\n",
      "10cm: 0.1m\n",
      "10cm: 0.32ft\n"
     ]
    }
   ],
   "source": [
    "# 05 013 __name__ 전역변수\n",
    "\n",
    "# 모듈 파일 - unitConversion\n",
    "\n",
    "def cmToMm(n):\n",
    "  return round(n * 10, 3) \n",
    "def cmToInch(n):\n",
    "  return round(n * 0.393, 3) \n",
    "def cmToM(n):\n",
    "  return round(n * 0.01, 3) \n",
    "def cmToFt(n):\n",
    "  return round(n * 0.032, 3) \n",
    "  \n",
    "print(f'10cm: {cmToMm(10)}mm')\n",
    "print(f'10cm: {cmToInch(10)}inch')\n",
    "print(f'10cm: {cmToM(10)}m')\n",
    "print(f'10cm: {cmToFt(10)}ft')"
   ]
  },
  {
   "cell_type": "code",
   "execution_count": 2,
   "metadata": {},
   "outputs": [
    {
     "name": "stdout",
     "output_type": "stream",
     "text": [
      "returnValue: 550mm\n",
      "returnValue: 21.615inch\n",
      "returnValue: 0.55m\n",
      "returnValue: 1.76ft\n"
     ]
    }
   ],
   "source": [
    "import unitConversion as uc\n",
    "\n",
    "\n",
    "if __name__ == '__main__':\n",
    "  inputNumber = int(input('길이(cm)입력: '))\n",
    "\n",
    "  returnValue = uc.cmToMm(inputNumber)\n",
    "  print(f'returnValue: {returnValue}mm')\n",
    "  \n",
    "  returnValue = uc.cmToInch(inputNumber)\n",
    "  print(f'returnValue: {returnValue}inch')\n",
    "  \n",
    "  returnValue = uc.cmToM(inputNumber)\n",
    "  print(f'returnValue: {returnValue}m')\n",
    "  \n",
    "  returnValue = uc.cmToFt(inputNumber)\n",
    "  print(f'returnValue: {returnValue}ft')"
   ]
  },
  {
   "cell_type": "code",
   "execution_count": 3,
   "metadata": {},
   "outputs": [
    {
     "name": "stdout",
     "output_type": "stream",
     "text": [
      "50\n",
      "-10\n",
      "600\n",
      "0\n"
     ]
    }
   ],
   "source": [
    "# 05 014 패키지 - 모듈을 묶어서 관리\n",
    "\n",
    "\n",
    "from CalculatorForInt import addCal\n",
    "from CalculatorForInt import subCal\n",
    "from CalculatorForInt import mulCal\n",
    "from CalculatorForInt import divCal\n",
    "\n",
    "print(addCal.add(20, 30))\n",
    "print(subCal.sub(20, 30))\n",
    "print(mulCal.mul(20, 30))\n",
    "print(divCal.div(20, 30))\n",
    "\n",
    "\n",
    "\n",
    "\n"
   ]
  },
  {
   "cell_type": "code",
   "execution_count": 4,
   "metadata": {},
   "outputs": [
    {
     "name": "stdout",
     "output_type": "stream",
     "text": [
      "30.0\n",
      "-10.0\n"
     ]
    },
    {
     "ename": "AttributeError",
     "evalue": "module 'CalculatorForFloat.mulCal' has no attribute 'mul'",
     "output_type": "error",
     "traceback": [
      "\u001b[1;31m---------------------------------------------------------------------------\u001b[0m",
      "\u001b[1;31mAttributeError\u001b[0m                            Traceback (most recent call last)",
      "Cell \u001b[1;32mIn[4], line 9\u001b[0m\n\u001b[0;32m      7\u001b[0m \u001b[39mprint\u001b[39m(addCal\u001b[39m.\u001b[39madd(\u001b[39m10\u001b[39m, \u001b[39m20\u001b[39m))\n\u001b[0;32m      8\u001b[0m \u001b[39mprint\u001b[39m(subCal\u001b[39m.\u001b[39msub(\u001b[39m10\u001b[39m, \u001b[39m20\u001b[39m))\n\u001b[1;32m----> 9\u001b[0m \u001b[39mprint\u001b[39m(mulCal\u001b[39m.\u001b[39;49mmul(\u001b[39m10\u001b[39m, \u001b[39m20\u001b[39m))\n\u001b[0;32m     10\u001b[0m \u001b[39mprint\u001b[39m(divCal\u001b[39m.\u001b[39mdiv(\u001b[39m10\u001b[39m, \u001b[39m20\u001b[39m))\n",
      "\u001b[1;31mAttributeError\u001b[0m: module 'CalculatorForFloat.mulCal' has no attribute 'mul'"
     ]
    }
   ],
   "source": [
    "from CalculatorForFloat import addCal\n",
    "from CalculatorForFloat import subCal\n",
    "from CalculatorForFloat import mulCal\n",
    "from CalculatorForFloat import divCal\n",
    "\n",
    "\n",
    "print(addCal.add(10, 20))\n",
    "print(subCal.sub(10, 20))\n",
    "print(mulCal.mul(10, 20))\n",
    "print(divCal.div(10, 20))"
   ]
  },
  {
   "cell_type": "code",
   "execution_count": 5,
   "metadata": {},
   "outputs": [
    {
     "name": "stdout",
     "output_type": "stream",
     "text": [
      "c:\\Users\\SAMSUNG\\TIL\n",
      "c:\\Python\\python310.zip\n",
      "c:\\Python\\DLLs\n",
      "c:\\Python\\lib\n",
      "c:\\Python\n",
      "\n",
      "c:\\Python\\lib\\site-packages\n",
      "c:\\Python\\lib\\site-packages\\win32\n",
      "c:\\Python\\lib\\site-packages\\win32\\lib\n",
      "c:\\Python\\lib\\site-packages\\Pythonwin\n"
     ]
    }
   ],
   "source": [
    "#  05 015 site - package / 어디서나 접근 가능한 패키지를 만들자\n",
    "\n",
    "import sys\n",
    "\n",
    "\n",
    "for path in sys.path:\n",
    "  print(path)"
   ]
  },
  {
   "cell_type": "code",
   "execution_count": 2,
   "metadata": {},
   "outputs": [
    {
     "ename": "ModuleNotFoundError",
     "evalue": "No module named 'Calculator'",
     "output_type": "error",
     "traceback": [
      "\u001b[1;31m---------------------------------------------------------------------------\u001b[0m",
      "\u001b[1;31mModuleNotFoundError\u001b[0m                       Traceback (most recent call last)",
      "Cell \u001b[1;32mIn[2], line 1\u001b[0m\n\u001b[1;32m----> 1\u001b[0m \u001b[39mfrom\u001b[39;00m \u001b[39mCalculator\u001b[39;00m \u001b[39mimport\u001b[39;00m Cal\n\u001b[0;32m      3\u001b[0m \u001b[39mprint\u001b[39m(Cal\u001b[39m.\u001b[39madd(\u001b[39m10\u001b[39m, \u001b[39m20\u001b[39m))\n",
      "\u001b[1;31mModuleNotFoundError\u001b[0m: No module named 'Calculator'"
     ]
    }
   ],
   "source": [
    "from Calculator import Cal\n",
    "\n",
    "print(Cal.add(10, 20))\n",
    "\n",
    "# Calculator 다른 폴더로 옮겼더니 실행 안됨, vnew 로 옮기면 그래도 실행됨 / 가상황경  "
   ]
  },
  {
   "cell_type": "code",
   "execution_count": null,
   "metadata": {},
   "outputs": [],
   "source": [
    "\n",
    "# 05 015 실습 과제 - 소스코드 보면서 공부"
   ]
  },
  {
   "cell_type": "code",
   "execution_count": 19,
   "metadata": {},
   "outputs": [
    {
     "name": "stdout",
     "output_type": "stream",
     "text": [
      "sum(listVar) = 68\n",
      "max(listVar) = 33\n",
      "min(listVar) = 2\n",
      "거듭제곱(밑, 지수) 1792160394037\n",
      "round(소수, 몇째 자리)3.142\n",
      "10.0\n",
      "1.534235235\n",
      "올림 7\n",
      "올림 -6\n",
      "내림 5\n",
      "내림 -6\n",
      "버림 5\n",
      "버림 -5\n",
      "최대공약수 36\n",
      "팩토리얼 3628800\n",
      "제곱근 11.0\n",
      "time.struct_time(tm_year=2023, tm_mon=4, tm_mday=4, tm_hour=13, tm_min=36, tm_sec=34, tm_wday=1, tm_yday=94, tm_isdst=0)\n",
      "2023\n",
      "4\n",
      "4\n",
      "13\n",
      "36\n",
      "34\n"
     ]
    }
   ],
   "source": [
    "# 05 016 자주 쓰는 모듈들\n",
    "\n",
    "# 합\n",
    "listVar = [2, 3, 4, 5,6 , 11, 33, 4]\n",
    "print(f'sum(listVar) = {sum(listVar)}')\n",
    "\n",
    "#최대값\n",
    "\n",
    "print(f'max(listVar) = {max(listVar)}')\n",
    "\n",
    "# 최소값\n",
    "\n",
    "print(f'min(listVar) = {min(listVar)}')\n",
    "\n",
    "# 거듭제곱\n",
    "\n",
    "print(f'거듭제곱(밑, 지수) {pow(13, 11)}')\n",
    "\n",
    "# 반올림\n",
    "\n",
    "print(f'round(소수, 몇째 자리){round(3.142434243, 3)}')\n",
    "\n",
    "import math\n",
    "\n",
    "#절댓값\n",
    "print(math.fabs(-10))\n",
    "print(math.fabs(-1.534235235))\n",
    "\n",
    "# 올림\n",
    "print(f'올림 {math.ceil(6.66)}')\n",
    "print(f'올림 {math.ceil(-6.66)}')\n",
    "\n",
    "# 내림\n",
    "print(f'내림 {math.floor(5.59)}')\n",
    "print(f'내림 {math.floor(-5.59)}')\n",
    "\n",
    "# 버림\n",
    "print(f'버림 {math.trunc(5.21)}')\n",
    "print(f'버림 {math.trunc(-5.21)}')\n",
    "\n",
    "# 최대공약수\n",
    "print(f'최대공약수 {math.gcd(144, 36)}')\n",
    "\n",
    "# 팩토리얼\n",
    "print(f'팩토리얼 {math.factorial(10)}')\n",
    "\n",
    "# 제곱근\n",
    "print(f'제곱근 {math.sqrt(121)}')\n",
    "\n",
    "\n",
    "\n",
    "import time\n",
    "\n",
    "now = time.localtime()\n",
    "\n",
    "print(f'{now}')\n",
    "\n",
    "#연도만\n",
    "print(f'{now.tm_year}')\n",
    "#월\n",
    "print(f'{now.tm_mon}')\n",
    "#일\n",
    "print(f'{now.tm_mday}')\n",
    "#시간\n",
    "print(f'{now.tm_hour}')\n",
    "#분\n",
    "print(f'{now.tm_min}')\n",
    "#초\n",
    "print(f'{now.tm_sec}')"
   ]
  },
  {
   "cell_type": "code",
   "execution_count": 22,
   "metadata": {},
   "outputs": [
    {
     "name": "stdout",
     "output_type": "stream",
     "text": [
      "self.color = red\n",
      "self.length = 55\n",
      "self.color = black\n",
      "self.length = 666\n",
      "START!!!\n",
      "Stop!!\n"
     ]
    }
   ],
   "source": [
    "# 05 017 객체 지향 프로그램 / 객체를 이용한 프로그램으로, 객체는 속성과 기능으로 구성된다. \n",
    "\n",
    "#객체를 이용한 프로그램 -> 객체 = 속성 & 기능\n",
    "\n",
    "class Car:\n",
    "  def __init__(self, color, length):\n",
    "    self.color = color\n",
    "    self.length = length\n",
    "    \n",
    "  def doStop(self):\n",
    "    print('Stop!!')\n",
    "    \n",
    "  def doStart(self):\n",
    "    print('START!!!')\n",
    "    \n",
    "  def printCarInfo(self):\n",
    "    print(f'self.color = {self.color}')\n",
    "    print(f'self.length = {self.length}')\n",
    "    \n",
    "car1 = Car('red', 55)\n",
    "car2 = Car('black', 666)\n",
    "\n",
    "car1.printCarInfo()\n",
    "car2.printCarInfo()\n",
    "\n",
    "car1.doStart()\n",
    "\n",
    "car2.doStop()\n"
   ]
  },
  {
   "cell_type": "code",
   "execution_count": 24,
   "metadata": {},
   "outputs": [
    {
     "name": "stdout",
     "output_type": "stream",
     "text": [
      "LAND!!!\n",
      "self.color = gold\n",
      "self.length = 1800\n",
      "self.weight = 20000\n",
      "FLY!!!\n"
     ]
    }
   ],
   "source": [
    "# 05 018\n",
    "\n",
    "class Airplane:\n",
    "  \n",
    "  def __init__(self, color, length, weight):\n",
    "    self.color = color\n",
    "    self.length = length\n",
    "    self.weight = weight\n",
    "    \n",
    "  def doFly(self):\n",
    "    print('FLY!!!')\n",
    "    \n",
    "  def doLand(self):\n",
    "    print('LAND!!!')\n",
    "    \n",
    "  def printAirplaneInfo(self):\n",
    "    print(f'self.color = {self.color}')\n",
    "    print(f'self.length = {self.length}')\n",
    "    print(f'self.weight = {self.weight}')\n",
    "    \n",
    "airplane1 = Airplane('black', 999, 9990)\n",
    "airplane2 = Airplane('blue', 1043, 15000)\n",
    "airplane3 = Airplane('gold', 1800, 20000)\n",
    "airplane3 = Airplane('silver', 4444, 20000)\n",
    "airplane3 = Airplane('Grey', 5000, 20000)\n",
    "\n",
    "airplane1.doLand()\n",
    "\n",
    "airplane3.printAirplaneInfo()\n",
    "\n",
    "airplane2.doFly()\n"
   ]
  },
  {
   "cell_type": "code",
   "execution_count": 31,
   "metadata": {},
   "outputs": [
    {
     "name": "stdout",
     "output_type": "stream",
     "text": [
      "apple i5 256G 256G\n",
      "apple i7 512G 512G\n",
      "EXCEL RUN!!\n",
      "apple i9 999G 5000G\n"
     ]
    }
   ],
   "source": [
    "# 05 019 객체 속성 변경\n",
    "\n",
    "class NewGenerationPC:\n",
    "  def __init__(self, name, cpu, memory, ssd):\n",
    "    self.name = name\n",
    "    self.cpu = cpu\n",
    "    self.memory = memory\n",
    "    self.ssd = ssd\n",
    "    \n",
    "  def doExcel(self):\n",
    "    print('EXCEL RUN!!')\n",
    "    \n",
    "  def doPhotoshop(self):\n",
    "    print('Photoshop Run!!')\n",
    "    \n",
    "  def printPCInfo(self):\n",
    "    print(self.name, self.cpu, self.memory, self.ssd)\n",
    "    \n",
    "\n",
    "com1 = NewGenerationPC('apple', 'i5', '256G', '256G')\n",
    "com2 = NewGenerationPC('apple', 'i7', '512G', '512G')\n",
    "\n",
    "\n",
    "com1.printPCInfo()\n",
    "com2.printPCInfo()\n",
    "com1.doExcel()\n",
    "\n",
    "com1.cpu = 'i9'\n",
    "com1.ssd = '5000G'\n",
    "com1.memory = '999G'\n",
    "\n",
    "com1.printPCInfo()\n",
    "    \n",
    "    "
   ]
  },
  {
   "cell_type": "code",
   "execution_count": 51,
   "metadata": {},
   "outputs": [
    {
     "name": "stdout",
     "output_type": "stream",
     "text": [
      "calculator.add(): 30\n",
      "calculator.sub(): -10\n",
      "calculator.mul(): 200\n",
      "calculator.div(): 0.5\n",
      "calculator.add(): 133\n",
      "calculator.sub(): 43\n",
      "calculator.mul(): 3960\n",
      "calculator.div(): 1.9555555555555555\n"
     ]
    }
   ],
   "source": [
    "class Calculator:\n",
    "  def __init__(self):\n",
    "    self.number1 = 0\n",
    "    self.number2 = 0\n",
    "    self.result = 0\n",
    "    \n",
    "  def add(self):\n",
    "    self.result = self.number1 + self.number2\n",
    "    return self.result\n",
    "  \n",
    "  def sub(self):\n",
    "    self.result = self.number1 - self.number2\n",
    "    return self.result\n",
    "  \n",
    "  def mul(self):\n",
    "    self.result = self.number1 * self.number2\n",
    "    return self.result\n",
    "  \n",
    "  def div(self):\n",
    "    self.result = self.number1 / self.number2\n",
    "    return self.result\n",
    "  \n",
    "calculator = Calculator()\n",
    "calculator.number1 = 10\n",
    "calculator.number2 = 20\n",
    "\n",
    "print(f'calculator.add(): {calculator.add()}')\n",
    "print(f'calculator.sub(): {calculator.sub()}')\n",
    "print(f'calculator.mul(): {calculator.mul()}')\n",
    "print(f'calculator.div(): {calculator.div()}')\n",
    "\n",
    "calculator.number1 = 88\n",
    "calculator.number2 = 45\n",
    "\n",
    "print(f'calculator.add(): {calculator.add()}')\n",
    "print(f'calculator.sub(): {calculator.sub()}')\n",
    "print(f'calculator.mul(): {calculator.mul()}')\n",
    "print(f'calculator.div(): {calculator.div()}')\n",
    "\n",
    "\n",
    "  "
   ]
  },
  {
   "cell_type": "code",
   "execution_count": 39,
   "metadata": {},
   "outputs": [
    {
     "name": "stdout",
     "output_type": "stream",
     "text": [
      "red 200 200\n",
      "blue 20 30\n",
      "red 200 200\n",
      "black 111 111\n",
      "blue 20 30\n",
      "black 111 111\n"
     ]
    }
   ],
   "source": [
    "# 05 020  객체와 메모리\n",
    "\n",
    "class Robot:\n",
    "  \n",
    "  def __init__(self, color, height, weight):\n",
    "    self.color = color\n",
    "    self.height = height\n",
    "    self.weight = weight\n",
    "    \n",
    "  def printRobotInfo(self):\n",
    "    print(self.color, self.height, self.weight)\n",
    "    \n",
    "    \n",
    "rb1 = Robot('red', 200, 80)\n",
    "\n",
    "rb2 = Robot('blue', 300, 120)\n",
    "rb3 = rb1\n",
    "\n",
    "\n",
    "rb1.printRobotInfo()\n",
    "rb2.printRobotInfo()\n",
    "rb3.printRobotInfo()\n",
    "\n",
    "rb1.color = 'black'\n",
    "rb1.height = 111\n",
    "rb1.weight = 111\n",
    "\n",
    "rb1.printRobotInfo()\n",
    "rb2.printRobotInfo()\n",
    "rb3.printRobotInfo()\n",
    "\n",
    "\n"
   ]
  },
  {
   "cell_type": "code",
   "execution_count": 52,
   "metadata": {},
   "outputs": [
    {
     "name": "stdout",
     "output_type": "stream",
     "text": [
      "[99, 65, 5]\n",
      "이전 평균: 56.333333333333336\n",
      "이후 평균: 59.0\n"
     ]
    }
   ],
   "source": [
    "scores = [int(input('국어 점수 입력: ')), int(input('영어 점수 입력: ')), int(input('수학 점수 입력: '))]\n",
    "\n",
    "print(scores)\n",
    "\n",
    "copyScores = scores.copy()\n",
    "\n",
    "for idx, score in enumerate(copyScores):\n",
    "  result = score * 1.1\n",
    "  copyScores[idx] = 100 if result > 100 else result\n",
    "  \n",
    "print(f'이전 평균: {sum(scores) / len(scores)}')\n",
    "print(f'이후 평균: {sum(copyScores) / len(copyScores)}')\n",
    "\n"
   ]
  },
  {
   "cell_type": "code",
   "execution_count": 43,
   "metadata": {},
   "outputs": [
    {
     "name": "stdout",
     "output_type": "stream",
     "text": [
      "self.number: 10\n",
      "self.str: Hello\n",
      "self.number: 10\n",
      "self.str: Hello\n",
      "self.number: 3.14\n",
      "self.str: bye\n",
      "self.number: 3.14\n",
      "self.str: bye\n",
      "self.number: 10\n",
      "self.str: Hello\n",
      "self.number: 3.14\n",
      "self.str: bye\n",
      "self.number: 10\n",
      "self.str: Hello\n",
      "self.number: 3.14\n",
      "self.str: no\n"
     ]
    }
   ],
   "source": [
    "# 05 021 얕은 복사, 깊은 복사 \n",
    "\n",
    "class TemCls:\n",
    "  def __init__(self, n, s):\n",
    "    self.number = n\n",
    "    self.str = s\n",
    "    \n",
    "  def printClsInfo(self):\n",
    "    print(f'self.number: {self.number}')\n",
    "    print(f'self.str: {self.str}')\n",
    "\n",
    "\n",
    "tc1 = TemCls(10, 'Hello')\n",
    "tc2 = tc1\n",
    "\n",
    "tc1.printClsInfo()\n",
    "tc2.printClsInfo()\n",
    "\n",
    "tc2.number = 3.14\n",
    "tc2.str = 'bye'\n",
    "\n",
    "tc1.printClsInfo()\n",
    "tc2.printClsInfo()\n",
    "\n",
    "\n",
    "# 깊은 복사\n",
    "\n",
    "import copy\n",
    "\n",
    "tc1 = TemCls(10, 'Hello')\n",
    "tc = copy.copy(tc1)\n",
    "\n",
    "\n",
    "tc1.printClsInfo()\n",
    "tc2.printClsInfo()\n",
    "\n",
    "tc2.number = 3.14\n",
    "tc2.str = 'no'\n",
    "\n",
    "tc1.printClsInfo()\n",
    "tc2.printClsInfo()"
   ]
  },
  {
   "cell_type": "code",
   "execution_count": 50,
   "metadata": {},
   "outputs": [
    {
     "name": "stdout",
     "output_type": "stream",
     "text": [
      "id(scores): 2608833161600\n",
      "id(scoresCopy): 2608854869696\n"
     ]
    }
   ],
   "source": [
    "import copy\n",
    "\n",
    "scores = [9, 8, 5, 7, 6, 10]\n",
    "\n",
    "scoresCopy = []\n",
    "\n",
    "scoresCopy = scores\n",
    "print(f'id(scores): {id(scores)}')\n",
    "print(f'id(scoresCopy): {id(scoresCopy)}')\n",
    "\n",
    "for s in scores:\n",
    "  scoresCopy.append(s)\n",
    "print(f'id(scores): {id(scores)}')\n",
    "print(f'id(scoresCopy): {id(scoresCopy)}')\n",
    "\n",
    "scoresCopy.extend(scores)\n",
    "print(f'id(scores): {id(scores)}')\n",
    "print(f'id(scoresCopy): {id(scoresCopy)}')\n",
    "\n",
    "scoresCopy = scores.copy()\n",
    "print(f'id(scores): {id(scores)}')\n",
    "print(f'id(scoresCopy): {id(scoresCopy)}')\n",
    "\n",
    "scoresCopy = scores[:]\n",
    "print(f'id(scores): {id(scores)}')\n",
    "print(f'id(scoresCopy): {id(scoresCopy)}')"
   ]
  },
  {
   "cell_type": "code",
   "execution_count": 53,
   "metadata": {},
   "outputs": [
    {
     "name": "stdout",
     "output_type": "stream",
     "text": [
      "plaOriSco: [7.9, 8.3, 8.7, 8.8, 8.9, 9.0, 9.1, 9.5]\n",
      "plaCopSco: [8.3, 8.7, 8.8, 8.9, 9.0, 9.1]\n",
      "Original Total: 70.2\n",
      "Original Average: 8.78\n",
      "Copy Total: 52.8\n",
      "Copy Average: 8.8\n",
      "oriAvg - copAvg = -0.02000000000000135\n"
     ]
    }
   ],
   "source": [
    "plaOriSco = [8.7, 9.1, 8.9, 9.0, 7.9, 9.5, 8.8, 8.3]\n",
    "plaCopSco = plaOriSco.copy()\n",
    "\n",
    "plaOriSco.sort()\n",
    "\n",
    "plaCopSco.sort()\n",
    "plaCopSco.pop(0)\n",
    "plaCopSco.pop()\n",
    "\n",
    "print(f'plaOriSco: {plaOriSco}')\n",
    "print(f'plaCopSco: {plaCopSco}')\n",
    "\n",
    "\n",
    "oriTot = round(sum(plaOriSco), 2)\n",
    "oriAvg = round(oriTot / len(plaOriSco), 2)\n",
    "print(f'Original Total: {oriTot}')\n",
    "print(f'Original Average: {oriAvg}')\n",
    "\n",
    "copTot = round(sum(plaCopSco), 2)\n",
    "copAvg = round(copTot / len(plaCopSco), 2 )\n",
    "print(f'Copy Total: {copTot}')\n",
    "print(f'Copy Average: {copAvg}')\n",
    "\n",
    "print(f'oriAvg - copAvg = {oriAvg - copAvg}')\n"
   ]
  }
 ],
 "metadata": {
  "kernelspec": {
   "display_name": "Python 3",
   "language": "python",
   "name": "python3"
  },
  "language_info": {
   "codemirror_mode": {
    "name": "ipython",
    "version": 3
   },
   "file_extension": ".py",
   "mimetype": "text/x-python",
   "name": "python",
   "nbconvert_exporter": "python",
   "pygments_lexer": "ipython3",
   "version": "3.10.6"
  },
  "orig_nbformat": 4
 },
 "nbformat": 4,
 "nbformat_minor": 2
}
