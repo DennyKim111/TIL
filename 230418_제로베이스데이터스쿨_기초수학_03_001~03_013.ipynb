{
 "cells": [
  {
   "cell_type": "code",
   "execution_count": null,
   "metadata": {},
   "outputs": [],
   "source": [
    "## 03_001 약수와 소수 1\n",
    "\n",
    "### 약수 = 나누어 떨어지게 하는 수\n",
    "\n",
    "### 소수 = 1, 자기 자신으로만 나누어 떨어지는 수 \n"
   ]
  },
  {
   "cell_type": "code",
   "execution_count": 3,
   "metadata": {},
   "outputs": [
    {
     "name": "stdout",
     "output_type": "stream",
     "text": [
      "30의 약수: 1\n",
      "30의 약수: 2\n",
      "30의 약수: 3\n",
      "30의 약수: 5\n",
      "30의 약수: 6\n",
      "30의 약수: 10\n",
      "30의 약수: 15\n",
      "30의 약수: 30\n"
     ]
    }
   ],
   "source": [
    "## 03_002 약수와 소수 2 - 파이썬\n",
    "\n",
    "\n",
    "#### 약수\n",
    "inputNumber = int(input('0보다 큰 정수 입력: '))\n",
    "\n",
    "\n",
    "for number in range(1, inputNumber+1):\n",
    "  if inputNumber % number == 0:\n",
    "    print(f'{inputNumber}의 약수: {number}')\n"
   ]
  },
  {
   "cell_type": "code",
   "execution_count": 6,
   "metadata": {},
   "outputs": [
    {
     "name": "stdout",
     "output_type": "stream",
     "text": [
      "2 : 소수!!\n",
      "3 : 소수!!\n",
      "4 : \t\t합성수!!\n",
      "5 : 소수!!\n",
      "6 : \t\t합성수!!\n",
      "7 : 소수!!\n",
      "8 : \t\t합성수!!\n",
      "9 : \t\t합성수!!\n",
      "10 : \t\t합성수!!\n",
      "11 : 소수!!\n",
      "12 : \t\t합성수!!\n",
      "13 : 소수!!\n",
      "14 : \t\t합성수!!\n",
      "15 : \t\t합성수!!\n",
      "16 : \t\t합성수!!\n",
      "17 : 소수!!\n",
      "18 : \t\t합성수!!\n",
      "19 : 소수!!\n",
      "20 : \t\t합성수!!\n",
      "21 : \t\t합성수!!\n",
      "22 : \t\t합성수!!\n",
      "23 : 소수!!\n",
      "24 : \t\t합성수!!\n",
      "25 : \t\t합성수!!\n",
      "26 : \t\t합성수!!\n"
     ]
    }
   ],
   "source": [
    "#### 소수\n",
    "\n",
    "inputNumber = int(input('0보다 큰 정수 입력: '))\n",
    "\n",
    "for number in range(2, inputNumber + 1):\n",
    "  flag = True\n",
    "  for n in range(2, number):\n",
    "    if number % n == 0:\n",
    "      flag = False\n",
    "      break\n",
    "    \n",
    "  if (flag):\n",
    "    print('{} : 소수!!'.format(number))\n",
    "  else:\n",
    "    print('{} : \\t\\t합성수!!'.format(number))\n"
   ]
  },
  {
   "cell_type": "code",
   "execution_count": null,
   "metadata": {},
   "outputs": [],
   "source": [
    "## 03_003 소인수 분해\n",
    "\n",
    "### 소인수 = 약수이면서 소수인 숫자\n",
    "\n",
    "#### 20의 약수는 1, 2, 4, 5, 10, 20 이 있는데 소인수는 2 와 5이다.\n",
    "\n",
    "#### 36의 약수는 1, 2, 3, 4, 9, 12, 18, 36 이고 소인수는 2, 3 이다. \n",
    "\n",
    "### 소인수 분해\n",
    "\n",
    "#### 정수를 소인수의 곱으로 나타낸 것은 소인수 분해\n",
    "\n",
    "#### 20의 소인수 분해 = 2^2 * 5\n"
   ]
  },
  {
   "cell_type": "code",
   "execution_count": 11,
   "metadata": {},
   "outputs": [
    {
     "name": "stdout",
     "output_type": "stream",
     "text": [
      "소인수: 3\n",
      "소인수: 53\n",
      "소인수: 59\n",
      "소인수: 251\n"
     ]
    }
   ],
   "source": [
    "## 03_004 소인수분해 2 파이썬 / 수를 소인수의 곱으로 나타내기\n",
    "\n",
    "\n",
    "inputNumber = int(input('0보다 큰 정수 입력: '))\n",
    "\n",
    "n = 2\n",
    "while n <= inputNumber:\n",
    "  if inputNumber % n == 0:\n",
    "    print('소인수: {}'.format(n))\n",
    "    inputNumber /= n\n",
    "  else:\n",
    "    n += 1\n"
   ]
  },
  {
   "cell_type": "code",
   "execution_count": 12,
   "metadata": {},
   "outputs": [
    {
     "name": "stdout",
     "output_type": "stream",
     "text": [
      "소인수: 2\n",
      "소인수: 2\n",
      "소인수: 2\n",
      "소인수: 3\n",
      "소인수: 3\n",
      "searchNumbers = [2]\n"
     ]
    }
   ],
   "source": [
    "#### 72 에 x를 곱하면 y의 제곱이 된다고 할 때, x에 해당하는 가장 작은 정수를 구하자.\n",
    "\n",
    "##### 72 = 2^3 * 3^2 / 2만 더 곱해주면 됨\n",
    "\n",
    "inputNumber = int(input('0보다 큰 정수 입력: '))\n",
    "\n",
    "n = 2\n",
    "searchNumbers = []\n",
    "while n <= inputNumber:\n",
    "  if inputNumber % n == 0:\n",
    "    print('소인수: {}'.format(n))\n",
    "    if searchNumbers.count(n) == 0:\n",
    "      searchNumbers.append(n)\n",
    "    elif searchNumbers.count(n) == 1:\n",
    "      searchNumbers.remove(n)\n",
    "    inputNumber /= n\n",
    "  else:\n",
    "    n += 1\n",
    "    \n",
    "print(f'searchNumbers = {searchNumbers}')\n"
   ]
  },
  {
   "cell_type": "code",
   "execution_count": null,
   "metadata": {},
   "outputs": [],
   "source": [
    "## 03_005 최대 공약수\n",
    "\n",
    "### 최대 공약수 : 공약수 중 가장 큰 수\n",
    "### 공약수 : 두 개 이상의 수에서 공통된 약수\n",
    "### 소인수 분해를 이용하면 최대공약수 및 공약수를 구할 수 있다. 공약수는 최대공약수의 약수라 보면 됨.\n"
   ]
  },
  {
   "cell_type": "code",
   "execution_count": 13,
   "metadata": {},
   "outputs": [
    {
     "name": "stdout",
     "output_type": "stream",
     "text": [
      "공약수: 1\n",
      "공약수: 2\n",
      "공약수: 3\n",
      "공약수: 4\n",
      "공약수: 6\n",
      "공약수: 12\n",
      "최대공약수: 12\n"
     ]
    }
   ],
   "source": [
    "## 03_006 최대공약수 파이썬\n",
    "\n",
    "### 두 개의 수 입력하면 공약수와 최대공약수를 출력하는 코드를 작성하자\n",
    "\n",
    "num1 = int(input('1보다 큰 정수 입력: '))\n",
    "num2 = int(input('num1보다 큰 정수 입력: '))\n",
    "\n",
    "maxNum = 0\n",
    "\n",
    "for i in range(1, (num1 + 1)):\n",
    "  if num1 % i == 0 and num2 % i == 0:\n",
    "    print('공약수: {}'.format(i))\n",
    "    maxNum = i\n",
    "    \n",
    "print('최대공약수: {}'.format(maxNum))\n",
    "\n"
   ]
  },
  {
   "cell_type": "code",
   "execution_count": 17,
   "metadata": {},
   "outputs": [
    {
     "name": "stdout",
     "output_type": "stream",
     "text": [
      "공약수: 1\n",
      "최대공약수: 1\n"
     ]
    }
   ],
   "source": [
    "### 세 개의 수 입력하면 공약수와 최대공약수를 출력하는 코드를 작성하자\n",
    "\n",
    "num1 = int(input('1보다 큰 정수 입력: '))\n",
    "num2 = int(input('1보다 큰 정수 입력: '))\n",
    "num3 = int(input('1보다 큰 정수 입력: '))\n",
    "\n",
    "maxNum = 0\n",
    "\n",
    "for i in range(1, (num1 + 1)):\n",
    "  if num1 % i == 0 and num2 % i == 0 and num3 % i == 0:\n",
    "    print('공약수: {}'.format(i))\n",
    "    maxNum = i\n",
    "    \n",
    "print('최대공약수: {}'.format(maxNum))"
   ]
  },
  {
   "cell_type": "code",
   "execution_count": 18,
   "metadata": {},
   "outputs": [
    {
     "name": "stdout",
     "output_type": "stream",
     "text": [
      "12, 36의 최대공약수: 12\n"
     ]
    }
   ],
   "source": [
    "### 유클리드 호제법\n",
    "\n",
    "num1 = int(input('1보다 큰 정수 입력: '))\n",
    "num2 = int(input('1보다 큰 정수 입력: '))\n",
    "\n",
    "temp1 = num1\n",
    "temp2 = num2\n",
    "\n",
    "while temp2 > 0:\n",
    "  temp = temp2\n",
    "  temp2 = temp1 % temp2\n",
    "  temp1 = temp\n",
    "  \n",
    "print('{}, {}의 최대공약수: {}'.format(num1, num2, temp1))\n"
   ]
  },
  {
   "cell_type": "code",
   "execution_count": null,
   "metadata": {},
   "outputs": [],
   "source": [
    "## 03_007 최소공배수\n",
    "\n",
    "#### 최소 공배수 = 공통된 배수 중 가장 작은 수\n",
    "\n",
    "#### 공배수 = 공통된 배수 / 소인수분해로 최소공배수 구할 수 있음\n"
   ]
  },
  {
   "cell_type": "code",
   "execution_count": null,
   "metadata": {},
   "outputs": [],
   "source": [
    "## 03_008 최소공배수 - 파이썬\n",
    "\n",
    "### for문과 유클리드 호재법을 이용해서 최소공배수를 구해보자\n",
    "\n",
    "num1 = int(input('1보다 큰 정수 입력: '))\n",
    "num2 = int(input('1보다 큰 정수 입력: '))\n",
    "maxNum = 0\n",
    "\n",
    "for i in range(1, (num1 + 1)):\n",
    "  if num1 % i == 0  and num2 % i ==0:\n",
    "    print('공약수: {}'.format(i))\n",
    "    maxNum = i\n",
    "    \n",
    "print('최대공약수: {}'.format(maxNum))\n",
    "\n",
    "minNum = (num1 * num2) // maxNum\n",
    "print('최소공배수: {}'.format(minNum))"
   ]
  },
  {
   "cell_type": "code",
   "execution_count": 19,
   "metadata": {},
   "outputs": [
    {
     "name": "stdout",
     "output_type": "stream",
     "text": [
      "6와(과) 12의 최대공약수: 6\n",
      "6와(과) 12의 최소공배수: 12\n",
      "최대공약수: 6\n",
      "6, 12, 18의 최소공배수: 36\n"
     ]
    }
   ],
   "source": [
    "num1 = int(input('1보다 큰 정수 입력: '))\n",
    "num2 = int(input('1보다 큰 정수 입력: '))\n",
    "num3 = int(input('1보다 큰 정수 입력: '))\n",
    "\n",
    "maxNum = 0\n",
    "\n",
    "for i in range(1, (num1 + 1)):\n",
    "  if num1 % i == 0  and num2 % i ==0:\n",
    "    maxNum = i\n",
    "    \n",
    "print('{}와(과) {}의 최대공약수: {}'.format(num1, num2, maxNum))\n",
    "\n",
    "minNum = (num1 * num2) // maxNum\n",
    "print('{}와(과) {}의 최소공배수: {}'.format(num1, num2, minNum))\n",
    "\n",
    "\n",
    "newNum = minNum\n",
    "\n",
    "for i in range(1, newNum + 1):\n",
    "  if newNum % i == 0 and num3 % i == 0:\n",
    "    maxNum = i\n",
    "    \n",
    "print('최대공약수: {}'.format(maxNum))\n",
    "\n",
    "minNum = newNum * num3 // maxNum\n",
    "print('{}, {}, {}의 최소공배수: {}'.format(num1, num2, num3, minNum))\n",
    "\n",
    "\n"
   ]
  },
  {
   "cell_type": "code",
   "execution_count": 21,
   "metadata": {},
   "outputs": [
    {
     "name": "stdout",
     "output_type": "stream",
     "text": [
      "배 3, 4의 최대공약수 : 1\n",
      "배 3, 4의 최소공배수 : 12\n",
      "배 3, 4의 최대공약수 : 1\n",
      "배 3, 4, 5의 최소공배수 : 60\n"
     ]
    }
   ],
   "source": [
    "### 배 겹치는 날 구하기 \n",
    "\n",
    "ship1 = 3 ; ship2 = 4 ; ship3 = 5\n",
    "\n",
    "maxDay = 0\n",
    "\n",
    "for i in range(1, ship1+1):\n",
    "  if ship1 % i == 0 and ship2 % i == 0:\n",
    "    maxDay = i\n",
    "print('배 {}, {}의 최대공약수 : {}'.format(ship1, ship2, maxDay))\n",
    "\n",
    "minDay = (ship1 * ship2) // maxDay\n",
    "print('배 {}, {}의 최소공배수 : {}'.format(ship1, ship2, minDay))\n",
    "\n",
    "\n",
    "\n",
    "newDay = minDay\n",
    "\n",
    "for i in range(1, newDay+1):\n",
    "  if newDay % i == 0 and ship3 % i == 0:\n",
    "    maxDay = i\n",
    "print('배 {}, {}의 최대공약수 : {}'.format(ship1, ship2, maxDay))\n",
    "\n",
    "minDay = (newDay * ship3) // maxDay\n",
    "print('배 {}, {}, {}의 최소공배수 : {}'.format(ship1, ship2, ship3, minDay))\n",
    "\n",
    "\n",
    "\n"
   ]
  },
  {
   "cell_type": "code",
   "execution_count": null,
   "metadata": {},
   "outputs": [],
   "source": [
    "## 03_009 진법 / 10진법 외의 진법\n",
    "\n",
    "### 10진수 -> x 진수\n",
    "### x 진수 -> 10진수 "
   ]
  },
  {
   "cell_type": "code",
   "execution_count": 25,
   "metadata": {},
   "outputs": [
    {
     "name": "stdout",
     "output_type": "stream",
     "text": [
      "2진수: 0b11110\n",
      "8진수: 0o36\n",
      "16진수: 0x1e\n",
      "2진수: 0b11110\n",
      "8진수: 0o36\n",
      "16진수: 0x1e\n",
      "2진수 0b11110 / 8진수 0o36 / 16진수 0x1e\n"
     ]
    }
   ],
   "source": [
    "## 03_010 진법(파이썬) / 파이썬을 통한 진법 전환\n",
    "\n",
    "dNum = 30\n",
    "\n",
    "print('2진수: {}'.format(bin(dNum)))\n",
    "print('8진수: {}'.format(oct(dNum)))\n",
    "print('16진수: {}'.format(hex(dNum)))\n",
    "\n",
    "print('2진수: {}'.format(format(dNum, '#b')))\n",
    "print('8진수: {}'.format(format(dNum, '#o')))\n",
    "print('16진수: {}'.format(format(dNum, '#x')))\n",
    "\n",
    "print('2진수 {0:#b} / 8진수 {0:#o} / 16진수 {0:#x}'.format(dNum, dNum, dNum))\n"
   ]
  },
  {
   "cell_type": "code",
   "execution_count": 27,
   "metadata": {},
   "outputs": [
    {
     "name": "stdout",
     "output_type": "stream",
     "text": [
      "2진수(0b11110) -> 10진수(30)\n",
      "8진수(0o36) -> 10진수(30)\n",
      "16진수(0x1e) -> 10진수(30)\n"
     ]
    }
   ],
   "source": [
    "### x 진수를 10진수로 변환\n",
    "\n",
    "print('2진수(0b11110) -> 10진수({})'.format(int('0b11110', 2)))\n",
    "print('8진수(0o36) -> 10진수({})'.format(int('0o36', 8)))\n",
    "print('16진수(0x1e) -> 10진수({})'.format(int('0x1e', 16)))\n"
   ]
  },
  {
   "cell_type": "code",
   "execution_count": null,
   "metadata": {},
   "outputs": [],
   "source": [
    "## 03_011 수열\n",
    "\n",
    "### 수열 = 규칙을 가진 수들의 나열\n",
    "\n",
    "### an = 일반항 / 일반항은 식으로 도출 가능\n",
    "\n",
    "### Sn = a1부터 an 까지의 합\n",
    "\n",
    "### an = Sn - S(n-1) / n은 2보다 커야 & a1 = S1\n"
   ]
  },
  {
   "cell_type": "code",
   "execution_count": null,
   "metadata": {},
   "outputs": [],
   "source": [
    "## 03_012 등차 수열\n",
    "\n",
    "### 등차 수열 = 차이가 같은 수열\n",
    "### an = a1 + (n-1) * d\n",
    "### Sn = n(a1+an) / 2\n",
    "### 등차 중앙 = (an-1 + an+1) / 2"
   ]
  },
  {
   "cell_type": "code",
   "execution_count": null,
   "metadata": {},
   "outputs": [],
   "source": [
    "## 03_013 등차수열 파이썬\n",
    "\n",
    "inputN1 = int(input('a1 입력: '))\n",
    "inputD = int(input('공차 입력: '))\n",
    "inputN = int(input('n 입력: '))\n",
    "\n",
    "valueN = 0 \n",
    "n = 1\n",
    "while n <= inputN:\n",
    "  \n",
    "  if n == 1:\n",
    "    valueN = inputN1\n",
    "    print('{}번째 항의 값: {}'.format(n, valueN))\n",
    "    n += 1\n",
    "    continue\n",
    "  \n",
    "  valueN += inputD\n",
    "  print('{}번째 항의 값: {}'.format(n, valueN))\n",
    "  n += 1\n",
    "  \n",
    "print('{}번째 항의 값: {}'.format(inputN, valueN))\n"
   ]
  },
  {
   "cell_type": "code",
   "execution_count": 1,
   "metadata": {},
   "outputs": [
    {
     "name": "stdout",
     "output_type": "stream",
     "text": [
      "7번째 항의 값: 20\n"
     ]
    }
   ],
   "source": [
    "### 등차수열 공식 사용\n",
    "\n",
    "inputN1 = int(input('a1 입력: '))\n",
    "inputD = int(input('공차 입력: '))\n",
    "inputN = int(input('n 입력: '))\n",
    "\n",
    "valueN = inputN1 + (inputN - 1) * inputD\n",
    "print('{}번째 항의 값: {}'.format(inputN, valueN))"
   ]
  }
 ],
 "metadata": {
  "kernelspec": {
   "display_name": "Python 3",
   "language": "python",
   "name": "python3"
  },
  "language_info": {
   "codemirror_mode": {
    "name": "ipython",
    "version": 3
   },
   "file_extension": ".py",
   "mimetype": "text/x-python",
   "name": "python",
   "nbconvert_exporter": "python",
   "pygments_lexer": "ipython3",
   "version": "3.10.6"
  },
  "orig_nbformat": 4
 },
 "nbformat": 4,
 "nbformat_minor": 2
}
