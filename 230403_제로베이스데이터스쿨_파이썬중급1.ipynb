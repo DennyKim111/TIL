{
 "cells": [
  {
   "cell_type": "code",
   "execution_count": 1,
   "metadata": {},
   "outputs": [
    {
     "name": "stdout",
     "output_type": "stream",
     "text": [
      " n1 + n2 = 24\n"
     ]
    }
   ],
   "source": [
    "#230403 데이터스쿨 파이썬 중급 함수 ~\n",
    "\n",
    "def addCal():\n",
    "  n1 = int(input('n1 입력: '))\n",
    "  n2 = int(input('n2 입력: '))\n",
    "  print(f' n1 + n2 = {n1 + n2}')\n",
    "\n",
    "addCal()\n"
   ]
  },
  {
   "cell_type": "code",
   "execution_count": null,
   "metadata": {},
   "outputs": [],
   "source": [
    "\n",
    "# 함수 선언\n",
    "\n",
    "def addCal():\n",
    "  n1 = int(input('n1 입력: '))\n",
    "  n2 = int(input('n2 입력: '))\n",
    "  print(f' n1 + n2 = {n1 + n2}')\n",
    "\n",
    "addCal()\n"
   ]
  },
  {
   "cell_type": "code",
   "execution_count": 2,
   "metadata": {},
   "outputs": [
    {
     "ename": "NameError",
     "evalue": "name 'n1' is not defined",
     "output_type": "error",
     "traceback": [
      "\u001b[1;31m---------------------------------------------------------------------------\u001b[0m",
      "\u001b[1;31mNameError\u001b[0m                                 Traceback (most recent call last)",
      "Cell \u001b[1;32mIn[2], line 7\u001b[0m\n\u001b[0;32m      4\u001b[0m   n1 \u001b[39m=\u001b[39m \u001b[39mint\u001b[39m(\u001b[39minput\u001b[39m(\u001b[39m'\u001b[39m\u001b[39mwhat is n1? : \u001b[39m\u001b[39m'\u001b[39m))\n\u001b[0;32m      5\u001b[0m   n2 \u001b[39m=\u001b[39m \u001b[39mint\u001b[39m(\u001b[39minput\u001b[39m(\u001b[39m'\u001b[39m\u001b[39mwhat is n2?: \u001b[39m\u001b[39m'\u001b[39m))\n\u001b[1;32m----> 7\u001b[0m \u001b[39mprint\u001b[39m(\u001b[39mf\u001b[39m\u001b[39m'\u001b[39m\u001b[39mn1 * n2 = \u001b[39m\u001b[39m{\u001b[39;00mn1 \u001b[39m*\u001b[39m n2\u001b[39m}\u001b[39;00m\u001b[39m'\u001b[39m)\n\u001b[0;32m      8\u001b[0m \u001b[39mprint\u001b[39m(\u001b[39mf\u001b[39m\u001b[39m'\u001b[39m\u001b[39mn1 / n2 = \u001b[39m\u001b[39m{\u001b[39;00mn1 \u001b[39m/\u001b[39m n2\u001b[39m}\u001b[39;00m\u001b[39m'\u001b[39m)\n\u001b[0;32m     11\u001b[0m calPractice()\n",
      "\u001b[1;31mNameError\u001b[0m: name 'n1' is not defined"
     ]
    }
   ],
   "source": [
    "# 정수 두 개 입력, 곱셈과 나눗셈 연산 결과 출력 함수 만들고 호출\n",
    "\n",
    "def calPractice():\n",
    "  n1 = int(input('what is n1? : '))\n",
    "  n2 = int(input('what is n2?: '))\n",
    "\n",
    "print(f'n1 * n2 = {n1 * n2}')\n",
    "print(f'n1 / n2 = {n1 / n2}')\n",
    "\n",
    "\n",
    "calPractice()\n"
   ]
  },
  {
   "cell_type": "code",
   "execution_count": 4,
   "metadata": {},
   "outputs": [
    {
     "name": "stdout",
     "output_type": "stream",
     "text": [
      "fun1 호출\n",
      "fun2 호출\n",
      "fun3 호출\n",
      "fun2 호출 후에 실행\n"
     ]
    }
   ],
   "source": [
    "# 함수 내에서 또 다른 함수 호출\n",
    "\n",
    "def fun1():\n",
    "  print('fun1 호출')\n",
    "  fun2()\n",
    "  print('fun2 호출 후에 실행')\n",
    "  \n",
    "def fun2():\n",
    "  print('fun2 호출')\n",
    "  fun3()\n",
    "def fun3():\n",
    "  print('fun3 호출')\n",
    "  \n",
    "fun1()\n",
    "\n"
   ]
  },
  {
   "cell_type": "code",
   "execution_count": 6,
   "metadata": {},
   "outputs": [
    {
     "name": "stdout",
     "output_type": "stream",
     "text": [
      "오늘 날씨는 매우 좋아요.\n"
     ]
    }
   ],
   "source": [
    "def printTodayWeather():\n",
    "  print('오늘 날씨는 매우 좋아요.')\n",
    "\n",
    "printTodayWeather()\n",
    "\n",
    "def printTomorrowWeather():\n",
    "  pass\n",
    "\n",
    "printTomorrowWeather()"
   ]
  },
  {
   "cell_type": "code",
   "execution_count": 13,
   "metadata": {},
   "outputs": [
    {
     "name": "stdout",
     "output_type": "stream",
     "text": [
      "2*1 = 2\n",
      "2*2 = 4\n",
      "2*3 = 6\n",
      "2*4 = 8\n",
      "2*5 = 10\n",
      "2*6 = 12\n",
      "2*7 = 14\n",
      "2*8 = 16\n",
      "2*9 = 18\n",
      "3*1 = 3\n",
      "3*2 = 6\n",
      "3*3 = 9\n",
      "3*4 = 12\n",
      "3*5 = 15\n",
      "3*6 = 18\n",
      "3*7 = 21\n",
      "3*8 = 24\n",
      "3*9 = 27\n",
      "4*1 = 4\n",
      "4*2 = 8\n",
      "4*3 = 12\n",
      "4*4 = 16\n",
      "4*5 = 20\n",
      "4*6 = 24\n",
      "4*7 = 28\n",
      "4*8 = 32\n",
      "4*9 = 36\n",
      "5*1 = 5\n",
      "5*2 = 10\n",
      "5*3 = 15\n",
      "5*4 = 20\n",
      "5*5 = 25\n",
      "5*6 = 30\n",
      "5*7 = 35\n",
      "5*8 = 40\n",
      "5*9 = 45\n"
     ]
    }
   ],
   "source": [
    "# 구구단 연쇄로 \n",
    "\n",
    "def guguDan2():\n",
    "  for i in range(1, 10):\n",
    "    print('2*{} = {}'.format(i, 2*i))\n",
    "  guguDan3()\n",
    "    \n",
    "guguDan2()\n",
    "\n",
    "def guguDan3():\n",
    "  for a in range(1, 10):\n",
    "    print('3*{} = {}'.format(a, 3*a))\n",
    "  guguDan4()\n",
    "    \n",
    "\n",
    "\n",
    "def guguDan4():\n",
    "  for b in range(1, 10):\n",
    "    print('4*{} = {}'.format(b, 4*b))\n",
    "  guguDan5()\n",
    "    \n",
    "\n",
    "def guguDan5():\n",
    "  for c in range(1, 10):\n",
    "    print('5*{} = {}'.format(c, 5*c))\n",
    "\n",
    "\n"
   ]
  },
  {
   "cell_type": "code",
   "execution_count": 15,
   "metadata": {},
   "outputs": [
    {
     "name": "stdout",
     "output_type": "stream",
     "text": [
      "환영합니다.\n",
      "환영합니다.\n",
      "환영합니다.\n"
     ]
    }
   ],
   "source": [
    "# 인수와 매개 변수\n",
    "\n",
    "def greet():\n",
    "  print('환영합니다.')\n",
    "  \n",
    "greet()\n",
    "greet()\n",
    "greet()"
   ]
  },
  {
   "cell_type": "code",
   "execution_count": 19,
   "metadata": {},
   "outputs": [
    {
     "name": "stdout",
     "output_type": "stream",
     "text": [
      "hello, 김지태 and 발레리아\n"
     ]
    }
   ],
   "source": [
    "def greet(customer1, customer2):\n",
    "  print('hello, {} and {}'.format(customer1, customer2))\n",
    "  \n",
    "greet('김지태', '발레리아')\n",
    "\n",
    "# 개수 일치하지 않으면 에러 남 / 인수와 매개변수 개수는 일치해야 ! / "
   ]
  },
  {
   "cell_type": "code",
   "execution_count": 23,
   "metadata": {},
   "outputs": [
    {
     "name": "stdout",
     "output_type": "stream",
     "text": [
      "33 + 44 = 77\n",
      "33 - 44 = -11\n",
      "33 * 44 = 1452\n",
      "33 / 44 = 0.75\n"
     ]
    }
   ],
   "source": [
    "def calculator(n1, n2):\n",
    "  print(f'{n1} + {n2} = {n1 + n2}')\n",
    "  print(f'{n1} - {n2} = {n1 - n2}')\n",
    "  print(f'{n1} * {n2} = {n1 * n2}')\n",
    "  print(f'{n1} / {n2} = {n1 / n2}')\n",
    "  \n",
    "calculator(33, 44)"
   ]
  },
  {
   "cell_type": "code",
   "execution_count": 25,
   "metadata": {},
   "outputs": [
    {
     "name": "stdout",
     "output_type": "stream",
     "text": [
      "<class 'tuple'>\n",
      "<class 'tuple'>\n",
      "<class 'tuple'>\n"
     ]
    }
   ],
   "source": [
    "def printNumber(*numbers):   # 매개 변수 개수가 안정해지면 *를 사용한다.\n",
    "  print(type(numbers))\n",
    "\n",
    "printNumber()\n",
    "printNumber(13)\n",
    "printNumber(2, 33, 44)"
   ]
  },
  {
   "cell_type": "code",
   "execution_count": 26,
   "metadata": {},
   "outputs": [
    {
     "name": "stdout",
     "output_type": "stream",
     "text": [
      "\n",
      "13, \n",
      "2, 33, 44, \n",
      "3, 44, \n"
     ]
    }
   ],
   "source": [
    "def printNumber(*numbers):   # 매개 변수 개수가 안정해지면 *를 사용한다.\n",
    "  for number in numbers:\n",
    "    print(number, end=', ')\n",
    "  print()\n",
    "\n",
    "printNumber()\n",
    "printNumber(13)\n",
    "printNumber(2, 33, 44)\n",
    "printNumber(3, 44)"
   ]
  },
  {
   "cell_type": "code",
   "execution_count": 3,
   "metadata": {},
   "outputs": [
    {
     "name": "stdout",
     "output_type": "stream",
     "text": [
      "국어 = 44, 영어 = 84, 수학 = 66\n",
      "총점: 194\n",
      "평균: 64.6667\n"
     ]
    }
   ],
   "source": [
    "def printScore(kor, eng, mat):\n",
    "  sum = kor + eng + mat\n",
    "  avg = sum / 3\n",
    "  \n",
    "  print('국어 = {}, 영어 = {}, 수학 = {}'.format(kor, eng, mat))\n",
    "  print('총점: {}'.format(sum))\n",
    "  print(f'평균: {round(avg, 4)}')\n",
    "  \n",
    "  \n",
    "printScore(44, 84, 66)\n",
    "  \n",
    "  "
   ]
  },
  {
   "cell_type": "code",
   "execution_count": 38,
   "metadata": {},
   "outputs": [
    {
     "name": "stdout",
     "output_type": "stream",
     "text": [
      "returnValue: 18.33\n"
     ]
    }
   ],
   "source": [
    "# 05 005 데이터 반환 매우 중요!!\n",
    "\n",
    "def calculator(n1, n2):\n",
    "  result = (n1 + n2)\n",
    "  \n",
    "  return result\n",
    "  print('Hello') # 리턴 다음에 나와서 헬로는 출력 안됨\n",
    "  \n",
    "returnvalue = calculator(22, 33)\n",
    "\n",
    "print(f'returnValue: {round(returnvalue / 3, 2)}')\n",
    "\n",
    "\n"
   ]
  },
  {
   "cell_type": "code",
   "execution_count": 40,
   "metadata": {},
   "outputs": [
    {
     "name": "stdout",
     "output_type": "stream",
     "text": [
      "홀수\n"
     ]
    }
   ],
   "source": [
    "def divideNumber(n):\n",
    "  if n % 2 == 0:\n",
    "    result = '짝수'\n",
    "  else:\n",
    "    result = '홀수'\n",
    "    \n",
    "  return result\n",
    "\n",
    "returnValue = divideNumber(5)\n",
    "\n",
    "print(returnValue)"
   ]
  },
  {
   "cell_type": "code",
   "execution_count": 42,
   "metadata": {},
   "outputs": [
    {
     "name": "stdout",
     "output_type": "stream",
     "text": [
      "result = 홀수\n"
     ]
    }
   ],
   "source": [
    "def divideNumber(n):\n",
    "  if n % 2 == 0:\n",
    "    return '짝수'\n",
    "  else:\n",
    "    return '홀수'\n",
    "  \n",
    "result = divideNumber(3)\n",
    "\n",
    "\n",
    "\n",
    "print('result = {}'.format(result))"
   ]
  },
  {
   "cell_type": "code",
   "execution_count": 43,
   "metadata": {},
   "outputs": [
    {
     "name": "stdout",
     "output_type": "stream",
     "text": [
      "returnvalue: 33330.0mm\n"
     ]
    }
   ],
   "source": [
    "def cmToMm(cm):\n",
    "  result = cm * 10\n",
    "  \n",
    "  return result\n",
    "\n",
    "length = float(input('길이 입력해: '))\n",
    "returnValue = cmToMm(length)\n",
    "print(f'returnvalue: {returnValue}mm')"
   ]
  },
  {
   "cell_type": "code",
   "execution_count": 63,
   "metadata": {},
   "outputs": [
    {
     "name": "stdout",
     "output_type": "stream",
     "text": [
      "returnValue: ('홀수', 95)\n"
     ]
    }
   ],
   "source": [
    "# import random\n",
    "\n",
    "# rNum = random.randint(1, 100)\n",
    "\n",
    "# def Nansureturn(rNum):\n",
    "#   if rNum % 2 == 0:\n",
    "#     return '짝수'\n",
    "#   else:\n",
    "#     return '홀수'\n",
    "\n",
    "\n",
    "# returnValue = Nansureturn(rNum)\n",
    "\n",
    "# print('returnvalue: {}'.format(returnvalue))\n",
    "\n",
    "import random\n",
    "\n",
    "def getOddNumber():\n",
    "  rNum = random.randint(1, 100)\n",
    "  if rNum % 2 != 0:\n",
    "    return '홀수', rNum\n",
    "  else:\n",
    "    return '짝수', rNum\n",
    "  \n",
    "print(f'returnValue: {getOddNumber()}')\n",
    "  \n",
    "  "
   ]
  },
  {
   "cell_type": "code",
   "execution_count": 60,
   "metadata": {},
   "outputs": [
    {
     "name": "stdout",
     "output_type": "stream",
     "text": [
      "returnValue: 83\n"
     ]
    }
   ],
   "source": [
    "import random\n",
    "\n",
    "def getOddRandomNumber():\n",
    "  while True:\n",
    "    rNum = random.randint(1, 100)\n",
    "    if rNum % 2 != 0:\n",
    "      break\n",
    "    \n",
    "  return rNum\n",
    "\n",
    "print(f'returnValue: {getOddRandomNumber()}')"
   ]
  },
  {
   "cell_type": "code",
   "execution_count": 90,
   "metadata": {},
   "outputs": [
    {
     "name": "stdout",
     "output_type": "stream",
     "text": [
      "12cm는 120mm 입니다.\n"
     ]
    }
   ],
   "source": [
    "import random\n",
    "\n",
    "def changeToMm(cm):\n",
    "  mm = cm * 10\n",
    "  \n",
    "  return mm\n",
    "\n",
    "length = random.randint(1, 100)\n",
    "\n",
    "print('{}cm는 {}mm 입니다.'.format(length, changeToMm(length)))"
   ]
  },
  {
   "cell_type": "code",
   "execution_count": 98,
   "metadata": {},
   "outputs": [
    {
     "name": "stdout",
     "output_type": "stream",
     "text": [
      "(422, '은(는) 짝수입니다.')\n"
     ]
    }
   ],
   "source": [
    "def getOddNumber(rNum):\n",
    "  if rNum % 2 != 0:\n",
    "    return rNum,'은(는) 홀수입니다.'\n",
    "  if rNum % 2 == 0:\n",
    "    return rNum,'은(는) 짝수입니다.'\n",
    "  \n",
    "rNum = random.randint(1, 444)\n",
    "result = getOddNumber(rNum)\n",
    "print(f'{getOddNumber(rNum)}')"
   ]
  },
  {
   "cell_type": "code",
   "execution_count": null,
   "metadata": {},
   "outputs": [],
   "source": [
    "# 전역 변수 = 어디에서나 사용 가능, 함수 안에서 수정은 불가능\n",
    "# global을 사용하면 함수 안에서도 전역 변수의 값을 수정 할 수 있다. "
   ]
  },
  {
   "cell_type": "code",
   "execution_count": 100,
   "metadata": {},
   "outputs": [
    {
     "name": "stdout",
     "output_type": "stream",
     "text": [
      "삼각형 넓이: 1210.0\n",
      "사각형 넓이: 2420\n"
     ]
    }
   ],
   "source": [
    "def printArea():\n",
    "  triangleArea = width * height / 2\n",
    "  squareArea = width * height \n",
    "  \n",
    "  print(f'삼각형 넓이: {triangleArea}')\n",
    "  print(f'사각형 넓이: {squareArea}')\n",
    "  \n",
    "width = int(input('가로 길이: '))\n",
    "height = int(input('세로 길이: '))\n",
    "\n",
    "\n",
    "printArea()\n"
   ]
  },
  {
   "cell_type": "code",
   "execution_count": 101,
   "metadata": {},
   "outputs": [
    {
     "name": "stdout",
     "output_type": "stream",
     "text": [
      "누적 방문객: 1\n",
      "누적 방문객: 2\n",
      "누적 방문객: 3\n",
      "누적 방문객: 4\n",
      "누적 방문객: 5\n",
      "누적 방문객: 6\n",
      "누적 방문객: 7\n",
      "누적 방문객: 8\n",
      "누적 방문객: 9\n",
      "누적 방문객: 10\n",
      "누적 방문객: 11\n"
     ]
    }
   ],
   "source": [
    "totalvisit = 0\n",
    "\n",
    "def countTotalVisit():\n",
    "  global totalvisit\n",
    "  \n",
    "  totalvisit = totalvisit + 1\n",
    "  print(f'누적 방문객: {totalvisit}')\n",
    "  \n",
    "countTotalVisit()\n",
    "countTotalVisit()\n",
    "countTotalVisit()\n",
    "countTotalVisit()\n",
    "countTotalVisit()\n",
    "countTotalVisit()\n",
    "countTotalVisit()\n",
    "countTotalVisit()\n",
    "countTotalVisit()\n",
    "countTotalVisit()\n",
    "countTotalVisit()"
   ]
  },
  {
   "cell_type": "code",
   "execution_count": 105,
   "metadata": {},
   "outputs": [
    {
     "name": "stdout",
     "output_type": "stream",
     "text": [
      "out_function called!!\n",
      "in_function called!!\n"
     ]
    }
   ],
   "source": [
    "def out_function():\n",
    "  print('out_function called!!')\n",
    "  def in_function():\n",
    "    print('in_function called!!')\n",
    "    \n",
    "  in_function()\n",
    "  \n",
    "out_function()"
   ]
  },
  {
   "cell_type": "code",
   "execution_count": 112,
   "metadata": {},
   "outputs": [
    {
     "name": "stdout",
     "output_type": "stream",
     "text": [
      "뺄셈 연산: -4510.0\n",
      "bye\n"
     ]
    }
   ],
   "source": [
    "def calculator(n1, n2, operator):\n",
    "  def addCal():\n",
    "    print(f'덧셈 연산: {n1 + n2}')\n",
    "    \n",
    "  def subCal():\n",
    "    print(f'뺄셈 연산: {n1 - n2}')\n",
    "  def mulCal():\n",
    "    print(f'곱셈 연산: {n1 * n2}')\n",
    "  def divCal():\n",
    "    print(f'나눗셈 연산: {n1 / n2}')\n",
    "    \n",
    "  if operator == 1:\n",
    "    addCal()\n",
    "  elif operator == 2:\n",
    "    subCal()\n",
    "  elif operator == 3:\n",
    "    mulCal()\n",
    "  elif operator == 4:\n",
    "    divCal()\n",
    "    \n",
    "    \n",
    "    \n",
    "while True:\n",
    "  num1 = float(input('실수 n1 입력: '))\n",
    "  num2 = float(input('실수 n2 입력: '))\n",
    "  operatorNum = int(input('계산법 선택 (1~4 중 택 1 / 5 = 종료): '))\n",
    "  if operatorNum == 5:\n",
    "    print('bye')\n",
    "    break\n",
    "  \n",
    "  calculator(num1, num2, operatorNum)"
   ]
  },
  {
   "cell_type": "code",
   "execution_count": 114,
   "metadata": {},
   "outputs": [
    {
     "name": "stdout",
     "output_type": "stream",
     "text": [
      "returnValue = 5\n"
     ]
    }
   ],
   "source": [
    "# 05 008 람다 함수\n",
    "\n",
    "def calculator(n1, n2):\n",
    "  return n1 + n2\n",
    "\n",
    "rv = calculator(2, 3)\n",
    "\n",
    "print(f'returnValue = {rv}')"
   ]
  },
  {
   "cell_type": "code",
   "execution_count": 115,
   "metadata": {},
   "outputs": [
    {
     "name": "stdout",
     "output_type": "stream",
     "text": [
      "returnValue = 7\n"
     ]
    }
   ],
   "source": [
    "calculator = lambda n1, n2: n1 + n2\n",
    "\n",
    "rv = calculator(3, 4)\n",
    "\n",
    "print(f'returnValue = {rv}')"
   ]
  },
  {
   "cell_type": "code",
   "execution_count": 118,
   "metadata": {},
   "outputs": [
    {
     "name": "stdout",
     "output_type": "stream",
     "text": [
      "가로 = 55, 세로 = 66, 반지름 = 99\n",
      "1815.0\n",
      "3630\n",
      "30775.14\n"
     ]
    }
   ],
   "source": [
    "getTriangleArea = lambda n1, n2: n1*n2/2\n",
    "getSquareArea = lambda n1, n2: n1*n2\n",
    "getCircleArea = lambda r: r*r*3.14\n",
    "\n",
    "width = int(input('width length: '))\n",
    "height = int(input('height length: '))\n",
    "radius = int(input('radius length: '))\n",
    "\n",
    "triangleresult = getTriangleArea(width, height)\n",
    "squareresult = getSquareArea(width, height)\n",
    "circleresult = getCircleArea(radius)\n",
    "\n",
    "print('가로 = {}, 세로 = {}, 반지름 = {}'.format(width, height, radius))\n",
    "print(triangleresult)\n",
    "print(squareresult)\n",
    "print(circleresult)"
   ]
  },
  {
   "cell_type": "code",
   "execution_count": 158,
   "metadata": {},
   "outputs": [
    {
     "name": "stdout",
     "output_type": "stream",
     "text": [
      "89\n",
      "[62, 36, 88]\n"
     ]
    }
   ],
   "source": [
    "# 05 009 모듈\n",
    "\n",
    "import random\n",
    "\n",
    "rNum = random.randint(1, 100)\n",
    "\n",
    "print(rNum)\n",
    "\n",
    "rsamples = random.sample(range(101), 3)\n",
    "\n",
    "print(rsamples)\n"
   ]
  },
  {
   "cell_type": "code",
   "execution_count": null,
   "metadata": {},
   "outputs": [],
   "source": [
    "# 05 010 모듈 만들기 - calculator\n",
    "\n",
    "def add(n1, n2):\n",
    "  print(f'덧셈 결과: {n1 + n2}')\n",
    "  \n",
    "def sub(n1, n2):\n",
    "  print(f'뺄셈 결과: {n1 - n2}')\n",
    "  \n",
    "def mul(n1, n2):\n",
    "  print(f'곱셈 결과: {n1 * n2}')\n",
    "  \n",
    "def div(n1, n2):\n",
    "  print(f'나눗셈 결과: {n1 / n2}')\n",
    "  \n"
   ]
  },
  {
   "cell_type": "code",
   "execution_count": 161,
   "metadata": {},
   "outputs": [
    {
     "name": "stdout",
     "output_type": "stream",
     "text": [
      "덧셈 결과: 50\n",
      "뺄셈 결과: 21\n",
      "곱셈 결과: 433330\n",
      "나눗셈 결과: 30.272727272727273\n"
     ]
    }
   ],
   "source": [
    "import calculator\n",
    "\n",
    "calculator.add(10, 40)\n",
    "calculator.sub(22, 1)\n",
    "calculator.mul(10, 43333)\n",
    "calculator.div(999, 33)\n"
   ]
  },
  {
   "cell_type": "code",
   "execution_count": 171,
   "metadata": {},
   "outputs": [
    {
     "data": {
      "text/plain": [
       "([40, 32, 15, 1, 27, 13],\n",
       " [35, 22, 8, 15, 7, 36],\n",
       " [29, 8, 41, 27, 28, 33],\n",
       " [2, 37, 16, 39, 44, 35],\n",
       " [26, 23, 14, 18, 22, 4])"
      ]
     },
     "execution_count": 171,
     "metadata": {},
     "output_type": "execute_result"
    }
   ],
   "source": [
    "# 05 010 모듈 - 로또 머신\n",
    "\n",
    "import random\n",
    "\n",
    "def getLottoNumbers():\n",
    "  result1 = random.sample(range(1, 46), 6)\n",
    "  result2 = random.sample(range(1, 46), 6)\n",
    "  result3 = random.sample(range(1, 46), 6)\n",
    "  result4 = random.sample(range(1, 46), 6)\n",
    "  result5 = random.sample(range(1, 46), 6)\n",
    "  return result1, result2, result3, result4, result5\n",
    "\n",
    "\n",
    "getLottoNumbers()\n",
    "\n",
    "  "
   ]
  },
  {
   "cell_type": "code",
   "execution_count": 1,
   "metadata": {},
   "outputs": [
    {
     "name": "stdout",
     "output_type": "stream",
     "text": [
      "로또 넘버:([33, 17, 43, 32, 19, 41], [21, 3, 42, 39, 1, 33], [8, 38, 4, 7, 45, 39], [12, 36, 3, 20, 1, 6], [4, 12, 9, 11, 1, 36])\n"
     ]
    }
   ],
   "source": [
    "import lottoMachine\n",
    "\n",
    "result = lottoMachine.getLottoNumbers()\n",
    "\n",
    "print('로또 넘버:{}'.format(result))\n"
   ]
  },
  {
   "cell_type": "code",
   "execution_count": null,
   "metadata": {},
   "outputs": [],
   "source": [
    "# 05 010 모듈 만들기\n",
    "\n",
    "def reverseStr(str):\n",
    "  reversedString = ''\n",
    "  for c in str:\n",
    "    reversedString = c + reversedString\n",
    "    \n",
    "  return reversedString\n",
    "\n",
    "\n"
   ]
  },
  {
   "cell_type": "code",
   "execution_count": 2,
   "metadata": {},
   "outputs": [
    {
     "name": "stdout",
     "output_type": "stream",
     "text": [
      "reversedString: gggggggggggggfgfdsgfdgfsgfddsafe\n"
     ]
    }
   ],
   "source": [
    "import reverseStr\n",
    "\n",
    "userInputStr = input('문자열 입력: ')\n",
    "reversedString = reverseStr.reverseStr(userInputStr)\n",
    "\n",
    "print(f'reversedString: {reversedString}')"
   ]
  },
  {
   "cell_type": "code",
   "execution_count": 3,
   "metadata": {},
   "outputs": [
    {
     "name": "stdout",
     "output_type": "stream",
     "text": [
      "덧셈 결과: 77\n",
      "뺄셈 결과: -11\n",
      "곱셈 결과: 1452\n",
      "나눗셈 결과: 0.75\n"
     ]
    }
   ],
   "source": [
    "import calculator as cal\n",
    "\n",
    "cal.add(33, 44)\n",
    "cal.sub(33, 44)\n",
    "cal.mul(33, 44)\n",
    "cal.div(33, 44)"
   ]
  },
  {
   "cell_type": "code",
   "execution_count": 4,
   "metadata": {},
   "outputs": [
    {
     "name": "stdout",
     "output_type": "stream",
     "text": [
      "덧셈 결과: 33334\n",
      "뺄셈 결과: 53333333333\n"
     ]
    }
   ],
   "source": [
    "from calculator import add\n",
    "from calculator import sub\n",
    "\n",
    "add(1, 33333)\n",
    "sub(55555555555, 2222222222)\n"
   ]
  },
  {
   "cell_type": "code",
   "execution_count": 6,
   "metadata": {},
   "outputs": [
    {
     "name": "stdout",
     "output_type": "stream",
     "text": [
      "덧셈 결과: 33334\n",
      "뺄셈 결과: 53333333333\n",
      "나눗셈 결과: 75000.75\n"
     ]
    },
    {
     "ename": "NameError",
     "evalue": "name 'mul' is not defined",
     "output_type": "error",
     "traceback": [
      "\u001b[1;31m---------------------------------------------------------------------------\u001b[0m",
      "\u001b[1;31mNameError\u001b[0m                                 Traceback (most recent call last)",
      "Cell \u001b[1;32mIn[6], line 7\u001b[0m\n\u001b[0;32m      5\u001b[0m sub(\u001b[39m55555555555\u001b[39m, \u001b[39m2222222222\u001b[39m)\n\u001b[0;32m      6\u001b[0m div(\u001b[39m3333333333\u001b[39m, \u001b[39m44444\u001b[39m)\n\u001b[1;32m----> 7\u001b[0m mul(\u001b[39m2222222\u001b[39m, \u001b[39m3333\u001b[39m)\n",
      "\u001b[1;31mNameError\u001b[0m: name 'mul' is not defined"
     ]
    }
   ],
   "source": [
    "from calculator import add, div\n",
    "from calculator import sub\n",
    "\n",
    "add(1, 33333)\n",
    "sub(55555555555, 2222222222)\n",
    "div(3333333333, 44444)\n",
    "mul(2222222, 3333)"
   ]
  },
  {
   "cell_type": "code",
   "execution_count": null,
   "metadata": {},
   "outputs": [],
   "source": [
    "# 05 011 국어수학영어 평균 점수 모듈\n",
    "\n",
    "scores = []\n",
    "\n",
    "def addScores(s):\n",
    "  scores.append(s)\n",
    "  \n",
    "def getScores():\n",
    "  return scores\n",
    "\n",
    "def getTotalScore():\n",
    "  total = 0\n",
    "  for s in scores:\n",
    "    total += s\n",
    "    \n",
    "  return total\n",
    "\n",
    "def getAvgScore():\n",
    "  avg = getTotalScore() / len(scores)\n",
    "  \n",
    "  return avg\n",
    "\n",
    "\n"
   ]
  },
  {
   "cell_type": "code",
   "execution_count": 5,
   "metadata": {},
   "outputs": [
    {
     "ename": "AttributeError",
     "evalue": "module 'scores' has no attribute 'addScore'",
     "output_type": "error",
     "traceback": [
      "\u001b[1;31m---------------------------------------------------------------------------\u001b[0m",
      "\u001b[1;31mAttributeError\u001b[0m                            Traceback (most recent call last)",
      "Cell \u001b[1;32mIn[5], line 10\u001b[0m\n\u001b[0;32m      6\u001b[0m engScore \u001b[39m=\u001b[39m \u001b[39mint\u001b[39m(\u001b[39minput\u001b[39m(\u001b[39m'\u001b[39m\u001b[39m영어 점수: \u001b[39m\u001b[39m'\u001b[39m))\n\u001b[0;32m      7\u001b[0m matScore \u001b[39m=\u001b[39m \u001b[39mint\u001b[39m(\u001b[39minput\u001b[39m(\u001b[39m'\u001b[39m\u001b[39m수학 점수: \u001b[39m\u001b[39m'\u001b[39m))\n\u001b[1;32m---> 10\u001b[0m sc\u001b[39m.\u001b[39;49maddScore(korScore)\n\u001b[0;32m     11\u001b[0m sc\u001b[39m.\u001b[39maddScore(engScore)\n\u001b[0;32m     12\u001b[0m sc\u001b[39m.\u001b[39maddScore(matScore)\n",
      "\u001b[1;31mAttributeError\u001b[0m: module 'scores' has no attribute 'addScore'"
     ]
    }
   ],
   "source": [
    "# 05 011 모듈 import as / from ~ as\n",
    "\n",
    "import scores as sc\n",
    "\n",
    "korScore = int(input('국어 점수: '))\n",
    "engScore = int(input('영어 점수: '))\n",
    "matScore = int(input('수학 점수: '))\n",
    "\n",
    "\n",
    "sc.addScore(korScore)\n",
    "sc.addScore(engScore)\n",
    "sc.addScore(matScore)\n",
    "\n",
    "print(sc.getScores())\n",
    "print(sc.getTotalScore())\n",
    "print(sc.getAvgScore())"
   ]
  }
 ],
 "metadata": {
  "kernelspec": {
   "display_name": "Python 3",
   "language": "python",
   "name": "python3"
  },
  "language_info": {
   "codemirror_mode": {
    "name": "ipython",
    "version": 3
   },
   "file_extension": ".py",
   "mimetype": "text/x-python",
   "name": "python",
   "nbconvert_exporter": "python",
   "pygments_lexer": "ipython3",
   "version": "3.10.6"
  },
  "orig_nbformat": 4,
  "vscode": {
   "interpreter": {
    "hash": "52634da84371cba311ea128a5ea7cdc41ff074b781779e754b270ff9f8153cee"
   }
  }
 },
 "nbformat": 4,
 "nbformat_minor": 2
}
