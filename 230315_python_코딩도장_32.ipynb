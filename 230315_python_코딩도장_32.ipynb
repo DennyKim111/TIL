{
 "cells": [
  {
   "cell_type": "code",
   "execution_count": 3,
   "metadata": {},
   "outputs": [
    {
     "data": {
      "text/plain": [
       "11"
      ]
     },
     "execution_count": 3,
     "metadata": {},
     "output_type": "execute_result"
    }
   ],
   "source": [
    "# 32.1 람다 표현식으로 함수 만들기 \n",
    "\n",
    "# 먼저 숫자를 받은 뒤 10을 더해서 반환하는 함수 plus_ten을 만들자\n",
    "\n",
    "def plus_ten(x):\n",
    "    return x + 10\n",
    "\n",
    "plus_ten(1)\n",
    "\n",
    "# \n",
    "# 이는 return x + 10 으로 매개 변수 x 에 10을 더한 값을 반환하는 간단한 함수 \n",
    "# 이 plus_ten 함수를 람다 표현식으로 작성해보자.\n",
    "# \n"
   ]
  },
  {
   "cell_type": "code",
   "execution_count": 6,
   "metadata": {},
   "outputs": [
    {
     "data": {
      "text/plain": [
       "454"
      ]
     },
     "execution_count": 6,
     "metadata": {},
     "output_type": "execute_result"
    }
   ],
   "source": [
    "# 람다 표현식\n",
    "# lambda 매개변수들 : 식\n",
    "\n",
    "lambda x: x + 10\n",
    "\n",
    "# 이것을 실행해보면 함수의 객체가 나오는데, 이 상태로는 함수를 호출할 수 없다. \n",
    "# 이유는 람다 표현식은 이름 없는 함수를 만들기 때문이다. \n",
    "# 그래서 람다 표현식을 익명 함수로 부르기로 한다. \n",
    "# 함수의 이름이 없다는 뜻은 함수가 저장된 공간의 간단한 이름이 존재하지 않는다는 뜻??\n",
    "# 어쨌뜬 그래서 lambda로 만든 익명 함수를 호출하려면 이런 식으로 람다 표현식을 변수에 할당해주면 된다. \n",
    "\n",
    "plus_ten = lambda x: x+10\n",
    "\n",
    "\n",
    "plus_ten(444)\n",
    "\n"
   ]
  },
  {
   "cell_type": "code",
   "execution_count": 7,
   "metadata": {},
   "outputs": [
    {
     "data": {
      "text/plain": [
       "11"
      ]
     },
     "execution_count": 7,
     "metadata": {},
     "output_type": "execute_result"
    }
   ],
   "source": [
    "# 32.1.1 람다 표현식 자체를 호출하기\n",
    "\n",
    "# 람다 표현식은 변수에 할당하지 않고 람다 표현식 자체를 바로 호출할 수 있다. \n",
    "# 다음과 같이 괄호를 묶은 뒤에 다시 괄호를 붙이고 인수를 넣는 방법으로 호출하면 된다. \n",
    "\n",
    "(lambda x: x+10)(1)\n",
    "\n"
   ]
  },
  {
   "cell_type": "code",
   "execution_count": 9,
   "metadata": {},
   "outputs": [
    {
     "data": {
      "text/plain": [
       "43"
      ]
     },
     "execution_count": 9,
     "metadata": {},
     "output_type": "execute_result"
    }
   ],
   "source": [
    "# 32.1.2 람다 표현식 안에서는 변수를 만들 수 없다. \n",
    "# 람다 표현식에서 주의할 점은 람다 표현식 안에서는 새 변수를 만들 수 없다는 점이다. 따라서 반환값 부분은 변수 없이 식 한 줄로 표현할 수 있어야 한다. 변수가 필요한 코드일 경우에는 def 로 함수를 작성하는 것이 좋다. \n",
    "# 그러나 람다 표현식 밖에 있는 변수는 사용할 수 있다. 다음은 매개 변수 x와 람다 표현식 밖에 있는 변수 y를 더해서 반환한다. \n",
    "\n",
    "\n",
    "y = 10\n",
    "\n",
    "(lambda x : x+y)(33)"
   ]
  },
  {
   "cell_type": "code",
   "execution_count": 10,
   "metadata": {},
   "outputs": [
    {
     "data": {
      "text/plain": [
       "726"
      ]
     },
     "execution_count": 10,
     "metadata": {},
     "output_type": "execute_result"
    }
   ],
   "source": [
    "(lambda x, y: x*y)(33, 22)"
   ]
  },
  {
   "cell_type": "code",
   "execution_count": 11,
   "metadata": {},
   "outputs": [
    {
     "data": {
      "text/plain": [
       "[11, 12, 13]"
      ]
     },
     "execution_count": 11,
     "metadata": {},
     "output_type": "execute_result"
    }
   ],
   "source": [
    "# 32.1.3 람다 표현식을 인수로 사용하기 \n",
    "\n",
    "# 람다 표현식을 사용하는 이유는 함수의 인수 부분에서 간단하게 함수를 만들기 위해서이다. \n",
    "# 이런 방식으로 사용하는 대표적인 예가 map 이다. \n",
    "# 람다 표현식을 사용하기 전에 먼저 def로 함수를 만들어서 map을 사용해보겠다. 다음과 같이 숫자를 받은 뒤 10을 더해서 반환하는 함수 plus_ten 을 작성한다. 그리고 map에 plus_ten 함수와 리스트 [1,2, 3]을 넣는다. 물론 map의 결과는 map 객체이므로 눈으로 확인할 수 있도록 list를 사용해서 리스트로 변환해줍니다. \n",
    "\n",
    "def plus_ten(x):\n",
    "    return x + 10\n",
    "list(map(plus_ten, [1, 2, 3]))\n",
    "\n",
    "# plus_ten 함수는 매개변수 x에 10을 더해서 반환하므로 리스트 1,2,3 이 11,12,13 으로 바뀌었다. 지금까지 map을 사용할 때 map(str, [1, 2, 3])\n",
    "\n"
   ]
  },
  {
   "cell_type": "code",
   "execution_count": 12,
   "metadata": {},
   "outputs": [
    {
     "data": {
      "text/plain": [
       "[21, 32, 43]"
      ]
     },
     "execution_count": 12,
     "metadata": {},
     "output_type": "execute_result"
    }
   ],
   "source": [
    "# map을 map(int, [1, 2, 3]) 처럼 사용도 가능하지만 함수를 아예 넣어서 사용해도 된다. \n",
    "\n",
    "list(map(lambda x: x + 10, [11, 22, 33]))"
   ]
  },
  {
   "cell_type": "code",
   "execution_count": 15,
   "metadata": {},
   "outputs": [
    {
     "data": {
      "text/plain": [
       "[1, 2, '3', 4, 5, '6', 7, 8, '9', 10]"
      ]
     },
     "execution_count": 15,
     "metadata": {},
     "output_type": "execute_result"
    }
   ],
   "source": [
    "# 32.2 람다 표현식과 map, filter, reduce 함수 활용하기 \n",
    "\n",
    "# 먼저 람다 표현식에서 조건부 표현식을 사용하는 방법을 알아보겠다. \n",
    "       \n",
    "#        lambda 매개변수들: 식1 if 조건식 else 식2\n",
    "# 다음은 map을 이용하여 리스트 a에서 3의 배수를 문자열로 반환합니다. \n",
    "\n",
    "\n",
    "a = [1,2, 3,4,5,6,7,8,9,10]\n",
    "list(map(lambda x: str(x) if x % 3 ==0 else x, a))\n",
    "\n",
    "# map은 리스트의 요소를 각각 처리하므로 lambda의 반환값도 요소여야 한다. 람다에서 if를 사용할 때는 반드시 else를 사용해야 한다. 문법 에러가 발생하기 때문이고, elif 사용은 불가하다. "
   ]
  },
  {
   "cell_type": "code",
   "execution_count": 19,
   "metadata": {},
   "outputs": [
    {
     "data": {
      "text/plain": [
       "['1', 2.0, 3, 14, 15, 16, 17, 18, 19, 20]"
      ]
     },
     "execution_count": 19,
     "metadata": {},
     "output_type": "execute_result"
    }
   ],
   "source": [
    "# 조건부 표현식은 \n",
    "# 식1 if 조건식1 else 식2 조건식2 else 식3 형식처럼 if를 연속으로 사용해야 한다. \n",
    "\n",
    "# lambda 매개변수들: 식1 if 조건식1 else 식2 if 조건식2 else 식3\n",
    "\n",
    "#이제 리스트에서 1은 문자열로 변환, 2는 실수로 변환, 3.9은 정수형, 4이상은 10을 더하는 식을 만들어보자.\n",
    "\n",
    "a = [1,2,3.9,4,5,6,7,8,9,10]\n",
    "\n",
    "list(map(lambda x: str(x) if x == 1 else float(x) if x == 2 else int(x) if x ==3.9 else x + 10, a))\n"
   ]
  },
  {
   "cell_type": "code",
   "execution_count": 22,
   "metadata": {},
   "outputs": [
    {
     "data": {
      "text/plain": [
       "['1', 2.0, 3, 14, 15, 16, 17, 18, 19, 20]"
      ]
     },
     "execution_count": 22,
     "metadata": {},
     "output_type": "execute_result"
    }
   ],
   "source": [
    "#보기가 복잡하다. 람다 함수를 쓰지 않고 보기에 쉬운 함수를 사용하는 것이 더 좋을 때가 많다. \n",
    "a = [1,2,3.9,4,5,6,7,8,9,10]\n",
    "def f(x):\n",
    "    if x == 1:\n",
    "        return str(x)\n",
    "    elif x == 2:\n",
    "        return float(x)\n",
    "    elif x == 3.9:\n",
    "        return int(x)\n",
    "    else:\n",
    "        return x + 10\n",
    "    \n",
    "list(map(f, a))"
   ]
  },
  {
   "cell_type": "code",
   "execution_count": 23,
   "metadata": {},
   "outputs": [
    {
     "data": {
      "text/plain": [
       "[2, 8, 18, 32, 50]"
      ]
     },
     "execution_count": 23,
     "metadata": {},
     "output_type": "execute_result"
    }
   ],
   "source": [
    "# 32.2.2 map 에 객체를 여러 개 넣기 \n",
    "\n",
    "# map은 리스트 등의 반복 가능한 객체를 여러 개 넣을 수도 있다. 다음은 두 리스트의 요소를 곱해서 새 리스트를 만드는 것이다. \n",
    "a = [1,2,3,4,5]\n",
    "b = [2,4,6,8,10]\n",
    "\n",
    "list(map(lambda x,y : x * y, a, b))"
   ]
  },
  {
   "cell_type": "code",
   "execution_count": 27,
   "metadata": {},
   "outputs": [
    {
     "data": {
      "text/plain": [
       "[8, 7, 9]"
      ]
     },
     "execution_count": 27,
     "metadata": {},
     "output_type": "execute_result"
    }
   ],
   "source": [
    "# 32.2.3 filter 사용하기 \n",
    "# filter는 반복 가능한 객체에서 특정 조건에 맞는 요소만 가져오는데 filter에 지정한 함수의 반환값이 True일 때만 해당 요소를 가져온다. \n",
    "\n",
    "# filter(함수, 반복가능한객체)   --> 반복이 가능하다는 것이 무슨 소리? \n",
    "# 먼저 def로 만들어 사용해보자.\n",
    "\n",
    "def f(x):\n",
    "    return x > 5 and x < 10\n",
    "\n",
    "a = [8,3,2,10,15,7,1,9,0,11]\n",
    "\n",
    "list(filter(f,a))\n",
    "\n"
   ]
  },
  {
   "cell_type": "code",
   "execution_count": 28,
   "metadata": {},
   "outputs": [
    {
     "data": {
      "text/plain": [
       "[8, 7, 9]"
      ]
     },
     "execution_count": 28,
     "metadata": {},
     "output_type": "execute_result"
    }
   ],
   "source": [
    "# 이제 람다 함수\n",
    "\n",
    "a = [8,3,2,10,15,7,1,9,0,11]\n",
    "\n",
    "list(filter(lambda x: x > 5 and x < 10, a))\n",
    "\n"
   ]
  },
  {
   "cell_type": "code",
   "execution_count": 29,
   "metadata": {},
   "outputs": [
    {
     "data": {
      "text/plain": [
       "15"
      ]
     },
     "execution_count": 29,
     "metadata": {},
     "output_type": "execute_result"
    }
   ],
   "source": [
    "# 32.2.4 reduce 사용하기\n",
    "\n",
    "# reduce는 반복 가능한 객체의 각 요소를 지정된 함수로 처리한 뒤 이전 결과와 누적해서 반환하는 함수다. \n",
    "\n",
    "\n",
    "#from functools import reduce\n",
    "#reduce(함수, 반복가능한객체)\n",
    "\n",
    "def f(x, y):\n",
    "    return x + y \n",
    "\n",
    "a = [1,2,3,4,5]\n",
    "from functools import reduce\n",
    "reduce(f, a)"
   ]
  },
  {
   "cell_type": "code",
   "execution_count": 30,
   "metadata": {},
   "outputs": [
    {
     "data": {
      "text/plain": [
       "15"
      ]
     },
     "execution_count": 30,
     "metadata": {},
     "output_type": "execute_result"
    }
   ],
   "source": [
    "# 이제 람다\n",
    "\n",
    "a = [1,2,3,4,5]\n",
    "\n",
    "from functools import reduce\n",
    "\n",
    "reduce(lambda x,y : x + y, a)"
   ]
  },
  {
   "cell_type": "code",
   "execution_count": null,
   "metadata": {},
   "outputs": [],
   "source": [
    "# 32.4 연습문제: 이미지 파일만 가져오기\n",
    "\n",
    "files = ['font', '1.png', '10.jpg', '11.gif', '2.jpg', '3.png', 'table.xslx', 'spec.docx']\n",
    "\n",
    "print(list(lambda x: x.find('.jpg') != -1 or x.find('.png') != -1, files))\n",
    "\n"
   ]
  },
  {
   "cell_type": "code",
   "execution_count": null,
   "metadata": {},
   "outputs": [],
   "source": [
    "# 32.5 심사문제: 파일 이름을 한꺼번에 바꾸기 \n",
    "\n",
    "files = input().split()\n",
    "\n",
    "print(list(lambda x : float()))"
   ]
  }
 ],
 "metadata": {
  "kernelspec": {
   "display_name": "Python 3",
   "language": "python",
   "name": "python3"
  },
  "language_info": {
   "codemirror_mode": {
    "name": "ipython",
    "version": 3
   },
   "file_extension": ".py",
   "mimetype": "text/x-python",
   "name": "python",
   "nbconvert_exporter": "python",
   "pygments_lexer": "ipython3",
   "version": "3.10.6"
  },
  "orig_nbformat": 4,
  "vscode": {
   "interpreter": {
    "hash": "52634da84371cba311ea128a5ea7cdc41ff074b781779e754b270ff9f8153cee"
   }
  }
 },
 "nbformat": 4,
 "nbformat_minor": 2
}
