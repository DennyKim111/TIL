{
 "cells": [
  {
   "attachments": {},
   "cell_type": "markdown",
   "metadata": {},
   "source": [
    "unit 30 함수에서 위치 인수와 키워드 인수 사용하기"
   ]
  },
  {
   "cell_type": "code",
   "execution_count": 3,
   "metadata": {},
   "outputs": [
    {
     "name": "stdout",
     "output_type": "stream",
     "text": [
      "10\n",
      "20\n",
      "30\n",
      "10\n",
      "20\n",
      "30\n"
     ]
    }
   ],
   "source": [
    "# 30.1 위치 인수와 리스트 언패킹 사용하기\n",
    "\n",
    "def print_numbers(a, b, c):\n",
    "    print(a)\n",
    "    print(b)\n",
    "    print(c)\n",
    "\n",
    "# 30.1.2 언패킹 사용하기\n",
    "\n",
    "x = [10, 20, 30]\n",
    "\n",
    "print_numbers(*x)\n",
    "\n",
    "print_numbers(*[10, 20, 30])\n",
    "\n",
    "# 함수의 매개 변수 개수와 리스트의 요소 개수는 같아야 한다. "
   ]
  },
  {
   "cell_type": "code",
   "execution_count": 8,
   "metadata": {},
   "outputs": [
    {
     "name": "stdout",
     "output_type": "stream",
     "text": [
      "111\n",
      "1\n",
      "2\n",
      "3\n",
      "4\n",
      "5\n",
      "113131313\n",
      "33\n",
      "4444\n",
      "222\n",
      "1111\n"
     ]
    }
   ],
   "source": [
    "# 30.1.3 가변 인수 함수 만들기\n",
    "\n",
    "# 위치 인수와 리스트 언패킹은 인수의 개수가 정해지지 않은 가변 인수에 사용된다. -> 같은 함수에 인수 한 개를 넣을 수도 있고, 열 개를 넣을 수도 있습니다. 또는 인수를 넣지 않을 수도 있습니다. \n",
    "\n",
    "# def 함수이름 (매개변수):\n",
    "#     코드\n",
    "\n",
    "# 숫자 여러 개를 받고, 숫자를 각 줄에 출력하는 함수를 만들자\n",
    "# *args 와 같이 매개변수 앞에 *를 붙입니다. 그리고 함수 안에서는 for로 args를 반복하면서 print 값을 출력한다. \n",
    "\n",
    "def print_numbers(*args):\n",
    "    for arg in args:\n",
    "        print(arg)\n",
    "\n",
    "print_numbers(111)\n",
    "\n",
    "print_numbers(1, 2, 3, 4, 5)\n",
    "\n",
    "#이렇게 함수에 인수 여러 개를 직접 넣어도 되고, 리스트(튜플) 언패킹을 사용해도 된다. \n",
    "\n",
    "x = [113131313]\n",
    "print_numbers(*x)\n",
    "\n",
    "y = [33, 4444, 222, 1111]\n",
    "\n",
    "print_numbers(*y)"
   ]
  },
  {
   "cell_type": "code",
   "execution_count": 11,
   "metadata": {},
   "outputs": [
    {
     "name": "stdout",
     "output_type": "stream",
     "text": [
      "이름:  김지태\n",
      "나이:  111\n",
      "주소:  지구\n"
     ]
    }
   ],
   "source": [
    "# 30.2 키워드 인수 사용하기\n",
    "\n",
    "# 지금까지는 함수에 인수를 넣을 때 값이나 변수를 그대로 넣었다.\n",
    "# 그러나 보니 각각의 인수가 무슨 용도로 쓰였는지 알기가 어려웠다. \n",
    "\n",
    "# 보통은 함수의 사용 방법을 익힐 때 인수의 순서와 용도를 함께 외운다. \n",
    "\n",
    "def personal_info(name, age, address):\n",
    "    print('이름: ', name)\n",
    "    print('나이: ', age)\n",
    "    print('주소: ', address)\n",
    "\n",
    "personal_info('김지태', 111, '지구')"
   ]
  },
  {
   "cell_type": "code",
   "execution_count": 12,
   "metadata": {},
   "outputs": [
    {
     "name": "stdout",
     "output_type": "stream",
     "text": [
      "이름:  염마인\n",
      "나이:  222\n",
      "주소:  화성\n"
     ]
    }
   ],
   "source": [
    "# # 그러나 인수의 순서와 용도를 모두 기억해야 하는 불편함이 있다. 인수의 순서와 용도를 매번 기억하지 않도록 키워드 인수라는 기능을 제공한다. \n",
    "# 키워드 인수는 인수에 키워드를 붙이는 기능이다. \n",
    "# 키워드 = 값 형태로 사용한다. \n",
    "# * 함수(키워드 = 값) 이런식으로..\n",
    "\n",
    "def personal_info(name, age, address):\n",
    "    print('이름: ', name)\n",
    "    print('나이: ', age)\n",
    "    print('주소: ', address)\n",
    "\n",
    "personal_info(name = '염마인', age = 222, address= '화성')\n"
   ]
  },
  {
   "cell_type": "code",
   "execution_count": 14,
   "metadata": {},
   "outputs": [
    {
     "name": "stdout",
     "output_type": "stream",
     "text": [
      "이름:  나나나\n",
      "나이:  222\n",
      "주소:  안드로메다은하\n"
     ]
    }
   ],
   "source": [
    "# 30.3 키워드 인수와 딕셔너리 언패킹 사용하기\n",
    "\n",
    "# 인수로 직접 값을 넣었다. \n",
    "# 그러나 이번에는 딕셔너리를 사용해서 키워드 인수로 값을 넣는 딕셔너리 언패킹을 사용해 본다. \n",
    "# 다음과 같이 딕셔너리 앞에 ** 두 개를 붙여서 함수에 넣어준다. \n",
    "\n",
    "# 함수 ( ** 딕셔너리)\n",
    "\n",
    "def personal_info(name, age, address):\n",
    "    print('이름: ', name)\n",
    "    print('나이: ', age)\n",
    "    print('주소: ', address)\n",
    "\n",
    "\n",
    "x = {'name' : '나나나', 'age' : 222, 'address' : '안드로메다은하'}\n",
    "\n",
    "personal_info(**x)  # >>> 딕셔너리를 언패킹 한 것임. ** 뒤에 딕셔너리 자체를 붙여도 상관 없음.\n",
    "\n",
    "# 딕셔너리 언패킹을 할 때는 함수의 매개변수 이름과 딕셔너리의 키 이름이 같아야 한다. 그리고 당연히 매개변수의 개수와 딕셔너리의 키의 개수도 같아야 한다. \n",
    "\n",
    "\n"
   ]
  },
  {
   "cell_type": "code",
   "execution_count": 15,
   "metadata": {},
   "outputs": [
    {
     "name": "stdout",
     "output_type": "stream",
     "text": [
      "이름:  name\n",
      "나이:  age\n",
      "주소:  address\n"
     ]
    }
   ],
   "source": [
    "# 30.3.1 **를 두 번 사용하는 이유\n",
    "# 왜냐하면 딕셔너리는 키 - 값 의 쌍 형태로 존재하기 때문에 \n",
    "\n",
    "# 그래서 * 이렇게 한 번만 쓰면 x의 키만 출력된다. \n",
    "\n",
    "def personal_info(name, age, address):\n",
    "    print('이름: ', name)\n",
    "    print('나이: ', age)\n",
    "    print('주소: ', address)\n",
    "\n",
    "\n",
    "x = {'name' : '나나나', 'age' : 222, 'address' : '안드로메다은하'}\n",
    "\n",
    "personal_info(*x)"
   ]
  },
  {
   "cell_type": "code",
   "execution_count": 17,
   "metadata": {},
   "outputs": [
    {
     "name": "stdout",
     "output_type": "stream",
     "text": [
      "name :  홍길동\n",
      "name :  홍길동\n",
      "age :  30\n",
      "address :  서울시 용산구 이촌동\n"
     ]
    }
   ],
   "source": [
    "# 30.3.2 키워드 인수를 사용하는 가변 인수 만들기 \n",
    "\n",
    "# def 함수이름(**매개변수):\n",
    "#     코드\n",
    "\n",
    "def personal_info(**kwargs): # keyword arguments, 딕셔너리라서 for 로 반복할 수 있다고 함.\n",
    "    for kw, arg in kwargs.items():\n",
    "        print(kw, ': ', arg, sep = ' ')\n",
    "\n",
    "personal_info(name='홍길동')\n",
    "\n",
    "personal_info(name='홍길동', age=30, address='서울시 용산구 이촌동')\n"
   ]
  },
  {
   "cell_type": "code",
   "execution_count": 21,
   "metadata": {},
   "outputs": [
    {
     "name": "stdout",
     "output_type": "stream",
     "text": [
      "name =  홍길동\n",
      "name =  홍길동\n",
      "age =  30\n",
      "address =  서울시 용산구 이촌동\n"
     ]
    }
   ],
   "source": [
    "def personal_info(**kwargs): # keyword arguments, 딕셔너리라서 for 로 반복할 수 있다고 함.\n",
    "    for kw, arg in kwargs.items():\n",
    "        print(kw, '= ', arg, sep = ' ')\n",
    "\n",
    "x = {'name' : '홍길동'}\n",
    "y = {'name' : '홍길동', 'age' : 30, 'address' : '서울시 용산구 이촌동'}\n",
    "\n",
    "personal_info(**x)\n",
    "personal_info(**y)"
   ]
  },
  {
   "cell_type": "code",
   "execution_count": null,
   "metadata": {},
   "outputs": [],
   "source": [
    "30.4 매개 변수에 초깃값 지정하기\n",
    "\n",
    "인수를 생략할 수도 있을까?\n",
    "\n",
    "함수에 초깃값을 지정하면 된다. \n",
    "\n",
    "def 함수이름(매개변수 = 값):\n",
    "    코드\n",
    "\n",
    "    "
   ]
  },
  {
   "cell_type": "code",
   "execution_count": 26,
   "metadata": {},
   "outputs": [
    {
     "name": "stdout",
     "output_type": "stream",
     "text": [
      "이름:  미공개 나이:  30\n"
     ]
    }
   ],
   "source": [
    "# 30.4.1 초기값이 지정된 매개변수의 위치\n",
    "\n",
    "# 초기값이 지정된 매개 변수는 맨 뒤 쪽에 몰아주면 된다. \n",
    "\n",
    "def personal_info(name = '미공개', age = 0):\n",
    "    print('이름: ', name, '나이: ', age)\n",
    "\n",
    "personal_info(**{ 'age' : 30})\n",
    "\n"
   ]
  },
  {
   "cell_type": "code",
   "execution_count": 28,
   "metadata": {},
   "outputs": [
    {
     "name": "stdout",
     "output_type": "stream",
     "text": [
      "높은 점수:  100\n",
      "높은 점수:  91\n"
     ]
    }
   ],
   "source": [
    "# 30.6 연습문제: 가장 높은 점수를 구하는 함수 만들기\n",
    "\n",
    "korean, english, mathematics, science = 100, 86, 81, 91\n",
    "\n",
    "\n",
    "\n",
    "def get_max_score(*xxx):\n",
    "    return max(xxx)\n",
    "\n",
    "max_score = get_max_score(korean, english, mathematics, science)\n",
    "print('높은 점수: ', max_score)\n",
    "\n",
    "max_score = get_max_score(english, science)\n",
    "print('높은 점수: ', max_score)\n",
    "\n",
    "\n",
    "# 해설 - get_max_score 함수는 호출할 때마다 인수의 개수가 달라지고 있으므로 가변 인수 함수로 만들어야 합니다. 특히 get_max_score(korea, english, mathematics, science)처럼 인수를 위치 인수로 넣고 있으므로 def get_max_score(*args): 와 같이 만들어줍니다. 함수 안에서는 max를 사용해서 args에서 가장 큰 수를 구한 뒤 return으로 반환다면 된다. \n",
    "\n",
    "# 새롭게 알게 된 점 -  함수 호출 할 때 함수 뒤 괄호에 인수를 직접 넣는 것을 위치 인수라 한다는 점, args 대신 xxx 등 다른 문자열을 사용해 매개 변수를 설정할 수 있다. 반드시 args로 할 필요가 없음, 말그대로 변수이다. "
   ]
  },
  {
   "cell_type": "code",
   "execution_count": 29,
   "metadata": {},
   "outputs": [
    {
     "name": "stdout",
     "output_type": "stream",
     "text": [
      "낮은 점수:  73.00, 높은 점수:  92.00, 평균 점수:  84.25\n",
      "낮은 점수:  83.00, 높은 점수:  92.00, 평균 점수:  87.50\n"
     ]
    }
   ],
   "source": [
    "# 30.7 심사문제: 가장 낮은 점수, 높은 점수와 평균 점수를 구하는 함수 만들기\n",
    "\n",
    "korean, english, mathematics, science  = map(int, input().split())\n",
    "\n",
    "def get_min_max_score(*args):\n",
    "    return min(args), max(args)\n",
    "    \n",
    "def get_average(**kwargs):\n",
    "    return (sum(kwargs.values())/len(kwargs))\n",
    "    \n",
    "min_score, max_score = get_min_max_score(korean, english, mathematics, science)\n",
    "average_score = get_average(korean=korean, english=english, mathematics = mathematics, science = science)\n",
    "print('낮은 점수: {0: .2f}, 높은 점수: {1: .2f}, 평균 점수: {2: .2f}' .format(min_score, max_score, average_score)) \n",
    "# .2f = 2번 째 자리수까지 반올림하여 출력\n",
    "\n",
    "min_score, max_score = get_min_max_score(english, science)\n",
    "average_score = get_average(english=english, science = science)\n",
    "print('낮은 점수: {0: .2f}, 높은 점수: {1: .2f}, 평균 점수: {2: .2f}' .format(min_score, max_score, average_score)) "
   ]
  }
 ],
 "metadata": {
  "kernelspec": {
   "display_name": "Python 3",
   "language": "python",
   "name": "python3"
  },
  "language_info": {
   "codemirror_mode": {
    "name": "ipython",
    "version": 3
   },
   "file_extension": ".py",
   "mimetype": "text/x-python",
   "name": "python",
   "nbconvert_exporter": "python",
   "pygments_lexer": "ipython3",
   "version": "3.10.6"
  },
  "orig_nbformat": 4,
  "vscode": {
   "interpreter": {
    "hash": "52634da84371cba311ea128a5ea7cdc41ff074b781779e754b270ff9f8153cee"
   }
  }
 },
 "nbformat": 4,
 "nbformat_minor": 2
}
