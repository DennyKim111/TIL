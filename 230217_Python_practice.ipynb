{
 "cells": [
  {
   "cell_type": "code",
   "execution_count": 11,
   "id": "0b6c7fc8",
   "metadata": {},
   "outputs": [
    {
     "name": "stdout",
     "output_type": "stream",
     "text": [
      "alpha bravo charlie delta echo foxtrot golf\n",
      "30 40 50 60 70 80 90\n",
      "{'bravo': 40, 'charlie': 50, 'echo': 70, 'foxtrot': 80, 'golf': 90}\n"
     ]
    }
   ],
   "source": [
    "# 파이썬코딩도장 25.8 심사문제\n",
    "\n",
    "k = map(str, input().split())\n",
    "v = map(int, input().split())\n",
    "\n",
    "x = dict(zip(k, v))\n",
    "\n",
    "del x['delta']\n",
    "\n",
    "x = {key: value for key, value in x.items() if value != 30}\n",
    "\n",
    "\n",
    "print(x)"
   ]
  },
  {
   "cell_type": "code",
   "execution_count": 27,
   "id": "aa9fde78",
   "metadata": {},
   "outputs": [
    {
     "name": "stdout",
     "output_type": "stream",
     "text": [
      "a b c d e \n",
      "10 20 30 40 50\n",
      "{'a': 10, 'b': 20, 'e': 50}\n"
     ]
    }
   ],
   "source": [
    "k = map(str, input().split())\n",
    "\n",
    "v = map(int, input().split())\n",
    "\n",
    "x = dict(zip(k, v))\n",
    "\n",
    "del x['d']\n",
    "x = {key: value for key, value in x.items() if value != 30}\n",
    "\n",
    "print(x)"
   ]
  },
  {
   "cell_type": "code",
   "execution_count": 25,
   "id": "b249c547",
   "metadata": {},
   "outputs": [
    {
     "ename": "SyntaxError",
     "evalue": "invalid syntax. Perhaps you forgot a comma? (662165357.py, line 7)",
     "output_type": "error",
     "traceback": [
      "\u001b[1;36m  Cell \u001b[1;32mIn[25], line 7\u001b[1;36m\u001b[0m\n\u001b[1;33m    x = {key: value for key value in x.items() if value != 30}\u001b[0m\n\u001b[1;37m                        ^\u001b[0m\n\u001b[1;31mSyntaxError\u001b[0m\u001b[1;31m:\u001b[0m invalid syntax. Perhaps you forgot a comma?\n"
     ]
    }
   ],
   "source": [
    "k = map(str, input().split())\n",
    "\n",
    "v = map(int, input().split())\n",
    "\n",
    "x = dict(zip(k, v))\n",
    "\n",
    "x = {key: value for key value in x.items() if value != 30}\n",
    "\n",
    "x.pop('delta')\n",
    "\n",
    "print(x)"
   ]
  },
  {
   "cell_type": "code",
   "execution_count": 31,
   "id": "e6582187",
   "metadata": {},
   "outputs": [
    {
     "name": "stdout",
     "output_type": "stream",
     "text": [
      "a b c d \n",
      "10 20 30 40\n",
      "{'a': 10, 'b': 20}\n"
     ]
    }
   ],
   "source": [
    "k = map(str, input().split())\n",
    "v = map(int, input().split())\n",
    "\n",
    "x = dict(zip(k, v))\n",
    "\n",
    "\n",
    "\n",
    "\n",
    "x = {key: value for key, value in x.items() if value != 30}\n",
    "\n",
    "x.pop('d')\n",
    "\n",
    "print(x)"
   ]
  },
  {
   "cell_type": "code",
   "execution_count": 4,
   "id": "b4a009d1",
   "metadata": {},
   "outputs": [
    {
     "data": {
      "text/plain": [
       "False"
      ]
     },
     "execution_count": 4,
     "metadata": {},
     "output_type": "execute_result"
    }
   ],
   "source": [
    "df = {'청광남', '염마인', '헐미', '녀남', '하드보이드', '염마인'}\n",
    "\n",
    "'염마인' not in df"
   ]
  },
  {
   "cell_type": "code",
   "execution_count": 6,
   "id": "e04a2dc4",
   "metadata": {},
   "outputs": [
    {
     "data": {
      "text/plain": [
       "{'광', '남', '청'}"
      ]
     },
     "execution_count": 6,
     "metadata": {},
     "output_type": "execute_result"
    }
   ],
   "source": [
    "b = set('청광남남남남')\n",
    "\n",
    "b"
   ]
  },
  {
   "cell_type": "code",
   "execution_count": 8,
   "id": "ee64a8ed",
   "metadata": {},
   "outputs": [
    {
     "data": {
      "text/plain": [
       "{'귀신망상', '녀남', '염마인', '청광남', '피먹는괴물', '하드보이드', '헐미'}"
      ]
     },
     "execution_count": 8,
     "metadata": {},
     "output_type": "execute_result"
    }
   ],
   "source": [
    "df = {'청광남', '염마인', '헐미', '녀남', '하드보이드', '염마인'}\n",
    "\n",
    "df2 = {'귀신망상', '피먹는괴물'}\n",
    "\n",
    "set.union(df, df2)"
   ]
  },
  {
   "cell_type": "code",
   "execution_count": 17,
   "id": "d334a027",
   "metadata": {},
   "outputs": [
    {
     "data": {
      "text/plain": [
       "{'염마인', '청광남', '하드보이드'}"
      ]
     },
     "execution_count": 17,
     "metadata": {},
     "output_type": "execute_result"
    }
   ],
   "source": [
    "df = {'청광남', '염마인', '헐미', '녀남'}\n",
    "sf = {'헐미', '녀남', '하드보이드'}\n",
    "\n",
    "set.symmetric_difference(df, sf)"
   ]
  },
  {
   "cell_type": "code",
   "execution_count": 19,
   "id": "1bb8ab49",
   "metadata": {},
   "outputs": [
    {
     "data": {
      "text/plain": [
       "{'녀남', '청광남', '헐미'}"
      ]
     },
     "execution_count": 19,
     "metadata": {},
     "output_type": "execute_result"
    }
   ],
   "source": [
    "df = {'청광남', '염마인', '헐미', '녀남'}\n",
    "sf = {'헐미', '녀남', '하드보이드'}\n",
    "\n",
    "df.difference_update({'염마인'})\n",
    "\n",
    "df\n",
    "\n"
   ]
  },
  {
   "cell_type": "code",
   "execution_count": 21,
   "id": "746646db",
   "metadata": {},
   "outputs": [
    {
     "data": {
      "text/plain": [
       "True"
      ]
     },
     "execution_count": 21,
     "metadata": {},
     "output_type": "execute_result"
    }
   ],
   "source": [
    "df3 = {'청광남', '염마인', '헐미', '녀남'}\n",
    "\n",
    "df = {'청광남', '염마인', '헐미', '녀남', '하드보이드', '염마인'}\n",
    "\n",
    "df3.issubset(df)\n"
   ]
  },
  {
   "cell_type": "code",
   "execution_count": 22,
   "id": "595b7886",
   "metadata": {},
   "outputs": [
    {
     "data": {
      "text/plain": [
       "True"
      ]
     },
     "execution_count": 22,
     "metadata": {},
     "output_type": "execute_result"
    }
   ],
   "source": [
    "df3 = {'청광남', '염마인', '헐미', '녀남'}\n",
    "\n",
    "df = {'청광남', '염마인', '헐미', '녀남', '하드보이드', '염마인'}\n",
    "\n",
    "df3 < df"
   ]
  },
  {
   "cell_type": "code",
   "execution_count": 27,
   "id": "36255dd1",
   "metadata": {},
   "outputs": [
    {
     "data": {
      "text/plain": [
       "True"
      ]
     },
     "execution_count": 27,
     "metadata": {},
     "output_type": "execute_result"
    }
   ],
   "source": [
    "df = {'청광남', '염마인', '헐미', '녀남', '하드보이드', '염마인'}\n",
    "df2 = {'청광남', '염마인', '헐미', '녀남', '하드보이드', '염마인'}\n",
    "\n",
    "df.issuperset(df2)"
   ]
  },
  {
   "cell_type": "code",
   "execution_count": 29,
   "id": "447b1504",
   "metadata": {},
   "outputs": [
    {
     "data": {
      "text/plain": [
       "True"
      ]
     },
     "execution_count": 29,
     "metadata": {},
     "output_type": "execute_result"
    }
   ],
   "source": [
    "df = {'청광남', '염마인', '헐미', '녀남', '하드보이드', '염마인'}\n",
    "df2 = {'청광남', '염마인', '헐미', '녀남', '하드보이드', '염마인'}\n",
    "\n",
    "df >= df2"
   ]
  },
  {
   "cell_type": "code",
   "execution_count": 30,
   "id": "fae35f07",
   "metadata": {},
   "outputs": [
    {
     "data": {
      "text/plain": [
       "{1, 2, 3, 4, 5}"
      ]
     },
     "execution_count": 30,
     "metadata": {},
     "output_type": "execute_result"
    }
   ],
   "source": [
    "a = {1, 2, 3, 4}\n",
    "\n",
    "a.add(5)\n",
    "\n",
    "a "
   ]
  },
  {
   "cell_type": "code",
   "execution_count": 31,
   "id": "b3922626",
   "metadata": {},
   "outputs": [
    {
     "data": {
      "text/plain": [
       "{'나나나', '녀남', '염마인', '청광남', '하드보이드', '헐미'}"
      ]
     },
     "execution_count": 31,
     "metadata": {},
     "output_type": "execute_result"
    }
   ],
   "source": [
    "df = {'청광남', '염마인', '헐미', '녀남', '하드보이드', '염마인'}\n",
    "\n",
    "df.add('나나나')\n",
    "\n",
    "df"
   ]
  },
  {
   "cell_type": "code",
   "execution_count": 7,
   "id": "fab7e4f9",
   "metadata": {},
   "outputs": [
    {
     "data": {
      "text/plain": [
       "False"
      ]
     },
     "execution_count": 7,
     "metadata": {},
     "output_type": "execute_result"
    }
   ],
   "source": [
    "df = {'청광남', '염마인', '헐미', '녀남', '하드보이드', '염마인'}\n",
    "\n",
    "\n",
    "sf= df.copy()\n",
    "\n",
    "\n",
    "sf.add('곶감')\n",
    "\n",
    "sf == df"
   ]
  },
  {
   "cell_type": "code",
   "execution_count": 8,
   "id": "bb2f2cc8",
   "metadata": {},
   "outputs": [
    {
     "name": "stdout",
     "output_type": "stream",
     "text": [
      "1\n",
      "2\n",
      "3\n",
      "4\n"
     ]
    }
   ],
   "source": [
    "a = {1, 2, 3, 4}\n",
    "\n",
    "for i in a:\n",
    "    print(i)"
   ]
  },
  {
   "cell_type": "code",
   "execution_count": 10,
   "id": "4e1f777e",
   "metadata": {},
   "outputs": [
    {
     "name": "stdout",
     "output_type": "stream",
     "text": [
      "녀남\n",
      "하드보이드\n",
      "헐미\n",
      "청광남\n",
      "염마인\n"
     ]
    }
   ],
   "source": [
    "df = {'청광남', '염마인', '헐미', '녀남', '하드보이드', '염마인'}\n",
    "\n",
    "for z in df:\n",
    "    print(z)"
   ]
  },
  {
   "cell_type": "code",
   "execution_count": 13,
   "id": "ad1da8ce",
   "metadata": {},
   "outputs": [
    {
     "data": {
      "text/plain": [
       "{'a', 'e', 'p'}"
      ]
     },
     "execution_count": 13,
     "metadata": {},
     "output_type": "execute_result"
    }
   ],
   "source": [
    "a = set(i for i in 'apple' if i != 'l')\n",
    "\n",
    "a"
   ]
  },
  {
   "cell_type": "code",
   "execution_count": 14,
   "id": "4d765b6b",
   "metadata": {},
   "outputs": [
    {
     "ename": "SyntaxError",
     "evalue": "invalid syntax (1793444926.py, line 3)",
     "output_type": "error",
     "traceback": [
      "\u001b[1;36m  Cell \u001b[1;32mIn[14], line 3\u001b[1;36m\u001b[0m\n\u001b[1;33m    i for i in df if i != '청광남' or i != '하드보이드'\u001b[0m\n\u001b[1;37m      ^\u001b[0m\n\u001b[1;31mSyntaxError\u001b[0m\u001b[1;31m:\u001b[0m invalid syntax\n"
     ]
    }
   ],
   "source": [
    "df = {'청광남', '염마인', '헐미', '녀남', '하드보이드', '염마인'}\n",
    "\n",
    "i for i in df if i != '청광남' or i != '하드보이드'"
   ]
  },
  {
   "cell_type": "code",
   "execution_count": 25,
   "id": "659e06f3",
   "metadata": {},
   "outputs": [
    {
     "data": {
      "text/plain": [
       "{0, 1, 2, 3, 4, 5, 6, 7, 8, 9}"
      ]
     },
     "execution_count": 25,
     "metadata": {},
     "output_type": "execute_result"
    }
   ],
   "source": [
    "a = {i for i in range(10) if i != 2 or i != 7}\n",
    "\n",
    "a"
   ]
  },
  {
   "cell_type": "code",
   "execution_count": 27,
   "id": "9c752da5",
   "metadata": {},
   "outputs": [
    {
     "name": "stdout",
     "output_type": "stream",
     "text": [
      "{75, 45, 15, 90, 60, 30}\n"
     ]
    }
   ],
   "source": [
    "a = {i for i in range(1, 100) if i % 3 == 0}\n",
    "\n",
    "b = {j for j in range(1, 101) if j % 5 == 0}\n",
    "\n",
    "print(a&b)"
   ]
  },
  {
   "cell_type": "code",
   "execution_count": 28,
   "id": "fefe8aec",
   "metadata": {},
   "outputs": [
    {
     "name": "stdout",
     "output_type": "stream",
     "text": [
      "100 200\n",
      "217\n"
     ]
    }
   ],
   "source": [
    "# 26.9 심사문제\n",
    "\n",
    "n1, n2 = map(int, input().split())\n",
    "\n",
    "\n",
    "a = set(i for i in range(1, n1+1) if n1 % i == 0)\n",
    "b = set(j for j in range(1, n2+1) if n2 % j == 0)\n",
    "\n",
    "divisor = a&b\n",
    "\n",
    "result = 0\n",
    "if type(divisor) == set:\n",
    "    result = sum(divisor)\n",
    "    \n",
    "print(result)"
   ]
  },
  {
   "cell_type": "code",
   "execution_count": null,
   "id": "01e83df8",
   "metadata": {},
   "outputs": [],
   "source": []
  },
  {
   "cell_type": "code",
   "execution_count": null,
   "id": "fde2d067",
   "metadata": {},
   "outputs": [],
   "source": []
  },
  {
   "cell_type": "code",
   "execution_count": null,
   "id": "5feeca95",
   "metadata": {},
   "outputs": [],
   "source": []
  },
  {
   "cell_type": "code",
   "execution_count": null,
   "id": "908f428c",
   "metadata": {},
   "outputs": [],
   "source": []
  }
 ],
 "metadata": {
  "kernelspec": {
   "display_name": "Python 3 (ipykernel)",
   "language": "python",
   "name": "python3"
  },
  "language_info": {
   "codemirror_mode": {
    "name": "ipython",
    "version": 3
   },
   "file_extension": ".py",
   "mimetype": "text/x-python",
   "name": "python",
   "nbconvert_exporter": "python",
   "pygments_lexer": "ipython3",
   "version": "3.10.6"
  }
 },
 "nbformat": 4,
 "nbformat_minor": 5
}
