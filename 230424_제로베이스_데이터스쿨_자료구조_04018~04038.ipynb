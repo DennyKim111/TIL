{
 "cells": [
  {
   "cell_type": "code",
   "execution_count": 4,
   "metadata": {},
   "outputs": [
    {
     "name": "stdout",
     "output_type": "stream",
     "text": [
      "2\n",
      "5\n"
     ]
    }
   ],
   "source": [
    "## 04_018 리스트 나머지 기능들 1 / 리스트도 곱셈 연산이 가능하다, 특정 아이템의 인덱스를 찾자\n",
    "\n",
    "\n",
    "### 리스트를 곱셈 연산하면 아이템이 반복된다.\n",
    "\n",
    "### index(item) 함수를 이용하면 itme의 인덱스 찾을 수 있음\n",
    "\n",
    "#### listName('itemName') -> 이렇게 하면 아이템이 리스트 안에 1개 있든 2개 있든 처음에 나오는 아이템의 인덱스만 출력함\n",
    "\n",
    "### 그런데 listName('itemName', 2, 6) 이런식으로 하면 특정 이름의 아이템이 리스트 안에 인덱스2 부터 인덱스6dml 범위 안에 있는 아이템 한 개를 찾아냄. 복수로 찾아내는 것은 아닌듯.\n",
    "\n",
    "\n",
    "numbers = [2, 50, 0.12, 1, 9 , 2]\n",
    "\n",
    "s = numbers.index(0.12)\n",
    "\n",
    "print(s)\n",
    "\n",
    "k = numbers.index(2, 3, 6)\n",
    "\n",
    "print(k)"
   ]
  },
  {
   "cell_type": "code",
   "execution_count": 8,
   "metadata": {},
   "outputs": [
    {
     "name": "stdout",
     "output_type": "stream",
     "text": [
      "Fail\n",
      "[10, 3, 1, 5, 2, 4, 9, 7, 6, 8]\n",
      "Result - selectIdx: 5 and searchIdx: 7\n"
     ]
    }
   ],
   "source": [
    "import random\n",
    "sampleList = random.sample(range(1, 11), 10)\n",
    "\n",
    "selectIdx = int(input('숫자 7 위치 입력: '))\n",
    "searchIdx = sampleList.index(7)\n",
    "\n",
    "if selectIdx == searchIdx:\n",
    "  print('Bingo!')\n",
    "else:\n",
    "  print('Fail')\n",
    "\n",
    "print(sampleList)\n",
    "print(f'Result - selectIdx: {selectIdx} and searchIdx: {searchIdx}')"
   ]
  },
  {
   "cell_type": "code",
   "execution_count": 9,
   "metadata": {},
   "outputs": [
    {
     "name": "stdout",
     "output_type": "stream",
     "text": [
      "todayData: ['A', 'AB', 'A', 'O', 'AB', 'AB', 'A', 'A', 'AB', 'A', 'O', 'AB', 'AB', 'A', 'A', 'O', 'AB', 'AB', 'O', 'A', 'AB', 'B', 'A', 'AB', 'B', 'O', 'AB', 'AB', 'AB', 'O', 'AB', 'O', 'AB', 'O', 'B', 'B', 'B', 'AB', 'B', 'A', 'B', 'B', 'B', 'AB', 'B', 'A', 'O', 'A', 'AB', 'AB', 'AB', 'B', 'B', 'AB', 'AB', 'B', 'A', 'A', 'AB', 'A', 'B', 'AB', 'A', 'O', 'O', 'B', 'AB', 'AB', 'AB', 'A', 'B', 'A', 'A', 'O', 'AB', 'B', 'O', 'B', 'B', 'O', 'A', 'A', 'A', 'A', 'B', 'AB', 'AB', 'A', 'A', 'B', 'B', 'B', 'A', 'A', 'O', 'A', 'B', 'AB', 'B', 'B']\n",
      "todayData length : 100\n",
      "A형 \t : 28개\n",
      "B형 \t : 26개\n",
      "AB형 \t : 31개\n",
      "O형 \t : 15개\n"
     ]
    }
   ],
   "source": [
    "## 04_019 리스트 나머지 기능들 2 / 특정 아이템의 개수를 알아내자, 필요 없는 아이템은 삭제하자\n",
    "\n",
    "### 특정 아이템 개수 알아내기 - count()  \n",
    "### count('아이템 이름') -> 리스트 안에 특정 아이템이 몇 개 있는지 알아냄.\n",
    "\n",
    "### 특정 아이템 삭제 -> del()\n",
    "### del('인덱스 번호') -> 리스트 안에 해당 인덱스 값 삭제\n",
    "\n",
    "### del 리스트이름[1:4]\n",
    "### 리스트 안에서 인덱스 1부터 4 앞까지 삭제\n",
    "\n",
    "### del 리스트이름[1:]\n",
    "### 인덱스 1부터 다 삭제\n",
    "\n",
    "### 실습\n",
    "\n",
    "import random\n",
    "types = ['A', 'B', 'AB', 'O']\n",
    "todayData = []\n",
    "typeCnt = []\n",
    "\n",
    "for i in range(100):\n",
    "  type = types[random.randrange(len(types))]\n",
    "  todayData.append(type)\n",
    "  \n",
    "print('todayData: {}'.format(todayData))\n",
    "print('todayData length : {}'.format(len(todayData)))\n",
    "\n",
    "\n",
    "for type in types:\n",
    "  print('{}형 \\t : {}개'.format(type, todayData.count(type)))\n"
   ]
  },
  {
   "cell_type": "code",
   "execution_count": null,
   "metadata": {},
   "outputs": [],
   "source": [
    "## 04_020 튜플 / 리스트와 비슷, but 아이템 변경 불가\n",
    "\n",
    "### 튜플 -> 소괄호를 사용 / 변경 삭제 등의 수정 불가\n",
    "\n",
    "\n",
    "\n",
    "## 04_021 튜플 아이템 조회\n",
    "\n",
    "### 인덱스를 이용해서 조회 가능  /  튜플이름[인덱스번호]\n",
    "\n",
    "\n",
    "## 04_022 in과 not in 키워드 / 아이템 존재 유/무 판단하기!\n",
    "\n",
    "import random\n",
    "\n",
    "randomNumbers = random.sample(range(1, 11), 5)\n",
    "\n",
    "userNumber = int(input('숫자 입력(확률 50%): '))\n",
    "if userNumber in randomNumbers:  # in 으로 아이템 유무 파악\n",
    "  print('Bingo!')\n",
    "else:\n",
    "  print('Fail')\n",
    "  \n",
    "print('randomNumbers: {}'.format(randomNumbers))\n",
    "print('userNumber: {}'.format(userNumber))\n"
   ]
  },
  {
   "cell_type": "code",
   "execution_count": null,
   "metadata": {},
   "outputs": [],
   "source": [
    "## 04_023 튜플 길이 / 튜플 아이템 개수 확인하자\n",
    "\n",
    "for i in range(len(students)):\n",
    "  print(i)\n",
    "  print(i, students[i])\n",
    "  \n",
    "n = 0\n",
    "while n < len(students):\n",
    "  print(n)\n",
    "  print(n, students[n])\n",
    "  \n",
    "for s in students:\n",
    "  print(s)\n",
    "\n"
   ]
  },
  {
   "cell_type": "code",
   "execution_count": null,
   "metadata": {},
   "outputs": [],
   "source": [
    "## 04_024 튜플 결합\n",
    "\n",
    "### + 를 통해 두 튜플을 합친 새로운 튜플을 만들 수 있음. \n",
    "### extend() 튜플에서 수정 불가\n",
    "\n"
   ]
  },
  {
   "cell_type": "code",
   "execution_count": null,
   "metadata": {},
   "outputs": [],
   "source": [
    "## 04_025 튜플 슬라이싱 원하는 아이템만 뽑아내자\n",
    "\n",
    "### 리스트와 마찬가지 [n:m] 를 이용하자. n 부터 m-1까지\n",
    "### 튜플은 슬라이싱을 통해 아이템을 변경할 수는 없다.\n",
    "### 그러나 리스트의 아이템을 튜플의 형태로 변경하는 것은 가능하다. "
   ]
  },
  {
   "cell_type": "code",
   "execution_count": null,
   "metadata": {},
   "outputs": [],
   "source": [
    "## 04_026 리스트와 튜플 / 비슷하지만 다른 리스트와 튜플\n",
    "\n",
    "### 리스트와 튜플의 차이점 - 튜플은 리스트와 달리 아이템 추가, 변경, 삭제가 불가하다. \n",
    "\n",
    "### 튜플은 선언시 괄호 생략 가능\n",
    "### 예시 - students = 'kimjitae', 'kimjiyoung', 'kimsuyoen'\n",
    "\n",
    "### 리스트와 튜플은 자료형 변환이 가능하다 / 튜플에서 리스트로, 리스트에서 튜플로 변환 가능!!!\n"
   ]
  },
  {
   "cell_type": "code",
   "execution_count": null,
   "metadata": {},
   "outputs": [],
   "source": [
    "## 04_027 튜플 아이템 정렬 - 튜플도 리스트처럼 정렬할 수 있을까?\n",
    "\n",
    "### 튜플은 수정 불가하기 때문에 리스트로 변환 후 수정하자\n",
    "\n",
    "### 리스트 변형 후 sort() 사용 / 혹은 바로 sorted() 로 리스트로의 변환과 아이템 정렬을 동시에 할 수도 있다. "
   ]
  },
  {
   "cell_type": "code",
   "execution_count": null,
   "metadata": {},
   "outputs": [],
   "source": [
    "## 04_028 튜플과 for 문 1 / for 문을 이용해 튜플 아이템을 참조하자\n",
    "\n",
    "### 참조 = 조회 랑 비슷함.\n",
    "\n",
    "cars = (튜플 목록, ...)\n",
    "\n",
    "for i in range(len(cars)):\n",
    "  print(cars[i])\n",
    "  \n",
    "for car in cars:\n",
    "  print(car)"
   ]
  },
  {
   "cell_type": "code",
   "execution_count": 10,
   "metadata": {},
   "outputs": [
    {
     "name": "stdout",
     "output_type": "stream",
     "text": [
      "1학급 학생수: 19\n",
      "2학급 학생수: 20\n",
      "3학급 학생수: 22\n",
      "4학급 학생수: 18\n",
      "5학급 학생수: 21\n"
     ]
    }
   ],
   "source": [
    "### for 문을 통한 튜플 조회\n",
    "\n",
    "studentCnts = (1, 19), (2, 20), (3, 22), (4, 18), (5, 21) # 튜플 안에 튜플\n",
    "\n",
    "for classNo, cnt in studentCnts:\n",
    "  print('{}학급 학생수: {}'.format(classNo, cnt))\n",
    "  \n",
    "for i in range(len(studentCnts)):\n",
    "  print('{}학급 학생수: {}'.format(studentCnts[i][0], studentCnts[i][1]))"
   ]
  },
  {
   "cell_type": "code",
   "execution_count": 17,
   "metadata": {},
   "outputs": [
    {
     "name": "stdout",
     "output_type": "stream",
     "text": [
      "least students class 4 / 18\n",
      "most students class 3 / 22\n"
     ]
    }
   ],
   "source": [
    "## 04_029 튜플과 for 문 2 / for 문의 다양한 기능을 튜플과 사용하기\n",
    "\n",
    "studentCnts = (1, 19), (2, 20), (3, 22), (4, 18), (5, 21) \n",
    "\n",
    "minClassNo = 0 ; maxClassNo = 0\n",
    "minCnt = 0 ; maxCnt = 0\n",
    "\n",
    "\n",
    "for classNo, cnt in studentCnts:\n",
    "  if minCnt == 0 or minCnt > cnt:\n",
    "    minClassNo = classNo\n",
    "    minCnt = cnt\n",
    "    \n",
    "  if maxCnt < cnt :\n",
    "    maxClassNo = classNo\n",
    "    maxCnt = cnt\n",
    "    \n",
    "print('least students class {} / {}'.format(minClassNo, minCnt))\n",
    "print('most students class {} / {}'.format(maxClassNo, maxCnt))"
   ]
  },
  {
   "cell_type": "code",
   "execution_count": 14,
   "metadata": {},
   "outputs": [
    {
     "name": "stdout",
     "output_type": "stream",
     "text": [
      "그랜저\n",
      "소나타\n",
      "말리부\n",
      "카니발\n",
      "쏘렌토\n",
      "그랜저\n",
      "소나타\n",
      "말리부\n",
      "카니발\n",
      "쏘렌토\n",
      "그랜저\n",
      "소나타\n",
      "말리부\n",
      "카니발\n",
      "쏘렌토\n"
     ]
    }
   ],
   "source": [
    "## 04_030 튜플과 while 문 1\n",
    "\n",
    "cars = '그랜저', '소나타', '말리부', '카니발', '쏘렌토'\n",
    "\n",
    "n = 0\n",
    "while n < len(cars):\n",
    "  print(cars[n])\n",
    "  n += 1\n",
    "\n",
    "\n",
    "n = 0\n",
    "flag = True\n",
    "while flag:\n",
    "  print(cars[n])\n",
    "  n += 1\n",
    "  \n",
    "  if n == len(cars):\n",
    "    flag = False\n",
    "  \n",
    "\n",
    "n = 0\n",
    "while True:\n",
    "  print(cars[n])\n",
    "  n += 1\n",
    "  \n",
    "  if n == len(cars):\n",
    "    break"
   ]
  },
  {
   "cell_type": "code",
   "execution_count": 15,
   "metadata": {},
   "outputs": [
    {
     "name": "stdout",
     "output_type": "stream",
     "text": [
      "1반 학생수: 19\n",
      "2반 학생수: 20\n",
      "3반 학생수: 22\n",
      "4반 학생수: 18\n",
      "5반 학생수: 21\n"
     ]
    }
   ],
   "source": [
    "studentCnts = (1, 19), (2, 20), (3, 22), (4, 18), (5, 21) \n",
    "\n",
    "n = 0\n",
    "\n",
    "while n < len(studentCnts):\n",
    "  print('{}반 학생수: {}'.format(studentCnts[n][0], studentCnts[n][1]))\n",
    "  \n",
    "  n += 1"
   ]
  },
  {
   "cell_type": "code",
   "execution_count": 19,
   "metadata": {},
   "outputs": [
    {
     "name": "stdout",
     "output_type": "stream",
     "text": [
      "least students class 4 / 18\n",
      "most students class 3 / 22\n"
     ]
    }
   ],
   "source": [
    "## 04_031 튜플과 while문 2 / while문을 이용한 아이템 참조\n",
    "studentCnts = (1, 19), (2, 20), (3, 22), (4, 18), (5, 21) \n",
    "\n",
    "minClassNo = 0 ; maxClassNo = 0\n",
    "minCnt = 0 ; maxCnt = 0\n",
    "\n",
    "n = 0\n",
    "\n",
    "while n < len(studentCnts):\n",
    "  \n",
    "\n",
    "    if minCnt == 0 or minCnt > studentCnts[n][1]:\n",
    "      minClassNo = studentCnts[n][0]\n",
    "      minCnt = studentCnts[n][1]\n",
    "    \n",
    "    if maxCnt < studentCnts[n][1] :\n",
    "      maxClassNo = studentCnts[n][0]\n",
    "      maxCnt = studentCnts[n][1]\n",
    "    \n",
    "    n += 1\n",
    "    \n",
    "print('least students class {} / {}'.format(minClassNo, minCnt))\n",
    "print('most students class {} / {}'.format(maxClassNo, maxCnt))\n",
    "\n",
    "\n"
   ]
  },
  {
   "cell_type": "code",
   "execution_count": null,
   "metadata": {},
   "outputs": [],
   "source": [
    "## 04_032 딕셔너리 / 키를 이용해서 자료구조를 다루자\n",
    "\n",
    "### 키와 벨류를 통해 자료를 관리한다.   /  { } 사용"
   ]
  },
  {
   "cell_type": "code",
   "execution_count": null,
   "metadata": {},
   "outputs": [],
   "source": [
    "## 04_033 딕셔너리 조회\n",
    "\n",
    "### 딕셔너리_이름['키 값']  ->   해당 키의 벨류 값을 조회할 수 있다. / 해당 키에 대한 벨류가 리스트 형태인경우 dict['s3'][0] 이런식으로 대괄호를 연속으로 써서 조회 가능!\n",
    "### get 을 통한 조회는 해당하는 벨류 값이 없어도 오류가 뜨지 않고 none 이 뜬다.\n",
    "\n",
    "### students.get('s6')  ->  get 함수로 딕셔너리 조회"
   ]
  },
  {
   "cell_type": "code",
   "execution_count": 20,
   "metadata": {},
   "outputs": [
    {
     "name": "stdout",
     "output_type": "stream",
     "text": [
      "factorialDic : {0: 1, 1: 1, 2: 2, 3: 6, 4: 24, 5: 120, 6: 720, 7: 5040, 8: 40320, 9: 362880, 10: 3628800}\n"
     ]
    }
   ],
   "source": [
    "## 04_034 딕셔너리 추가 / 키를 이요해서 아이템 추가\n",
    "\n",
    "### \" 딕셔너리이름[키 이름] = 벨류 이름 \"  이런식으로 아이템 추가\n",
    "\n",
    "###  myInfo['name'] = 'Kim Jitae'   name이라는 키 값과 Kim Jitae라는 벨류 값 추가\n",
    "\n",
    "\n",
    "factorialDic = {}\n",
    "\n",
    "for i in range(11):\n",
    "  if i == 0:\n",
    "    factorialDic[i] = 1\n",
    "  else:\n",
    "    for j in range(1, (i+1)):\n",
    "      factorialDic[i] = factorialDic[i-1] * j\n",
    "      \n",
    "print(f'factorialDic : {factorialDic}')\n"
   ]
  },
  {
   "cell_type": "code",
   "execution_count": null,
   "metadata": {},
   "outputs": [],
   "source": [
    "## 04_035 딕셔너리 수정 / 키를 이용해서 벨류 수정하기\n",
    "\n",
    "### \" 딕셔너리이름[키 이름] = 벨류 이름 \"  이런식으로 아이템 수정\n",
    "\n",
    "### myInfo['name'] = 'Denny'   name이라는 키 값과 Kim Jitae라는 벨류 값을 Denny 라는 벨류 값으로 변경\n",
    "\n"
   ]
  },
  {
   "cell_type": "code",
   "execution_count": null,
   "metadata": {},
   "outputs": [],
   "source": [
    "## 04_036 keys(), values() / 전체 키와 벨류 조회\n",
    "\n",
    "### keys()  키 값만 모아서 보여줌 / values() 는 벨류 값만 모아서 보여준다. items()는 키, 벨류를 한꺼번에 튜플 형태로 갖고온다. \n",
    "\n",
    "### for key in memInfo.keys():\n",
    "###   print(key, memInfo[key])  -> 이렇게 for 문 활용"
   ]
  },
  {
   "cell_type": "code",
   "execution_count": null,
   "metadata": {},
   "outputs": [],
   "source": [
    "## 04_037 딕셔너리 삭제 / del과 pop() 으로 아이템 삭제\n",
    "\n",
    "### del 딕셔너리이름('키 값 이름') / 딕셔너리이름.pop('키 값 이름')   -> 삭제 방법\n",
    "\n",
    "### del 은 그냥 삭제하는데, pop는 함수라 삭제한 값이 반환 값이 된다. "
   ]
  },
  {
   "cell_type": "code",
   "execution_count": null,
   "metadata": {},
   "outputs": [],
   "source": [
    "## 04_038 딕셔너리 유용한 기능  /  in, len, clear()\n",
    "\n",
    "### in, not in -> 키 존재 유무 판단 -> True, False로 반환\n",
    "### len -> 아이템 개수 / 아이템은 키, 벨류 한 쌍 단위\n",
    "### clear() -> 모든 아이템 삭제"
   ]
  }
 ],
 "metadata": {
  "kernelspec": {
   "display_name": "Python 3",
   "language": "python",
   "name": "python3"
  },
  "language_info": {
   "codemirror_mode": {
    "name": "ipython",
    "version": 3
   },
   "file_extension": ".py",
   "mimetype": "text/x-python",
   "name": "python",
   "nbconvert_exporter": "python",
   "pygments_lexer": "ipython3",
   "version": "3.10.6"
  },
  "orig_nbformat": 4
 },
 "nbformat": 4,
 "nbformat_minor": 2
}
