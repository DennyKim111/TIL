{
 "cells": [
  {
   "cell_type": "code",
   "execution_count": null,
   "metadata": {},
   "outputs": [],
   "source": [
    "#논리 연산자 \n",
    "\n",
    "# and => 트루가 두 개, 어느 하나라도 폴스면 결과는 폴스 / 앤드 연산자는 전체가 트루여야 트루가 뜸\n",
    "# 오아 연산자는 어느 연산자든 어느 하나가 트루면 됨\n",
    "\n",
    "# 낫 연산자 -> 현재 상태를 부정하는 결과 / 트루이면 폴스로, 폴스면 트루로 됨\n",
    "\n",
    "#"
   ]
  },
  {
   "cell_type": "code",
   "execution_count": 6,
   "metadata": {},
   "outputs": [
    {
     "name": "stdout",
     "output_type": "stream",
     "text": [
      "True and True : True\n",
      "False and True : False\n",
      "True and False : False\n",
      "False and False : False\n",
      "False or False : False\n",
      "False or True : True\n",
      "True or False : True\n",
      "True or True : True\n"
     ]
    }
   ],
   "source": [
    "# and 연산자\n",
    "\n",
    "print(\"{} and {} : {}\" . format(True, True, (True and True)))\n",
    "print(\"{} and {} : {}\" . format(False, True, (False and True)))\n",
    "print(\"{} and {} : {}\" . format(True, False, (True and False)))\n",
    "print(\"{} and {} : {}\" . format(False, False, (False and False))) \n",
    "\n",
    "\n",
    "\n",
    "print(\"{} or {} : {}\" . format(False, False, (False or False))) \n",
    "print(\"{} or {} : {}\" . format(False, True, (False or True))) \n",
    "print(\"{} or {} : {}\" . format(True, False, (True or False))) \n",
    "print(\"{} or {} : {}\" . format(True, True, (True or True))) \n",
    "\n",
    "\n",
    "\n"
   ]
  },
  {
   "cell_type": "code",
   "execution_count": 8,
   "metadata": {},
   "outputs": [
    {
     "name": "stdout",
     "output_type": "stream",
     "text": [
      "not True : False\n",
      "not False : True\n"
     ]
    }
   ],
   "source": [
    "print('not {} : {}' .format(True, (not True)))\n",
    "print('not {} : {}' .format(False, (not False)))\n",
    "\n"
   ]
  },
  {
   "cell_type": "code",
   "execution_count": 9,
   "metadata": {},
   "outputs": [
    {
     "name": "stdout",
     "output_type": "stream",
     "text": [
      "age : 55, result : False\n"
     ]
    }
   ],
   "source": [
    "age = int(input('나이 : '))\n",
    "\n",
    "vaccine = (age < 20) or (age >= 65)\n",
    "print('age : {}, result : {}' .format(age, vaccine))"
   ]
  },
  {
   "cell_type": "code",
   "execution_count": 11,
   "metadata": {},
   "outputs": [
    {
     "name": "stdout",
     "output_type": "stream",
     "text": [
      "국어 : 80, 영어 : 90, 수학 : 30, 평균 : 66.66666666666667, 합격 : False\n",
      "국어 결과 : True, 영어 결과 : True, 수학 결과 : False\n"
     ]
    }
   ],
   "source": [
    "kor = int(input('국어 점수 : '))\n",
    "eng = int(input('영어 점수 : '))\n",
    "math = int(input('수학 점수 : '))\n",
    " \n",
    "result = (kor + eng + math) / 3\n",
    "\n",
    "print('국어 : {}, 영어 : {}, 수학 : {}, 평균 : {}, 합격 : {}' .format(kor, eng, math, (result), (result >= 70)))\n",
    "print('국어 결과 : {}, 영어 결과 : {}, 수학 결과 : {}' .format((kor >= 60), (eng >= 60), (math >= 60)))"
   ]
  },
  {
   "cell_type": "code",
   "execution_count": 18,
   "metadata": {},
   "outputs": [
    {
     "name": "stdout",
     "output_type": "stream",
     "text": [
      "8 + 4 = 12\n",
      "8 - 4 = 4\n",
      "8 * 4 = 32\n",
      "8 / 4 = 2.0\n",
      "8 % 4 = 0\n",
      "8 // 4 = 2\n",
      "8 ** 4 = 4096\n",
      "8 == 4 : False\n",
      "8 != 4 : True\n",
      "8 > 4 : True\n",
      "8 >= 4 : True\n",
      "8 < 4 : False\n",
      "8 <= 4 : False\n",
      "True and False : False\n",
      "True or False : True\n",
      "not False : True\n"
     ]
    }
   ],
   "source": [
    "# operator 모듈 \n",
    "# 모듈 = 누군가 만들어 놓은 기능(효율적인) \n",
    "\n",
    "import operator\n",
    "\n",
    "num1 = 8\n",
    "num2 = 4\n",
    "\n",
    "print('{} + {} = {}'.format(num1, num2, operator.add(num1, num2)))\n",
    "print('{} - {} = {}'.format(num1, num2, operator.sub(num1, num2)))\n",
    "print('{} * {} = {}'.format(num1, num2, operator.mul(num1, num2)))\n",
    "print('{} / {} = {}'.format(num1, num2, operator.truediv(num1, num2)))\n",
    "print('{} % {} = {}'.format(num1, num2, operator.mod(num1, num2)))\n",
    "print('{} // {} = {}'.format(num1, num2, operator.floordiv(num1, num2)))\n",
    "print('{} ** {} = {}'.format(num1, num2, operator.pow(num1, num2)))\n",
    "\n",
    "print('{} == {} : {}'.format(num1, num2, operator.eq(num1, num2)))\n",
    "print('{} != {} : {}'.format(num1, num2, operator.ne(num1, num2)))\n",
    "print('{} > {} : {}'.format(num1, num2, operator.gt(num1, num2)))\n",
    "print('{} >= {} : {}'.format(num1, num2, operator.ge(num1, num2)))\n",
    "print('{} < {} : {}'.format(num1, num2, operator.lt(num1, num2)))\n",
    "print('{} <= {} : {}'.format(num1, num2, operator.le(num1, num2)))\n",
    "\n",
    "bool1 = True\n",
    "bool2 = False\n",
    "\n",
    "print('{} and {} : {}' .format(bool1, bool2, operator.and_(bool1, bool2)))\n",
    "print('{} or {} : {}' .format(bool1, bool2, operator.or_(bool1, bool2)))\n",
    "print('not {} : {}' .format(bool2, operator.not_(bool2)))\n",
    "\n",
    "\n"
   ]
  },
  {
   "cell_type": "code",
   "execution_count": 20,
   "metadata": {},
   "outputs": [
    {
     "name": "stdout",
     "output_type": "stream",
     "text": [
      "age : 55, result : False\n"
     ]
    }
   ],
   "source": [
    "import operator\n",
    "\n",
    "age = int(input('나이 입력 : '))\n",
    "vaccine = operator.or_(operator.lt(age, 20), (operator.ge(age, 65)))\n",
    "print('age : {}, result : {}' .format(age, vaccine))"
   ]
  },
  {
   "cell_type": "code",
   "execution_count": 23,
   "metadata": {},
   "outputs": [
    {
     "name": "stdout",
     "output_type": "stream",
     "text": [
      "난수 : 69\n",
      "십의 자리 6\n",
      "일의 자리 9\n",
      "십의 자리는 3의 배수이다. : True\n",
      "일의 자리는 3의 배수이다. : True\n"
     ]
    }
   ],
   "source": [
    "# random 과 operator 모듈을 사용해서 10부터 100사이의 난수 중 십의 자리와 일의 자리가 각각 3의 배수인지 판단하는 코드를 작성하자.\n",
    "\n",
    "import random\n",
    "import operator\n",
    "rInt = random.randint(10, 100)\n",
    "\n",
    "num10 = operator.floordiv(rInt, 10)\n",
    "num1 =  operator.mod(rInt, 10)\n",
    "\n",
    "print('난수 : {}'.format(rInt))\n",
    "print('십의 자리 {}'.format(num10))\n",
    "print('일의 자리 {}'.format(num1))\n",
    "\n",
    "print('십의 자리는 3의 배수이다. : {}' .format(operator.mod(num10,  3) == 0))\n",
    "print('일의 자리는 3의 배수이다. : {}' .format(operator.mod(num1, 3) == 0))"
   ]
  },
  {
   "cell_type": "code",
   "execution_count": 25,
   "metadata": {},
   "outputs": [
    {
     "name": "stdout",
     "output_type": "stream",
     "text": [
      "num1 > num2 : False\n",
      "num1은  num2보다 크지 않다.\n"
     ]
    }
   ],
   "source": [
    "# 조건식\n",
    "\n",
    "num1 = 10\n",
    "num2 = 100\n",
    "\n",
    "numResult = True if num1 > num2 else False\n",
    "\n",
    "print('num1 > num2 : {}' .format(numResult))\n",
    "\n",
    "print('num1은 num2보다 크다.') if numResult else print('num1은  num2보다 크지 않다.')"
   ]
  },
  {
   "cell_type": "code",
   "execution_count": 27,
   "metadata": {},
   "outputs": [
    {
     "name": "stdout",
     "output_type": "stream",
     "text": [
      "적설량 : 22mm, 대설 경보 해제\n"
     ]
    }
   ],
   "source": [
    "# 적설량 입력, 적설량 30 이상이면 대설 경보 발령, 아니면 대설 경보 해제하는 코드 \n",
    "\n",
    "limitSnowAmount = 30\n",
    "\n",
    "snowAmount = int(input('적설량을 입력하세요(mm) : '))\n",
    "\n",
    "print('적설량 : {}mm, {}' .format(snowAmount, '대설 경보 발령')) if snowAmount > limitSnowAmount else \\\n",
    "  print('적설량 : {}mm, {}'.format(snowAmount, '대설 경보 해제'))\n",
    "\n",
    "\n",
    "\n"
   ]
  },
  {
   "cell_type": "code",
   "execution_count": 34,
   "metadata": {},
   "outputs": [
    {
     "name": "stdout",
     "output_type": "stream",
     "text": [
      "국어 점수 : 62\n",
      "영어 점수 : 80\n",
      "수학 점수 : 85\n",
      "국어 : Pass\n",
      "영어 : Pass\n",
      "수학 : Pass\n",
      "시험 : Pass\n",
      "총점 : 227, 평균 : 75.67\n"
     ]
    }
   ],
   "source": [
    "# 국어, 영어 , 수학 점수를 입력하면 조건식을 이용해서 과목별 결과와 전체 결과를 출력하는 코드를 작성해보자.\n",
    "\n",
    "import operator\n",
    "\n",
    "kor = int(input('국어 점수 : '))\n",
    "eng = int(input('영어 점수 : '))\n",
    "mat = int(input('수학 점수 : '))\n",
    "avg = (kor+eng+mat) / 3\n",
    "all = kor+eng+mat\n",
    "\n",
    "passScore = 60\n",
    "passScoreAll = 70\n",
    "\n",
    "print('국어 점수 : {}' .format(kor))\n",
    "print('영어 점수 : {}' .format(eng))\n",
    "print('수학 점수 : {}' .format(mat))\n",
    "\n",
    "\n",
    "print('국어 : Pass') if operator.ge(kor, passScore) else print('국어 : FAIL')\n",
    "print('영어 : Pass') if operator.ge(eng, passScore) else print('영어 : FAIL')\n",
    "print('수학 : Pass') if operator.ge(mat, passScore) else print('수학 : FAIL')\n",
    "print('시험 : Pass') if operator.ge(avg, passScoreAll) else print('시험 : FAIL')\n",
    "\n",
    "print('총점 : %d, 평균 : %.2f' % (all, avg))\n",
    "\n",
    "\n",
    "\n",
    "\n",
    "\n"
   ]
  },
  {
   "cell_type": "code",
   "execution_count": 35,
   "metadata": {},
   "outputs": [
    {
     "name": "stdout",
     "output_type": "stream",
     "text": [
      "조건문이 끝났어요.\n"
     ]
    }
   ],
   "source": [
    "# 조건문 기본\n",
    "\n",
    "if 10 < 5 :\n",
    "    print('10은 5보다 크다.')\n",
    "    print('또 다른 실행문!')\n",
    "\n",
    "print('조건문이 끝났어요.')"
   ]
  },
  {
   "cell_type": "code",
   "execution_count": 36,
   "metadata": {},
   "outputs": [
    {
     "name": "stdout",
     "output_type": "stream",
     "text": [
      "숫자 2가 숫자 1보다 크다.\n"
     ]
    }
   ],
   "source": [
    "num1 = int(input('숫자1 입력 : '))\n",
    "num2 = int(input('숫자2 입력 : '))\n",
    "\n",
    "if num1 > num2 : \n",
    "    print('숫자 1이 숫자 2보다 크다')\n",
    "elif num1 < num2 :\n",
    "    print('숫자 2가 숫자 1보다 크다.')\n",
    "else :\n",
    "    print('둘 다 같다.')"
   ]
  },
  {
   "cell_type": "code",
   "execution_count": 38,
   "metadata": {},
   "outputs": [
    {
     "name": "stdout",
     "output_type": "stream",
     "text": [
      "국어 점수 입력 : 99\n",
      "영어 점수 입력 : 99\n",
      "수학 점수 입력 : 98\n",
      "평균 : 98.66666666666667\n",
      "참 잘했어요.\n"
     ]
    }
   ],
   "source": [
    "kor = int(input('국어 점수 : '))\n",
    "eng = int(input('영어 점수 : '))\n",
    "mat = int(input('수학 점수 : '))\n",
    "\n",
    "avg = (kor+eng+mat) / 3\n",
    "total = kor+eng+mat\n",
    "\n",
    "print('국어 점수 입력 : {}' .format(kor))\n",
    "print('영어 점수 입력 : {}' .format(eng))\n",
    "print('수학 점수 입력 : {}' .format(mat))\n",
    "print('평균 : {}'  .format(avg))\n",
    "if avg >= 90 :\n",
    "    print(\"참 잘했어요.\")\n"
   ]
  },
  {
   "cell_type": "code",
   "execution_count": 41,
   "metadata": {},
   "outputs": [
    {
     "name": "stdout",
     "output_type": "stream",
     "text": [
      "난방 작동!\n"
     ]
    }
   ],
   "source": [
    "highTem = 28\n",
    "lowTem = 20\n",
    "innerTem = int(input('실내 온도 입력 : '))\n",
    "\n",
    "if innerTem >= highTem:\n",
    "    print('냉방 작동!')\n",
    "# if innerTem < lowTem:\n",
    "#     print('난방 작동!')\n",
    "else:\n",
    "    print('난방 작동!')\n",
    "\n"
   ]
  },
  {
   "cell_type": "code",
   "execution_count": 43,
   "metadata": {},
   "outputs": [
    {
     "name": "stdout",
     "output_type": "stream",
     "text": [
      "PASS\n"
     ]
    }
   ],
   "source": [
    "# if ~ else 문 27강\n",
    "passScore = 80\n",
    "\n",
    "myScore = float(input('점수 입력 : '))\n",
    "\n",
    "if myScore >= passScore:\n",
    "    print(\"PASS\")\n",
    "else:\n",
    "    print(\"FAIL\")\n",
    "# pass -> 나중에 코딩 하겠다. \n"
   ]
  },
  {
   "cell_type": "code",
   "execution_count": 44,
   "metadata": {},
   "outputs": [
    {
     "name": "stdout",
     "output_type": "stream",
     "text": [
      "7\n"
     ]
    }
   ],
   "source": [
    "print(len('sdds   '))"
   ]
  },
  {
   "cell_type": "code",
   "execution_count": 45,
   "metadata": {},
   "outputs": [
    {
     "name": "stdout",
     "output_type": "stream",
     "text": [
      "무료 대상 승객입니다. \n"
     ]
    }
   ],
   "source": [
    "senior = 65\n",
    "\n",
    "yourAge = int(input('당신의 나이를 입력하시오. : '))\n",
    "\n",
    "if yourAge >= 65:\n",
    "    print('무료 대상 승객입니다. ')\n",
    "else : \n",
    "    print('유료 대상 승객입니다. ')"
   ]
  },
  {
   "cell_type": "code",
   "execution_count": 46,
   "metadata": {},
   "outputs": [
    {
     "name": "stdout",
     "output_type": "stream",
     "text": [
      "버림 : 4\n"
     ]
    }
   ],
   "source": [
    "# 소수점 첫째 자리에서 반올림하는 프로그램을 만들자.\n",
    "\n",
    "num = float(input('소수를 입력하세요 : '))\n",
    "\n",
    "if num - int(num) >= 0.6:\n",
    "    print('올림 : {}' .format(int(num)+1))\n",
    "\n",
    "else:\n",
    "    print('버림 : {}' .format(int(num)))"
   ]
  },
  {
   "cell_type": "code",
   "execution_count": 48,
   "metadata": {},
   "outputs": [
    {
     "name": "stdout",
     "output_type": "stream",
     "text": [
      "양산을 챙기세요\n",
      "양산을 챙기세요.\n"
     ]
    }
   ],
   "source": [
    "# 28 : if ~ else 문\n",
    "\n",
    "rainPercent = int(input(\"비 올 확률 : \"))\n",
    "needUmbrella = 55\n",
    "\n",
    "print(\"우산을 챙기세요\") if rainPercent >= needUmbrella else print(\"양산을 챙기세요\")\n",
    "\n",
    "if rainPercent >= needUmbrella:\n",
    "    print(\"우산을 챙기세요\")\n",
    "else :\n",
    "    print(\"양산을 챙기세요.\")"
   ]
  },
  {
   "cell_type": "code",
   "execution_count": 52,
   "metadata": {},
   "outputs": [
    {
     "name": "stdout",
     "output_type": "stream",
     "text": [
      "일교차 : 18.0 \n",
      "감기 조심하세요.\n",
      "일교차 : 18.0\n",
      "감기 조심하세요.\n"
     ]
    }
   ],
   "source": [
    "lowTem = float(input('최저 기온을 입력하세요 : '))\n",
    "highTem = float(input('최고 기온을 입력하세요 : '))\n",
    "\n",
    "temGap = highTem - lowTem\n",
    "\n",
    "print('일교차 : {}' .format(temGap), '\\n감기 조심하세요.' ) if temGap >=11 else print('일교차 : {}'.format(temGap), '\\n산책하기 좋은 날씨입니다.')\n",
    "\n",
    "if temGap >=11:\n",
    "    print('일교차 : {}' .format(temGap))\n",
    "    print('감기 조심하세요.')\n",
    "else : \n",
    "    print('일교차 : {}'.format(temGap))\n",
    "    print('산책하기 좋은 날씨입니다.')"
   ]
  },
  {
   "cell_type": "code",
   "execution_count": null,
   "metadata": {},
   "outputs": [],
   "source": [
    "# 이프, 엘리프 문 29강\n",
    "\n",
    "exampleScore = input('시험 성적 : ')\n",
    "grades = ''\n",
    "\n",
    "if exampleScore >= 90:\n",
    "    grades = 'A'\n",
    "elif exampleScore >= 80:\n",
    "    grades = \"B\"\n",
    "elif exampleScore >= 70:\n",
    "    grades = \"C\"\n",
    "elif exampleScore >= 60:\n",
    "    grades = \"D\"\n",
    "else:\n",
    "    grades = \"F\"\n",
    "\n",
    "print('성적 : {} \\t 학점 : {}' .format(exampleScore, grades))"
   ]
  },
  {
   "cell_type": "code",
   "execution_count": 53,
   "metadata": {},
   "outputs": [
    {
     "name": "stdout",
     "output_type": "stream",
     "text": [
      "계절 : 봄, 여름, 가을, 겨울\n",
      "봄 : Spring\n"
     ]
    }
   ],
   "source": [
    "print('계절 : 봄, 여름, 가을, 겨울')\n",
    "seasonStr = input('계절 입력 : ')\n",
    "\n",
    "if seasonStr == '봄' :\n",
    "    print('{} : {}' .format('봄', 'Spring'))\n",
    "elif seasonStr == '여름':\n",
    "    print('{} : {}' .format('여름', 'Summer'))\n",
    "elif seasonStr == '가을':\n",
    "    print('{} : {}' .format('가을', 'Fall'))\n",
    "elif seasonStr == '겨울':\n",
    "    print('{} : {}' .format('겨울', 'winter'))\n",
    "\n",
    "else:\n",
    "    print('none')\n",
    "\n"
   ]
  },
  {
   "cell_type": "code",
   "execution_count": 60,
   "metadata": {},
   "outputs": [
    {
     "name": "stdout",
     "output_type": "stream",
     "text": [
      "1. 카페라떼(3.5) \t 2. 에스프레소(3.0) \t 3. 아메리카노(2.0) \t 4. 곡물라떼(4.0) \t 5. 밀크티(4.3)\n",
      "메뉴 선택 : 5 \n",
      "------------------------------\n",
      "메뉴 : 밀크티 \n",
      "가격 : 4300 원\n",
      "------------------------------\n"
     ]
    }
   ],
   "source": [
    "print('1. 카페라떼(3.5) \\t 2. 에스프레소(3.0) \\t 3. 아메리카노(2.0) \\t 4. 곡물라떼(4.0) \\t 5. 밀크티(4.3)')\n",
    "userSelectNumber = int(input('메뉴 선택 : '))\n",
    "\n",
    "print('메뉴 선택 : {}' .format(userSelectNumber), '\\n------------------------------')\n",
    "if userSelectNumber == 1:\n",
    "    print('메뉴 : {}' .format('카페라떼'), '\\n가격 : {0:,} 원' .format(3500))\n",
    "elif userSelectNumber == 2:\n",
    "    print('메뉴 : {}' .format('에스프레소'), '\\n가격 : {0:,} 원' .format(3000))\n",
    "elif userSelectNumber == 3:\n",
    "    print('메뉴 : {}' .format('아메리카노'), '\\n가격 : {0:,} 원' .format(2000))\n",
    "elif userSelectNumber == 4:\n",
    "    print('메뉴 : {}' .format('곡물라떼'), '\\n가격 : {0:,} 원' .format(4000))\n",
    "elif userSelectNumber == 5:\n",
    "    print('메뉴 : {}' .format('밀크티'), '\\n가격 : {0:,} 원' .format(4300))\n",
    "else:\n",
    "    print('메뉴를 다시 선택하세요.')\n",
    "print('------------------------------')\n",
    "\n",
    "# 가격 숫자에 세 자리수마다 쉼표 입력하는 법 다시 체크 하기 ! -> {0:,}\n"
   ]
  }
 ],
 "metadata": {
  "kernelspec": {
   "display_name": "Python 3",
   "language": "python",
   "name": "python3"
  },
  "language_info": {
   "codemirror_mode": {
    "name": "ipython",
    "version": 3
   },
   "file_extension": ".py",
   "mimetype": "text/x-python",
   "name": "python",
   "nbconvert_exporter": "python",
   "pygments_lexer": "ipython3",
   "version": "3.10.6"
  },
  "orig_nbformat": 4
 },
 "nbformat": 4,
 "nbformat_minor": 2
}
