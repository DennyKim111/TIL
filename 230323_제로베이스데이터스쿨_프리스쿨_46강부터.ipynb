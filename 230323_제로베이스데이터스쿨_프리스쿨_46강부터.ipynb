{
 "cells": [
  {
   "cell_type": "code",
   "execution_count": 5,
   "metadata": {},
   "outputs": [
    {
     "name": "stdout",
     "output_type": "stream",
     "text": [
      "체중 : 74.4kg\n",
      "신장 : 1.73m\n",
      "BMI : 24.858832570416652\n"
     ]
    }
   ],
   "source": [
    "weight = float(input(\"체중 입력 : \"))\n",
    "height = float(input(\"신장 입력 : \"))\n",
    "\n",
    "print(\"체중 : {}kg\".format(weight))\n",
    "print(\"신장 : {}m\".format(height))\n",
    "print(\"BMI : {}\".format((weight)/(height*height)))"
   ]
  },
  {
   "cell_type": "code",
   "execution_count": 7,
   "metadata": {},
   "outputs": [
    {
     "name": "stdout",
     "output_type": "stream",
     "text": [
      "체중 : 74.0kg\n",
      "신장 : 74.0m\n",
      "BMI : 135.13513513513513\n"
     ]
    }
   ],
   "source": [
    "weight = input('체중 입력(g) : ')\n",
    "height = input('신장 입력(cm) : ')\n",
    "\n",
    "if weight.isdigit():    # 숫자인지 판별 숫자면 트루 / 아니면 폴스\n",
    "  weight = float(weight) / 1000\n",
    "  \n",
    "if height.isdigit():\n",
    "  height = float(weight) / 100\n",
    "\n",
    "\n",
    "print('체중 : {}kg'.format(weight))\n",
    "print('신장 : {}m'.format(weight))\n",
    "print('BMI : {}'.format((weight)/(height*height)))"
   ]
  },
  {
   "cell_type": "code",
   "execution_count": 8,
   "metadata": {},
   "outputs": [
    {
     "name": "stdout",
     "output_type": "stream",
     "text": [
      "num1 : 10, num2 : 20\n",
      "num1 : 20, num2 : 10\n"
     ]
    }
   ],
   "source": [
    "num1 = 10\n",
    "num2 = 20\n",
    "\n",
    "print(\"num1 : {}, num2 : {}\".format(num1, num2))\n",
    "print(\"num1 : {1}, num2 : {0}\".format(num1, num2))"
   ]
  },
  {
   "cell_type": "code",
   "execution_count": 9,
   "metadata": {},
   "outputs": [
    {
     "name": "stdout",
     "output_type": "stream",
     "text": [
      "중간고사 점수: 89.0\n",
      "기말고사 점수: 94.0\n",
      "총점: 183.0,\t평균: 91.5\n"
     ]
    }
   ],
   "source": [
    "mid = float(input('중간고사 : '))\n",
    "fin = float(input('기말고사 : '))\n",
    "\n",
    "avg = (mid+fin) / 2\n",
    "\n",
    "print('중간고사 점수: {}\\n기말고사 점수: {}\\n총점: {},\\t평균: {}'.format(mid, fin, mid+fin, avg))"
   ]
  },
  {
   "cell_type": "code",
   "execution_count": 13,
   "metadata": {},
   "outputs": [
    {
     "name": "stdout",
     "output_type": "stream",
     "text": [
      "중간고사 점수: 55\n",
      "기말고사 점수: 44\n",
      "총점: 99,\t평균: 49.5\n"
     ]
    }
   ],
   "source": [
    "mid = input('중간고사 : ')\n",
    "fin = input('기말고사 : ')\n",
    "\n",
    "if mid.isdigit() and fin.isdigit():\n",
    "  mid = int(mid)\n",
    "  fin = int(fin)\n",
    "  \n",
    "  totalScore = mid + fin\n",
    "  avg = totalScore / 2\n",
    "  \n",
    "  print('중간고사 점수: {}\\n기말고사 점수: {}\\n총점: {},\\t평균: {}'.format(mid, fin, totalScore, avg))\n",
    "\n",
    "else:\n",
    "  print(\"잘 못 입력했습니다.\")"
   ]
  },
  {
   "cell_type": "code",
   "execution_count": 15,
   "metadata": {},
   "outputs": [
    {
     "name": "stdout",
     "output_type": "stream",
     "text": [
      "1. sandwich \t 2. hamburger \t 3. juice \t 4. coffee \t 5. ice cream\n"
     ]
    }
   ],
   "source": [
    "selectNum = input('언어 선택(choose your language): 1. 한국어 \\t 2. English')\n",
    "\n",
    "if selectNum == '1':\n",
    "  menu = '1. 샌드위치 \\t 2. 햄버거 \\t 3. 쥬스 \\t 4. 커피 \\t 5. 아이스크림'\n",
    "elif selectNum == '2':\n",
    "  menu = '1. sandwich \\t 2. hamburger \\t 3. juice \\t 4. coffee \\t 5. ice cream'\n",
    "  \n",
    "print(menu)"
   ]
  },
  {
   "cell_type": "code",
   "execution_count": 16,
   "metadata": {},
   "outputs": [
    {
     "name": "stdout",
     "output_type": "stream",
     "text": [
      "2096년(73 년 후에 100살이 됩니다. )\n"
     ]
    }
   ],
   "source": [
    "import datetime\n",
    "\n",
    "today = datetime.datetime.today()\n",
    "\n",
    "myAge = input('나의 나이는 ? : ')\n",
    "if myAge.isdigit():\n",
    "  afterAge = 100 - int(myAge)\n",
    "  myHundred = today.year + afterAge\n",
    "  print('{}년({} 년 후에 100살이 됩니다. )'.format(myHundred, afterAge))\n",
    "else : \n",
    "  print('잘못 입력 하였습니다. ')"
   ]
  },
  {
   "cell_type": "code",
   "execution_count": 34,
   "metadata": {},
   "outputs": [
    {
     "ename": "IndentationError",
     "evalue": "unexpected indent (1073943015.py, line 27)",
     "output_type": "error",
     "traceback": [
      "\u001b[1;36m  Cell \u001b[1;32mIn[34], line 27\u001b[1;36m\u001b[0m\n\u001b[1;33m    if changeMoney >= 10000:\u001b[0m\n\u001b[1;37m    ^\u001b[0m\n\u001b[1;31mIndentationError\u001b[0m\u001b[1;31m:\u001b[0m unexpected indent\n"
     ]
    }
   ],
   "source": [
    "productPrice = int(input('상품 가격 입력 : '))\n",
    "payPrice = int(input('지불 금액 입력 : '))\n",
    "\n",
    "changeMoney = payPrice - productPrice\n",
    "\n",
    "change50000 = changeMoney//50000\n",
    "change10000 = changeMoney//10000\n",
    "change5000 = changeMoney//5000\n",
    "change1000 = changeMoney//1000\n",
    "change500 = changeMoney//500\n",
    "change100 = changeMoney//100 \n",
    "change50 = changeMoney//50\n",
    "change10 = changeMoney//10\n",
    "\n",
    "print('상품 가격 입력 : {}' .format(productPrice))\n",
    "print('지불 금액 : {}' .format(payPrice))\n",
    "\n",
    "\n",
    "\n",
    "if payPrice > productPrice:\n",
    "  \n",
    "  print('거스름 돈 : {}(원단위 절사)'.format(changeMoney))\n",
    "  print('-'*33)\n",
    "  if changeMoney >= 50000:\n",
    "    print('50,000 {}장'.format(change50000))\n",
    "changeMoney = changeMoney - (change50000 * 50000)\n",
    "if changeMoney >= 10000:\n",
    "    print('10,000 {}장'.format(change10000))\n",
    "changeMoney = changeMoney - (change10000 * 10000)\n",
    "if changeMoney >= 5000:\n",
    "    print('5,000 {}장'.format(change5000))\n",
    "changeMoney = changeMoney - (change5000 * 5000)\n",
    "if changeMoney >= 1000:\n",
    "    print('1,000 {}장'.format(change1000))\n",
    "changeMoney = changeMoney - (change1000 * 1000)\n",
    "if changeMoney >= 500:\n",
    "    print('500 {}개'.format(change500))\n",
    "changeMoney = changeMoney - (change500 * 500)\n",
    "if changeMoney >= 100:\n",
    "    print('100 {}개'.format(change100))\n",
    "changeMoney = changeMoney - (change100 * 100)\n",
    "  if changeMoney >= 50:\n",
    "    print('50 {}개'.format(change50))\n",
    "changeMoney = changeMoney - (change50 * 50)\n",
    "  if changeMoney >= 10:\n",
    "    print('10 {}개'.format(change10))\n",
    "changeMoney = changeMoney - (change10 * 10)\n",
    "\n",
    "\n",
    "print('-'*33)\n",
    "\n",
    "    \n",
    "  "
   ]
  },
  {
   "cell_type": "code",
   "execution_count": 42,
   "metadata": {},
   "outputs": [
    {
     "name": "stdout",
     "output_type": "stream",
     "text": [
      "상품 가격 입력 : 35862\n",
      "지불 금액 : 100000\n",
      "거스름 돈 : 64138(원단위 절사)\n",
      "---------------------------------\n",
      "50,000 1장\n",
      "10,000 1장\n",
      "5,000 0장\n",
      "1,000 4장\n",
      "500 0개\n",
      "100 1개\n",
      "50 0개\n",
      "10 3개\n",
      "---------------------------------\n"
     ]
    }
   ],
   "source": [
    "productPrice = int(input('상품 가격 입력: '))\n",
    "payPrice = int(input('지불 금액 입력 : '))\n",
    "\n",
    "money50000 = 50000; money10000 = 10000; money5000 = 5000; money1000 = 1000; money500 = 500; money100 = 100; money50 = 50\n",
    "money10 = 10\n",
    "\n",
    "money50000Cnt = 0; money10000Cnt = 0; money5000Cnt = 0; money1000Cnt = 0; money500Cnt = 0; money100Cnt =0; money50Cnt = 0\n",
    "money10Cnt = 0\n",
    "\n",
    "print('상품 가격 입력 : {}' .format(productPrice))\n",
    "print('지불 금액 : {}' .format(payPrice))\n",
    "\n",
    "if payPrice > productPrice:\n",
    "  \n",
    "  changeMoney = payPrice - productPrice\n",
    "  print('거스름 돈 : {}(원단위 절사)'.format(changeMoney))\n",
    "\n",
    "  changeMoney = (changeMoney // 10) * 10\n",
    "  \n",
    "if changeMoney > money50000:\n",
    "  money50000Cnt = changeMoney // money50000\n",
    "  changeMoney %= money50000\n",
    "  \n",
    "if changeMoney > money10000:\n",
    "  money10000Cnt = changeMoney // money10000\n",
    "  changeMoney %= money10000\n",
    "  \n",
    "if changeMoney > money5000:\n",
    "  money5000Cnt = changeMoney // money5000\n",
    "  changeMoney %= money5000\n",
    "  \n",
    "if changeMoney > money1000:\n",
    "  money1000Cnt = changeMoney // money1000\n",
    "  changeMoney %= money1000\n",
    "  \n",
    "if changeMoney > money500:\n",
    "  money500Cnt = changeMoney // money500\n",
    "  changeMoney %= money500    \n",
    "  \n",
    "if changeMoney > money100:\n",
    "  money100Cnt = changeMoney // money100\n",
    "  changeMoney %= money100\n",
    "  \n",
    "if changeMoney > money50:\n",
    "  money50Cnt = changeMoney // money50\n",
    "  changeMoney %= money50\n",
    "  \n",
    "if changeMoney > money10:\n",
    "  money10Cnt = changeMoney // money10\n",
    "  changeMoney %= money10\n",
    "  \n",
    "print('-'*33)\n",
    "print('50,000 {}장'.format(money50000Cnt))\n",
    "print('10,000 {}장'.format(money10000Cnt))\n",
    "print('5,000 {}장'.format(money5000Cnt))\n",
    "print('1,000 {}장'.format(money1000Cnt))\n",
    "print('500 {}개'.format(money500Cnt))\n",
    "print('100 {}개'.format(money100Cnt))\n",
    "print('50 {}개'.format(money50Cnt))\n",
    "print('10 {}개'.format(money10Cnt))\n",
    "print('-'*33)"
   ]
  },
  {
   "cell_type": "code",
   "execution_count": 41,
   "metadata": {},
   "outputs": [
    {
     "name": "stdout",
     "output_type": "stream",
     "text": [
      "상품 가격 입력 : 35862\n",
      "지불 금액 : 100000\n",
      "거스름 돈 : 64138(원단위 절사)\n",
      "---------------------------------\n",
      "50,000 1장\n",
      "10,000 1장\n",
      "5,000 0장\n",
      "1,000 4장\n",
      "500 0개\n",
      "100 1개\n",
      "50 0개\n",
      "10 3개\n",
      "---------------------------------\n"
     ]
    }
   ],
   "source": [
    "productPrice = int(input('상품 가격 입력: '))\n",
    "payPrice = int(input('지불 금액 입력 : '))\n",
    "\n",
    "money50000 = 50000; money10000 = 10000; money5000 = 5000; money1000 = 1000; money500 = 500; money100 = 100; money50 = 50\n",
    "money10 = 10\n",
    "\n",
    "money50000Cnt = 0; money10000Cnt = 0; money5000Cnt = 0; money1000Cnt = 0; money500Cnt = 0; money100Cnt =0; money50Cnt = 0\n",
    "money10Cnt = 0\n",
    "\n",
    "print('상품 가격 입력 : {}' .format(productPrice))\n",
    "print('지불 금액 : {}' .format(payPrice))\n",
    "\n",
    "if payPrice > productPrice:\n",
    "  \n",
    "  changeMoney = payPrice - productPrice\n",
    "  print('거스름 돈 : {}(원단위 절사)'.format(changeMoney))\n",
    "\n",
    "  changeMoney = (changeMoney // 10) * 10\n",
    "  \n",
    "if changeMoney > money50000:\n",
    "  money50000Cnt = changeMoney // money50000\n",
    "  changeMoney = changeMoney - (money50000Cnt * money50000)\n",
    "  \n",
    "if changeMoney > money10000:\n",
    "  money10000Cnt = changeMoney // money10000\n",
    "  changeMoney = changeMoney - (money10000Cnt * money10000)\n",
    "  \n",
    "if changeMoney > money5000:\n",
    "  money5000Cnt = changeMoney // money5000\n",
    "  changeMoney = changeMoney - (money5000Cnt * money5000)\n",
    "  \n",
    "if changeMoney > money1000:\n",
    "  money1000Cnt = changeMoney // money1000\n",
    "  changeMoney = changeMoney - (money1000Cnt * money1000)\n",
    "  \n",
    "if changeMoney > money500:\n",
    "  money500Cnt = changeMoney // money500\n",
    "  changeMoney = changeMoney - (money500Cnt * money500)\n",
    "  \n",
    "if changeMoney > money100:\n",
    "  money100Cnt = changeMoney // money100\n",
    "  changeMoney = changeMoney - (money100Cnt * money100)\n",
    "  \n",
    "if changeMoney > money50:\n",
    "  money50Cnt = changeMoney // money50\n",
    "  changeMoney = changeMoney - (money50Cnt * money50)\n",
    "  \n",
    "if changeMoney > money10:\n",
    "  money10Cnt = changeMoney // money10\n",
    "  changeMoney = changeMoney - (money10Cnt * money10)\n",
    "  \n",
    "print('-'*33)\n",
    "print('50,000 {}장'.format(money50000Cnt))\n",
    "print('10,000 {}장'.format(money10000Cnt))\n",
    "print('5,000 {}장'.format(money5000Cnt))\n",
    "print('1,000 {}장'.format(money1000Cnt))\n",
    "print('500 {}개'.format(money500Cnt))\n",
    "print('100 {}개'.format(money100Cnt))\n",
    "print('50 {}개'.format(money50Cnt))\n",
    "print('10 {}개'.format(money10Cnt))\n",
    "print('-'*33)"
   ]
  },
  {
   "cell_type": "code",
   "execution_count": 46,
   "metadata": {},
   "outputs": [
    {
     "name": "stdout",
     "output_type": "stream",
     "text": [
      "국어 점수 입력: 66 \n",
      "영어 점수 입력: 54 \n",
      "수학 점수 입력: 55\n",
      "총점: 175 \n",
      "평균: 58.33 \n",
      "---------------------------------\n",
      "최고 점수 과목(점수): 국어(66) \n",
      "최저 점수 과목(점수): 영어(54) \n",
      "최고, 최저 점수 차이: 12\n",
      "---------------------------------\n"
     ]
    }
   ],
   "source": [
    "kor = int(input(\"국어 점수: \"))\n",
    "eng = int(input(\"영어 점수: \"))\n",
    "mat = int(input(\"수학 점수: \"))\n",
    "\n",
    "total = kor + eng + mat\n",
    "avg = total / 3\n",
    "\n",
    "if kor > eng > mat:\n",
    "  highestSub = kor\n",
    "  lowestSub = mat\n",
    "  highestSubName = \"국어\"\n",
    "  lowestSubName = \"수학\"\n",
    "\n",
    "  \n",
    "  \n",
    "if kor > mat > eng :\n",
    "  highestSub = kor\n",
    "  lowestSub = eng\n",
    "  highestSubName = \"국어\"\n",
    "  lowestSubName = \"영어\"\n",
    "  \n",
    "\n",
    "if mat > eng > kor:\n",
    "  highestSub = mat\n",
    "  lowestSub = kor\n",
    "  highestSubName = \"수학\"\n",
    "  lowestSubName = \"국어\"\n",
    "  \n",
    "if mat > kor > eng :\n",
    "  highestSub = mat\n",
    "  lowestSub = eng\n",
    "  highestSubName = \"수학\"\n",
    "  lowestSubName = \"영어\"\n",
    "\n",
    "if eng > mat > kor :\n",
    "  highestSub = eng\n",
    "  lowestSub = kor\n",
    "  highestSubName = \"영어\"\n",
    "  lowestSubName = \"국어\"\n",
    "\n",
    "if eng > kor > mat :\n",
    "  highestSub = eng\n",
    "  lowestSub = mat\n",
    "  highestSubName = \"영어\"\n",
    "  lowestSubName = \"수학\"\n",
    "\n",
    "  \n",
    "print('국어 점수 입력: {} \\n영어 점수 입력: {} \\n수학 점수 입력: {}'.format(kor, eng, mat))\n",
    "print('총점: %.0f \\n평균: %.2f '% (total, avg))\n",
    "print('-'*33)\n",
    "print(\"최고 점수 과목(점수): {}({}) \\n최저 점수 과목(점수): {}({}) \\n최고, 최저 점수 차이: {}\" .format(highestSubName, highestSub,lowestSubName, lowestSub, (highestSub - lowestSub)))\n",
    "print('-'*33)"
   ]
  },
  {
   "cell_type": "code",
   "execution_count": 49,
   "metadata": {},
   "outputs": [
    {
     "name": "stdout",
     "output_type": "stream",
     "text": [
      "40,015 초\n"
     ]
    }
   ],
   "source": [
    "# 50강\n",
    "\n",
    "hour = int(input('시간 입력 : '))\n",
    "min = int(input('분 입력 : '))\n",
    "sec = int(input('초 입력 : '))\n",
    "\n",
    "print('{} 초'.format(format(hour*3600 + min * 60 + sec, ',')))"
   ]
  },
  {
   "cell_type": "code",
   "execution_count": 57,
   "metadata": {},
   "outputs": [
    {
     "name": "stdout",
     "output_type": "stream",
     "text": [
      "---------------------------------\n",
      "이율: 4.5\n",
      "원금: 1,500,000\n",
      "9년 후 금액: 2,229,142원\n",
      "---------------------------------\n"
     ]
    }
   ],
   "source": [
    "money = int(input('금액 입력: '))\n",
    "rate = float(input('이율 입력: '))\n",
    "term = int(input('기간 입력: '))\n",
    "\n",
    "targetMoney = money\n",
    "\n",
    "for i in range(term):\n",
    "  targetMoney += (targetMoney * rate * 0.01) #이자\n",
    "\n",
    "targetMoneyInt = format(int(targetMoney), ',')  # 중요**\n",
    "\n",
    "print('-' * 33)\n",
    "print('이율: {}'.format(rate))\n",
    "print('원금: {}'.format(format(money, ',')))  \n",
    "print('{}년 후 금액: {}원'.format(term, targetMoneyInt))\n",
    "print('-'*33)  "
   ]
  },
  {
   "cell_type": "code",
   "execution_count": 64,
   "metadata": {},
   "outputs": [
    {
     "name": "stdout",
     "output_type": "stream",
     "text": [
      "지면 온도: 29도\n",
      "고도 135 m의 기온: 26.60\n",
      "기온차 : 2.40 \n"
     ]
    }
   ],
   "source": [
    "# 51강    -> 이 문제 잘 이해가 안됨\n",
    "\n",
    "baseTemp = 29\n",
    "step = 60\n",
    "stepTemp = 0.8\n",
    "height = int(input('고도 입력: '))\n",
    "targetTemp = baseTemp - ((height //  step) * 0.8) # 몫만 구해서 0.8을 곱해준다.\n",
    "\n",
    "if height % step != 0:\n",
    "  targetTemp -= stepTemp  # targetTemp = targetTemp - stepTemp\n",
    "  \n",
    "print('지면 온도: {}도' .format(baseTemp))\n",
    "print('고도 %d m의 기온: %.2f' % (height, targetTemp)) \n",
    "print('기온차 : %.2f '% (baseTemp - targetTemp))\n"
   ]
  },
  {
   "cell_type": "code",
   "execution_count": 65,
   "metadata": {},
   "outputs": [
    {
     "name": "stdout",
     "output_type": "stream",
     "text": [
      "학생 한 명이 갖게 되는 빵 개수: 11\n",
      "학생 한 명이 갖게 되는 우유 개수: 8\n",
      "남는 빵 개수: 10\n",
      "남는 우유 개수: 16\n"
     ]
    }
   ],
   "source": [
    "bread = 197\n",
    "milk = 152\n",
    "\n",
    "studentCnt = 17\n",
    "\n",
    "print('학생 한 명이 갖게 되는 빵 개수: {}'.format(bread // studentCnt))\n",
    "print('학생 한 명이 갖게 되는 우유 개수: {}'.format(milk // studentCnt))\n",
    "\n",
    "print('남는 빵 개수: {}'.format(bread % studentCnt))\n",
    "print('남는 우유 개수: {}'.format(milk % studentCnt))\n",
    "\n",
    "\n"
   ]
  },
  {
   "cell_type": "code",
   "execution_count": 81,
   "metadata": {},
   "outputs": [],
   "source": [
    "# 52강   엔드 넘버 입력 안하고 자동으로 구하려면 어려움\n",
    "age = int(input('나이를 입력하세요 : '))\n",
    "\n",
    "if age <= 19 or age >= 65:\n",
    "  endNum = (2023-age+1) \n",
    "  if endNum == 1 or endNum == 6:\n",
    "    print('월요일 접종 가능!!', endNum)\n",
    "  elif endNum == 2 or endNum == 7:\n",
    "    print('화요일 접종 가능!!', endNum)\n",
    "  elif endNum == 3 or endNum == 8:\n",
    "    print('수요일 접종 가능!!', endNum)\n",
    "  elif endNum == 4 or endNum == 9:\n",
    "    print('목요일 접종 가능!!', endNum)\n",
    "  elif endNum == 5 or endNum == 0:\n",
    "    print('금요일 접종 가능!!', endNum)        \n",
    "else:\n",
    "  print(\"하반기 일정을 확인하세요.\")"
   ]
  },
  {
   "cell_type": "code",
   "execution_count": 79,
   "metadata": {},
   "outputs": [
    {
     "name": "stdout",
     "output_type": "stream",
     "text": [
      "목요일 접종 가능!! 9\n"
     ]
    }
   ],
   "source": [
    "# 52강\n",
    "age = int(input('나이를 입력하세요 : '))\n",
    "\n",
    "if age <= 19 or age >= 65:\n",
    "  endNum = int(input('출생 연도 끝자리 입력하세요 : '))\n",
    "  if endNum == 1 or endNum == 6:\n",
    "    print('월요일 접종 가능!!', endNum)\n",
    "  elif endNum == 2 or endNum == 7:\n",
    "    print('화요일 접종 가능!!', endNum)\n",
    "  elif endNum == 3 or endNum == 8:\n",
    "    print('수요일 접종 가능!!', endNum)\n",
    "  elif endNum == 4 or endNum == 9:\n",
    "    print('목요일 접종 가능!!', endNum)\n",
    "  elif endNum == 5 or endNum == 0:\n",
    "    print('금요일 접종 가능!!', endNum)        \n",
    "else:\n",
    "  print(\"하반기 일정을 확인하세요.\")"
   ]
  },
  {
   "cell_type": "code",
   "execution_count": 85,
   "metadata": {},
   "outputs": [
    {
     "name": "stdout",
     "output_type": "stream",
     "text": [
      "52mm -> 2.028inch\n"
     ]
    }
   ],
   "source": [
    "btinch = 0.039\n",
    "lengthmm = int(input('길이 mm 을 입력하세요 : '))\n",
    "lengthInch = lengthmm * btinch \n",
    "\n",
    "print('{}mm -> {}inch' .format(lengthmm, lengthInch))"
   ]
  }
 ],
 "metadata": {
  "kernelspec": {
   "display_name": "Python 3",
   "language": "python",
   "name": "python3"
  },
  "language_info": {
   "codemirror_mode": {
    "name": "ipython",
    "version": 3
   },
   "file_extension": ".py",
   "mimetype": "text/x-python",
   "name": "python",
   "nbconvert_exporter": "python",
   "pygments_lexer": "ipython3",
   "version": "3.10.6"
  },
  "orig_nbformat": 4
 },
 "nbformat": 4,
 "nbformat_minor": 2
}
