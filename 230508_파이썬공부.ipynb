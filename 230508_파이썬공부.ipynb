{
 "cells": [
  {
   "cell_type": "code",
   "execution_count": 1,
   "metadata": {},
   "outputs": [
    {
     "ename": "NameError",
     "evalue": "name 'dict_swap' is not defined",
     "output_type": "error",
     "traceback": [
      "\u001b[1;31m---------------------------------------------------------------------------\u001b[0m",
      "\u001b[1;31mNameError\u001b[0m                                 Traceback (most recent call last)",
      "Cell \u001b[1;32mIn[1], line 16\u001b[0m\n\u001b[0;32m     13\u001b[0m     index_calling[index], index_calling[index\u001b[39m-\u001b[39m\u001b[39m1\u001b[39m] \u001b[39m=\u001b[39m index_calling[index\u001b[39m-\u001b[39m\u001b[39m1\u001b[39m], index_calling[index]\n\u001b[0;32m     14\u001b[0m     dict_swap[before], dict_swap[i] \u001b[39m=\u001b[39m dict_swap[i], dict_swap[before]\n\u001b[1;32m---> 16\u001b[0m a \u001b[39m=\u001b[39m \u001b[39mdict\u001b[39m(\u001b[39msorted\u001b[39m(dict_swap\u001b[39m.\u001b[39mitems(), key \u001b[39m=\u001b[39m \u001b[39mlambda\u001b[39;00m x: x[\u001b[39m1\u001b[39m]))\n\u001b[0;32m     18\u001b[0m \u001b[39mreturn\u001b[39;00m \u001b[39mlist\u001b[39m(a\u001b[39m.\u001b[39mkeys())\n",
      "\u001b[1;31mNameError\u001b[0m: name 'dict_swap' is not defined"
     ]
    }
   ],
   "source": [
    "# 프로그래머스 1번\n",
    "\n",
    "def solution(players, callings):\n",
    "  index_calling = dict(index for index in enumerate(players))\n",
    "  dict_swap = {v:k for k, v in index_calling.items()}\n",
    "  \n",
    "  for i in callings:\n",
    "    index = dict_swap[i]\n",
    "    num = index-1\n",
    "    before = index_calling[num]\n",
    "    \n",
    "  \n",
    "    index_calling[index], index_calling[index-1] = index_calling[index-1], index_calling[index]\n",
    "    dict_swap[before], dict_swap[i] = dict_swap[i], dict_swap[before]\n",
    "    \n",
    "a = dict(sorted(dict_swap.items(), key = lambda x: x[1]))\n",
    "\n",
    "return list(a.keys())"
   ]
  },
  {
   "cell_type": "code",
   "execution_count": null,
   "metadata": {},
   "outputs": [],
   "source": [
    "def solution(players, callings):\n",
    "  answer = []\n",
    "  \n",
    "  p_dic = {player: i+1 for i, player in enumerate(players)}\n",
    "  \n",
    "  "
   ]
  },
  {
   "cell_type": "code",
   "execution_count": 2,
   "metadata": {},
   "outputs": [
    {
     "name": "stdout",
     "output_type": "stream",
     "text": [
      "{'a': 0, 's': 1, 'd': 2, 'f': 3, 'g': 4, 'h': 5, 'j': 6}\n"
     ]
    }
   ],
   "source": [
    "players = ['a', 's', 'd', 'f', 'g', 'h', 'j']\n",
    "\n",
    "p_idx_dict = {player: i for i, player in enumerate(players)}\n",
    "\n",
    "print(p_idx_dict)"
   ]
  },
  {
   "cell_type": "code",
   "execution_count": 3,
   "metadata": {},
   "outputs": [
    {
     "name": "stdout",
     "output_type": "stream",
     "text": [
      "{0: 'a', 1: 's', 2: 'd', 3: 'f', 4: 'g', 5: 'h', 6: 'j'}\n"
     ]
    }
   ],
   "source": [
    "players = ['a', 's', 'd', 'f', 'g', 'h', 'j']\n",
    "\n",
    "idx_p_dict = {i: player for i, player in enumerate(players)}\n",
    "\n",
    "\n",
    "print(idx_p_dict)"
   ]
  },
  {
   "cell_type": "code",
   "execution_count": 5,
   "metadata": {},
   "outputs": [],
   "source": [
    "def solution(players, callings):\n",
    "  p_idx_dict = {player: i for i, player in enumerate(players)}\n",
    "  # 선수: 위치\n",
    "  \n",
    "  idx_p_dict = {i : player for i, player in enumerate(players)}\n",
    "  # 위치: 선수\n",
    "  \n",
    "  \n",
    "  for call in callings:\n",
    "    cur_idx = p_idx_dict[call]\n",
    "    pre_idx = cur_idx -1\n",
    "    cur_player = call\n",
    "    pre_player = idx_p_dict[pre_idx]\n",
    "    \n",
    "    p_idx_dict[cur_player] = pre_idx\n",
    "    p_idx_dict[pre_player] = cur_idx\n",
    "    \n",
    "    idx_p_dict[pre_idx] = cur_player\n",
    "    idx_p_dict[cur_idx] = pre_player\n",
    "    \n",
    "  return list(idx_p_dict.values())"
   ]
  }
 ],
 "metadata": {
  "kernelspec": {
   "display_name": "Python 3",
   "language": "python",
   "name": "python3"
  },
  "language_info": {
   "codemirror_mode": {
    "name": "ipython",
    "version": 3
   },
   "file_extension": ".py",
   "mimetype": "text/x-python",
   "name": "python",
   "nbconvert_exporter": "python",
   "pygments_lexer": "ipython3",
   "version": "3.10.6"
  },
  "orig_nbformat": 4
 },
 "nbformat": 4,
 "nbformat_minor": 2
}
