{
 "cells": [
  {
   "cell_type": "code",
   "execution_count": 1,
   "metadata": {},
   "outputs": [
    {
     "name": "stdout",
     "output_type": "stream",
     "text": [
      "Hello, world\n"
     ]
    }
   ],
   "source": [
    "# 29.1.3 소스 파일에서 함수를 만들고 호출하기 \n",
    "\n",
    "#1 파이썬 스크립트 최초 실행\n",
    "def hello():   # 3 hello 함수 실행\n",
    "  print('Hello, world')   #4  print 함수 실행 및 'Hello, world!' 출력\n",
    "  #5 hello 함수 종료\n",
    "hello()  #2 hello 함수 호출\n",
    "\n",
    "#6 파이썬 스크립트 종료"
   ]
  },
  {
   "attachments": {},
   "cell_type": "markdown",
   "metadata": {},
   "source": [
    "29.1.4 함수의 실행 순서\n",
    "\n",
    "1. 파이썬 스크립트 최초 실행\n",
    "2. hello 함수 호출\n",
    "3. hello 함수 실행\n",
    "4. print 함수 실행 및 'Hello, world!' 출력\n",
    "5. hello 함수 종료\n",
    "6. 파이썬 스크립트 종료\n",
    "\n"
   ]
  },
  {
   "cell_type": "code",
   "execution_count": 3,
   "metadata": {},
   "outputs": [
    {
     "name": "stdout",
     "output_type": "stream",
     "text": [
      "70\n"
     ]
    }
   ],
   "source": [
    "# 29.2 덧셈 함수 만들기 \n",
    "\n",
    "# def 함수이름(매개변수 1, 매개변수 2):  # 매개 변수는 parameter라고 부른다\n",
    "#     코드\n",
    "\n",
    "#예시\n",
    "\n",
    "def add(a, b):\n",
    "    print(a+b)\n",
    "\n",
    "add(30, 40)    # 함수 'add'에 넣은 값(30과 40)을 인자라고 부른다. \n",
    "\n"
   ]
  },
  {
   "cell_type": "code",
   "execution_count": 8,
   "metadata": {},
   "outputs": [
    {
     "name": "stdout",
     "output_type": "stream",
     "text": [
      "이 함수는 인자 두 개를 더한 값을 결과로 반환하는 함수입니다. \n",
      "Help on function add in module __main__:\n",
      "\n",
      "add(a, b)\n",
      "    이 함수는 인자 두 개를 더한 값을 결과로 반환하는 함수입니다.\n",
      "\n"
     ]
    }
   ],
   "source": [
    "# 함수 독스트링 활용하기\n",
    "\n",
    "def add(a, b):\n",
    "    \"\"\"이 함수는 인자 두 개를 더한 값을 결과로 반환하는 함수입니다. \"\"\"\n",
    "    print(a+b)\n",
    "\n",
    "print(add.__doc__)   # 함수의 독스트링 출력\n",
    "\n",
    "help(add)  # 독스트링 출력"
   ]
  },
  {
   "cell_type": "code",
   "execution_count": 12,
   "metadata": {},
   "outputs": [
    {
     "data": {
      "text/plain": [
       "8"
      ]
     },
     "execution_count": 12,
     "metadata": {},
     "output_type": "execute_result"
    }
   ],
   "source": [
    "# 29.3 함수의 결과를 반환하기 \n",
    "\n",
    "# 함수 바깥으로 반환하기 위해서는 return을 사용해야 한다.\n",
    "# 이를 사용하지 않는다면, 함수의 반환 값은 none 이 된다. \n",
    "\n",
    "def add(a, b):\n",
    "    return a+b\n",
    "\n",
    "\n",
    "add(3, 5)"
   ]
  },
  {
   "attachments": {},
   "cell_type": "markdown",
   "metadata": {},
   "source": [
    "# return은 함수를 빠져나오게 하는 기능으로도 활용될 수 있음"
   ]
  },
  {
   "cell_type": "code",
   "execution_count": 24,
   "metadata": {},
   "outputs": [
    {
     "data": {
      "text/plain": [
       "(12, -8, 0.2)"
      ]
     },
     "execution_count": 24,
     "metadata": {},
     "output_type": "execute_result"
    }
   ],
   "source": [
    "# 29.4 함수에서 값을 여러개 반환하기 \n",
    "\n",
    "# 함수의 결과를 변수에 저장할 때 값을 한 개만 저장하는 것이 아니라, 여러 개 반환할 수도 있다. \n",
    "\n",
    "# def 함수 이름(매개변수):\n",
    "#     return 반환값1, 반환값2 \n",
    "\n",
    "# 이런식으로.\n",
    "\n",
    "def add_sub(a, b):\n",
    "    return a+b, a-b, a / b\n",
    "\n",
    "x = add_sub(2, 10)\n",
    "\n",
    "x  # 이렇게 함수 add_sub의 결과를 변수 한 개에 저장해서 출력해보면 튜플이 반환된다. "
   ]
  },
  {
   "attachments": {},
   "cell_type": "markdown",
   "metadata": {},
   "source": [
    "함수에서 값을 여러 개 반환할 때 다음과 같이 return에 튜플을 지정해준다. \n",
    "\n",
    "def one_two():\n",
    "    return 1, 2\n",
    "\n",
    "이렇게 하면 자동으로 튜플이 반환됨.\n",
    "\n"
   ]
  },
  {
   "attachments": {},
   "cell_type": "markdown",
   "metadata": {},
   "source": [
    "29.5 함수의 호출 과정 알아보기\n",
    "\n",
    "* 함수를 여러 개 만들고 각 함수의 호출 과정을 스택 다이어그램으로 알아보자.\n",
    "\n",
    "* stack = 접시 쌓기"
   ]
  },
  {
   "cell_type": "code",
   "execution_count": 30,
   "metadata": {},
   "outputs": [
    {
     "name": "stdout",
     "output_type": "stream",
     "text": [
      "30\n",
      "200\n"
     ]
    }
   ],
   "source": [
    "def mul(a, b):\n",
    "    c = a * b\n",
    "    return c\n",
    "\n",
    "def add(a, b):\n",
    "    c = a + b\n",
    "    print(c)\n",
    "    d = mul (a, b)\n",
    "    print(d)\n",
    "\n",
    "x = 10\n",
    "y = 20 \n",
    "\n",
    "add(x, y)"
   ]
  },
  {
   "cell_type": "code",
   "execution_count": 31,
   "metadata": {},
   "outputs": [
    {
     "name": "stdout",
     "output_type": "stream",
     "text": [
      "몫: 3, 나머지: 1\n"
     ]
    }
   ],
   "source": [
    "# 29.7 연습문제\n",
    "\n",
    "x = 10\n",
    "y = 3\n",
    "\n",
    "def get_quotient_remainder(x, y):\n",
    "    \n",
    "    return x // y, x % y\n",
    "\n",
    "quotient, remainder = get_quotient_remainder(x, y)\n",
    "print('몫: {0}, 나머지: {1}' .format(quotient, remainder))"
   ]
  },
  {
   "cell_type": "code",
   "execution_count": 34,
   "metadata": {},
   "outputs": [
    {
     "name": "stdout",
     "output_type": "stream",
     "text": [
      "덧셈: 48, 뺄셈: 32, 곱셈: 320, 나눗셈: 5.0\n"
     ]
    }
   ],
   "source": [
    "# 29.8 심사문제: 사칙 연산 함수 만들기\n",
    "\n",
    "x, y = map(int, input().split())\n",
    "\n",
    "def calc(x, y):\n",
    "    return x + y, x - y, x * y, x / y\n",
    "\n",
    "a, s, m, d = calc(x, y)\n",
    "print('덧셈: {0}, 뺄셈: {1}, 곱셈: {2}, 나눗셈: {3}' .format(a, s, m, d))\n"
   ]
  }
 ],
 "metadata": {
  "kernelspec": {
   "display_name": "Python 3",
   "language": "python",
   "name": "python3"
  },
  "language_info": {
   "codemirror_mode": {
    "name": "ipython",
    "version": 3
   },
   "file_extension": ".py",
   "mimetype": "text/x-python",
   "name": "python",
   "nbconvert_exporter": "python",
   "pygments_lexer": "ipython3",
   "version": "3.10.6"
  },
  "orig_nbformat": 4,
  "vscode": {
   "interpreter": {
    "hash": "52634da84371cba311ea128a5ea7cdc41ff074b781779e754b270ff9f8153cee"
   }
  }
 },
 "nbformat": 4,
 "nbformat_minor": 2
}
