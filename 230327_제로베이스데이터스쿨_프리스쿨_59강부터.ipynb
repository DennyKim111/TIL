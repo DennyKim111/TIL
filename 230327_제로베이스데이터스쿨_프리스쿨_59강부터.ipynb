{
 "cells": [
  {
   "cell_type": "code",
   "execution_count": 4,
   "metadata": {},
   "outputs": [
    {
     "name": "stdout",
     "output_type": "stream",
     "text": [
      "[1]: 홀수\n",
      "[2]: 짝수\n",
      "[3]: 홀수\n",
      "[4]: 짝수\n",
      "[5]: 홀수\n",
      "[6]: 짝수\n",
      "[7]: 홀수\n",
      "[8]: 짝수\n",
      "[9]: 홀수\n",
      "[10] 십의 자리 : 홀수, 일의 자리 0\n",
      "[11] 십의 자리 : 홀수, 일의 자리 홀수\n",
      "[12] 십의 자리 : 홀수, 일의 자리 홀수\n",
      "[13] 십의 자리 : 홀수, 일의 자리 홀수\n",
      "[14] 십의 자리 : 홀수, 일의 자리 홀수\n",
      "[15] 십의 자리 : 홀수, 일의 자리 홀수\n",
      "[16] 십의 자리 : 홀수, 일의 자리 홀수\n",
      "[17] 십의 자리 : 홀수, 일의 자리 홀수\n",
      "[18] 십의 자리 : 홀수, 일의 자리 홀수\n",
      "[19] 십의 자리 : 홀수, 일의 자리 홀수\n",
      "[20] 십의 자리 : 홀수, 일의 자리 0\n",
      "[21] 십의 자리 : 홀수, 일의 자리 홀수\n",
      "[22] 십의 자리 : 홀수, 일의 자리 홀수\n",
      "[23] 십의 자리 : 홀수, 일의 자리 홀수\n",
      "[24] 십의 자리 : 홀수, 일의 자리 홀수\n",
      "[25] 십의 자리 : 홀수, 일의 자리 홀수\n",
      "[26] 십의 자리 : 홀수, 일의 자리 홀수\n",
      "[27] 십의 자리 : 홀수, 일의 자리 홀수\n",
      "[28] 십의 자리 : 홀수, 일의 자리 홀수\n",
      "[29] 십의 자리 : 홀수, 일의 자리 홀수\n",
      "[30] 십의 자리 : 홀수, 일의 자리 0\n",
      "[31] 십의 자리 : 홀수, 일의 자리 홀수\n",
      "[32] 십의 자리 : 홀수, 일의 자리 홀수\n",
      "[33] 십의 자리 : 홀수, 일의 자리 홀수\n",
      "[34] 십의 자리 : 홀수, 일의 자리 홀수\n",
      "[35] 십의 자리 : 홀수, 일의 자리 홀수\n",
      "[36] 십의 자리 : 홀수, 일의 자리 홀수\n",
      "[37] 십의 자리 : 홀수, 일의 자리 홀수\n",
      "[38] 십의 자리 : 홀수, 일의 자리 홀수\n",
      "[39] 십의 자리 : 홀수, 일의 자리 홀수\n",
      "[40] 십의 자리 : 홀수, 일의 자리 0\n",
      "[41] 십의 자리 : 홀수, 일의 자리 홀수\n",
      "[42] 십의 자리 : 홀수, 일의 자리 홀수\n",
      "[43] 십의 자리 : 홀수, 일의 자리 홀수\n",
      "[44] 십의 자리 : 홀수, 일의 자리 홀수\n",
      "[45] 십의 자리 : 홀수, 일의 자리 홀수\n",
      "[46] 십의 자리 : 홀수, 일의 자리 홀수\n",
      "[47] 십의 자리 : 홀수, 일의 자리 홀수\n",
      "[48] 십의 자리 : 홀수, 일의 자리 홀수\n",
      "[49] 십의 자리 : 홀수, 일의 자리 홀수\n",
      "[50] 십의 자리 : 홀수, 일의 자리 0\n",
      "[51] 십의 자리 : 홀수, 일의 자리 홀수\n",
      "[52] 십의 자리 : 홀수, 일의 자리 홀수\n",
      "[53] 십의 자리 : 홀수, 일의 자리 홀수\n",
      "[54] 십의 자리 : 홀수, 일의 자리 홀수\n",
      "[55] 십의 자리 : 홀수, 일의 자리 홀수\n",
      "[56] 십의 자리 : 홀수, 일의 자리 홀수\n",
      "[57] 십의 자리 : 홀수, 일의 자리 홀수\n",
      "[58] 십의 자리 : 홀수, 일의 자리 홀수\n",
      "[59] 십의 자리 : 홀수, 일의 자리 홀수\n",
      "[60] 십의 자리 : 홀수, 일의 자리 0\n",
      "[61] 십의 자리 : 홀수, 일의 자리 홀수\n",
      "[62] 십의 자리 : 홀수, 일의 자리 홀수\n",
      "[63] 십의 자리 : 홀수, 일의 자리 홀수\n",
      "[64] 십의 자리 : 홀수, 일의 자리 홀수\n",
      "[65] 십의 자리 : 홀수, 일의 자리 홀수\n",
      "[66] 십의 자리 : 홀수, 일의 자리 홀수\n",
      "[67] 십의 자리 : 홀수, 일의 자리 홀수\n",
      "[68] 십의 자리 : 홀수, 일의 자리 홀수\n",
      "[69] 십의 자리 : 홀수, 일의 자리 홀수\n",
      "[70] 십의 자리 : 홀수, 일의 자리 0\n",
      "[71] 십의 자리 : 홀수, 일의 자리 홀수\n",
      "[72] 십의 자리 : 홀수, 일의 자리 홀수\n",
      "[73] 십의 자리 : 홀수, 일의 자리 홀수\n",
      "[74] 십의 자리 : 홀수, 일의 자리 홀수\n",
      "[75] 십의 자리 : 홀수, 일의 자리 홀수\n",
      "[76] 십의 자리 : 홀수, 일의 자리 홀수\n",
      "[77] 십의 자리 : 홀수, 일의 자리 홀수\n",
      "[78] 십의 자리 : 홀수, 일의 자리 홀수\n",
      "[79] 십의 자리 : 홀수, 일의 자리 홀수\n",
      "[80] 십의 자리 : 홀수, 일의 자리 0\n",
      "[81] 십의 자리 : 홀수, 일의 자리 홀수\n",
      "[82] 십의 자리 : 홀수, 일의 자리 홀수\n",
      "[83] 십의 자리 : 홀수, 일의 자리 홀수\n",
      "[84] 십의 자리 : 홀수, 일의 자리 홀수\n",
      "[85] 십의 자리 : 홀수, 일의 자리 홀수\n",
      "[86] 십의 자리 : 홀수, 일의 자리 홀수\n",
      "[87] 십의 자리 : 홀수, 일의 자리 홀수\n",
      "[88] 십의 자리 : 홀수, 일의 자리 홀수\n",
      "[89] 십의 자리 : 홀수, 일의 자리 홀수\n",
      "[90] 십의 자리 : 홀수, 일의 자리 0\n",
      "[91] 십의 자리 : 홀수, 일의 자리 홀수\n",
      "[92] 십의 자리 : 홀수, 일의 자리 홀수\n",
      "[93] 십의 자리 : 홀수, 일의 자리 홀수\n",
      "[94] 십의 자리 : 홀수, 일의 자리 홀수\n",
      "[95] 십의 자리 : 홀수, 일의 자리 홀수\n",
      "[96] 십의 자리 : 홀수, 일의 자리 홀수\n",
      "[97] 십의 자리 : 홀수, 일의 자리 홀수\n",
      "[98] 십의 자리 : 홀수, 일의 자리 홀수\n",
      "[99] 십의 자리 : 홀수, 일의 자리 홀수\n",
      "[100] 십의 자리 : 홀수, 일의 자리 0\n"
     ]
    }
   ],
   "source": [
    "for i in range(1, 101):\n",
    "  if i <= 9:\n",
    "    if i % 2 ==0:\n",
    "      print('[{}]: 짝수' .format(i))\n",
    "    if i % 2 !=0:\n",
    "      print('[{}]: 홀수' .format(i))\n",
    "  else:\n",
    "    num10 = i // 10\n",
    "    num1 = i % 10\n",
    "    \n",
    "    result10 = ''\n",
    "    if num10 / 2 ==0:\n",
    "      result10 = '짝수'\n",
    "    else:\n",
    "      result10 = '홀수'\n",
    "    \n",
    "    result1 = '0'\n",
    "    if num1 != 0:\n",
    "      if num1 / 2 ==0:\n",
    "        result1 = '짝수'\n",
    "      else:\n",
    "        result1 = '홀수'\n",
    "\n",
    "    \n",
    "      \n",
    "\n",
    "    print('[{}] 십의 자리 : {}, 일의 자리 {}' .format(i, result10, result1))\n",
    "      \n",
    "      "
   ]
  },
  {
   "cell_type": "code",
   "execution_count": 7,
   "metadata": {},
   "outputs": [
    {
     "name": "stdout",
     "output_type": "stream",
     "text": [
      "합 결과 : 1,540\n"
     ]
    }
   ],
   "source": [
    "# 60 \n",
    "fNum = int(input('정수 입력: '))\n",
    "\n",
    "addSum = 0\n",
    "for i in range(1, fNum + 1):\n",
    "  addSum += i \n",
    "print('합 결과 : {0:,}' .format(addSum))\n"
   ]
  },
  {
   "cell_type": "code",
   "execution_count": 14,
   "metadata": {},
   "outputs": [
    {
     "name": "stdout",
     "output_type": "stream",
     "text": [
      "합 결과 : 120\n",
      "홀수 합 결과 : 64\n",
      "짝수 합 결과 : 56\n",
      "팩토리얼 결과 : 1,307,674,368,000\n"
     ]
    }
   ],
   "source": [
    "fNum = int(input('정수 입력: '))\n",
    "\n",
    "addSum = 0\n",
    "for i in range(1, fNum + 1):\n",
    "  addSum += i \n",
    "  addSumFormated = format(addSum, ',')\n",
    "print('합 결과 : {}' .format(addSumFormated))\n",
    "\n",
    "oddSum = 0\n",
    "for i in range(1, fNum + 1):\n",
    "  if i % 2 != 0:\n",
    "    oddSum += i\n",
    "oddSumFormated = format(oddSum, ',')\n",
    "print('홀수 합 결과 : {}' .format(oddSumFormated))\n",
    "\n",
    "evenSum = 0\n",
    "for i in range(1, fNum + 1):\n",
    "  if i % 2 == 0:\n",
    "    evenSum += i\n",
    "evenSumFormated = format(evenSum, ',')\n",
    "print('짝수 합 결과 : {}' .format(evenSumFormated))\n",
    "\n",
    "factorialresult = 1\n",
    "for i in range(1, fNum + 1):\n",
    "  factorialresult *= i\n",
    "factorialresultformated = format(factorialresult, ',')\n",
    "print('팩토리얼 결과 : {}' .format(factorialresultformated))"
   ]
  },
  {
   "cell_type": "code",
   "execution_count": 16,
   "metadata": {},
   "outputs": [
    {
     "name": "stdout",
     "output_type": "stream",
     "text": [
      "*\n",
      "**\n",
      "***\n",
      "****\n",
      "*****\n"
     ]
    }
   ],
   "source": [
    "for i in range(1, 6):\n",
    "  for j in range(i):\n",
    "    print('*', end='')\n",
    "  print()"
   ]
  },
  {
   "cell_type": "code",
   "execution_count": 18,
   "metadata": {},
   "outputs": [
    {
     "name": "stdout",
     "output_type": "stream",
     "text": [
      "    *\n",
      "   **\n",
      "  ***\n",
      " ****\n",
      "*****\n"
     ]
    }
   ],
   "source": [
    "for i1 in range(1, 6):\n",
    "  for i2 in range(6 - i1 -1):\n",
    "    print(' ', end='')\n",
    "  for i3 in range(i1):\n",
    "    print('*', end='')\n",
    "  print()"
   ]
  },
  {
   "cell_type": "code",
   "execution_count": 19,
   "metadata": {},
   "outputs": [
    {
     "name": "stdout",
     "output_type": "stream",
     "text": [
      "*****\n",
      "****\n",
      "***\n",
      "**\n",
      "*\n"
     ]
    }
   ],
   "source": [
    "for i in range(5, 0, -1):\n",
    "  for j in range(i):\n",
    "    print('*', end='')\n",
    "  print()"
   ]
  },
  {
   "cell_type": "code",
   "execution_count": 21,
   "metadata": {},
   "outputs": [
    {
     "name": "stdout",
     "output_type": "stream",
     "text": [
      "*****\n",
      " ****\n",
      "  ***\n",
      "   **\n",
      "    *\n"
     ]
    }
   ],
   "source": [
    "for i in range(5, 0, -1):\n",
    "  for j in range(5 -i):\n",
    "    print(' ', end='')\n",
    "  for j in range(i):\n",
    "    print('*', end='')\n",
    "  print()"
   ]
  },
  {
   "cell_type": "code",
   "execution_count": 23,
   "metadata": {},
   "outputs": [
    {
     "name": "stdout",
     "output_type": "stream",
     "text": [
      "*\n",
      "**\n",
      "***\n",
      "****\n",
      "*****\n",
      "****\n",
      "***\n",
      "**\n",
      "*\n"
     ]
    }
   ],
   "source": [
    "for i in range(1, 10):\n",
    "  if i < 5:\n",
    "    for j in range(i):\n",
    "      print('*', end='')\n",
    "  else:\n",
    "    for j in range(10-i):\n",
    "      print('*', end='')\n",
    "  print()"
   ]
  },
  {
   "cell_type": "code",
   "execution_count": 25,
   "metadata": {},
   "outputs": [
    {
     "name": "stdout",
     "output_type": "stream",
     "text": [
      "*    \n",
      " *   \n",
      "  *  \n",
      "   * \n",
      "    *\n"
     ]
    }
   ],
   "source": [
    "for i in range(1, 6):\n",
    "  for j in range(1, 6):\n",
    "    if j == i:\n",
    "      print('*', end='')\n",
    "    else:\n",
    "      print(' ', end='')\n",
    "  print()"
   ]
  },
  {
   "cell_type": "code",
   "execution_count": 29,
   "metadata": {},
   "outputs": [
    {
     "name": "stdout",
     "output_type": "stream",
     "text": [
      "버스a와 버스b 동시 정차!\t6:0\n",
      "버스b와 버스c 동시 정차!\t7:44\n",
      "버스a와 버스c 동시 정차!\t8:0\n",
      "버스a와 버스b 동시 정차!\t9:15\n",
      "버스b와 버스c 동시 정차!\t9:28\n",
      "버스a와 버스c 동시 정차!\t10:0\n",
      "버스b와 버스c 동시 정차!\t11:12\n",
      "버스a와 버스c 동시 정차!\t12:0\n",
      "버스a와 버스b 동시 정차!\t12:30\n",
      "버스b와 버스c 동시 정차!\t12:56\n",
      "버스a와 버스c 동시 정차!\t14:0\n",
      "버스b와 버스c 동시 정차!\t14:40\n",
      "버스a와 버스b 동시 정차!\t15:45\n",
      "버스a와 버스c 동시 정차!\t16:0\n",
      "버스b와 버스c 동시 정차!\t16:24\n",
      "버스a와 버스c 동시 정차!\t18:0\n",
      "버스b와 버스c 동시 정차!\t18:8\n",
      "버스a와 버스b 동시 정차!\t19:0\n",
      "버스b와 버스c 동시 정차!\t19:52\n",
      "버스a와 버스c 동시 정차!\t20:0\n",
      "버스b와 버스c 동시 정차!\t21:36\n",
      "버스a와 버스c 동시 정차!\t22:0\n",
      "버스a와 버스b 동시 정차!\t22:15\n"
     ]
    }
   ],
   "source": [
    "# 62강 02-059\n",
    "\n",
    "busA = 15\n",
    "busB = 13\n",
    "busC = 8\n",
    "\n",
    "totalMin = 60 * 17\n",
    "for i in range(totalMin + 1):\n",
    "  if i < 20 or i > (totalMin - 60):\n",
    "    if i % busA ==0 and i % busB == 0:\n",
    "      print('버스a와 버스b 동시 정차!', end='')\n",
    "      hour = 6 + i // 60\n",
    "      min = i % 60\n",
    "      print('\\t{}:{}'.format(hour, min))\n",
    "  \n",
    "  else:\n",
    "    if i % busA == 0 and i % busB ==0:\n",
    "      print('버스a와 버스b 동시 정차!', end ='')\n",
    "      hour = 6 + i // 60\n",
    "      min = i % 60\n",
    "      print('\\t{}:{}'.format(hour, min))\n",
    "    elif i % busA == 0 and i % busC == 0:\n",
    "      print('버스a와 버스c 동시 정차!', end = '')\n",
    "      hour = 6 + i // 60\n",
    "      min = i % 60\n",
    "      print('\\t{}:{}'.format(hour, min))\n",
    "    elif i % busB == 0 and i % busC == 0:\n",
    "      print('버스b와 버스c 동시 정차!', end = '')\n",
    "      hour = 6 + i // 60\n",
    "      min = i % 60\n",
    "      print('\\t{}:{}'.format(hour, min))"
   ]
  },
  {
   "cell_type": "code",
   "execution_count": 32,
   "metadata": {},
   "outputs": [
    {
     "name": "stdout",
     "output_type": "stream",
     "text": [
      "최초 만나는 톱니수(최소공배수): 72톱니\n",
      "gearA 회전수: 9.0회전\n",
      "gearB 회전수: 4.0회전\n"
     ]
    }
   ],
   "source": [
    "#63 톱니바퀴\n",
    "\n",
    "gearATCnt = int(input('GearA 톱니수 입력: '))\n",
    "gearBTCnt = int(input('GearB 톱니수 입력: '))\n",
    "\n",
    "gearA = 0\n",
    "gearB = 0\n",
    "\n",
    "leastNum = 0\n",
    "\n",
    "flag = True\n",
    "while flag:\n",
    "  if gearA != 0:\n",
    "    if gearA != leastNum:\n",
    "      gearA += gearATCnt\n",
    "    else:\n",
    "      flag = False\n",
    "  else:\n",
    "    gearA += gearATCnt\n",
    "  if gearB != 0 and gearB % gearATCnt ==0 :\n",
    "    leastNum = gearB\n",
    "  else:\n",
    "    gearB += gearBTCnt\n",
    "    \n",
    "print('최초 만나는 톱니수(최소공배수): {}톱니'.format(leastNum))\n",
    "print('gearA 회전수: {}회전'.format(leastNum / gearATCnt))\n",
    "print('gearB 회전수: {}회전'.format(leastNum / gearBTCnt))\n"
   ]
  },
  {
   "cell_type": "code",
   "execution_count": 34,
   "metadata": {},
   "outputs": [
    {
     "name": "stdout",
     "output_type": "stream",
     "text": [
      "2100년: 평년\n",
      "2100년: 평년\n",
      "2101년: 평년\n",
      "2102년: 평년\n",
      "2103년: 평년\n",
      "2104년: 윤년!!\n",
      "2105년: 평년\n",
      "2106년: 평년\n",
      "2107년: 평년\n",
      "2108년: 윤년!!\n",
      "2109년: 평년\n",
      "2110년: 평년\n",
      "2111년: 평년\n",
      "2112년: 윤년!!\n",
      "2113년: 평년\n",
      "2114년: 평년\n",
      "2115년: 평년\n",
      "2116년: 윤년!!\n",
      "2117년: 평년\n",
      "2118년: 평년\n",
      "2119년: 평년\n",
      "2120년: 윤년!!\n",
      "2121년: 평년\n",
      "2122년: 평년\n",
      "2123년: 평년\n",
      "2124년: 윤년!!\n",
      "2125년: 평년\n",
      "2126년: 평년\n",
      "2127년: 평년\n",
      "2128년: 윤년!!\n",
      "2129년: 평년\n",
      "2130년: 평년\n",
      "2131년: 평년\n",
      "2132년: 윤년!!\n",
      "2133년: 평년\n",
      "2134년: 평년\n",
      "2135년: 평년\n",
      "2136년: 윤년!!\n",
      "2137년: 평년\n",
      "2138년: 평년\n",
      "2139년: 평년\n",
      "2140년: 윤년!!\n",
      "2141년: 평년\n",
      "2142년: 평년\n",
      "2143년: 평년\n",
      "2144년: 윤년!!\n",
      "2145년: 평년\n",
      "2146년: 평년\n",
      "2147년: 평년\n",
      "2148년: 윤년!!\n",
      "2149년: 평년\n",
      "2150년: 평년\n",
      "2151년: 평년\n",
      "2152년: 윤년!!\n",
      "2153년: 평년\n",
      "2154년: 평년\n",
      "2155년: 평년\n",
      "2156년: 윤년!!\n",
      "2157년: 평년\n",
      "2158년: 평년\n",
      "2159년: 평년\n",
      "2160년: 윤년!!\n",
      "2161년: 평년\n",
      "2162년: 평년\n",
      "2163년: 평년\n",
      "2164년: 윤년!!\n",
      "2165년: 평년\n",
      "2166년: 평년\n",
      "2167년: 평년\n",
      "2168년: 윤년!!\n",
      "2169년: 평년\n",
      "2170년: 평년\n",
      "2171년: 평년\n",
      "2172년: 윤년!!\n",
      "2173년: 평년\n",
      "2174년: 평년\n",
      "2175년: 평년\n",
      "2176년: 윤년!!\n",
      "2177년: 평년\n",
      "2178년: 평년\n",
      "2179년: 평년\n",
      "2180년: 윤년!!\n",
      "2181년: 평년\n",
      "2182년: 평년\n",
      "2183년: 평년\n",
      "2184년: 윤년!!\n",
      "2185년: 평년\n",
      "2186년: 평년\n",
      "2187년: 평년\n",
      "2188년: 윤년!!\n",
      "2189년: 평년\n",
      "2190년: 평년\n",
      "2191년: 평년\n",
      "2192년: 윤년!!\n",
      "2193년: 평년\n",
      "2194년: 평년\n",
      "2195년: 평년\n",
      "2196년: 윤년!!\n",
      "2197년: 평년\n",
      "2198년: 평년\n",
      "2199년: 평년\n",
      "2200년: 평년\n"
     ]
    }
   ],
   "source": [
    "# 64\n",
    "\n",
    "year = int(input('연도 입력: '))\n",
    "\n",
    "if (year % 4 == 0 and year % 100 != 0) or (year % 400 == 0):\n",
    "  print('{}년: 윤년!!'.format(year))\n",
    "else:\n",
    "  print('{}년: 평년'.format(year))\n",
    "  \n",
    "for year in range(year, year+101):\n",
    "  if (year % 4 == 0 and year % 100 != 0) or (year % 400 == 0):\n",
    "    print('{}년: 윤년!!'.format(year))\n",
    "  else:\n",
    "    print('{}년: 평년'.format(year))\n",
    "\n"
   ]
  },
  {
   "cell_type": "code",
   "execution_count": null,
   "metadata": {},
   "outputs": [],
   "source": []
  },
  {
   "cell_type": "code",
   "execution_count": null,
   "metadata": {},
   "outputs": [],
   "source": []
  },
  {
   "cell_type": "code",
   "execution_count": null,
   "metadata": {},
   "outputs": [],
   "source": []
  }
 ],
 "metadata": {
  "kernelspec": {
   "display_name": "Python 3",
   "language": "python",
   "name": "python3"
  },
  "language_info": {
   "codemirror_mode": {
    "name": "ipython",
    "version": 3
   },
   "file_extension": ".py",
   "mimetype": "text/x-python",
   "name": "python",
   "nbconvert_exporter": "python",
   "pygments_lexer": "ipython3",
   "version": "3.10.6"
  },
  "orig_nbformat": 4
 },
 "nbformat": 4,
 "nbformat_minor": 2
}
