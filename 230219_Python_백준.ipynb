{
 "cells": [
  {
   "cell_type": "code",
   "execution_count": null,
   "id": "67302f8b",
   "metadata": {},
   "outputs": [],
   "source": [
    "# 백준 9498번\n",
    "\n",
    "A, B = map(int, input().split(' '))\n",
    "\n",
    "if A > B :\n",
    "    print('>')\n",
    "\n",
    "if A < B :\n",
    "    print('<')\n",
    "\n",
    "if A == B:\n",
    "    print('==')\n"
   ]
  },
  {
   "cell_type": "code",
   "execution_count": null,
   "id": "22e34705",
   "metadata": {},
   "outputs": [],
   "source": [
    "# 백준 2753번\n",
    "\n",
    "y = int(input())\n",
    "\n",
    "if y % 4 == 0 and y % 100 !=0 :\n",
    "    print(1)\n",
    "elif y % 400 == 0:\n",
    "    print(1)\n",
    "else :\n",
    "    print(0)\n"
   ]
  },
  {
   "cell_type": "code",
   "execution_count": 5,
   "id": "fcd35cd7",
   "metadata": {},
   "outputs": [
    {
     "name": "stdout",
     "output_type": "stream",
     "text": [
      "10 10\n",
      "9 25\n"
     ]
    }
   ],
   "source": [
    "# 백준 2884번\n",
    "\n",
    "H, M = map(int, input().split())\n",
    "\n",
    "if H > 0 and M < 45 :\n",
    "    print(H-1, 60+(M-45), sep=' ')\n",
    "\n",
    "elif H ==0 and M < 45:\n",
    "    print(23, 60+(M-45), sep = ' ')\n",
    "\n",
    "\n",
    "if M >= 45 :\n",
    "    print(H, M-45, sep=' ')\n"
   ]
  },
  {
   "cell_type": "code",
   "execution_count": null,
   "id": "654838a4",
   "metadata": {},
   "outputs": [],
   "source": [
    "백준 2525번\n",
    "\n",
    "A, B = map(int, input().split())\n",
    "\n",
    "C = int(input())\n",
    "\n",
    "\n",
    "if \n"
   ]
  },
  {
   "cell_type": "code",
   "execution_count": null,
   "id": "c08f5d49",
   "metadata": {},
   "outputs": [],
   "source": [
    "예제 입력 1 \n",
    "14 30\n",
    "20\n",
    "예제 출력 1 \n",
    "14 50\n",
    "예제 입력 2 \n",
    "17 40\n",
    "80\n",
    "예제 출력 2 \n",
    "19 0\n",
    "예제 입력 3 \n",
    "23 48\n",
    "25\n",
    "예제 출력 3 \n",
    "0 13"
   ]
  },
  {
   "cell_type": "code",
   "execution_count": null,
   "id": "60562495",
   "metadata": {},
   "outputs": [],
   "source": []
  },
  {
   "cell_type": "code",
   "execution_count": null,
   "id": "b4e3c00f",
   "metadata": {},
   "outputs": [],
   "source": []
  },
  {
   "cell_type": "code",
   "execution_count": null,
   "id": "26e11b54",
   "metadata": {},
   "outputs": [],
   "source": []
  },
  {
   "cell_type": "code",
   "execution_count": null,
   "id": "c231390e",
   "metadata": {},
   "outputs": [],
   "source": []
  }
 ],
 "metadata": {
  "kernelspec": {
   "display_name": "Python 3 (ipykernel)",
   "language": "python",
   "name": "python3"
  },
  "language_info": {
   "codemirror_mode": {
    "name": "ipython",
    "version": 3
   },
   "file_extension": ".py",
   "mimetype": "text/x-python",
   "name": "python",
   "nbconvert_exporter": "python",
   "pygments_lexer": "ipython3",
   "version": "3.10.6"
  }
 },
 "nbformat": 4,
 "nbformat_minor": 5
}
