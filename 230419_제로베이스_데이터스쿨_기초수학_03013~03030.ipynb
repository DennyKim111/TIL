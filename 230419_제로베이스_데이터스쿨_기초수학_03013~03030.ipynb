{
 "cells": [
  {
   "cell_type": "code",
   "execution_count": 3,
   "metadata": {},
   "outputs": [
    {
     "name": "stdout",
     "output_type": "stream",
     "text": [
      "1번째 항까지의 합: 7\n",
      "2번째 항까지의 합: 19\n",
      "3번째 항까지의 합: 36\n",
      "4번째 항까지의 합: 58\n",
      "5번째 항까지의 합: 85\n",
      "6번째 항까지의 합: 117\n",
      "7번째 항까지의 합: 154\n",
      "8번째 항까지의 합: 196\n",
      "9번째 항까지의 합: 243\n",
      "9번째 항까지의 합: 243\n"
     ]
    }
   ],
   "source": [
    "## 03_014 등차수열\n",
    "\n",
    "### 특정 항까지의 합을 구하는 프로그램\n",
    "\n",
    "inputN1 = int(input('a1 :   '))\n",
    "inputD = int(input('D : '))\n",
    "inputN = int(input('N :'))\n",
    "\n",
    "valueN = 0\n",
    "sumN = 0\n",
    "n = 1\n",
    "\n",
    "while n <= inputN:\n",
    "  if n == 1:\n",
    "    valueN = inputN1\n",
    "    sumN = sumN + valueN\n",
    "    print('{}번째 항까지의 합: {}'.format(n, sumN))\n",
    "    n += 1\n",
    "    continue\n",
    "  \n",
    "  valueN = valueN + inputD\n",
    "  sumN = sumN + valueN\n",
    "  print('{}번째 항까지의 합: {}'.format(n, sumN))\n",
    "  n += 1\n",
    "  \n",
    "print('{}번째 항까지의 합: {}'.format(inputN, sumN))\n"
   ]
  },
  {
   "cell_type": "code",
   "execution_count": 4,
   "metadata": {},
   "outputs": [
    {
     "ename": "ValueError",
     "evalue": "invalid literal for int() with base 10: ''",
     "output_type": "error",
     "traceback": [
      "\u001b[1;31m---------------------------------------------------------------------------\u001b[0m",
      "\u001b[1;31mValueError\u001b[0m                                Traceback (most recent call last)",
      "Cell \u001b[1;32mIn[4], line 2\u001b[0m\n\u001b[0;32m      1\u001b[0m \u001b[39m### 합 공식 사용\u001b[39;00m\n\u001b[1;32m----> 2\u001b[0m inputN1 \u001b[39m=\u001b[39m \u001b[39mint\u001b[39;49m(\u001b[39minput\u001b[39;49m(\u001b[39m'\u001b[39;49m\u001b[39ma1 :   \u001b[39;49m\u001b[39m'\u001b[39;49m))\n\u001b[0;32m      3\u001b[0m inputD \u001b[39m=\u001b[39m \u001b[39mint\u001b[39m(\u001b[39minput\u001b[39m(\u001b[39m'\u001b[39m\u001b[39mD : \u001b[39m\u001b[39m'\u001b[39m))\n\u001b[0;32m      4\u001b[0m inputN \u001b[39m=\u001b[39m \u001b[39mint\u001b[39m(\u001b[39minput\u001b[39m(\u001b[39m'\u001b[39m\u001b[39mN :\u001b[39m\u001b[39m'\u001b[39m))\n",
      "\u001b[1;31mValueError\u001b[0m: invalid literal for int() with base 10: ''"
     ]
    }
   ],
   "source": [
    "### 합 공식 사용\n",
    "inputN1 = int(input('a1 :   '))\n",
    "inputD = int(input('D : '))\n",
    "inputN = int(input('N :'))\n",
    "\n",
    "valueN = 0\n",
    "sumN = 0\n",
    "\n",
    "valueN = inputN1 + (inputN - 1) * inputD\n",
    "sumN = inputN * (inputN1 + valueN) / 2\n",
    "print('{}번째 항까지의 합: {}'.format(inputN, int(sumN)))\n"
   ]
  },
  {
   "cell_type": "code",
   "execution_count": null,
   "metadata": {},
   "outputs": [],
   "source": [
    "## 03_015 등비 수열\n",
    "\n",
    "### 등비수열 = 연속된 두 항의 비가 일정한 수열\n",
    "### an = a1 * r^(n-1)\n",
    "### an^2 = (an-1 * an+1) / 등비 중항\n",
    "### Sn = a1 * (1-(r^n)) / (1-r)\n"
   ]
  },
  {
   "cell_type": "code",
   "execution_count": null,
   "metadata": {},
   "outputs": [
    {
     "name": "stdout",
     "output_type": "stream",
     "text": [
      "1번째 항의 값: 2\n",
      "2번째 항의 값: 14\n",
      "3번째 항의 값: 98\n",
      "4번째 항의 값: 686\n",
      "5번째 항의 값: 4802\n",
      "6번째 항의 값: 33614\n",
      "7번째 항의 값: 235298\n",
      "종료\n"
     ]
    }
   ],
   "source": [
    "## 03_016 등비수열 파이썬\n",
    "\n",
    "inputN1 = int(input('a1 :   '))\n",
    "inputR = int(input('공비 R : '))\n",
    "inputN = int(input('N :'))\n",
    "\n",
    "valueN = 0\n",
    "n = 1\n",
    "\n",
    "while n <= inputN:\n",
    "  \n",
    "  if n == 1:\n",
    "    valueN = inputN1\n",
    "    print('{}번째 항의 값: {}'.format(n, valueN))\n",
    "    n += 1\n",
    "    continue\n",
    "  valueN = valueN * inputR\n",
    "  print('{}번째 항의 값: {}'.format(n, valueN))\n",
    "  n += 1\n",
    "  \n",
    "print('종료')\n"
   ]
  },
  {
   "cell_type": "code",
   "execution_count": null,
   "metadata": {},
   "outputs": [
    {
     "name": "stdout",
     "output_type": "stream",
     "text": [
      "7번째 항의 값: 235298\n"
     ]
    }
   ],
   "source": [
    "### 공식 사용\n",
    "\n",
    "inputN1 = int(input('a1 :   '))\n",
    "inputR = int(input('공비 R : '))\n",
    "inputN = int(input('N :'))\n",
    "\n",
    "valueN = inputN1 * (inputR ** (inputN -1))\n",
    "print('{}번째 항의 값: {}'.format(inputN, valueN))"
   ]
  },
  {
   "cell_type": "code",
   "execution_count": null,
   "metadata": {},
   "outputs": [
    {
     "name": "stdout",
     "output_type": "stream",
     "text": [
      "1번째 항까지의 합: 5\n",
      "2번째 항까지의 합: 20\n",
      "3번째 항까지의 합: 65\n",
      "4번째 항까지의 합: 200\n",
      "5번째 항까지의 합: 605\n",
      "6번째 항까지의 합: 1820\n",
      "7번째 항까지의 합: 5465\n",
      "7번째 항까지의 합: 5465\n"
     ]
    }
   ],
   "source": [
    "## 03_017 등비수열의 합 파이썬\n",
    "inputN1 = int(input('a1 :   '))\n",
    "inputR = int(input('공비 R : '))\n",
    "inputN = int(input('N :'))\n",
    "\n",
    "valueN = 0\n",
    "sumN = 0\n",
    "n = 1\n",
    "while n <= inputN:\n",
    "  \n",
    "  if n == 1:\n",
    "    valueN = inputN1\n",
    "    sumN += valueN\n",
    "    print('{}번째 항까지의 합: {}'.format(n, sumN))\n",
    "    n += 1\n",
    "    continue\n",
    "  \n",
    "  valueN *= inputR\n",
    "  sumN += valueN\n",
    "  print('{}번째 항까지의 합: {}'.format(n, sumN))\n",
    "  n += 1\n",
    "  \n",
    "print('{}번째 항까지의 합: {}'.format(inputN, sumN))\n"
   ]
  },
  {
   "cell_type": "code",
   "execution_count": null,
   "metadata": {},
   "outputs": [
    {
     "name": "stdout",
     "output_type": "stream",
     "text": [
      "7번째 항까지의 합: 5465.0\n"
     ]
    }
   ],
   "source": [
    "### 공식 사용\n",
    "\n",
    "inputN1 = int(input('a1 :   '))\n",
    "inputR = int(input('공비 R : '))\n",
    "inputN = int(input('N :'))\n",
    "\n",
    "sumN = inputN1 * (1 - (inputR ** inputN)) / (1 - inputR)\n",
    "print('{}번째 항까지의 합: {}'.format(inputN, sumN))\n"
   ]
  },
  {
   "cell_type": "code",
   "execution_count": null,
   "metadata": {},
   "outputs": [],
   "source": [
    "## 03_018 시그마 / 수열의 합을 나타내는 기호\n",
    "### 합은 공식, 반복문을 통해 구할 수 있음\n",
    "\n",
    "## 03_019 계차수열 = 어떤 수열의 인접하는 두 항의 차로 이루어진 또 다른 수열  => 즉 두 항의 차들의 나열이 등차수열이 된다는 말.\n",
    "\n",
    "### S(n-1) = an - a1 | an = n^2 + n +1\n",
    "\n",
    "## 03_020 계차수열 파이썬\n",
    "\n",
    "inputAN1 = int(input('a1 입력: '))\n",
    "inputAN = int(input('an 입력: '))\n",
    "\n",
    "inputBN1 = int(input('b1 입력: '))\n",
    "inputBD = int(input('bn 공차 입력: '))\n",
    "\n",
    "valueAN = 0\n",
    "valueBN = 0\n",
    "\n",
    "n = 1\n",
    "\n",
    "while n <= inputAN:\n",
    "  if n ==1:\n",
    "    valueAN = inputAN1\n",
    "    valueBN = inputBN1\n",
    "    print('an의 {}번째 항의 값: {}'.format(n, valueAN))\n",
    "    print('bn의 {}번째 항의 값: {}'.format(n, valueBN))\n",
    "    n += 1\n",
    "    continue\n",
    "  \n",
    "  valueAN = valueAN + valueBN\n",
    "  valueBN += inputBD\n",
    "  print('an의 {}번째 항의 값: {}'.format(n, valueAN))\n",
    "  print('bn의 {}번째 항의 값: {}'.format(n, valueBN))\n",
    "  n += 1\n",
    "  \n",
    "print('an의 {}번째 항의 값: {}'.format(inputAN, valueAN))\n",
    "print('bn의 {}번째 항의 값: {}'.format(inputAN, valueBN))\n"
   ]
  },
  {
   "cell_type": "code",
   "execution_count": null,
   "metadata": {},
   "outputs": [
    {
     "name": "stdout",
     "output_type": "stream",
     "text": [
      "an의 7번째 항의 값: 57\n"
     ]
    }
   ],
   "source": [
    "### 공식 사용\n",
    "\n",
    "inputAN1 = int(input('a1 입력: '))\n",
    "inputAN = int(input('an 입력: '))\n",
    "\n",
    "valueAN = inputAN**2 + inputAN + 1\n",
    "\n",
    "### S(n-1) = an - a1 | an = n^2 - 1\n",
    "\n",
    "print('an의 {}번째 항의 값: {}'.format(inputAN, valueAN))"
   ]
  },
  {
   "cell_type": "code",
   "execution_count": null,
   "metadata": {},
   "outputs": [
    {
     "name": "stdout",
     "output_type": "stream",
     "text": [
      "9th value: 34\n",
      "9th SUM: 88\n"
     ]
    }
   ],
   "source": [
    "## 03_021 피보나치  / an = a(n-2) + a(n-1)\n",
    "\n",
    "\n",
    "inputN = int(input('n : '))\n",
    "\n",
    "valueN = 0\n",
    "sumN = 0\n",
    "\n",
    "valuePreN2 = 0\n",
    "valuePreN1 = 0\n",
    "\n",
    "n = 1\n",
    "while n <= inputN:\n",
    "  if n ==1 or n ==2:\n",
    "    valueN = 1\n",
    "    valuePreN2 = valueN\n",
    "    valuePreN1 = valueN\n",
    "    sumN += valueN\n",
    "    n += 1\n",
    "    \n",
    "  else:\n",
    "    valueN = valuePreN2 + valuePreN1\n",
    "    valuePreN2 = valuePreN1\n",
    "    valuePreN1 = valueN\n",
    "    sumN += valueN\n",
    "    n += 1\n",
    "    \n",
    "print('{}th value: {}'.format(inputN, valueN))\n",
    "print('{}th SUM: {}'.format(inputN, sumN))\n"
   ]
  },
  {
   "cell_type": "code",
   "execution_count": null,
   "metadata": {},
   "outputs": [
    {
     "name": "stdout",
     "output_type": "stream",
     "text": [
      "반복문 for / 7 factorial= 5040\n",
      "반복문 while / 7 factorial= 5040\n",
      "함수 활용 / 7 factorial= 5040\n"
     ]
    }
   ],
   "source": [
    "## 03_022 팩토리얼 / 정수 n 까지의 모든 정수를 곱한 결과는?\n",
    "\n",
    "inputN = int(input('N ? :    '))\n",
    "\n",
    "### 반복문 활용법  / for \n",
    "\n",
    "result = 1\n",
    "for n in range(1, inputN + 1):\n",
    "  result *= n\n",
    "  \n",
    "print('반복문 for / {} factorial= {}'.format(inputN, result))\n",
    "\n",
    "\n",
    "### 반복문 활용법  / while\n",
    "\n",
    "result = 1\n",
    "n = 1\n",
    "while n <= inputN:\n",
    "  result *= n\n",
    "  n += 1\n",
    "  \n",
    "print('반복문 while / {} factorial= {}'.format(inputN, result))\n",
    "\n",
    "### 재귀함수 이용법 \n",
    "\n",
    "def factorialFun(n):\n",
    "  if n == 1: return 1\n",
    "  \n",
    "  return n * factorialFun(n -1)\n",
    "print('함수 활용 / {} factorial= {}'.format(inputN, factorialFun(inputN)))\n",
    "\n"
   ]
  },
  {
   "cell_type": "code",
   "execution_count": null,
   "metadata": {},
   "outputs": [
    {
     "name": "stdout",
     "output_type": "stream",
     "text": [
      "1\n",
      "12\n",
      "123\n",
      "1234\n",
      "12345\n",
      "123456\n",
      "1234567\n",
      "12345678\n",
      "123456789\n",
      "12345\n",
      "50th number = 5\n"
     ]
    }
   ],
   "source": [
    "## 03_023 군수열 / 여러 개의 항을 묶었을 때 규칙성을 가지는 수열\n",
    "\n",
    "## 03_024 군수열 파이썬\n",
    "\n",
    "inputN = int(input('n : '))\n",
    "\n",
    "flag = True\n",
    "\n",
    "n = 1 ; nCnt = 1 ; searchN = 0\n",
    "while flag:\n",
    "  \n",
    "  for i in range(1, (n + 1)):\n",
    "    if i == n:\n",
    "      print('{}'.format(i), end = '')\n",
    "    else:\n",
    "      print('{}'.format(i), end = '')\n",
    "    \n",
    "    nCnt += 1\n",
    "    if (nCnt > inputN):\n",
    "      searchN = i\n",
    "      flag = False\n",
    "      break\n",
    "    \n",
    "  print()\n",
    "  n += 1\n",
    "  \n",
    "print('{}th number = {}'.format(inputN, searchN)) \n"
   ]
  },
  {
   "cell_type": "code",
   "execution_count": null,
   "metadata": {},
   "outputs": [],
   "source": [
    "### 분수로 된 군수열\n",
    "\n",
    "inputN = int(input('n : '))\n",
    "\n",
    "flag = True\n",
    "\n",
    "n = 1 ; nCnt = 1 ; searchNC = 0 ; searchNP = 0\n",
    "while flag:\n",
    "  \n",
    "  for i in range(1, (n + 1)):\n",
    "    if i == n:\n",
    "      print('{}/{}'.format(i, (n - i + 1)), end = '')\n",
    "    else:\n",
    "      print('{}/{}'.format(i, (n - i + 1)), end = '')\n",
    "    \n",
    "    nCnt += 1\n",
    "    if (nCnt > inputN):\n",
    "      searchNC = i\n",
    "      searchNP = n - i + 1\n",
    "      flag = False\n",
    "      break\n",
    "    \n",
    "  print()\n",
    "  n += 1\n",
    "  \n",
    "print('{}th number = {}'.format(inputN, searchNC, searchNP)) "
   ]
  },
  {
   "cell_type": "code",
   "execution_count": null,
   "metadata": {},
   "outputs": [],
   "source": [
    "## 03_025 순열 / 순서를 지켜서 일렬로 나열하는 경우의 수\n",
    "\n",
    "### nPr = n * (n-1) * (n-2) * ... * (n-r+1) | (0 < r <= n)\n",
    "\n",
    "### nPr = n! / (n-r)!             | (0 < r <= n)\n"
   ]
  },
  {
   "cell_type": "code",
   "execution_count": null,
   "metadata": {},
   "outputs": [
    {
     "name": "stdout",
     "output_type": "stream",
     "text": [
      "n : 7\n",
      "n : 6\n",
      "n : 5\n",
      "n : 4\n",
      "n : 3\n",
      "2520\n"
     ]
    }
   ],
   "source": [
    "## 03_026 순열 파이썬\n",
    "\n",
    "numN = int(input('numN ? =       '))\n",
    "numR = int(input('numR ? =       '))\n",
    "result = 1\n",
    "\n",
    "for n in range(numN, (numN - numR), -1):\n",
    "  print('n : {}'.format(n))\n",
    "  result = result * n\n",
    "\n",
    "print(result)\n",
    "\n",
    "\n",
    "### 원순열 - 시작과 끝 구분이 없는 순열\n",
    "\n",
    "### 공식 = n! / n = (n-1)!\n"
   ]
  },
  {
   "cell_type": "code",
   "execution_count": 5,
   "metadata": {},
   "outputs": [
    {
     "name": "stdout",
     "output_type": "stream",
     "text": [
      "n : 5\n",
      "n : 4\n",
      "resultP: 20\n",
      "n: 2\n",
      "n: 1\n",
      "resultR: 2\n",
      "resultC: 10\n"
     ]
    }
   ],
   "source": [
    "## 03_027 조합 / 순서 상관 없이 섬택하는 것\n",
    "\n",
    "### nCr = nPr / r!\n",
    "### nCr = n! / r! * (n-r)!\n",
    "\n",
    "\n",
    "\n",
    "## 03_028 조합 파이썬\n",
    "\n",
    "numN = int(input('numN ? =       '))\n",
    "numR = int(input('numR ? =       '))\n",
    "resultP = 1\n",
    "resultR = 1\n",
    "resultC = 1\n",
    "\n",
    "for n in range(numN, (numN - numR), -1):\n",
    "  print('n : {}'.format(n))\n",
    "  resultP = resultP * n\n",
    "  \n",
    "print('resultP: {}'.format(resultP))\n",
    "\n",
    "for n in range(numR, 0, -1):\n",
    "  print('n: {}'.format(n))\n",
    "  resultR = resultR * n\n",
    "  \n",
    "print('resultR: {}'.format(resultR))\n",
    "\n",
    "resultC = int(resultP / resultR)\n",
    "print('resultC: {}'.format(resultC))"
   ]
  },
  {
   "cell_type": "code",
   "execution_count": 6,
   "metadata": {},
   "outputs": [
    {
     "name": "stdout",
     "output_type": "stream",
     "text": [
      "n : 7\n",
      "n : 6\n",
      "n : 5\n",
      "resultP: 210\n",
      "n: 3\n",
      "n: 2\n",
      "n: 1\n",
      "resultR: 6\n",
      "resultC: 35\n",
      "sample: 35\n",
      "n : 4\n",
      "n : 3\n",
      "resultP: 12\n",
      "n: 2\n",
      "n: 1\n",
      "resultR: 2\n",
      "resultC: 6\n",
      "event1: 6\n",
      "n : 3\n",
      "resultP: 3\n",
      "n: 1\n",
      "resultR: 1\n",
      "resultC: 3\n",
      "event1: 3\n",
      "probability: 51.43%\n"
     ]
    }
   ],
   "source": [
    "## 03_029 확률\n",
    "\n",
    "#### 구하고자하는 경우의 수 / 전체 경우의수 = 확률\n",
    "\n",
    "## 03_030 확률 파이썬\n",
    "\n",
    "def proFun():\n",
    "\n",
    "  numN = int(input('numN ? =       '))\n",
    "  numR = int(input('numR ? =       '))\n",
    "\n",
    "  resultP = 1\n",
    "  resultR = 1\n",
    "  resultC = 1\n",
    "\n",
    "  for n in range(numN, (numN - numR), -1):\n",
    "    print('n : {}'.format(n))\n",
    "    resultP = resultP * n\n",
    "    \n",
    "  print('resultP: {}'.format(resultP))\n",
    "\n",
    "  for n in range(numR, 0, -1):\n",
    "    print('n: {}'.format(n))\n",
    "    resultR = resultR * n\n",
    "    \n",
    "  print('resultR: {}'.format(resultR))\n",
    "\n",
    "  resultC = int(resultP / resultR)\n",
    "  print('resultC: {}'.format(resultC))\n",
    "  \n",
    "  return resultC\n",
    "\n",
    "sample = proFun()\n",
    "print('sample: {}'.format(sample))\n",
    "\n",
    "event1 = proFun()\n",
    "print('event1: {}'.format(event1))\n",
    "\n",
    "event2 = proFun()\n",
    "print('event1: {}'.format(event2))\n",
    "\n",
    "probability = (event1 * event2) / sample\n",
    "print('probability: {}%'.format(round(probability*100, 2)))"
   ]
  }
 ],
 "metadata": {
  "kernelspec": {
   "display_name": "Python 3",
   "language": "python",
   "name": "python3"
  },
  "language_info": {
   "codemirror_mode": {
    "name": "ipython",
    "version": 3
   },
   "file_extension": ".py",
   "mimetype": "text/x-python",
   "name": "python",
   "nbconvert_exporter": "python",
   "pygments_lexer": "ipython3",
   "version": "3.10.6"
  },
  "orig_nbformat": 4
 },
 "nbformat": 4,
 "nbformat_minor": 2
}
