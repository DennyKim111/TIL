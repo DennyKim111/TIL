{
 "cells": [
  {
   "cell_type": "code",
   "execution_count": 3,
   "id": "8562a5d2",
   "metadata": {},
   "outputs": [
    {
     "ename": "RuntimeError",
     "evalue": "dictionary changed size during iteration",
     "output_type": "error",
     "traceback": [
      "\u001b[1;31m---------------------------------------------------------------------------\u001b[0m",
      "\u001b[1;31mRuntimeError\u001b[0m                              Traceback (most recent call last)",
      "Cell \u001b[1;32mIn[3], line 3\u001b[0m\n\u001b[0;32m      1\u001b[0m x \u001b[38;5;241m=\u001b[39m {\u001b[38;5;124m'\u001b[39m\u001b[38;5;124ma\u001b[39m\u001b[38;5;124m'\u001b[39m: \u001b[38;5;241m10\u001b[39m, \u001b[38;5;124m'\u001b[39m\u001b[38;5;124mb\u001b[39m\u001b[38;5;124m'\u001b[39m: \u001b[38;5;241m20\u001b[39m, \u001b[38;5;124m'\u001b[39m\u001b[38;5;124mc\u001b[39m\u001b[38;5;124m'\u001b[39m: \u001b[38;5;241m30\u001b[39m, \u001b[38;5;124m'\u001b[39m\u001b[38;5;124md\u001b[39m\u001b[38;5;124m'\u001b[39m: \u001b[38;5;241m40\u001b[39m}\n\u001b[1;32m----> 3\u001b[0m \u001b[38;5;28;01mfor\u001b[39;00m key, value \u001b[38;5;129;01min\u001b[39;00m x\u001b[38;5;241m.\u001b[39mitems():\n\u001b[0;32m      4\u001b[0m     \u001b[38;5;28;01mif\u001b[39;00m value \u001b[38;5;241m==\u001b[39m \u001b[38;5;241m20\u001b[39m:\n\u001b[0;32m      5\u001b[0m         \u001b[38;5;28;01mdel\u001b[39;00m x [key]\n",
      "\u001b[1;31mRuntimeError\u001b[0m: dictionary changed size during iteration"
     ]
    }
   ],
   "source": [
    "x = {'a': 10, 'b': 20, 'c': 30, 'd': 40}\n",
    "\n",
    "for key, value in x.items():\n",
    "    if value == 20:\n",
    "        del x [key]\n",
    "        \n",
    "print(x)"
   ]
  },
  {
   "cell_type": "code",
   "execution_count": 6,
   "id": "57cfb22c",
   "metadata": {},
   "outputs": [
    {
     "data": {
      "text/plain": [
       "{'a': 10, 'c': 30}"
      ]
     },
     "execution_count": 6,
     "metadata": {},
     "output_type": "execute_result"
    }
   ],
   "source": [
    "x = {'a': 10, 'b': 20, 'c': 30, 'd': 40}\n",
    "\n",
    "x = {key: value for key, value in x.items() if value != 20 and value != 40}\n",
    "\n",
    "x"
   ]
  },
  {
   "cell_type": "code",
   "execution_count": 11,
   "id": "c6aed65b",
   "metadata": {},
   "outputs": [
    {
     "name": "stdout",
     "output_type": "stream",
     "text": [
      "미니배터리팩\n"
     ]
    }
   ],
   "source": [
    "염마인_순수과소모a = {\n",
    "    '방어구': {\n",
    "        '상의': '천재기술자',\n",
    "        '하의': '속강 바지', \n",
    "        '어깨': '천재기술자',\n",
    "        '벨트': '천재기술자',\n",
    "        '신발': '천재기술자'\n",
    "    },\n",
    "    '악세서리': {\n",
    "        '팔찌' : '리플레이서',\n",
    "        '목걸이' : '고양된 분노의 목걸이',\n",
    "        '반지' : '음율'\n",
    "    },\n",
    "    '특수장비': {\n",
    "        '보조장비' : '죽음을 부르는 관',\n",
    "        '마법석' : '미니배터리팩',\n",
    "        '귀걸이' : '인력의법칙'\n",
    "    }\n",
    "}\n",
    "\n",
    "print(염마인_순수과소모a['특수장비']['마법석'])"
   ]
  },
  {
   "cell_type": "code",
   "execution_count": 17,
   "id": "f57601dc",
   "metadata": {},
   "outputs": [
    {
     "name": "stdout",
     "output_type": "stream",
     "text": [
      "원터치스마트리모콘,머신컨트롤러리모트\n"
     ]
    }
   ],
   "source": [
    "염마인_순수과소모a = {\n",
    "    '방어구': {\n",
    "        '상의': '천재기술자',\n",
    "        '하의': '속강 바지', \n",
    "        '어깨': '천재기술자',\n",
    "        '벨트': '천재기술자',\n",
    "        '신발': '천재기술자'\n",
    "    },\n",
    "    '악세서리': {\n",
    "        '팔찌' : '리플레이서',\n",
    "        '목걸이' : '고양된 분노의 목걸이',\n",
    "        '반지' : '음율'\n",
    "    },\n",
    "    '특수장비': {\n",
    "        '보조장비' : '죽음을 부르는 관',\n",
    "        '마법석' : '미니배터리팩',\n",
    "        '귀걸이' : '인력의법칙'\n",
    "    }\n",
    "}\n",
    "\n",
    "염마인_순수과소모b = 염마인_순수과소모a.copy()\n",
    "\n",
    "염마인_순수과소모b['악세서리']['반지'] = '원터치스마트리모콘'\n",
    "염마인_순수과소모b['악세서리']['목걸이'] = '머신컨트롤러리모트'\n",
    "\n",
    "\n",
    "print(염마인_순수과소모b['악세서리']['반지'], 염마인_순수과소모b['악세서리']['목걸이'], sep=',')"
   ]
  },
  {
   "cell_type": "code",
   "execution_count": 22,
   "id": "47357106",
   "metadata": {},
   "outputs": [
    {
     "ename": "SyntaxError",
     "evalue": "closing parenthesis ']' does not match opening parenthesis '{' (1371723780.py, line 21)",
     "output_type": "error",
     "traceback": [
      "\u001b[1;36m  Cell \u001b[1;32mIn[22], line 21\u001b[1;36m\u001b[0m\n\u001b[1;33m    del 염마인_순수과소모a['악세서리': {'팔찌' : '리플레이서', '목걸이' : '고양된 분노의 목걸이', '반지' : '음율']\u001b[0m\n\u001b[1;37m                                                                              ^\u001b[0m\n\u001b[1;31mSyntaxError\u001b[0m\u001b[1;31m:\u001b[0m closing parenthesis ']' does not match opening parenthesis '{'\n"
     ]
    }
   ],
   "source": [
    "염마인_순수과소모a = {\n",
    "    '방어구': {\n",
    "        '상의': '천재기술자',\n",
    "        '하의': '속강 바지', \n",
    "        '어깨': '천재기술자',\n",
    "        '벨트': '천재기술자',\n",
    "        '신발': '천재기술자'\n",
    "    },\n",
    "    '악세서리': {\n",
    "        '팔찌' : '리플레이서',\n",
    "        '목걸이' : '고양된 분노의 목걸이',\n",
    "        '반지' : '음율'\n",
    "    },\n",
    "    '특수장비': {\n",
    "        '보조장비' : '죽음을 부르는 관',\n",
    "        '마법석' : '미니배터리팩',\n",
    "        '귀걸이' : '인력의법칙'\n",
    "    }\n",
    "}\n",
    "\n",
    "\n",
    "염마인_순수과소모a"
   ]
  },
  {
   "cell_type": "code",
   "execution_count": 32,
   "id": "a69c141f",
   "metadata": {},
   "outputs": [
    {
     "name": "stdout",
     "output_type": "stream",
     "text": [
      "dict_keys(['악세서리']) dict_values([{'팔찌': '리플레이서', '목걸이': '고양된 분노의 목걸이', '반지': '음율'}])\n"
     ]
    }
   ],
   "source": [
    "a = {'악세서리': {'팔찌' : '리플레이서', '목걸이' : '고양된 분노의 목걸이', '반지' : '음율'}}\n",
    "\n",
    "print(a.keys(), a.values())\n",
    "             \n",
    "             "
   ]
  },
  {
   "cell_type": "code",
   "execution_count": 1,
   "id": "92f51003",
   "metadata": {},
   "outputs": [
    {
     "name": "stdout",
     "output_type": "stream",
     "text": [
      "ㅈㅈ\n",
      "ㅈㅈ ??!\n"
     ]
    }
   ],
   "source": [
    "id = str(input())\n",
    "\n",
    "print(id, \"??!\")"
   ]
  },
  {
   "cell_type": "code",
   "execution_count": null,
   "id": "d7841e51",
   "metadata": {},
   "outputs": [],
   "source": []
  },
  {
   "cell_type": "code",
   "execution_count": null,
   "id": "072607e1",
   "metadata": {},
   "outputs": [],
   "source": []
  },
  {
   "cell_type": "code",
   "execution_count": null,
   "id": "298d4e2e",
   "metadata": {},
   "outputs": [],
   "source": []
  },
  {
   "cell_type": "code",
   "execution_count": null,
   "id": "087cf0ff",
   "metadata": {},
   "outputs": [],
   "source": []
  },
  {
   "cell_type": "code",
   "execution_count": null,
   "id": "e80b370f",
   "metadata": {},
   "outputs": [],
   "source": []
  },
  {
   "cell_type": "code",
   "execution_count": null,
   "id": "703a15c7",
   "metadata": {},
   "outputs": [],
   "source": []
  },
  {
   "cell_type": "code",
   "execution_count": null,
   "id": "1e958d1e",
   "metadata": {},
   "outputs": [],
   "source": []
  },
  {
   "cell_type": "code",
   "execution_count": null,
   "id": "85702357",
   "metadata": {},
   "outputs": [],
   "source": []
  },
  {
   "cell_type": "code",
   "execution_count": null,
   "id": "83b15a18",
   "metadata": {},
   "outputs": [],
   "source": []
  },
  {
   "cell_type": "code",
   "execution_count": null,
   "id": "ded98a86",
   "metadata": {},
   "outputs": [],
   "source": []
  },
  {
   "cell_type": "code",
   "execution_count": null,
   "id": "1f0081af",
   "metadata": {},
   "outputs": [],
   "source": []
  },
  {
   "cell_type": "code",
   "execution_count": null,
   "id": "8feb9655",
   "metadata": {},
   "outputs": [],
   "source": []
  },
  {
   "cell_type": "code",
   "execution_count": null,
   "id": "34240fae",
   "metadata": {},
   "outputs": [],
   "source": []
  }
 ],
 "metadata": {
  "kernelspec": {
   "display_name": "Python 3 (ipykernel)",
   "language": "python",
   "name": "python3"
  },
  "language_info": {
   "codemirror_mode": {
    "name": "ipython",
    "version": 3
   },
   "file_extension": ".py",
   "mimetype": "text/x-python",
   "name": "python",
   "nbconvert_exporter": "python",
   "pygments_lexer": "ipython3",
   "version": "3.10.6"
  }
 },
 "nbformat": 4,
 "nbformat_minor": 5
}
