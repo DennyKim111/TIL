{
 "cells": [
  {
   "cell_type": "code",
   "execution_count": 19,
   "id": "2b4a1a11",
   "metadata": {},
   "outputs": [],
   "source": [
    "# 초보자를 위한 파이썬 300제"
   ]
  },
  {
   "cell_type": "code",
   "execution_count": 12,
   "id": "952b2537",
   "metadata": {},
   "outputs": [],
   "source": [
    "## 01. 파이썬 시작하기 001~010"
   ]
  },
  {
   "cell_type": "code",
   "execution_count": 14,
   "id": "54d3869d",
   "metadata": {},
   "outputs": [
    {
     "name": "stdout",
     "output_type": "stream",
     "text": [
      "Hello World\n"
     ]
    }
   ],
   "source": [
    "### 001 화면에  Hello World 문자열을 출력하세요.\n",
    "\n",
    "print (\"Hello World\")"
   ]
  },
  {
   "cell_type": "code",
   "execution_count": 15,
   "id": "950b9d30",
   "metadata": {},
   "outputs": [
    {
     "name": "stdout",
     "output_type": "stream",
     "text": [
      "안녕하세요.\n",
      "만나서\t\t반갑습니다.\n"
     ]
    }
   ],
   "source": [
    "### 005 다음 코드를 실행해보고 \\t와 \\n의 역할을 설명해보세요.\n",
    "\n",
    "print(\"안녕하세요.\\n만나서\\t\\t반갑습니다.\")\n",
    "\n",
    "#### \\n 은 줄을 바꿔주고 \\t는 탭 기능"
   ]
  },
  {
   "cell_type": "code",
   "execution_count": 18,
   "id": "3b04c96d",
   "metadata": {},
   "outputs": [
    {
     "name": "stdout",
     "output_type": "stream",
     "text": [
      "naver;kakao;samsung\n"
     ]
    }
   ],
   "source": [
    "### 007  print() 함수를 사용하여 다음과 같이 출력하세요.\n",
    "\n",
    "#### naver;kakao;sk;samsung\n",
    "\n",
    "#### my answer : print(naver\\;kakao\\;sk\\;samsung)\n",
    "\n",
    "print(\"naver\", \"kakao\", \"samsung\", sep=\";\")"
   ]
  },
  {
   "cell_type": "code",
   "execution_count": 20,
   "id": "e793abbc",
   "metadata": {},
   "outputs": [
    {
     "name": "stdout",
     "output_type": "stream",
     "text": [
      "naver/kakao/sk/samsung\n"
     ]
    }
   ],
   "source": [
    "### 008    print() 함수를 사용하여 다음과 같이 출력하세요.\n",
    "\n",
    "#### naver/kakao/sk/samsung\n",
    "\n",
    "print(\"naver\",\"kakao\", \"sk\", \"samsung\", sep=\"/\")"
   ]
  },
  {
   "cell_type": "code",
   "execution_count": 22,
   "id": "daa9ad25",
   "metadata": {},
   "outputs": [
    {
     "name": "stdout",
     "output_type": "stream",
     "text": [
      "firstsecond\n"
     ]
    }
   ],
   "source": [
    "### 009    다음 코드를 수정하여 줄바꿈이 없이 출력하세요. (힌트: end='') print 함수는 두 번 사용합니다. 세미콜론 (;)은 한줄에 여러 개의 명령을 작성하기 위해 사용합니다.\n",
    "\n",
    "#### print(\"first\");print(\"second\")\n",
    "\n",
    "#### my answer : print(\"first\", end=\";\") print(\"second\")\n",
    "\n",
    "print(\"first\", end=\"\"); print(\"second\")"
   ]
  },
  {
   "cell_type": "code",
   "execution_count": 23,
   "id": "cb945fab",
   "metadata": {},
   "outputs": [
    {
     "name": "stdout",
     "output_type": "stream",
     "text": [
      "1.6666666666666667\n"
     ]
    }
   ],
   "source": [
    "### 010 5/3의 결과를 화면에 출력하세요.\n",
    "\n",
    "print(5/3)"
   ]
  },
  {
   "cell_type": "code",
   "execution_count": null,
   "id": "10fd4d48",
   "metadata": {},
   "outputs": [],
   "source": [
    "## 02. 파이썬 변수"
   ]
  },
  {
   "cell_type": "code",
   "execution_count": 26,
   "id": "57baf7dd",
   "metadata": {},
   "outputs": [
    {
     "name": "stdout",
     "output_type": "stream",
     "text": [
      "500000\n"
     ]
    }
   ],
   "source": [
    "### 011. 변수 사용하기\n",
    "#### 삼성전자라는 변수로 50,000원을 바인딩해보세요. \n",
    "#### 삼성전자 주식 10주를 보유하고 있을 때 총 평가금액을 출력하세요.\n",
    "\n",
    "삼성전자 = 50000\n",
    "\n",
    "보유주식수=10\n",
    "\n",
    "총평가금액 = (삼성전자 * 보유주식수)\n",
    "\n",
    "\n",
    "\n",
    "print(총평가금액)\n"
   ]
  },
  {
   "cell_type": "code",
   "execution_count": 29,
   "id": "275ecd8c",
   "metadata": {},
   "outputs": [
    {
     "name": "stdout",
     "output_type": "stream",
     "text": [
      "298000000000000 <class 'int'>\n",
      "50000 <class 'int'>\n",
      "15.79 <class 'float'>\n"
     ]
    }
   ],
   "source": [
    "### 012. 변수 사용하기\n",
    "####다음 표는 삼성전자의 일부 투자정보입니다. \n",
    "####변수를 사용해서 시가총액, 현재가, PER 등을 바인딩해보세요.\n",
    "\n",
    "# 항목\t값\n",
    "# 시가총액\t298조\n",
    "# 현재가\t50,000원\n",
    "# PER\t15.79\n",
    "\n",
    "\n",
    "시가총액 = 298000000000000\n",
    "현재가=50000\n",
    "PER=15.79\n",
    "\n",
    "\n",
    "print(시가총액, type(시가총액))\n",
    "print(현재가, type(현재가))\n",
    "print(PER, type(PER))\n"
   ]
  },
  {
   "cell_type": "code",
   "execution_count": 35,
   "id": "cb750460",
   "metadata": {},
   "outputs": [
    {
     "name": "stdout",
     "output_type": "stream",
     "text": [
      "hello! python\n"
     ]
    }
   ],
   "source": [
    "# 013 문자열 출력\n",
    "# 변수 s와 t에는 각각 문자열이 바인딩 되어있습니다.\n",
    "\n",
    "# >> s = \"hello\"\n",
    "# >> t = \"python\"\n",
    "# 두 변수를 이용하여 아래와 같이 출력해보세요.\n",
    "\n",
    "# 실행 예:\n",
    "# hello! python\n",
    "\n",
    "\n",
    "# my answer ---\n",
    "# s = \"hello\"\n",
    "# t = \"python\"\n",
    "\n",
    "# print(\"s\", end=\"\")!print(\"t\")\n",
    "\n",
    "s = \"hello\"\n",
    "t = \"python\"\n",
    "print(s+\"!\", t)\n",
    "\n",
    "# 변수로 설정한 값에는 \"\" 붙일 필요가 없다. "
   ]
  },
  {
   "cell_type": "code",
   "execution_count": null,
   "id": "d014747d",
   "metadata": {},
   "outputs": [],
   "source": [
    "# 014. 파이썬을 이용한 값 계산\n",
    "# 아래 코드의 실행 결과를 예상해보세요.\n",
    "\n",
    "# >> 2 + 2 * 3 \n",
    "\n",
    "8?"
   ]
  },
  {
   "cell_type": "code",
   "execution_count": 36,
   "id": "dc392699",
   "metadata": {},
   "outputs": [
    {
     "name": "stdout",
     "output_type": "stream",
     "text": [
      "<class 'str'>\n"
     ]
    }
   ],
   "source": [
    "# 015. type 함수\n",
    "# type() 함수는 데이터 타입을 판별합니다. 변수 a에는 128 숫자가 바인딩돼 있어 type 함수가 int (정수)형임을 알려줍니다.\n",
    "\n",
    "# >> a = 128\n",
    "# >> print (type(a))\n",
    "# <class 'int'>\n",
    "# 아래 변수에 바인딩된 값의 타입을 판별해보세요.\n",
    "\n",
    "# >> a = \"132\"\n",
    "\n",
    "a = \"132\"\n",
    "\n",
    "print(type(a))\n",
    "\n"
   ]
  },
  {
   "cell_type": "code",
   "execution_count": 38,
   "id": "aa9952d4",
   "metadata": {},
   "outputs": [
    {
     "name": "stdout",
     "output_type": "stream",
     "text": [
      "<class 'int'>\n",
      "721 <class 'int'>\n"
     ]
    }
   ],
   "source": [
    "# 016. 자열을 정수로 변환\n",
    "# 문자열 '720'를 정수형으로 변환해보세요.\n",
    "\n",
    "# >> num_str = \"720\"\n",
    "\n",
    "\n",
    "# my answer = none\n",
    "\n",
    "\n",
    "num_str = \"720\"  #형변환\n",
    "num_int = int(num_str)\n",
    "\n",
    "print(type(num_int))\n",
    "\n",
    "print(num_int+1, type(num_int))\n",
    "\n",
    "\n",
    "\n"
   ]
  },
  {
   "cell_type": "code",
   "execution_count": 40,
   "id": "a047ecc4",
   "metadata": {},
   "outputs": [
    {
     "name": "stdout",
     "output_type": "stream",
     "text": [
      "<class 'str'>\n"
     ]
    }
   ],
   "source": [
    "# 017. 수를 문자열 100으로 변환\n",
    "# 정수 100을 문자열 '100'으로 변환해보세요.\n",
    "\n",
    "# num = 100\n",
    "\n",
    "num = 100 \n",
    "num = str(num)\n",
    "\n",
    "print(type(num))"
   ]
  },
  {
   "cell_type": "code",
   "execution_count": 43,
   "id": "3b3b7255",
   "metadata": {},
   "outputs": [
    {
     "name": "stdout",
     "output_type": "stream",
     "text": [
      "15.79 <class 'float'>\n"
     ]
    }
   ],
   "source": [
    "# 018. 문자열을 실수로 변환\n",
    "# 문자열 \"15.79\"를 실수(float) 타입으로 변환해보세요.\n",
    "\n",
    "num = 15.79\n",
    "\n",
    "num_fit = float(num)\n",
    "\n",
    "print(num_fit, type(num_fit))"
   ]
  },
  {
   "cell_type": "code",
   "execution_count": 49,
   "id": "c5ee69f7",
   "metadata": {},
   "outputs": [
    {
     "name": "stdout",
     "output_type": "stream",
     "text": [
      "2020 <class 'str'>\n",
      "<class 'int'> 2019 2018 2017\n"
     ]
    }
   ],
   "source": [
    "# 019. 문자열을 정수로 변환\n",
    "# year라는 변수가 문자열 타입의 연도를 바인딩하고 있습니다. \n",
    "# 이를 정수로 변환한 후 최근 3년의 연도를 화면에 출력해보세요.\n",
    "\n",
    "# year = \"2020\"\n",
    "\n",
    "year = 2020\n",
    "year = str(year)\n",
    "\n",
    "print(year, type(year))\n",
    "\n",
    "\n",
    "      \n",
    "year = int(year)\n",
    "      \n",
    "print(type(year), year-1, year-2, year-3)\n",
    "\n",
    "# 내 답도 맞음\n",
    "\n",
    "# 정답\n",
    "# year = \"2020\"\n",
    "# print(int(year)-3)  # 2017\n",
    "# print(int(year)-2)  # 2018\n",
    "# print(int(year)-1)  # 2019\n",
    "\n"
   ]
  },
  {
   "cell_type": "code",
   "execution_count": 50,
   "id": "20c6d511",
   "metadata": {},
   "outputs": [
    {
     "name": "stdout",
     "output_type": "stream",
     "text": [
      "1749024\n"
     ]
    }
   ],
   "source": [
    "# 020. 파이썬 계산\n",
    "# 에이컨이 월 48,584원에 무이자 36개월의 조건으로 \n",
    "# 홈쇼핑에서 판매되고 있습니다. \n",
    "# 총 금액은 계산한 후 이를 화면에 출력해보세요. (변수사용하기)\n",
    "\n",
    "월세=48584\n",
    "무이자개월수=36\n",
    "\n",
    "총금액=월세*무이자개월수\n",
    "\n",
    "print(총금액)"
   ]
  },
  {
   "cell_type": "code",
   "execution_count": 53,
   "id": "9435f8dd",
   "metadata": {},
   "outputs": [
    {
     "name": "stdout",
     "output_type": "stream",
     "text": [
      "<class 'str'>\n",
      "p t\n"
     ]
    }
   ],
   "source": [
    "# 021. letters가 바인딩하는 문자열에서 첫번째와 세번째 문자를 출력하세요.\n",
    "\n",
    "# >> letters = 'python'\n",
    "\n",
    "# my answer = none\n",
    "\n",
    "lang = 'python'\n",
    "\n",
    "print(type(lang))\n",
    "\n",
    "print(lang[0], lang[2])\n"
   ]
  },
  {
   "cell_type": "code",
   "execution_count": 56,
   "id": "f50675d1",
   "metadata": {},
   "outputs": [
    {
     "name": "stdout",
     "output_type": "stream",
     "text": [
      "2210\n",
      "2210\n"
     ]
    }
   ],
   "source": [
    "# 022. 문자열 슬라이싱\n",
    "# 자동차 번호가 다음과 같을 때 뒤에 4자리만 출력하세요.\n",
    "\n",
    "license_plate = \"24가 2210\"\n",
    "\n",
    "print(license_plate[4:8])   #-> my anwer\n",
    "\n",
    "# 정답\n",
    "print(license_plate[-4:])"
   ]
  },
  {
   "cell_type": "code",
   "execution_count": 60,
   "id": "42d85f9b",
   "metadata": {},
   "outputs": [
    {
     "name": "stdout",
     "output_type": "stream",
     "text": [
      "홀 홀 홀\n",
      "홀홀홀\n"
     ]
    }
   ],
   "source": [
    "# 023. 문자열 인덱싱\n",
    "# 아래의 문자열에서 '홀' 만 출력하세요.\n",
    "\n",
    "string = \"홀짝홀짝홀짝\"\n",
    "\n",
    "print(string[0], string[2], string[4]) #-> 내 답 = 틀림\n",
    "\n",
    "print(string[0::2]) # -> 정답"
   ]
  },
  {
   "cell_type": "code",
   "execution_count": 62,
   "id": "d5439fb3",
   "metadata": {},
   "outputs": [
    {
     "name": "stdout",
     "output_type": "stream",
     "text": [
      "NOHTYP\n",
      "NT\n"
     ]
    }
   ],
   "source": [
    "# 024. 문자열 슬라이싱\n",
    "# 문자열을 거꾸로 뒤집어 출력하세요.\n",
    "\n",
    "string = \"PYTHON\"\n",
    "\n",
    "# print(string) # 내 답 -> none\n",
    "\n",
    "\n",
    "print(string[::-1])    #정답, 다시 체크 해야!\n",
    "\n",
    "print(string[::-3])"
   ]
  },
  {
   "cell_type": "code",
   "execution_count": 70,
   "id": "b4b60b91",
   "metadata": {},
   "outputs": [
    {
     "name": "stdout",
     "output_type": "stream",
     "text": [
      "010 1111 2222\n"
     ]
    }
   ],
   "source": [
    "# 025. 문자열의 치환\n",
    "\n",
    "phone_number=\"010-1111-2222\"\n",
    "\n",
    "#my answer = none\n",
    "\n",
    "\n",
    "  #정답, 다시 체크 해야!\n",
    "phone_number1=phone_number.replace(\"-\", \" \")\n",
    "\n",
    "print(phone_number1)\n",
    "      \n",
    "      \n",
    "      \n",
    "# 파이썬 문자열에서 replace 메서드를 사용하면 \n",
    "#       문자열을 일부를 치환할 수 있습니다. \n",
    "#       문자열은 수정할 수 없는 자료형이므로 기존 문자열은 \n",
    "#       그대로 두고 치환된 새로운 문자열이 리턴됩니다.      "
   ]
  },
  {
   "cell_type": "code",
   "execution_count": 74,
   "id": "93fad213",
   "metadata": {},
   "outputs": [
    {
     "name": "stdout",
     "output_type": "stream",
     "text": [
      "01011112222\n"
     ]
    }
   ],
   "source": [
    "# 026. 25번 문제의 전화번호를 아래와 같이 모두 붙여 출력하세요.\n",
    "\n",
    "phone_number = \"010-1111-2222\"\n",
    "phone_number1 = phone_number.replace(\"-\", \"\")\n",
    "print(phone_number1)\n"
   ]
  },
  {
   "cell_type": "code",
   "execution_count": 83,
   "id": "e6f07fd1",
   "metadata": {},
   "outputs": [
    {
     "name": "stdout",
     "output_type": "stream",
     "text": [
      "kr\n",
      "['http://sharebook', 'kr']\n",
      "kr\n"
     ]
    }
   ],
   "source": [
    "# 027. 문자열 다루기\n",
    "# url 에 저장된 웹 페이지 주소에서 도메인을 출력하세요.\n",
    "\n",
    "url = \"http://sharebook.kr\"\n",
    "print(url[17:19])  # 내 답이지만, 출제의도와 달라 틀림 / \n",
    "# 다시 한 번 보기\n",
    "\n",
    "url_split = url.split('.')\n",
    "print(url_split)\n",
    "print(url_split[-1])\n",
    "\n",
    "# 해설\n",
    "# 문자열로 표현된 url에서 `.`을 기준으로 분리합니다. \n",
    "# 분리된 url 중 마지막을 인덱싱하면 도메인만 출력할 수 있습니다."
   ]
  },
  {
   "cell_type": "code",
   "execution_count": 77,
   "id": "57942d32",
   "metadata": {},
   "outputs": [
    {
     "ename": "TypeError",
     "evalue": "'str' object does not support item assignment",
     "output_type": "error",
     "traceback": [
      "\u001b[1;31m---------------------------------------------------------------------------\u001b[0m",
      "\u001b[1;31mTypeError\u001b[0m                                 Traceback (most recent call last)",
      "Cell \u001b[1;32mIn[77], line 5\u001b[0m\n\u001b[0;32m      1\u001b[0m \u001b[38;5;66;03m# 028. 문자열은 immutable\u001b[39;00m\n\u001b[0;32m      2\u001b[0m \u001b[38;5;66;03m# 아래 코드의 실행 결과를 예상해보세요.4\u001b[39;00m\n\u001b[0;32m      4\u001b[0m lang \u001b[38;5;241m=\u001b[39m \u001b[38;5;124m'\u001b[39m\u001b[38;5;124mpython\u001b[39m\u001b[38;5;124m'\u001b[39m\n\u001b[1;32m----> 5\u001b[0m \u001b[43mlang\u001b[49m\u001b[43m[\u001b[49m\u001b[38;5;241;43m0\u001b[39;49m\u001b[43m]\u001b[49m \u001b[38;5;241m=\u001b[39m \u001b[38;5;124m'\u001b[39m\u001b[38;5;124mP\u001b[39m\u001b[38;5;124m'\u001b[39m\n\u001b[0;32m      6\u001b[0m \u001b[38;5;28mprint\u001b[39m(lang)\n",
      "\u001b[1;31mTypeError\u001b[0m: 'str' object does not support item assignment"
     ]
    }
   ],
   "source": [
    "# 028. 문자열은 immutable\n",
    "# 아래 코드의 실행 결과를 예상해보세요.4\n",
    "\n",
    "lang = 'python'\n",
    "lang[0] = 'P'\n",
    "print(lang)\n",
    "\n",
    "# 틀림, 문자열은 수정이 안됨\n",
    "\n"
   ]
  },
  {
   "cell_type": "code",
   "execution_count": 79,
   "id": "107b5352",
   "metadata": {},
   "outputs": [
    {
     "name": "stdout",
     "output_type": "stream",
     "text": [
      "Abcdfe2A354A32A\n",
      "<class 'str'>\n"
     ]
    }
   ],
   "source": [
    "# 029. replace 메서드\n",
    "# 아래 문자열에서 소문자 'a'를 대문자 'A'로 변경하세요.\n",
    "\n",
    "string = 'abcdfe2a354a32a'\n",
    "\n",
    "string = string.replace('a', 'A')\n",
    "print(string)\n",
    "\n",
    "print(type(string))\n",
    "\n",
    "# 틀림, 정답 설명 다시 듣기"
   ]
  },
  {
   "cell_type": "code",
   "execution_count": 81,
   "id": "f5c0eaae",
   "metadata": {},
   "outputs": [
    {
     "name": "stdout",
     "output_type": "stream",
     "text": [
      "abcd111\n",
      "<class 'str'>\n"
     ]
    }
   ],
   "source": [
    "# 030. replace 메서드\n",
    "# 아래 코드의 실행 결과를 예상해보세요.\n",
    "\n",
    "string = 'abcd'\n",
    "string.replace('b', 'B')\n",
    "print(string)\n",
    "\n",
    "print(type(string))\n",
    "\n",
    "\n",
    "# 29번 문제에서는 문자열인데도 변경이 되는데 왜 이건 안되는건지?\n"
   ]
  },
  {
   "cell_type": "code",
   "execution_count": 82,
   "id": "dc967e87",
   "metadata": {},
   "outputs": [
    {
     "name": "stdout",
     "output_type": "stream",
     "text": [
      "aBcd\n",
      "<class 'str'>\n"
     ]
    }
   ],
   "source": [
    "string = 'abcd'\n",
    "string = string.replace('b', 'B')\n",
    "print(string)\n",
    "\n",
    "print(type(string))\n",
    "\n",
    "#  string이라는 변수를 이렇게 바인딩을 다른 공간에 해주면 됨\n"
   ]
  },
  {
   "cell_type": "code",
   "execution_count": 86,
   "id": "88849886",
   "metadata": {},
   "outputs": [
    {
     "name": "stdout",
     "output_type": "stream",
     "text": [
      "--------------------------------------------------------------------------------\n"
     ]
    }
   ],
   "source": [
    "# 033 문자열 곱하기\n",
    "# 화면에 '-'를 80개 출력하세요.\n",
    "\n",
    "a = \"-\"\n",
    "\n",
    "print(a * 80)\n",
    "\n",
    "# or  print(\"-\"*80)"
   ]
  },
  {
   "cell_type": "code",
   "execution_count": 88,
   "id": "b2198fd5",
   "metadata": {},
   "outputs": [
    {
     "name": "stdout",
     "output_type": "stream",
     "text": [
      "python java python java python java python java \n"
     ]
    }
   ],
   "source": [
    "# 034 문자열 곱하기\n",
    "# 변수에 다음과 같은 문자열이 바인딩되어 있습니다.\n",
    "\n",
    "t1 = 'python'\n",
    "t2 = 'java'\n",
    "\n",
    "# 변수에 문자열 더하기와 문자열 곱하기를 사용해서 \n",
    "# 아래와 같이 출력해보세요.\n",
    "\n",
    "# 실행 예:\n",
    "# python java python java python java python java\n",
    "\n",
    "print((t1+\" \"+t2+\" \")*4)"
   ]
  },
  {
   "cell_type": "code",
   "execution_count": null,
   "id": "d26c1318",
   "metadata": {},
   "outputs": [],
   "source": []
  },
  {
   "cell_type": "code",
   "execution_count": null,
   "id": "cc747db8",
   "metadata": {},
   "outputs": [],
   "source": []
  },
  {
   "cell_type": "code",
   "execution_count": null,
   "id": "f8874d1d",
   "metadata": {},
   "outputs": [],
   "source": []
  },
  {
   "cell_type": "code",
   "execution_count": null,
   "id": "fe33e9a8",
   "metadata": {},
   "outputs": [],
   "source": []
  },
  {
   "cell_type": "code",
   "execution_count": null,
   "id": "9692d06b",
   "metadata": {},
   "outputs": [],
   "source": []
  },
  {
   "cell_type": "code",
   "execution_count": null,
   "id": "3e97b9d8",
   "metadata": {},
   "outputs": [],
   "source": []
  },
  {
   "cell_type": "code",
   "execution_count": null,
   "id": "8085d204",
   "metadata": {},
   "outputs": [],
   "source": []
  },
  {
   "cell_type": "code",
   "execution_count": null,
   "id": "ff0a2887",
   "metadata": {},
   "outputs": [],
   "source": []
  },
  {
   "cell_type": "code",
   "execution_count": null,
   "id": "517453f9",
   "metadata": {},
   "outputs": [],
   "source": []
  },
  {
   "cell_type": "code",
   "execution_count": null,
   "id": "84c5815e",
   "metadata": {},
   "outputs": [],
   "source": []
  },
  {
   "cell_type": "code",
   "execution_count": null,
   "id": "66487e98",
   "metadata": {},
   "outputs": [],
   "source": []
  },
  {
   "cell_type": "code",
   "execution_count": null,
   "id": "11044317",
   "metadata": {},
   "outputs": [],
   "source": []
  },
  {
   "cell_type": "code",
   "execution_count": null,
   "id": "66848d5b",
   "metadata": {},
   "outputs": [],
   "source": []
  },
  {
   "cell_type": "code",
   "execution_count": null,
   "id": "f49f7c77",
   "metadata": {},
   "outputs": [],
   "source": []
  },
  {
   "cell_type": "code",
   "execution_count": null,
   "id": "761779fc",
   "metadata": {},
   "outputs": [],
   "source": []
  },
  {
   "cell_type": "code",
   "execution_count": null,
   "id": "ae0c4b5e",
   "metadata": {},
   "outputs": [],
   "source": []
  },
  {
   "cell_type": "code",
   "execution_count": null,
   "id": "3abd3334",
   "metadata": {},
   "outputs": [],
   "source": []
  },
  {
   "cell_type": "code",
   "execution_count": null,
   "id": "7a99704b",
   "metadata": {},
   "outputs": [],
   "source": []
  },
  {
   "cell_type": "code",
   "execution_count": null,
   "id": "27f27ac0",
   "metadata": {},
   "outputs": [],
   "source": []
  },
  {
   "cell_type": "code",
   "execution_count": null,
   "id": "a52b6f51",
   "metadata": {},
   "outputs": [],
   "source": []
  },
  {
   "cell_type": "code",
   "execution_count": null,
   "id": "025e35f1",
   "metadata": {},
   "outputs": [],
   "source": []
  },
  {
   "cell_type": "code",
   "execution_count": null,
   "id": "1652b863",
   "metadata": {},
   "outputs": [],
   "source": []
  },
  {
   "cell_type": "code",
   "execution_count": null,
   "id": "b59dffb8",
   "metadata": {},
   "outputs": [],
   "source": []
  },
  {
   "cell_type": "code",
   "execution_count": null,
   "id": "e2c0dba3",
   "metadata": {},
   "outputs": [],
   "source": []
  },
  {
   "cell_type": "code",
   "execution_count": null,
   "id": "4f0ff125",
   "metadata": {},
   "outputs": [],
   "source": []
  },
  {
   "cell_type": "code",
   "execution_count": null,
   "id": "93be8eac",
   "metadata": {},
   "outputs": [],
   "source": []
  },
  {
   "cell_type": "code",
   "execution_count": null,
   "id": "082fa72b",
   "metadata": {},
   "outputs": [],
   "source": []
  },
  {
   "cell_type": "code",
   "execution_count": null,
   "id": "41c72141",
   "metadata": {},
   "outputs": [],
   "source": []
  },
  {
   "cell_type": "code",
   "execution_count": null,
   "id": "cf19e608",
   "metadata": {},
   "outputs": [],
   "source": []
  },
  {
   "cell_type": "code",
   "execution_count": null,
   "id": "04f461c3",
   "metadata": {},
   "outputs": [],
   "source": []
  },
  {
   "cell_type": "code",
   "execution_count": null,
   "id": "042c1a2e",
   "metadata": {},
   "outputs": [],
   "source": []
  },
  {
   "cell_type": "code",
   "execution_count": null,
   "id": "de5a6d35",
   "metadata": {},
   "outputs": [],
   "source": []
  },
  {
   "cell_type": "code",
   "execution_count": null,
   "id": "ced31943",
   "metadata": {},
   "outputs": [],
   "source": []
  },
  {
   "cell_type": "code",
   "execution_count": null,
   "id": "d9d6d423",
   "metadata": {},
   "outputs": [],
   "source": []
  },
  {
   "cell_type": "code",
   "execution_count": null,
   "id": "274e63e6",
   "metadata": {},
   "outputs": [],
   "source": []
  },
  {
   "cell_type": "code",
   "execution_count": null,
   "id": "cccf7e83",
   "metadata": {},
   "outputs": [],
   "source": []
  },
  {
   "cell_type": "code",
   "execution_count": null,
   "id": "a5a57faa",
   "metadata": {},
   "outputs": [],
   "source": []
  },
  {
   "cell_type": "code",
   "execution_count": null,
   "id": "3296b1be",
   "metadata": {},
   "outputs": [],
   "source": []
  },
  {
   "cell_type": "code",
   "execution_count": null,
   "id": "a36a8a93",
   "metadata": {},
   "outputs": [],
   "source": []
  },
  {
   "cell_type": "code",
   "execution_count": null,
   "id": "e3783257",
   "metadata": {},
   "outputs": [],
   "source": []
  },
  {
   "cell_type": "code",
   "execution_count": null,
   "id": "0c78a292",
   "metadata": {},
   "outputs": [],
   "source": []
  },
  {
   "cell_type": "code",
   "execution_count": null,
   "id": "df65dd9f",
   "metadata": {},
   "outputs": [],
   "source": []
  },
  {
   "cell_type": "code",
   "execution_count": null,
   "id": "7437b176",
   "metadata": {},
   "outputs": [],
   "source": []
  },
  {
   "cell_type": "code",
   "execution_count": null,
   "id": "a3cb59ee",
   "metadata": {},
   "outputs": [],
   "source": []
  },
  {
   "cell_type": "code",
   "execution_count": null,
   "id": "f4d174c3",
   "metadata": {},
   "outputs": [],
   "source": []
  },
  {
   "cell_type": "code",
   "execution_count": null,
   "id": "8159927e",
   "metadata": {},
   "outputs": [],
   "source": []
  },
  {
   "cell_type": "code",
   "execution_count": null,
   "id": "0bb2b7b6",
   "metadata": {},
   "outputs": [],
   "source": []
  }
 ],
 "metadata": {
  "kernelspec": {
   "display_name": "Python 3 (ipykernel)",
   "language": "python",
   "name": "python3"
  },
  "language_info": {
   "codemirror_mode": {
    "name": "ipython",
    "version": 3
   },
   "file_extension": ".py",
   "mimetype": "text/x-python",
   "name": "python",
   "nbconvert_exporter": "python",
   "pygments_lexer": "ipython3",
   "version": "3.10.6"
  }
 },
 "nbformat": 4,
 "nbformat_minor": 5
}
