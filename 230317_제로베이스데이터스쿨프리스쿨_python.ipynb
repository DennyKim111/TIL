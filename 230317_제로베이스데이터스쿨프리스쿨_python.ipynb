{
 "cells": [
  {
   "cell_type": "code",
   "execution_count": 4,
   "metadata": {},
   "outputs": [
    {
     "name": "stdout",
     "output_type": "stream",
     "text": [
      "3.26\n"
     ]
    }
   ],
   "source": [
    "# 16 산술연산다, 덧셈, 뺄셈\n",
    "\n",
    "num1 = 3.14\n",
    "num2 = 0.12\n",
    "\n",
    "print('%.2f' % (num1+num2))"
   ]
  },
  {
   "cell_type": "code",
   "execution_count": 11,
   "metadata": {},
   "outputs": [
    {
     "name": "stdout",
     "output_type": "stream",
     "text": [
      "멘트1 안녕오늘의 날씨는맑네.\n",
      "멘트1 안녕오늘의 날씨는맑네.\n",
      "멘트1 안녕오늘의 날씨는맑네.\n"
     ]
    }
   ],
   "source": [
    "str1 = \"안녕\"\n",
    "str2 = \"오늘의 날씨는\"\n",
    "str3 = \"맑네.\"\n",
    "\n",
    "result = str1 + str2 + str3\n",
    "\n",
    "print('멘트1 {}'.format(result))\n",
    "\n",
    "print(f'멘트1 {result}')\n",
    "\n",
    "print('멘트1 {2}{1}{0}'.format(str3, str2, str1))"
   ]
  },
  {
   "cell_type": "code",
   "execution_count": 19,
   "metadata": {},
   "outputs": [
    {
     "name": "stdout",
     "output_type": "stream",
     "text": [
      "국어 점수 : 88.66\n",
      "영어 점수 : 55.3\n",
      "수학 점수 : 99.9\n",
      "합계 : 243.85999999999999\n",
      "평균 : 81.28666666666666\n",
      "평균 : 81.28666666666666\n",
      "평균 : 81 \n",
      "평균 : 81.29 \n",
      "평균 : 81.28666666666666\n"
     ]
    }
   ],
   "source": [
    "kor = float(input('국어 점수를 입력하시오 : '))\n",
    "eng = float(input('영어 점수를 입력하시오 : '))\n",
    "mat = float(input('수학 점수를 입력하시오 : '))\n",
    "\n",
    "total = kor + eng+mat\n",
    "avg = total / 3\n",
    "\n",
    "print('국어 점수 : {}'.format (kor))\n",
    "print('영어 점수 : {}'.format (eng))\n",
    "print('수학 점수 : {}'.format (mat))\n",
    "print('합계 : {}'.format(total))\n",
    "\n",
    "print('평균 : {}' .format(total / 3))\n",
    "print(f'평균 : {total / 3}')\n",
    "\n",
    "print('평균 : %d ' % (total/3))\n",
    "print('평균 : %.2f ' % (total/3))\n",
    "\n",
    "print('평균 : {0}' .format(total / 3))\n",
    "\n"
   ]
  },
  {
   "cell_type": "code",
   "execution_count": 13,
   "metadata": {},
   "outputs": [
    {
     "name": "stdout",
     "output_type": "stream",
     "text": [
      "알바비 : 700000\n",
      "카드값 : 325600\n",
      "남은 돈 : 374400\n"
     ]
    }
   ],
   "source": [
    "partTimeMoney = int(input('알바비 : '))\n",
    "cardMoney = int(input('카드값 : '))\n",
    "result = partTimeMoney - cardMoney\n",
    "\n",
    "print('알바비 : {}' .format(partTimeMoney))\n",
    "print('카드값 : {}' .format(cardMoney))\n",
    "print('남은 돈 : {}' .format(result))"
   ]
  },
  {
   "cell_type": "code",
   "execution_count": 14,
   "metadata": {},
   "outputs": [
    {
     "name": "stdout",
     "output_type": "stream",
     "text": [
      "result : HiHiHiHiHi\n"
     ]
    }
   ],
   "source": [
    "str = 'Hi'\n",
    "result = str * 5\n",
    "\n",
    "print('result : {}'.format(result))\n"
   ]
  },
  {
   "cell_type": "code",
   "execution_count": 17,
   "metadata": {},
   "outputs": [
    {
     "name": "stdout",
     "output_type": "stream",
     "text": [
      "result : 3.3333333333333335\n",
      "result : 3.33\n"
     ]
    }
   ],
   "source": [
    "num1 = 10\n",
    "num2 =3\n",
    "\n",
    "result = num1 / num2\n",
    "print('result : {}'.format(result))\n",
    "print('result : %.2f' % (result))\n",
    "\n"
   ]
  },
  {
   "cell_type": "code",
   "execution_count": 20,
   "metadata": {},
   "outputs": [
    {
     "name": "stdout",
     "output_type": "stream",
     "text": [
      "1\n"
     ]
    }
   ],
   "source": [
    "num1 = 10\n",
    "num2 = 3\n",
    "\n",
    "result = num1 % num2\n",
    "print(result)\n",
    "\n"
   ]
  },
  {
   "cell_type": "code",
   "execution_count": 23,
   "metadata": {},
   "outputs": [
    {
     "name": "stdout",
     "output_type": "stream",
     "text": [
      "3\n"
     ]
    }
   ],
   "source": [
    "result = num1 // num2\n",
    "print(result)"
   ]
  },
  {
   "cell_type": "code",
   "execution_count": 25,
   "metadata": {},
   "outputs": [
    {
     "name": "stdout",
     "output_type": "stream",
     "text": [
      "result: (3, 1)\n",
      "몫: 3\n",
      "나머지: 1\n"
     ]
    }
   ],
   "source": [
    "result = divmod(num1, num2)\n",
    "\n",
    "print('result: {}' .format(result))\n",
    "print('몫: {}' .format(result[0]))\n",
    "print('나머지: {}' .format(result[1]))\n",
    "\n"
   ]
  },
  {
   "cell_type": "code",
   "execution_count": 29,
   "metadata": {},
   "outputs": [
    {
     "name": "stdout",
     "output_type": "stream",
     "text": [
      "전체 학생 수 : 25\n",
      "한 모둠 학생 수 : 4\n",
      "모둠 수 : 6\n",
      "남는 학생 수 : 1\n",
      "전체 학생 수 : 25\n",
      "한 모둠 학생 수 : 4\n",
      "모둠 수 : 6\n",
      "남는 학생 수 : 1\n",
      "전체 학생 수 : 25\n",
      "한 모둠 학생 수 : 4 \n",
      "모둠 수 : 6 \n",
      "남는 학생 수 : 1 \n"
     ]
    }
   ],
   "source": [
    "allStuCnt = int(input('모든 학생 수 입력하세요 : '))\n",
    "stuCntOfGroup = int(input('한 모둠 학생 수'))\n",
    "\n",
    "groupCnt = allStuCnt // stuCntOfGroup\n",
    "overStuCnt = allStuCnt % stuCntOfGroup\n",
    "\n",
    "result = divmod(allStuCnt, stuCntOfGroup)\n",
    "\n",
    "print('전체 학생 수 : {}'.format(allStuCnt))\n",
    "print('한 모둠 학생 수 : {}' .format(stuCntOfGroup))\n",
    "\n",
    "print(\"모둠 수 : {}\" .format(groupCnt))\n",
    "print(\"남는 학생 수 : {}\" .format(overStuCnt))\n",
    "\n",
    "\n",
    "print('전체 학생 수 : {}'.format(allStuCnt))\n",
    "print('한 모둠 학생 수 : {}' .format(stuCntOfGroup))\n",
    "\n",
    "print(\"모둠 수 : {}\" .format(result[0]))\n",
    "print(\"남는 학생 수 : {}\" .format(result[1]))\n",
    "\n",
    "\n",
    "print('전체 학생 수 : %d' % (allStuCnt))\n",
    "print('한 모둠 학생 수 : %d ' % (stuCntOfGroup))\n",
    "\n",
    "print(\"모둠 수 : %d \" % (groupCnt))\n",
    "print(\"남는 학생 수 : %d \" % (overStuCnt))\n",
    "\n",
    "\n",
    "\n"
   ]
  },
  {
   "cell_type": "code",
   "execution_count": 30,
   "metadata": {},
   "outputs": [
    {
     "name": "stdout",
     "output_type": "stream",
     "text": [
      "사과를 나누어 줄 수 있는 최대 직원 수 : 30 명\n",
      "남는 사과 개수 : 3 개\n"
     ]
    }
   ],
   "source": [
    "employee = 123\n",
    "apple = 4\n",
    "\n",
    "result = divmod(employee, apple)\n",
    "\n",
    "print('사과를 나누어 줄 수 있는 최대 직원 수 : {} 명' .format(result[0]))\n",
    "print('남는 사과 개수 : {} 개' .format(result[1]))"
   ]
  },
  {
   "cell_type": "code",
   "execution_count": 31,
   "metadata": {},
   "outputs": [
    {
     "name": "stdout",
     "output_type": "stream",
     "text": [
      "result : 8\n"
     ]
    }
   ],
   "source": [
    "num1 = 2\n",
    "num2 = 3\n",
    "result = num1 ** num2\n",
    "print('result : {}' .format(result))\n"
   ]
  },
  {
   "cell_type": "code",
   "execution_count": 34,
   "metadata": {},
   "outputs": [
    {
     "name": "stdout",
     "output_type": "stream",
     "text": [
      "1.18921\n"
     ]
    }
   ],
   "source": [
    "# 제곱근  -> n **(1/m)\n",
    "\n",
    "result = 2 ** (1/4)\n",
    "\n",
    "print('%.5f' % (result))\n",
    "\n"
   ]
  },
  {
   "cell_type": "code",
   "execution_count": 38,
   "metadata": {},
   "outputs": [
    {
     "name": "stdout",
     "output_type": "stream",
     "text": [
      "2.24\n",
      "390625.0\n"
     ]
    }
   ],
   "source": [
    "# math 모듈의 sqrt()와 pow() 함수   pow 는 제곱 sqrt 는 제곱근(only 2 제곱근만 가능)\n",
    "\n",
    "import math\n",
    "\n",
    "print('%.2f' % math.sqrt(5))  # 항상 2의 제곱근만 구함, 그래서 매개 변수는 하나만 있으면 됨.\n",
    "\n",
    "print(math.pow(5,8))\n",
    "\n"
   ]
  },
  {
   "cell_type": "code",
   "execution_count": 39,
   "metadata": {},
   "outputs": [
    {
     "name": "stdout",
     "output_type": "stream",
     "text": [
      "40000.0\n"
     ]
    }
   ],
   "source": [
    "import math\n",
    "\n",
    "firstMoney = 200\n",
    "\n",
    "after12MonthMoney = math.pow(firstMoney, 2)\n",
    "\n",
    "print(after12MonthMoney)"
   ]
  },
  {
   "cell_type": "code",
   "execution_count": 44,
   "metadata": {},
   "outputs": [
    {
     "name": "stdout",
     "output_type": "stream",
     "text": [
      "409600.0\n",
      "409,600 원\n"
     ]
    }
   ],
   "source": [
    "firstMoney = 200 \n",
    "\n",
    "after12MonthMoney = ((firstMoney * 0.01) ** 12) * 100\n",
    "\n",
    "print(after12MonthMoney)\n",
    "\n",
    "after12MonthMoney = int(after12MonthMoney)\n",
    "\n",
    "strResult = format(after12MonthMoney, ',')\n",
    "\n",
    "print(strResult, '원')"
   ]
  },
  {
   "cell_type": "code",
   "execution_count": 47,
   "metadata": {},
   "outputs": [
    {
     "name": "stdout",
     "output_type": "stream",
     "text": [
      "num : 3\n"
     ]
    }
   ],
   "source": [
    "num1 = 10\n",
    "num1 -= 7\n",
    "print(\"num : {}\" .format(num1))"
   ]
  },
  {
   "cell_type": "code",
   "execution_count": 48,
   "metadata": {},
   "outputs": [
    {
     "name": "stdout",
     "output_type": "stream",
     "text": [
      "num : 17\n"
     ]
    }
   ],
   "source": [
    "num1 = 10\n",
    "num1 += 7\n",
    "print(\"num : {}\" .format(num1))"
   ]
  },
  {
   "cell_type": "code",
   "execution_count": 49,
   "metadata": {},
   "outputs": [
    {
     "name": "stdout",
     "output_type": "stream",
     "text": [
      "num : 70\n"
     ]
    }
   ],
   "source": [
    "num1 = 10\n",
    "num1 *= 7\n",
    "print(\"num : {}\" .format(num1))"
   ]
  },
  {
   "cell_type": "code",
   "execution_count": 50,
   "metadata": {},
   "outputs": [
    {
     "name": "stdout",
     "output_type": "stream",
     "text": [
      "num : 1.4285714285714286\n"
     ]
    }
   ],
   "source": [
    "num1 = 10\n",
    "num1 /= 7\n",
    "print(\"num : {}\" .format(num1))"
   ]
  },
  {
   "cell_type": "code",
   "execution_count": 51,
   "metadata": {},
   "outputs": [
    {
     "name": "stdout",
     "output_type": "stream",
     "text": [
      "num : 3\n"
     ]
    }
   ],
   "source": [
    "num1 = 10\n",
    "num1 %= 7\n",
    "print(\"num : {}\" .format(num1))"
   ]
  },
  {
   "cell_type": "code",
   "execution_count": 52,
   "metadata": {},
   "outputs": [
    {
     "name": "stdout",
     "output_type": "stream",
     "text": [
      "num : 1\n"
     ]
    }
   ],
   "source": [
    "num1 = 10\n",
    "num1 //= 7\n",
    "print(\"num : {}\" .format(num1))"
   ]
  },
  {
   "cell_type": "code",
   "execution_count": 53,
   "metadata": {},
   "outputs": [
    {
     "name": "stdout",
     "output_type": "stream",
     "text": [
      "num : 10000000\n"
     ]
    }
   ],
   "source": [
    "num1 = 10\n",
    "num1 **= 7\n",
    "print(\"num : {}\" .format(num1))"
   ]
  },
  {
   "cell_type": "code",
   "execution_count": null,
   "metadata": {},
   "outputs": [],
   "source": [
    "1월 = 30\n",
    "2월 = 75\n",
    "3월 = 122\n",
    "4월 = 177\n",
    "5월 = 242\n",
    "6월 = 342\n",
    "7월 = 470\n",
    "8월 = 679\n",
    "9월 = 838\n"
   ]
  },
  {
   "cell_type": "code",
   "execution_count": 57,
   "metadata": {},
   "outputs": [
    {
     "name": "stdout",
     "output_type": "stream",
     "text": [
      "1월 누적 강수량: 30\n",
      "2월 누적 강수량: 75\n",
      "3월 누적 강수량: 122\n",
      "4월 누적 강수량: 177\n",
      "5월 누적 강수량: 242\n",
      "6월 누적 강수량: 342\n",
      "7월 누적 강수량: 470\n",
      "8월 누적 강수량: 679\n",
      "9월 누적 강수량: 883\n",
      "10월 누적 강수량: 1069\n",
      "11월 누적 강수량: 1136\n",
      "12월 누적 강수량: 1,161\n",
      "------------------------------\n",
      "연간 누적 강수량 : 1161 mm\n",
      "평균 강수량 : 96.75\n",
      "------------------------------\n"
     ]
    }
   ],
   "source": [
    "rainAmount = 0\n",
    "totalRainAmount = 0\n",
    "\n",
    "totalRainAmount += 30\n",
    "print('1월 누적 강수량: {}' .format(totalRainAmount))\n",
    "\n",
    "totalRainAmount += 45\n",
    "print('2월 누적 강수량: {}' .format(totalRainAmount))\n",
    "\n",
    "totalRainAmount += 47\n",
    "print('3월 누적 강수량: {}' .format(totalRainAmount))\n",
    "\n",
    "totalRainAmount += 55\n",
    "print('4월 누적 강수량: {}' .format(totalRainAmount))\n",
    "\n",
    "totalRainAmount += 65\n",
    "print('5월 누적 강수량: {}' .format(totalRainAmount))\n",
    "\n",
    "totalRainAmount += 100\n",
    "print('6월 누적 강수량: {}' .format(totalRainAmount))\n",
    "\n",
    "totalRainAmount += 128\n",
    "print('7월 누적 강수량: {}' .format(totalRainAmount))\n",
    "\n",
    "totalRainAmount += 209\n",
    "print('8월 누적 강수량: {}' .format(totalRainAmount))\n",
    "\n",
    "totalRainAmount += 204\n",
    "print('9월 누적 강수량: {}' .format(totalRainAmount))\n",
    "\n",
    "totalRainAmount += 186\n",
    "print('10월 누적 강수량: {}' .format(totalRainAmount))\n",
    "\n",
    "totalRainAmount += 67\n",
    "print('11월 누적 강수량: {}' .format(totalRainAmount))\n",
    "\n",
    "totalRainAmount += 25\n",
    "print('12월 누적 강수량: {}' .format(format(totalRainAmount, ',')))\n",
    "\n",
    "print('-' * 30)\n",
    "print('연간 누적 강수량 : {} mm' .format(totalRainAmount))\n",
    "print('평균 강수량 : {}' .format(totalRainAmount / 12))\n",
    "print('-' * 30)\n"
   ]
  },
  {
   "cell_type": "code",
   "execution_count": null,
   "metadata": {},
   "outputs": [],
   "source": []
  }
 ],
 "metadata": {
  "kernelspec": {
   "display_name": "Python 3",
   "language": "python",
   "name": "python3"
  },
  "language_info": {
   "codemirror_mode": {
    "name": "ipython",
    "version": 3
   },
   "file_extension": ".py",
   "mimetype": "text/x-python",
   "name": "python",
   "nbconvert_exporter": "python",
   "pygments_lexer": "ipython3",
   "version": "3.10.6"
  },
  "orig_nbformat": 4
 },
 "nbformat": 4,
 "nbformat_minor": 2
}
