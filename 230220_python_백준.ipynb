{
 "cells": [
  {
   "cell_type": "code",
   "execution_count": 7,
   "metadata": {},
   "outputs": [
    {
     "name": "stdout",
     "output_type": "stream",
     "text": [
      "0 13\n"
     ]
    }
   ],
   "source": [
    "# 백준 2525번 \n",
    "# 첫 번째 트라이\n",
    "\n",
    "A, B = map(int, input().split())\n",
    "\n",
    "C = int(input())\n",
    "\n",
    "if C + B >= 60:\n",
    "  print(A+((B+C) // 60), (B+C) % 60)\n",
    "\n",
    "else:\n",
    "  print(A, B+C)"
   ]
  },
  {
   "cell_type": "code",
   "execution_count": null,
   "metadata": {},
   "outputs": [],
   "source": [
    "# 백준 2525번\n",
    "# 두번째 트라이\n",
    "\n",
    "A, B = map(int, input().split())\n",
    "\n",
    "C = int(input())\n",
    "\n",
    "if C + B >= 60:\n",
    "  if A+((B+C) // 60) >= 24:\n",
    "    print(A+((B+C) // 60) -24 , (B+C) % 60)\n",
    "  else:\n",
    "    print(A+((B+C) // 60), (B+C) % 60)\n",
    "\n",
    "else:\n",
    "  print(A, B+C)"
   ]
  }
 ],
 "metadata": {
  "kernelspec": {
   "display_name": "Python 3",
   "language": "python",
   "name": "python3"
  },
  "language_info": {
   "codemirror_mode": {
    "name": "ipython",
    "version": 3
   },
   "file_extension": ".py",
   "mimetype": "text/x-python",
   "name": "python",
   "nbconvert_exporter": "python",
   "pygments_lexer": "ipython3",
   "version": "3.10.6"
  },
  "orig_nbformat": 4,
  "vscode": {
   "interpreter": {
    "hash": "52634da84371cba311ea128a5ea7cdc41ff074b781779e754b270ff9f8153cee"
   }
  }
 },
 "nbformat": 4,
 "nbformat_minor": 2
}
