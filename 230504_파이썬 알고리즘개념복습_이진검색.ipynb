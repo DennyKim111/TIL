{
 "cells": [
  {
   "cell_type": "code",
   "execution_count": null,
   "metadata": {},
   "outputs": [],
   "source": [
    "# 선형 검색\n",
    "\n",
    "datas = [3, 4, 5, 7, 9, 1, 0, 8, 6, 4]\n",
    "\n",
    "print(f'datas: {datas}')\n",
    "print(f'datas length: {len(datas)}')\n",
    "\n",
    "searchData = int(input('찾으려는 숫자 입력: '))\n",
    "\n",
    "### 결과적으로 몇 번째에 있는지\n",
    "\n",
    "searchResultIdx = -1\n",
    "\n",
    "n = 0\n",
    "while True:\n",
    "  \n",
    "  if n == len(datas):\n",
    "    searchResultIdx = -1\n",
    "    break\n",
    "  \n",
    "  elif datas[n] == searchData:\n",
    "    searchResultIdx = n\n",
    "    break\n",
    "  \n",
    "  n += 1\n",
    "  \n",
    "print(f'searchResultIdx: {searchResultIdx}')\n",
    "\n"
   ]
  },
  {
   "cell_type": "code",
   "execution_count": 1,
   "metadata": {},
   "outputs": [
    {
     "name": "stdout",
     "output_type": "stream",
     "text": [
      "datas: [3, 4, 5, 7, 9, 1, 0, 8, 6, 4]\n",
      "datas length: 10\n",
      "searchResultIdx: 1\n"
     ]
    }
   ],
   "source": [
    "# 선형 검색 - 보초법\n",
    "\n",
    "datas = [3, 4, 5, 7, 9, 1, 0, 8, 6, 4]\n",
    "\n",
    "print(f'datas: {datas}')\n",
    "print(f'datas length: {len(datas)}')\n",
    "\n",
    "searchData = int(input('찾으려는 숫자 입력: '))\n",
    "\n",
    "### 결과적으로 몇 번째에 있는지\n",
    "\n",
    "searchResultIdx = -1\n",
    "\n",
    "###################################\n",
    "datas.append(searchData)\n",
    "\n",
    "n = 0\n",
    "while True:\n",
    "  if datas[n] == searchData:\n",
    "    if n != len(datas) -1:\n",
    "      searchResultIdx = n\n",
    "    break\n",
    "  n += 1\n",
    "  \n",
    "print(f'searchResultIdx: {searchResultIdx}')"
   ]
  },
  {
   "cell_type": "code",
   "execution_count": 7,
   "metadata": {},
   "outputs": [
    {
     "name": "stdout",
     "output_type": "stream",
     "text": [
      "datas : [1, 2, 3, 4, 5, 6, 7, 8, 9, 10, 11]\n",
      "datas length: 11\n",
      "처음 midIdx: 5\n",
      "처음 midVal: 6\n",
      "처음 midIdx: 2\n",
      "처음 midVal: 3\n",
      "처음 midIdx: 3\n",
      "처음 midVal: 4\n",
      "찾고자 하는 수: 4\n",
      "searchResultIdx: 3\n"
     ]
    }
   ],
   "source": [
    "datas = [1, 2, 3, 4, 5, 6, 7, 8, 9, 10, 11] # 이렇게 정렬이 되어있어야\n",
    "\n",
    "print(f'datas : {datas}')\n",
    "print(f'datas length: {len(datas)}')\n",
    "\n",
    "searchData = int(input('search data: '))\n",
    "searchResultIdx = -1\n",
    "\n",
    "staIdx = 0\n",
    "endIdx = len(datas) - 1\n",
    "midIdx = (staIdx + endIdx) // 2\n",
    "midVal = datas[midIdx]\n",
    "\n",
    "print(f'처음 midIdx: {midIdx}')\n",
    "print(f'처음 midVal: {midVal}')\n",
    "\n",
    "\n",
    "while searchData <= datas[len(datas)-1] and searchData >= datas[0]:\n",
    "  if  searchData == datas[len(datas)-1]: # 한 번에 맞는 경우\n",
    "    searchResultIdx = len(datas) - 1\n",
    "    break\n",
    "  \n",
    "  if searchData > midVal:\n",
    "    staIdx = midIdx\n",
    "    midIdx = (staIdx + endIdx) // 2\n",
    "    midVal = datas[midIdx]\n",
    "    print(f'midIdx: {midIdx}')\n",
    "    print(f'midVal: {midVal}')\n",
    "    \n",
    "  elif searchData < midVal:\n",
    "    endIdx = midIdx\n",
    "    midIdx = (staIdx + endIdx) // 2\n",
    "    midVal = datas[midIdx]\n",
    "    print(f'midIdx: {midIdx}')\n",
    "    print(f'midVal: {midVal}')\n",
    "    \n",
    "    \n",
    "  elif searchData == midVal:\n",
    "    searchResultIdx = midIdx\n",
    "    break\n",
    "\n",
    "print(f'찾고자 하는 수: {searchData}')\n",
    "print(f'searchResultIdx: {searchResultIdx}')"
   ]
  },
  {
   "cell_type": "code",
   "execution_count": 16,
   "metadata": {},
   "outputs": [
    {
     "name": "stdout",
     "output_type": "stream",
     "text": [
      "nums: [4, 10, 22, 5, 0, 17, 7, 11, 9, 61, 88]\n",
      "nums: [0, 4, 5, 7, 9, 10, 11, 17, 22, 61, 88]\n",
      "처음 midIdx: 5\n",
      "처음 midVal: 6\n",
      "찾고자 하는 수: -1\n",
      "searchResultIdx: -1\n"
     ]
    }
   ],
   "source": [
    "nums = [4, 10, 22, 5, 0, 17, 7, 11, 9, 61, 88]\n",
    "\n",
    "print(f'nums: {nums}')\n",
    "\n",
    "nums.sort()\n",
    "print(f'nums: {nums}')\n",
    "\n",
    "searchData = int(input('search data: '))\n",
    "searchResultIdx = -1\n",
    "\n",
    "staIdx = 0\n",
    "endIdx = len(datas) - 1\n",
    "midIdx = (staIdx + endIdx) // 2\n",
    "midVal = datas[midIdx]\n",
    "\n",
    "print(f'처음 midIdx: {midIdx}')\n",
    "print(f'처음 midVal: {midVal}')\n",
    "\n",
    "\n",
    "while searchData <= nums[len(datas)-1] and searchData >= nums[0]:\n",
    "  if  searchData == nums[len(datas)-1]: # 찾고자하는 데이터가 끝 자리 숫자일 때\n",
    "    searchResultIdx = len(nums) - 1\n",
    "    break\n",
    "  \n",
    "  if searchData > midVal:\n",
    "    staIdx = midIdx\n",
    "    midIdx = (staIdx + endIdx) // 2\n",
    "    midVal = nums[midIdx]\n",
    "    print(f'midIdx: {midIdx}')\n",
    "    print(f'midVal: {midVal}')\n",
    "    \n",
    "  elif searchData < midVal:\n",
    "    endIdx = midIdx\n",
    "    midIdx = (staIdx + endIdx) // 2\n",
    "    midVal = nums[midIdx]\n",
    "    print(f'midIdx: {midIdx}')\n",
    "    print(f'midVal: {midVal}')\n",
    "    \n",
    "    \n",
    "  elif searchData == midVal:\n",
    "    searchResultIdx = midIdx\n",
    "    break\n",
    "\n",
    "print(f'찾고자 하는 수: {searchData}')\n",
    "print(f'searchResultIdx: {searchResultIdx}')"
   ]
  }
 ],
 "metadata": {
  "kernelspec": {
   "display_name": "Python 3",
   "language": "python",
   "name": "python3"
  },
  "language_info": {
   "codemirror_mode": {
    "name": "ipython",
    "version": 3
   },
   "file_extension": ".py",
   "mimetype": "text/x-python",
   "name": "python",
   "nbconvert_exporter": "python",
   "pygments_lexer": "ipython3",
   "version": "3.10.6"
  },
  "orig_nbformat": 4
 },
 "nbformat": 4,
 "nbformat_minor": 2
}
