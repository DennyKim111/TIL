{
 "cells": [
  {
   "cell_type": "code",
   "execution_count": 9,
   "metadata": {},
   "outputs": [
    {
     "name": "stdout",
     "output_type": "stream",
     "text": [
      "False\n",
      "<class 'bool'>\n",
      "0.0\n",
      "<class 'float'>\n"
     ]
    }
   ],
   "source": [
    "var = False\n",
    "\n",
    "print(var)\n",
    "\n",
    "print(type(var))\n",
    "\n",
    "\n",
    "var = float(var)\n",
    "print(var)\n",
    "print(type(var))"
   ]
  },
  {
   "cell_type": "code",
   "execution_count": 11,
   "metadata": {},
   "outputs": [
    {
     "name": "stdout",
     "output_type": "stream",
     "text": [
      "1020\n",
      "30\n",
      "30.0\n"
     ]
    }
   ],
   "source": [
    "str1 = '10'\n",
    "str2 = '20'\n",
    "\n",
    "print(str1 + str2)\n",
    "\n",
    "str1 = 10\n",
    "str2 = 20\n",
    "\n",
    "print(str1 + str2)\n",
    "\n",
    "print(float(str1 + str2))\n",
    "\n"
   ]
  },
  {
   "cell_type": "code",
   "execution_count": 12,
   "metadata": {},
   "outputs": [
    {
     "name": "stdout",
     "output_type": "stream",
     "text": [
      "3.141592\n",
      "1595.14\n"
     ]
    }
   ],
   "source": [
    "str1 = '3.14'\n",
    "str2 = '1592'\n",
    "\n",
    "print(str1 + str2)\n",
    "\n",
    "str1 = 3.14\n",
    "str2 = 1592\n",
    "print(str1 + str2)"
   ]
  },
  {
   "cell_type": "code",
   "execution_count": 13,
   "metadata": {},
   "outputs": [
    {
     "name": "stdout",
     "output_type": "stream",
     "text": [
      "\n",
      "<class 'str'>\n",
      "False\n",
      "<class 'bool'>\n",
      "  \n",
      "<class 'str'>\n",
      "True\n",
      "<class 'bool'>\n"
     ]
    }
   ],
   "source": [
    "# 빈문자 '' -> 데이터 없음\n",
    "# 공백 문자 ' ' -> 공백 데이터 있음\n",
    "\n",
    "# 빈 문자 -> 논리형으로 바꾸면 false가 뜸\n",
    "\n",
    "var = ''\n",
    "print(var)\n",
    "print(type(var))\n",
    "\n",
    "var = bool(var)\n",
    "print(var)\n",
    "print(type(var))\n",
    "\n",
    "# 공백 문자 -> 논리형으로 바꾸면 True가 뜸\n",
    "\n",
    "var2 = '  '\n",
    "print(var2)\n",
    "print(type(var2))\n",
    "\n",
    "var2 = bool(var2)\n",
    "print(var2)\n",
    "print(type(var2))\n",
    "\n",
    "\n",
    "# 빈문자와 공백 문자 눈으로 보기에는 차이가 별로 없지만 사실 차이가 있다. 데이타 있고 없고의 차이. 논리형으로 변환하면 값이 다름.\n",
    "\n"
   ]
  },
  {
   "cell_type": "code",
   "execution_count": 15,
   "metadata": {},
   "outputs": [
    {
     "name": "stdout",
     "output_type": "stream",
     "text": [
      "True\n",
      "False\n",
      "<class 'str'>\n",
      "<class 'str'>\n",
      "True\n",
      "True\n",
      "<class 'bool'>\n",
      "<class 'bool'>\n",
      "2\n",
      "2.0\n"
     ]
    }
   ],
   "source": [
    "# 문자 -> 논리\n",
    "\n",
    "var1 = 'True'\n",
    "var2 = 'False'\n",
    "print(var1)\n",
    "print(var2)\n",
    "print(type(var1))\n",
    "print(type(var2))\n",
    "\n",
    "var1 = bool(var1)\n",
    "var2 = bool(var2)\n",
    "\n",
    "print(var1)   # 아예 비어있는 빈 문자는 false가 나오지만, 데이터가 있으면 True\n",
    "print(var2)\n",
    "print(type(var1))\n",
    "print(type(var2))\n",
    "\n",
    "print(int(var1 + var2))   # -> 논리형은 산술 연산, 덧셈 연산이 가능하다. True는 1과 같다. \n",
    "print(float(var1 + var2))"
   ]
  },
  {
   "cell_type": "code",
   "execution_count": 16,
   "metadata": {},
   "outputs": [
    {
     "name": "stdout",
     "output_type": "stream",
     "text": [
      "2\n",
      "0\n",
      "1\n",
      "1.0\n"
     ]
    }
   ],
   "source": [
    "var1 = 'True'\n",
    "var2 = 'False'\n",
    "\n",
    "var1 = bool(var1)\n",
    "var2 = bool(var2)\n",
    "\n",
    "print(var1 + var2)\n",
    "print(var1 - var2)\n",
    "print(var1 * var2)\n",
    "print(var1 / var2)\n",
    "\n"
   ]
  },
  {
   "cell_type": "code",
   "execution_count": 17,
   "metadata": {},
   "outputs": [
    {
     "name": "stdout",
     "output_type": "stream",
     "text": [
      "키보드를 통해서 데이터를 입력하세요.\n",
      "나나나나나\n"
     ]
    }
   ],
   "source": [
    "# 13 데이터 입력 / input() 함수를 통한 데이터 입력\n",
    "\n",
    "print('키보드를 통해서 데이터를 입력하세요.')\n",
    "\n",
    "userInputData = input()\n",
    "\n",
    "print(userInputData)"
   ]
  },
  {
   "cell_type": "code",
   "execution_count": 25,
   "metadata": {},
   "outputs": [
    {
     "name": "stdout",
     "output_type": "stream",
     "text": [
      "True\n",
      "<class 'str'>\n"
     ]
    }
   ],
   "source": [
    "\n",
    "\n",
    "userInputData = input('키보드를 통해서 데이터를 입력하세요.')\n",
    "\n",
    "print(userInputData)\n",
    "\n",
    "print(type(userInputData))\n",
    "\n",
    "# input 에 입력된 모든 것은 문자형 str 이다. "
   ]
  },
  {
   "cell_type": "code",
   "execution_count": null,
   "metadata": {},
   "outputs": [],
   "source": [
    "userInputData = int(input('입력: '))\n",
    "\n",
    "print(userInputData)\n",
    "print(type(userInputData))\n",
    "\n"
   ]
  },
  {
   "cell_type": "code",
   "execution_count": null,
   "metadata": {},
   "outputs": [],
   "source": [
    "# 실습\n",
    "\n",
    "weather = input(\"오늘의 날씨를 입력하세요. : \")\n",
    "\n",
    "print(weather)\n",
    "print(type(weather))\n",
    "\n"
   ]
  },
  {
   "cell_type": "code",
   "execution_count": null,
   "metadata": {},
   "outputs": [],
   "source": [
    "userName = input(\"put your name here.\")\n",
    "\n",
    "print(userName)\n",
    "print(type(userName))"
   ]
  },
  {
   "cell_type": "code",
   "execution_count": 42,
   "metadata": {},
   "outputs": [
    {
     "name": "stdout",
     "output_type": "stream",
     "text": [
      "가로의 길이: 55.2323, 세로의 길이: 54.11212, 사각형 넓이: 2988.736845476\n",
      "가로의 길이: 55.2323, 세로의 길이: 54.11212, 삼각형 넓이: 1494.368422738\n"
     ]
    }
   ],
   "source": [
    "a = float(input(\"가로 길이를 입력하시오.\"))\n",
    "b = float(input(\"세로 길이를 입력하시오.\"))\n",
    "\n",
    "# print(float(a) * float(b)) -> a와 b를 숫자형으로 안바꿨을 때\n",
    "\n",
    "print(f'가로의 길이: {a}, 세로의 길이: {b}, 사각형 넓이: {a * b}')\n",
    "print(f'가로의 길이: {a}, 세로의 길이: {b}, 삼각형 넓이: {a * b / 2}')\n"
   ]
  },
  {
   "cell_type": "code",
   "execution_count": 45,
   "metadata": {},
   "outputs": [
    {
     "name": "stdout",
     "output_type": "stream",
     "text": [
      "염마인\n",
      "20\n",
      "User name : 염마인\n",
      "User name : 염마인\n",
      "User age : 20\n",
      "User age : 20\n",
      "User name : 염마인, User age : 20\n",
      "User name : \t염마인, \n",
      "User age : \t20\n",
      "=================================\n",
      "User name : 염마인, User age : 20\n",
      "User name : 염마인\n",
      "User age : 20\n",
      "User name : 염마인, User age : 20\n"
     ]
    }
   ],
   "source": [
    "userName = '염마인'\n",
    "print(userName)\n",
    "\n",
    "userAge = 20\n",
    "print(userAge)\n",
    "\n",
    "print(\"User name :\", userName)   # f붙이고 작은 따옴표 처음부터 끝까지, 그리고 변수에다가 중괄호 \n",
    "print(f'User name : {userName}')\n",
    "\n",
    "print(\"User age :\", userAge)\n",
    "print(f'User age : {userAge}')\n",
    "\n",
    "print(f'User name : {userName}, User age : {userAge}')\n",
    "print(f'User name : \\t{userName}, \\nUser age : \\t{userAge}')\n",
    "print(\"=================================\")\n",
    "print('User name : {}, User age : {}'.format(userName, userAge))\n",
    "print('User name : {}' .format(userName))\n",
    "print('User age : {}' .format(userAge))\n",
    "\n",
    "\n",
    "print('User name : {1}, User age : {0}' .format(userAge, userName))"
   ]
  },
  {
   "cell_type": "code",
   "execution_count": 33,
   "metadata": {},
   "outputs": [
    {
     "name": "stdout",
     "output_type": "stream",
     "text": [
      "3 * 5 = \n",
      "15\n",
      "3 * 5 = 15\n"
     ]
    }
   ],
   "source": [
    "# \\n 자동 기행\n",
    "\n",
    "print(\"3 * 5 = \")\n",
    "print(15)\n",
    "\n",
    "print(\"3 * 5 = \", end ='')\n",
    "print(15)"
   ]
  },
  {
   "cell_type": "code",
   "execution_count": null,
   "metadata": {},
   "outputs": [],
   "source": [
    "# 특수 문자\n",
    "\n",
    "# \\t = 탭\n",
    "# \\n = 개행"
   ]
  },
  {
   "cell_type": "code",
   "execution_count": 46,
   "metadata": {},
   "outputs": [
    {
     "name": "stdout",
     "output_type": "stream",
     "text": [
      "나의 이름은 염마인이고, 나이는 20살입니다. 염마인라는 이름은 제 3자가 지어주었습니다.\n"
     ]
    }
   ],
   "source": [
    "print('나의 이름은 {0}이고, 나이는 {1}살입니다. {0}라는 이름은 제 3자가 지어주었습니다.' .format(userName, userAge))"
   ]
  },
  {
   "cell_type": "code",
   "execution_count": 52,
   "metadata": {},
   "outputs": [
    {
     "name": "stdout",
     "output_type": "stream",
     "text": [
      "User name = 염마인\n",
      "User age = 20\n",
      "User name = 염마인, User age = 20\n",
      "pi : 3.140000\n",
      "pi : 3.140\n",
      "pi : 3\n"
     ]
    }
   ],
   "source": [
    "# %s -> 문자열\n",
    "# %d -> 정수\n",
    "# %f -> 실수\n",
    "\n",
    "print('User name = %s' % userName)\n",
    "\n",
    "print('User age = %d' % userAge)\n",
    "\n",
    "print('User name = %s, User age = %d' % (userName, userAge))\n",
    "\n",
    "pi = 3.14\n",
    "\n",
    "print('pi : %f' % pi)\n",
    "print('pi : %.3f' % pi)\n",
    "\n",
    "print('pi : %d' % pi)"
   ]
  },
  {
   "cell_type": "code",
   "execution_count": 55,
   "metadata": {},
   "outputs": [
    {
     "name": "stdout",
     "output_type": "stream",
     "text": [
      "radius : 3.0\n",
      "pi : 3.141592\n",
      "radius : 3.0, pi : 3.141592\n",
      "radius : 3.000000, pi : 3.141592\n",
      "radius : 3.00, pi : 3.14\n",
      "============================================\n",
      "원의 넓이 : 28.274328, 원의 둘레 : 18.849552000000003\n"
     ]
    }
   ],
   "source": [
    "radius = float(input('반지름 입력 : '))\n",
    "pi = float(input('원주율 입력 : '))\n",
    "\n",
    "print('radius : %.1f' % radius)\n",
    "print('pi : %f' % pi)\n",
    "\n",
    "print('radius : %.1f, pi : %f' % (radius, pi))\n",
    "print('radius : %.6f, pi : %f' % (radius, pi))\n",
    "print('radius : %.2f, pi : %.2f' % (radius, pi))\n",
    "\n",
    "print(\"============================================\")\n",
    "\n",
    "print('원의 넓이 : {}, 원의 둘레 : {}' .format(radius*radius*pi, radius*2*pi))"
   ]
  },
  {
   "cell_type": "code",
   "execution_count": null,
   "metadata": {},
   "outputs": [],
   "source": []
  },
  {
   "cell_type": "code",
   "execution_count": null,
   "metadata": {},
   "outputs": [],
   "source": []
  },
  {
   "cell_type": "code",
   "execution_count": null,
   "metadata": {},
   "outputs": [],
   "source": []
  },
  {
   "cell_type": "code",
   "execution_count": null,
   "metadata": {},
   "outputs": [],
   "source": []
  },
  {
   "cell_type": "code",
   "execution_count": null,
   "metadata": {},
   "outputs": [],
   "source": []
  },
  {
   "cell_type": "code",
   "execution_count": null,
   "metadata": {},
   "outputs": [],
   "source": []
  },
  {
   "cell_type": "code",
   "execution_count": null,
   "metadata": {},
   "outputs": [],
   "source": []
  },
  {
   "cell_type": "code",
   "execution_count": null,
   "metadata": {},
   "outputs": [],
   "source": []
  },
  {
   "cell_type": "code",
   "execution_count": null,
   "metadata": {},
   "outputs": [],
   "source": []
  },
  {
   "cell_type": "code",
   "execution_count": null,
   "metadata": {},
   "outputs": [],
   "source": []
  },
  {
   "cell_type": "code",
   "execution_count": null,
   "metadata": {},
   "outputs": [],
   "source": []
  }
 ],
 "metadata": {
  "kernelspec": {
   "display_name": "Python 3",
   "language": "python",
   "name": "python3"
  },
  "language_info": {
   "codemirror_mode": {
    "name": "ipython",
    "version": 3
   },
   "file_extension": ".py",
   "mimetype": "text/x-python",
   "name": "python",
   "nbconvert_exporter": "python",
   "pygments_lexer": "ipython3",
   "version": "3.10.6"
  },
  "orig_nbformat": 4
 },
 "nbformat": 4,
 "nbformat_minor": 2
}
